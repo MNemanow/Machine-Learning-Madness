{
 "cells": [
  {
   "cell_type": "code",
   "execution_count": 1,
   "metadata": {},
   "outputs": [],
   "source": [
    "import pandas as pd\n",
    "import numpy as np\n",
    "from datetime import datetime\n",
    "from sportsipy.ncaab.boxscore import Boxscore\n",
    "from sportsipy.ncaab.boxscore import Boxscores\n",
    "from sportsipy.ncaab.schedule import Schedule"
   ]
  },
  {
   "cell_type": "code",
   "execution_count": 2,
   "metadata": {},
   "outputs": [],
   "source": [
    "df = pd.read_csv('NCAABasketballData.csv', low_memory = False)"
   ]
  },
  {
   "cell_type": "code",
   "execution_count": 3,
   "metadata": {},
   "outputs": [
    {
     "data": {
      "text/plain": [
       "Index(['game_id', 'season', 'status', 'coverage', 'neutral_site',\n",
       "       'scheduled_date', 'gametime', 'conference_game', 'tournament',\n",
       "       'tournament_type',\n",
       "       ...\n",
       "       'a_fast_break_pts', 'a_second_chance_pts', 'a_team_turnovers',\n",
       "       'a_points_off_turnovers', 'a_team_rebounds', 'a_flagrant_fouls',\n",
       "       'a_player_tech_fouls', 'a_team_tech_fouls', 'a_coach_tech_fouls',\n",
       "       'created'],\n",
       "      dtype='object', length=132)"
      ]
     },
     "execution_count": 3,
     "metadata": {},
     "output_type": "execute_result"
    }
   ],
   "source": [
    "df.columns"
   ]
  },
  {
   "cell_type": "code",
   "execution_count": 4,
   "metadata": {},
   "outputs": [],
   "source": [
    "cols_to_drop = ['game_id', 'status','coverage','possession_arrow', 'venue_id',\n",
    "                'venue_city','venue_state','venue_address','venue_zip','venue_country',\n",
    "                'venue_name', 'created', 'h_league_id','h_league_name','h_league_alias',\n",
    "                'h_conf_id','h_conf_name','h_conf_alias','h_division_id',\n",
    "                'h_division_name','h_division_alias','h_logo_large','h_logo_medium',\n",
    "                'h_logo_small','a_league_name','a_league_alias','a_conf_id',\n",
    "                'a_conf_name','a_conf_alias','a_division_id','a_division_name',\n",
    "                'a_division_alias','a_logo_large','a_logo_medium','a_logo_small','created']"
   ]
  },
  {
   "cell_type": "code",
   "execution_count": 5,
   "metadata": {},
   "outputs": [
    {
     "data": {
      "text/plain": [
       "Conference    1448\n",
       "NCAA           712\n",
       "Name: tournament, dtype: int64"
      ]
     },
     "execution_count": 5,
     "metadata": {},
     "output_type": "execute_result"
    }
   ],
   "source": [
    "df.tournament.value_counts()"
   ]
  },
  {
   "cell_type": "code",
   "execution_count": 6,
   "metadata": {},
   "outputs": [
    {
     "data": {
      "text/plain": [
       "Index(['game_id', 'season', 'status', 'coverage', 'neutral_site',\n",
       "       'scheduled_date', 'gametime', 'conference_game', 'tournament',\n",
       "       'tournament_type',\n",
       "       ...\n",
       "       'a_fast_break_pts', 'a_second_chance_pts', 'a_team_turnovers',\n",
       "       'a_points_off_turnovers', 'a_team_rebounds', 'a_flagrant_fouls',\n",
       "       'a_player_tech_fouls', 'a_team_tech_fouls', 'a_coach_tech_fouls',\n",
       "       'created'],\n",
       "      dtype='object', length=132)"
      ]
     },
     "execution_count": 6,
     "metadata": {},
     "output_type": "execute_result"
    }
   ],
   "source": [
    "df.columns"
   ]
  },
  {
   "cell_type": "code",
   "execution_count": 7,
   "metadata": {},
   "outputs": [],
   "source": [
    "df['home_win'] = df.h_points_game.ge(df.a_points_game)"
   ]
  },
  {
   "cell_type": "code",
   "execution_count": 8,
   "metadata": {},
   "outputs": [],
   "source": [
    "df['h_possessions'] = .5 * (df['h_field_goals_att'] + (.475 * df['h_free_throws_att']) - df['h_offensive_rebounds'] + df['h_turnovers'])\n",
    "df['a_possessions'] = .5 * (df['a_field_goals_att'] + (.475 * df['a_free_throws_att']) - df['a_offensive_rebounds'] + df['a_turnovers'])"
   ]
  },
  {
   "cell_type": "code",
   "execution_count": 9,
   "metadata": {},
   "outputs": [],
   "source": [
    "df['h_eFG_pct'] = (df['h_field_goals_made'] + (.5 * df['h_three_points_made'])) / df['h_field_goals_att']\n",
    "df['a_eFG_pct'] = (df['a_field_goals_made'] + (.5 * df['a_three_points_made'])) / df['a_field_goals_att']"
   ]
  },
  {
   "cell_type": "code",
   "execution_count": 10,
   "metadata": {},
   "outputs": [],
   "source": [
    "df['h_TS_pct'] = df['h_points_game'] / (2 * (df['h_field_goals_att'] + .475 * df['h_free_throws_att']))\n",
    "df['a_TS_pct'] = df['a_points_game'] / (2 * (df['a_field_goals_att'] + .475 * df['a_free_throws_att']))"
   ]
  },
  {
   "cell_type": "code",
   "execution_count": 11,
   "metadata": {},
   "outputs": [],
   "source": [
    "df['h_free_throw_rate'] = df['h_free_throws_att'] / df['h_field_goals_att']\n",
    "df['a_free_throw_rate'] = df['a_free_throws_att'] / df['a_field_goals_att']"
   ]
  },
  {
   "cell_type": "code",
   "execution_count": 12,
   "metadata": {},
   "outputs": [],
   "source": [
    "df['h_three_point_rate'] = df['h_three_points_att'] / (df['h_field_goals_att'] + (.475*df['h_free_throws_att']))\n",
    "df['a_three_point_rate'] = df['a_three_points_att'] / (df['a_field_goals_att'] + (.475*df['a_free_throws_att']))"
   ]
  },
  {
   "cell_type": "code",
   "execution_count": 13,
   "metadata": {},
   "outputs": [],
   "source": [
    "df['h_offensive_rebounds_pct'] = df['h_offensive_rebounds'] / (df['h_offensive_rebounds'] + df['a_defensive_rebounds'])\n",
    "df['a_offensive_rebounds_pct'] = df['a_offensive_rebounds'] / (df['a_offensive_rebounds'] + df['h_defensive_rebounds'])\n",
    "\n",
    "df['h_defensive_rebounds_pct'] = df['h_defensive_rebounds'] / (df['h_defensive_rebounds'] + df['a_offensive_rebounds'])\n",
    "df['a_defensive_rebounds_pct'] = df['a_defensive_rebounds'] / (df['a_defensive_rebounds'] + df['h_offensive_rebounds'])\n",
    "\n",
    "df['h_rebound_pct'] = df['h_rebounds'] / (df['h_rebounds'] + df['a_rebounds'])\n",
    "df['a_rebound_pct'] = df['a_rebounds'] / (df['a_rebounds'] + df['h_rebounds']) "
   ]
  },
  {
   "cell_type": "code",
   "execution_count": 14,
   "metadata": {},
   "outputs": [],
   "source": [
    "df['h_assist_ratio'] = df['h_assists'] / df['h_field_goals_made']\n",
    "df['a_assist_ratio'] = df['a_assists'] / df['a_field_goals_made']"
   ]
  },
  {
   "cell_type": "code",
   "execution_count": 15,
   "metadata": {},
   "outputs": [],
   "source": [
    "df['h_steal_pct'] = df['h_steals'] / (df['a_field_goals_att'] + .475*df['a_free_throws_att'] + df['a_turnovers'])\n",
    "df['a_steal_pct'] = df['a_steals'] / (df['h_field_goals_att'] + .475*df['h_free_throws_att'] + df['h_turnovers'])"
   ]
  },
  {
   "cell_type": "code",
   "execution_count": 16,
   "metadata": {},
   "outputs": [],
   "source": [
    "df['h_block_pct'] = df['h_blocks'] / (df['a_field_goals_att'])\n",
    "df['a_block_pct'] = df['a_blocks'] / (df['h_field_goals_att'])"
   ]
  },
  {
   "cell_type": "code",
   "execution_count": 17,
   "metadata": {},
   "outputs": [],
   "source": [
    "df['h_turnover_ratio'] = df['h_turnovers'] / (df['h_field_goals_att'] + .475*df['h_free_throws_att'] + df['h_turnovers'])\n",
    "df['a_turnover_ratio'] = df['a_turnovers'] / (df['a_field_goals_att'] + .475*df['a_free_throws_att'] + df['a_turnovers'])"
   ]
  },
  {
   "cell_type": "code",
   "execution_count": 18,
   "metadata": {},
   "outputs": [
    {
     "data": {
      "text/html": [
       "<div>\n",
       "<style scoped>\n",
       "    .dataframe tbody tr th:only-of-type {\n",
       "        vertical-align: middle;\n",
       "    }\n",
       "\n",
       "    .dataframe tbody tr th {\n",
       "        vertical-align: top;\n",
       "    }\n",
       "\n",
       "    .dataframe thead th {\n",
       "        text-align: right;\n",
       "    }\n",
       "</style>\n",
       "<table border=\"1\" class=\"dataframe\">\n",
       "  <thead>\n",
       "    <tr style=\"text-align: right;\">\n",
       "      <th></th>\n",
       "      <th></th>\n",
       "      <th>attendance</th>\n",
       "      <th>lead_changes</th>\n",
       "      <th>times_tied</th>\n",
       "      <th>periods</th>\n",
       "      <th>venue_capacity</th>\n",
       "      <th>h_points_game</th>\n",
       "      <th>h_rank</th>\n",
       "      <th>h_field_goals_made</th>\n",
       "      <th>h_field_goals_att</th>\n",
       "      <th>h_field_goals_pct</th>\n",
       "      <th>...</th>\n",
       "      <th>h_rebound_pct</th>\n",
       "      <th>a_rebound_pct</th>\n",
       "      <th>h_assist_ratio</th>\n",
       "      <th>a_assist_ratio</th>\n",
       "      <th>h_steal_pct</th>\n",
       "      <th>a_steal_pct</th>\n",
       "      <th>h_block_pct</th>\n",
       "      <th>a_block_pct</th>\n",
       "      <th>h_turnover_ratio</th>\n",
       "      <th>a_turnover_ratio</th>\n",
       "    </tr>\n",
       "    <tr>\n",
       "      <th>a_market</th>\n",
       "      <th>season</th>\n",
       "      <th></th>\n",
       "      <th></th>\n",
       "      <th></th>\n",
       "      <th></th>\n",
       "      <th></th>\n",
       "      <th></th>\n",
       "      <th></th>\n",
       "      <th></th>\n",
       "      <th></th>\n",
       "      <th></th>\n",
       "      <th></th>\n",
       "      <th></th>\n",
       "      <th></th>\n",
       "      <th></th>\n",
       "      <th></th>\n",
       "      <th></th>\n",
       "      <th></th>\n",
       "      <th></th>\n",
       "      <th></th>\n",
       "      <th></th>\n",
       "      <th></th>\n",
       "    </tr>\n",
       "  </thead>\n",
       "  <tbody>\n",
       "    <tr>\n",
       "      <th rowspan=\"5\" valign=\"top\">Abilene Christian</th>\n",
       "      <th>2013</th>\n",
       "      <td>37738.0</td>\n",
       "      <td>2.0</td>\n",
       "      <td>1.0</td>\n",
       "      <td>31.0</td>\n",
       "      <td>107773.0</td>\n",
       "      <td>1151</td>\n",
       "      <td>0</td>\n",
       "      <td>119.0</td>\n",
       "      <td>219.0</td>\n",
       "      <td>215.1</td>\n",
       "      <td>...</td>\n",
       "      <td>2.400758</td>\n",
       "      <td>1.599242</td>\n",
       "      <td>2.164888</td>\n",
       "      <td>2.120455</td>\n",
       "      <td>0.478711</td>\n",
       "      <td>0.208517</td>\n",
       "      <td>0.469853</td>\n",
       "      <td>0.094298</td>\n",
       "      <td>0.464412</td>\n",
       "      <td>0.779534</td>\n",
       "    </tr>\n",
       "    <tr>\n",
       "      <th>2014</th>\n",
       "      <td>27998.0</td>\n",
       "      <td>51.0</td>\n",
       "      <td>38.0</td>\n",
       "      <td>32.0</td>\n",
       "      <td>109029.0</td>\n",
       "      <td>1144</td>\n",
       "      <td>0</td>\n",
       "      <td>404.0</td>\n",
       "      <td>811.0</td>\n",
       "      <td>803.2</td>\n",
       "      <td>...</td>\n",
       "      <td>9.248739</td>\n",
       "      <td>6.751261</td>\n",
       "      <td>8.626413</td>\n",
       "      <td>8.620800</td>\n",
       "      <td>1.199065</td>\n",
       "      <td>1.357901</td>\n",
       "      <td>1.401012</td>\n",
       "      <td>0.247928</td>\n",
       "      <td>2.756102</td>\n",
       "      <td>2.786662</td>\n",
       "    </tr>\n",
       "    <tr>\n",
       "      <th>2015</th>\n",
       "      <td>36431.0</td>\n",
       "      <td>53.0</td>\n",
       "      <td>51.0</td>\n",
       "      <td>32.0</td>\n",
       "      <td>106290.0</td>\n",
       "      <td>1150</td>\n",
       "      <td>0</td>\n",
       "      <td>405.0</td>\n",
       "      <td>801.0</td>\n",
       "      <td>759.0</td>\n",
       "      <td>...</td>\n",
       "      <td>8.103147</td>\n",
       "      <td>6.896853</td>\n",
       "      <td>8.103962</td>\n",
       "      <td>8.161900</td>\n",
       "      <td>1.171025</td>\n",
       "      <td>1.302149</td>\n",
       "      <td>1.066392</td>\n",
       "      <td>0.673575</td>\n",
       "      <td>2.577968</td>\n",
       "      <td>2.812904</td>\n",
       "    </tr>\n",
       "    <tr>\n",
       "      <th>2016</th>\n",
       "      <td>32902.0</td>\n",
       "      <td>71.0</td>\n",
       "      <td>62.0</td>\n",
       "      <td>33.0</td>\n",
       "      <td>91009.0</td>\n",
       "      <td>1139</td>\n",
       "      <td>0</td>\n",
       "      <td>382.0</td>\n",
       "      <td>822.0</td>\n",
       "      <td>699.6</td>\n",
       "      <td>...</td>\n",
       "      <td>8.206710</td>\n",
       "      <td>6.793290</td>\n",
       "      <td>8.418384</td>\n",
       "      <td>7.917881</td>\n",
       "      <td>1.077961</td>\n",
       "      <td>1.175754</td>\n",
       "      <td>0.975913</td>\n",
       "      <td>0.700160</td>\n",
       "      <td>2.431679</td>\n",
       "      <td>2.631400</td>\n",
       "    </tr>\n",
       "    <tr>\n",
       "      <th>2017</th>\n",
       "      <td>29498.0</td>\n",
       "      <td>76.0</td>\n",
       "      <td>43.0</td>\n",
       "      <td>36.0</td>\n",
       "      <td>104862.0</td>\n",
       "      <td>1252</td>\n",
       "      <td>21</td>\n",
       "      <td>423.0</td>\n",
       "      <td>918.0</td>\n",
       "      <td>788.7</td>\n",
       "      <td>...</td>\n",
       "      <td>8.867159</td>\n",
       "      <td>8.132841</td>\n",
       "      <td>8.872264</td>\n",
       "      <td>8.955053</td>\n",
       "      <td>1.349860</td>\n",
       "      <td>1.588209</td>\n",
       "      <td>1.011264</td>\n",
       "      <td>0.939154</td>\n",
       "      <td>3.188688</td>\n",
       "      <td>3.043221</td>\n",
       "    </tr>\n",
       "    <tr>\n",
       "      <th>...</th>\n",
       "      <th>...</th>\n",
       "      <td>...</td>\n",
       "      <td>...</td>\n",
       "      <td>...</td>\n",
       "      <td>...</td>\n",
       "      <td>...</td>\n",
       "      <td>...</td>\n",
       "      <td>...</td>\n",
       "      <td>...</td>\n",
       "      <td>...</td>\n",
       "      <td>...</td>\n",
       "      <td>...</td>\n",
       "      <td>...</td>\n",
       "      <td>...</td>\n",
       "      <td>...</td>\n",
       "      <td>...</td>\n",
       "      <td>...</td>\n",
       "      <td>...</td>\n",
       "      <td>...</td>\n",
       "      <td>...</td>\n",
       "      <td>...</td>\n",
       "      <td>...</td>\n",
       "    </tr>\n",
       "    <tr>\n",
       "      <th rowspan=\"5\" valign=\"top\">Youngstown State</th>\n",
       "      <th>2013</th>\n",
       "      <td>12869.0</td>\n",
       "      <td>0.0</td>\n",
       "      <td>0.0</td>\n",
       "      <td>35.0</td>\n",
       "      <td>111548.0</td>\n",
       "      <td>1276</td>\n",
       "      <td>0</td>\n",
       "      <td>65.0</td>\n",
       "      <td>127.0</td>\n",
       "      <td>102.3</td>\n",
       "      <td>...</td>\n",
       "      <td>1.173713</td>\n",
       "      <td>0.826287</td>\n",
       "      <td>1.095238</td>\n",
       "      <td>0.938462</td>\n",
       "      <td>0.188754</td>\n",
       "      <td>0.188872</td>\n",
       "      <td>0.156926</td>\n",
       "      <td>0.044118</td>\n",
       "      <td>0.288776</td>\n",
       "      <td>0.289621</td>\n",
       "    </tr>\n",
       "    <tr>\n",
       "      <th>2014</th>\n",
       "      <td>36198.0</td>\n",
       "      <td>54.0</td>\n",
       "      <td>59.0</td>\n",
       "      <td>34.0</td>\n",
       "      <td>128919.0</td>\n",
       "      <td>1248</td>\n",
       "      <td>0</td>\n",
       "      <td>428.0</td>\n",
       "      <td>963.0</td>\n",
       "      <td>721.0</td>\n",
       "      <td>...</td>\n",
       "      <td>9.053887</td>\n",
       "      <td>6.946113</td>\n",
       "      <td>9.228864</td>\n",
       "      <td>9.181689</td>\n",
       "      <td>1.201423</td>\n",
       "      <td>1.088125</td>\n",
       "      <td>1.178410</td>\n",
       "      <td>0.584511</td>\n",
       "      <td>2.267515</td>\n",
       "      <td>2.311294</td>\n",
       "    </tr>\n",
       "    <tr>\n",
       "      <th>2015</th>\n",
       "      <td>71777.0</td>\n",
       "      <td>63.0</td>\n",
       "      <td>54.0</td>\n",
       "      <td>37.0</td>\n",
       "      <td>158902.0</td>\n",
       "      <td>1494</td>\n",
       "      <td>11</td>\n",
       "      <td>540.0</td>\n",
       "      <td>1129.0</td>\n",
       "      <td>813.6</td>\n",
       "      <td>...</td>\n",
       "      <td>9.878854</td>\n",
       "      <td>7.121146</td>\n",
       "      <td>10.045795</td>\n",
       "      <td>9.478756</td>\n",
       "      <td>1.274211</td>\n",
       "      <td>1.111674</td>\n",
       "      <td>0.923001</td>\n",
       "      <td>0.636546</td>\n",
       "      <td>2.180657</td>\n",
       "      <td>2.339231</td>\n",
       "    </tr>\n",
       "    <tr>\n",
       "      <th>2016</th>\n",
       "      <td>76498.0</td>\n",
       "      <td>132.0</td>\n",
       "      <td>101.0</td>\n",
       "      <td>42.0</td>\n",
       "      <td>217455.0</td>\n",
       "      <td>1641</td>\n",
       "      <td>0</td>\n",
       "      <td>611.0</td>\n",
       "      <td>1312.0</td>\n",
       "      <td>933.3</td>\n",
       "      <td>...</td>\n",
       "      <td>10.709807</td>\n",
       "      <td>9.290193</td>\n",
       "      <td>10.710722</td>\n",
       "      <td>10.541788</td>\n",
       "      <td>1.408542</td>\n",
       "      <td>1.245392</td>\n",
       "      <td>1.235634</td>\n",
       "      <td>1.025437</td>\n",
       "      <td>2.660869</td>\n",
       "      <td>2.894711</td>\n",
       "    </tr>\n",
       "    <tr>\n",
       "      <th>2017</th>\n",
       "      <td>65285.0</td>\n",
       "      <td>58.0</td>\n",
       "      <td>53.0</td>\n",
       "      <td>40.0</td>\n",
       "      <td>174122.0</td>\n",
       "      <td>1702</td>\n",
       "      <td>0</td>\n",
       "      <td>600.0</td>\n",
       "      <td>1164.0</td>\n",
       "      <td>1032.1</td>\n",
       "      <td>...</td>\n",
       "      <td>10.167464</td>\n",
       "      <td>9.832536</td>\n",
       "      <td>11.750385</td>\n",
       "      <td>9.940691</td>\n",
       "      <td>1.569047</td>\n",
       "      <td>1.595824</td>\n",
       "      <td>1.302993</td>\n",
       "      <td>1.139445</td>\n",
       "      <td>3.206209</td>\n",
       "      <td>3.485925</td>\n",
       "    </tr>\n",
       "  </tbody>\n",
       "</table>\n",
       "<p>1755 rows × 102 columns</p>\n",
       "</div>"
      ],
      "text/plain": [
       "                          attendance  lead_changes  times_tied  periods  \\\n",
       "a_market          season                                                  \n",
       "Abilene Christian 2013       37738.0           2.0         1.0     31.0   \n",
       "                  2014       27998.0          51.0        38.0     32.0   \n",
       "                  2015       36431.0          53.0        51.0     32.0   \n",
       "                  2016       32902.0          71.0        62.0     33.0   \n",
       "                  2017       29498.0          76.0        43.0     36.0   \n",
       "...                              ...           ...         ...      ...   \n",
       "Youngstown State  2013       12869.0           0.0         0.0     35.0   \n",
       "                  2014       36198.0          54.0        59.0     34.0   \n",
       "                  2015       71777.0          63.0        54.0     37.0   \n",
       "                  2016       76498.0         132.0       101.0     42.0   \n",
       "                  2017       65285.0          58.0        53.0     40.0   \n",
       "\n",
       "                          venue_capacity  h_points_game  h_rank  \\\n",
       "a_market          season                                          \n",
       "Abilene Christian 2013          107773.0           1151       0   \n",
       "                  2014          109029.0           1144       0   \n",
       "                  2015          106290.0           1150       0   \n",
       "                  2016           91009.0           1139       0   \n",
       "                  2017          104862.0           1252      21   \n",
       "...                                  ...            ...     ...   \n",
       "Youngstown State  2013          111548.0           1276       0   \n",
       "                  2014          128919.0           1248       0   \n",
       "                  2015          158902.0           1494      11   \n",
       "                  2016          217455.0           1641       0   \n",
       "                  2017          174122.0           1702       0   \n",
       "\n",
       "                          h_field_goals_made  h_field_goals_att  \\\n",
       "a_market          season                                          \n",
       "Abilene Christian 2013                 119.0              219.0   \n",
       "                  2014                 404.0              811.0   \n",
       "                  2015                 405.0              801.0   \n",
       "                  2016                 382.0              822.0   \n",
       "                  2017                 423.0              918.0   \n",
       "...                                      ...                ...   \n",
       "Youngstown State  2013                  65.0              127.0   \n",
       "                  2014                 428.0              963.0   \n",
       "                  2015                 540.0             1129.0   \n",
       "                  2016                 611.0             1312.0   \n",
       "                  2017                 600.0             1164.0   \n",
       "\n",
       "                          h_field_goals_pct  ...  h_rebound_pct  \\\n",
       "a_market          season                     ...                  \n",
       "Abilene Christian 2013                215.1  ...       2.400758   \n",
       "                  2014                803.2  ...       9.248739   \n",
       "                  2015                759.0  ...       8.103147   \n",
       "                  2016                699.6  ...       8.206710   \n",
       "                  2017                788.7  ...       8.867159   \n",
       "...                                     ...  ...            ...   \n",
       "Youngstown State  2013                102.3  ...       1.173713   \n",
       "                  2014                721.0  ...       9.053887   \n",
       "                  2015                813.6  ...       9.878854   \n",
       "                  2016                933.3  ...      10.709807   \n",
       "                  2017               1032.1  ...      10.167464   \n",
       "\n",
       "                          a_rebound_pct  h_assist_ratio  a_assist_ratio  \\\n",
       "a_market          season                                                  \n",
       "Abilene Christian 2013         1.599242        2.164888        2.120455   \n",
       "                  2014         6.751261        8.626413        8.620800   \n",
       "                  2015         6.896853        8.103962        8.161900   \n",
       "                  2016         6.793290        8.418384        7.917881   \n",
       "                  2017         8.132841        8.872264        8.955053   \n",
       "...                                 ...             ...             ...   \n",
       "Youngstown State  2013         0.826287        1.095238        0.938462   \n",
       "                  2014         6.946113        9.228864        9.181689   \n",
       "                  2015         7.121146       10.045795        9.478756   \n",
       "                  2016         9.290193       10.710722       10.541788   \n",
       "                  2017         9.832536       11.750385        9.940691   \n",
       "\n",
       "                          h_steal_pct  a_steal_pct  h_block_pct  a_block_pct  \\\n",
       "a_market          season                                                       \n",
       "Abilene Christian 2013       0.478711     0.208517     0.469853     0.094298   \n",
       "                  2014       1.199065     1.357901     1.401012     0.247928   \n",
       "                  2015       1.171025     1.302149     1.066392     0.673575   \n",
       "                  2016       1.077961     1.175754     0.975913     0.700160   \n",
       "                  2017       1.349860     1.588209     1.011264     0.939154   \n",
       "...                               ...          ...          ...          ...   \n",
       "Youngstown State  2013       0.188754     0.188872     0.156926     0.044118   \n",
       "                  2014       1.201423     1.088125     1.178410     0.584511   \n",
       "                  2015       1.274211     1.111674     0.923001     0.636546   \n",
       "                  2016       1.408542     1.245392     1.235634     1.025437   \n",
       "                  2017       1.569047     1.595824     1.302993     1.139445   \n",
       "\n",
       "                          h_turnover_ratio  a_turnover_ratio  \n",
       "a_market          season                                      \n",
       "Abilene Christian 2013            0.464412          0.779534  \n",
       "                  2014            2.756102          2.786662  \n",
       "                  2015            2.577968          2.812904  \n",
       "                  2016            2.431679          2.631400  \n",
       "                  2017            3.188688          3.043221  \n",
       "...                                    ...               ...  \n",
       "Youngstown State  2013            0.288776          0.289621  \n",
       "                  2014            2.267515          2.311294  \n",
       "                  2015            2.180657          2.339231  \n",
       "                  2016            2.660869          2.894711  \n",
       "                  2017            3.206209          3.485925  \n",
       "\n",
       "[1755 rows x 102 columns]"
      ]
     },
     "execution_count": 18,
     "metadata": {},
     "output_type": "execute_result"
    }
   ],
   "source": [
    "df.groupby(['h_market','season']).sum()\n",
    "df.groupby(['a_market','season']).sum()"
   ]
  },
  {
   "cell_type": "code",
   "execution_count": 19,
   "metadata": {},
   "outputs": [
    {
     "data": {
      "text/plain": [
       "East Regional            75\n",
       "South Regional           75\n",
       "Midwest Regional         75\n",
       "West Regional            75\n",
       "First Four               20\n",
       "Final Four               10\n",
       "Iowa Bracket              7\n",
       "Florida St. Bracket       7\n",
       "SBON Bracket              7\n",
       "SMU Bracket               7\n",
       "Baylor Bracket            7\n",
       "Notre Dame Bracket        7\n",
       "Vegas 16                  7\n",
       "Monmouth Bracket          7\n",
       "Old Dominion Bracket      7\n",
       "Temple Bracket            7\n",
       "Minnesota Bracket         7\n",
       "Colorado St. Bracket      7\n",
       "USC Bracket               7\n",
       "Illinois St Bracket       7\n",
       "California Bracket        7\n",
       "SCAR Bracket              7\n",
       "Saint Mary's Bracket      7\n",
       "Syracuse Bracket          7\n",
       "Valparaiso Bracket        7\n",
       "Richmond Bracket          7\n",
       "St. John's Bracket        7\n",
       "National Championship     5\n",
       "Name: tournament_type, dtype: int64"
      ]
     },
     "execution_count": 19,
     "metadata": {},
     "output_type": "execute_result"
    }
   ],
   "source": [
    "ncaa_tournament_data = df[df['tournament'] == 'NCAA']\n",
    "ncaa_tournament_data = ncaa_tournament_data[ncaa_tournament_data['tournament_type'] != 'CIT']\n",
    "ncaa_tournament_data = ncaa_tournament_data[ncaa_tournament_data['tournament_type'] != 'NIT']\n",
    "ncaa_tournament_data = ncaa_tournament_data[ncaa_tournament_data['tournament_type'] != 'CBI']\n",
    "ncaa_tournament_data.tournament_type.value_counts()"
   ]
  },
  {
   "cell_type": "code",
   "execution_count": 20,
   "metadata": {},
   "outputs": [
    {
     "data": {
      "text/plain": [
       "True     0.647822\n",
       "False    0.352178\n",
       "Name: home_win, dtype: float64"
      ]
     },
     "execution_count": 20,
     "metadata": {},
     "output_type": "execute_result"
    }
   ],
   "source": [
    "df.home_win.value_counts(normalize = True)"
   ]
  },
  {
   "cell_type": "code",
   "execution_count": null,
   "metadata": {},
   "outputs": [],
   "source": []
  },
  {
   "cell_type": "code",
   "execution_count": 21,
   "metadata": {},
   "outputs": [
    {
     "data": {
      "text/plain": [
       "conference_game\n",
       "False    0.704692\n",
       "True     0.601835\n",
       "Name: home_win, dtype: float64"
      ]
     },
     "execution_count": 21,
     "metadata": {},
     "output_type": "execute_result"
    }
   ],
   "source": [
    "df.groupby('conference_game').mean()['home_win']"
   ]
  },
  {
   "cell_type": "code",
   "execution_count": 22,
   "metadata": {},
   "outputs": [
    {
     "data": {
      "text/plain": [
       "0.28734198430175634"
      ]
     },
     "execution_count": 22,
     "metadata": {},
     "output_type": "execute_result"
    }
   ],
   "source": [
    "df.a_personal_fouls.corr(df['a_foulouts'])"
   ]
  },
  {
   "cell_type": "code",
   "execution_count": 23,
   "metadata": {},
   "outputs": [],
   "source": [
    "stats = ['h_field_goals_made',\n",
    "       'h_field_goals_att', 'h_field_goals_pct', 'h_three_points_made',\n",
    "       'h_three_points_att', 'h_three_points_pct', 'h_two_points_made',\n",
    "       'h_two_points_att', 'h_two_points_pct', 'h_blocked_att',\n",
    "       'h_free_throws_made', 'h_free_throws_att', 'h_free_throws_pct',\n",
    "       'h_offensive_rebounds', 'h_defensive_rebounds', 'h_rebounds',\n",
    "       'h_assists', 'h_turnovers', 'h_steals', 'h_blocks',\n",
    "       'h_assists_turnover_ratio', 'h_personal_fouls', 'h_ejections',\n",
    "       'h_foulouts', 'h_points', 'h_fast_break_pts', 'h_second_chance_pts',\n",
    "       'h_team_turnovers', 'h_points_off_turnovers', 'h_team_rebounds',\n",
    "       'h_flagrant_fouls', 'h_player_tech_fouls', 'h_team_tech_fouls',\n",
    "       'h_coach_tech_fouls', 'a_field_goals_made', 'a_field_goals_att', 'a_field_goals_pct',\n",
    "       'a_three_points_made', 'a_three_points_att', 'a_three_points_pct',\n",
    "       'a_two_points_made', 'a_two_points_att', 'a_two_points_pct',\n",
    "       'a_blocked_att', 'a_free_throws_made', 'a_free_throws_att',\n",
    "       'a_free_throws_pct', 'a_offensive_rebounds', 'a_defensive_rebounds',\n",
    "       'a_rebounds', 'a_assists', 'a_turnovers', 'a_steals', 'a_blocks',\n",
    "       'a_assists_turnover_ratio', 'a_personal_fouls', 'a_ejections',\n",
    "       'a_foulouts', 'a_points', 'a_fast_break_pts', 'a_second_chance_pts',\n",
    "       'a_team_turnovers', 'a_points_off_turnovers', 'a_team_rebounds',\n",
    "       'a_flagrant_fouls', 'a_player_tech_fouls', 'a_team_tech_fouls',\n",
    "       'a_coach_tech_fouls']"
   ]
  },
  {
   "cell_type": "code",
   "execution_count": 24,
   "metadata": {},
   "outputs": [],
   "source": [
    "stats = df[stats]"
   ]
  },
  {
   "cell_type": "code",
   "execution_count": 25,
   "metadata": {},
   "outputs": [],
   "source": [
    "stats = stats.fillna(0)"
   ]
  },
  {
   "cell_type": "code",
   "execution_count": 26,
   "metadata": {},
   "outputs": [
    {
     "name": "stdout",
     "output_type": "stream",
     "text": [
      "<class 'pandas.core.frame.DataFrame'>\n",
      "RangeIndex: 27594 entries, 0 to 27593\n",
      "Data columns (total 68 columns):\n",
      " #   Column                    Non-Null Count  Dtype  \n",
      "---  ------                    --------------  -----  \n",
      " 0   h_field_goals_made        27594 non-null  float64\n",
      " 1   h_field_goals_att         27594 non-null  float64\n",
      " 2   h_field_goals_pct         27594 non-null  float64\n",
      " 3   h_three_points_made       27594 non-null  float64\n",
      " 4   h_three_points_att        27594 non-null  float64\n",
      " 5   h_three_points_pct        27594 non-null  float64\n",
      " 6   h_two_points_made         27594 non-null  float64\n",
      " 7   h_two_points_att          27594 non-null  float64\n",
      " 8   h_two_points_pct          27594 non-null  float64\n",
      " 9   h_blocked_att             27594 non-null  float64\n",
      " 10  h_free_throws_made        27594 non-null  float64\n",
      " 11  h_free_throws_att         27594 non-null  float64\n",
      " 12  h_free_throws_pct         27594 non-null  float64\n",
      " 13  h_offensive_rebounds      27594 non-null  float64\n",
      " 14  h_defensive_rebounds      27594 non-null  float64\n",
      " 15  h_rebounds                27594 non-null  float64\n",
      " 16  h_assists                 27594 non-null  float64\n",
      " 17  h_turnovers               27594 non-null  float64\n",
      " 18  h_steals                  27594 non-null  float64\n",
      " 19  h_blocks                  27594 non-null  float64\n",
      " 20  h_assists_turnover_ratio  27594 non-null  float64\n",
      " 21  h_personal_fouls          27594 non-null  float64\n",
      " 22  h_ejections               27594 non-null  float64\n",
      " 23  h_foulouts                27594 non-null  float64\n",
      " 24  h_points                  27594 non-null  float64\n",
      " 25  h_fast_break_pts          27594 non-null  float64\n",
      " 26  h_second_chance_pts       27594 non-null  float64\n",
      " 27  h_team_turnovers          27594 non-null  float64\n",
      " 28  h_points_off_turnovers    27594 non-null  float64\n",
      " 29  h_team_rebounds           27594 non-null  float64\n",
      " 30  h_flagrant_fouls          27594 non-null  float64\n",
      " 31  h_player_tech_fouls       27594 non-null  float64\n",
      " 32  h_team_tech_fouls         27594 non-null  float64\n",
      " 33  h_coach_tech_fouls        27594 non-null  float64\n",
      " 34  a_field_goals_made        27594 non-null  float64\n",
      " 35  a_field_goals_att         27594 non-null  float64\n",
      " 36  a_field_goals_pct         27594 non-null  float64\n",
      " 37  a_three_points_made       27594 non-null  float64\n",
      " 38  a_three_points_att        27594 non-null  float64\n",
      " 39  a_three_points_pct        27594 non-null  float64\n",
      " 40  a_two_points_made         27594 non-null  float64\n",
      " 41  a_two_points_att          27594 non-null  float64\n",
      " 42  a_two_points_pct          27594 non-null  float64\n",
      " 43  a_blocked_att             27594 non-null  float64\n",
      " 44  a_free_throws_made        27594 non-null  float64\n",
      " 45  a_free_throws_att         27594 non-null  float64\n",
      " 46  a_free_throws_pct         27594 non-null  float64\n",
      " 47  a_offensive_rebounds      27594 non-null  float64\n",
      " 48  a_defensive_rebounds      27594 non-null  float64\n",
      " 49  a_rebounds                27594 non-null  float64\n",
      " 50  a_assists                 27594 non-null  float64\n",
      " 51  a_turnovers               27594 non-null  float64\n",
      " 52  a_steals                  27594 non-null  float64\n",
      " 53  a_blocks                  27594 non-null  float64\n",
      " 54  a_assists_turnover_ratio  27594 non-null  float64\n",
      " 55  a_personal_fouls          27594 non-null  float64\n",
      " 56  a_ejections               27594 non-null  float64\n",
      " 57  a_foulouts                27594 non-null  float64\n",
      " 58  a_points                  27594 non-null  float64\n",
      " 59  a_fast_break_pts          27594 non-null  float64\n",
      " 60  a_second_chance_pts       27594 non-null  float64\n",
      " 61  a_team_turnovers          27594 non-null  float64\n",
      " 62  a_points_off_turnovers    27594 non-null  float64\n",
      " 63  a_team_rebounds           27594 non-null  float64\n",
      " 64  a_flagrant_fouls          27594 non-null  float64\n",
      " 65  a_player_tech_fouls       27594 non-null  float64\n",
      " 66  a_team_tech_fouls         27594 non-null  float64\n",
      " 67  a_coach_tech_fouls        27594 non-null  float64\n",
      "dtypes: float64(68)\n",
      "memory usage: 14.3 MB\n"
     ]
    }
   ],
   "source": [
    "stats.info()"
   ]
  },
  {
   "cell_type": "code",
   "execution_count": 27,
   "metadata": {},
   "outputs": [],
   "source": [
    "from sklearn.model_selection import train_test_split\n",
    "X = stats\n",
    "y = df.home_win\n",
    "X_train, X_test, y_train, y_test = train_test_split(X,y, random_state = 42, test_size = .25)"
   ]
  },
  {
   "cell_type": "code",
   "execution_count": 28,
   "metadata": {},
   "outputs": [],
   "source": [
    "from sklearn.linear_model import LogisticRegression\n",
    "\n",
    "logreg = LogisticRegression(random_state = 42, max_iter = 10000)\n",
    "model = logreg.fit(X_train, y_train)"
   ]
  },
  {
   "cell_type": "code",
   "execution_count": 40,
   "metadata": {},
   "outputs": [
    {
     "name": "stdout",
     "output_type": "stream",
     "text": [
      "Accuracy Score: 0.9485432671401652\n"
     ]
    },
    {
     "data": {
      "image/png": "[encoded data removed]",
      "text/plain": [
       "<Figure size 432x288 with 2 Axes>"
      ]
     },
     "metadata": {
      "needs_background": "light"
     },
     "output_type": "display_data"
    }
   ],
   "source": [
    "from sklearn.metrics import accuracy_score, confusion_matrix\n",
    "from sklearn.metrics import plot_confusion_matrix\n",
    "\n",
    "y_pred = logreg.predict(X_test)\n",
    "y_prob = logreg.predict_proba(X_test)\n",
    "\n",
    "print(f\"Accuracy Score:\", accuracy_score(y_test, y_pred))\n",
    "plot_confusion_matrix(logreg, X_test, y_test);"
   ]
  },
  {
   "cell_type": "code",
   "execution_count": 41,
   "metadata": {},
   "outputs": [
    {
     "name": "stdout",
     "output_type": "stream",
     "text": [
      "Accuracy Score: 0.8879547760545007\n"
     ]
    },
    {
     "data": {
      "image/png": "[encoded data removed]",
      "text/plain": [
       "<Figure size 432x288 with 2 Axes>"
      ]
     },
     "metadata": {
      "needs_background": "light"
     },
     "output_type": "display_data"
    }
   ],
   "source": [
    "from sklearn.neighbors import KNeighborsClassifier\n",
    "\n",
    "knnmodel = KNeighborsClassifier()\n",
    "knnmodel.fit(X_train, y_train)\n",
    "kn_y_pred = knnmodel.predict(X_test)\n",
    "\n",
    "print(\"Accuracy Score:\", accuracy_score(y_test, kn_y_pred))\n",
    "plot_confusion_matrix(knnmodel, X_test, y_test);"
   ]
  },
  {
   "cell_type": "code",
   "execution_count": 33,
   "metadata": {},
   "outputs": [
    {
     "data": {
      "text/plain": [
       "array([ True,  True,  True, ...,  True,  True,  True])"
      ]
     },
     "execution_count": 33,
     "metadata": {},
     "output_type": "execute_result"
    }
   ],
   "source": [
    "from sklearn.tree import DecisionTreeClassifier\n",
    "\n",
    "dt_model = DecisionTreeClassifier()\n",
    "dt_model.fit(X_train, y_train)\n",
    "dt_y_pred = dt_model.predict(X_test)\n",
    "dt_y_pred"
   ]
  },
  {
   "cell_type": "code",
   "execution_count": null,
   "metadata": {},
   "outputs": [],
   "source": []
  }
 ],
 "metadata": {
  "kernelspec": {
   "display_name": "Python (learn-env)",
   "language": "python",
   "name": "learn-env"
  },
  "language_info": {
   "codemirror_mode": {
    "name": "ipython",
    "version": 3
   },
   "file_extension": ".py",
   "mimetype": "text/x-python",
   "name": "python",
   "nbconvert_exporter": "python",
   "pygments_lexer": "ipython3",
   "version": "3.8.5"
  }
 },
 "nbformat": 4,
 "nbformat_minor": 4
}
