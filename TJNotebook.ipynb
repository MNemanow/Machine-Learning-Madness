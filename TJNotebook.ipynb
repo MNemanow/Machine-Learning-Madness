{
 "cells": [
  {
   "cell_type": "code",
   "execution_count": 1,
   "metadata": {},
   "outputs": [],
   "source": [
    "import pandas as pd\n",
    "import numpy as np\n",
    "from datetime import datetime\n",
    "from sportsipy.ncaab.boxscore import Boxscore\n",
    "from sportsipy.ncaab.boxscore import Boxscores\n",
    "from sportsipy.ncaab.schedule import Schedule"
   ]
  },
  {
   "cell_type": "code",
   "execution_count": 2,
   "metadata": {},
   "outputs": [],
   "source": [
    "games = Boxscores(datetime(2017,12,2), datetime(2017,12,2))"
   ]
  },
  {
   "cell_type": "code",
   "execution_count": 24,
   "metadata": {},
   "outputs": [
    {
     "data": {
      "text/html": [
       "<div>\n",
       "<style scoped>\n",
       "    .dataframe tbody tr th:only-of-type {\n",
       "        vertical-align: middle;\n",
       "    }\n",
       "\n",
       "    .dataframe tbody tr th {\n",
       "        vertical-align: top;\n",
       "    }\n",
       "\n",
       "    .dataframe thead th {\n",
       "        text-align: right;\n",
       "    }\n",
       "</style>\n",
       "<table border=\"1\" class=\"dataframe\">\n",
       "  <thead>\n",
       "    <tr style=\"text-align: right;\">\n",
       "      <th></th>\n",
       "      <th>away_assist_percentage</th>\n",
       "      <th>away_assists</th>\n",
       "      <th>away_block_percentage</th>\n",
       "      <th>away_blocks</th>\n",
       "      <th>away_defensive_rating</th>\n",
       "      <th>away_defensive_rebound_percentage</th>\n",
       "      <th>away_defensive_rebounds</th>\n",
       "      <th>away_effective_field_goal_percentage</th>\n",
       "      <th>away_field_goal_attempts</th>\n",
       "      <th>away_field_goal_percentage</th>\n",
       "      <th>...</th>\n",
       "      <th>home_two_point_field_goals</th>\n",
       "      <th>home_win_percentage</th>\n",
       "      <th>home_wins</th>\n",
       "      <th>location</th>\n",
       "      <th>losing_abbr</th>\n",
       "      <th>losing_name</th>\n",
       "      <th>pace</th>\n",
       "      <th>winner</th>\n",
       "      <th>winning_abbr</th>\n",
       "      <th>winning_name</th>\n",
       "    </tr>\n",
       "  </thead>\n",
       "  <tbody>\n",
       "    <tr>\n",
       "      <th>2017-12-02-15-duke</th>\n",
       "      <td>60.0</td>\n",
       "      <td>18</td>\n",
       "      <td>0.0</td>\n",
       "      <td>0</td>\n",
       "      <td>121.5</td>\n",
       "      <td>48.3</td>\n",
       "      <td>14</td>\n",
       "      <td>0.515</td>\n",
       "      <td>68</td>\n",
       "      <td>0.441</td>\n",
       "      <td>...</td>\n",
       "      <td>28</td>\n",
       "      <td>1.0</td>\n",
       "      <td>10</td>\n",
       "      <td>Cameron Indoor Stadium, Durham, North Carolina</td>\n",
       "      <td>SOUTH-DAKOTA</td>\n",
       "      <td>South Dakota</td>\n",
       "      <td>78.5</td>\n",
       "      <td>Home</td>\n",
       "      <td>DUKE</td>\n",
       "      <td>Duke</td>\n",
       "    </tr>\n",
       "  </tbody>\n",
       "</table>\n",
       "<p>1 rows × 86 columns</p>\n",
       "</div>"
      ],
      "text/plain": [
       "                    away_assist_percentage  away_assists  \\\n",
       "2017-12-02-15-duke                    60.0            18   \n",
       "\n",
       "                    away_block_percentage  away_blocks  away_defensive_rating  \\\n",
       "2017-12-02-15-duke                    0.0            0                  121.5   \n",
       "\n",
       "                    away_defensive_rebound_percentage  \\\n",
       "2017-12-02-15-duke                               48.3   \n",
       "\n",
       "                    away_defensive_rebounds  \\\n",
       "2017-12-02-15-duke                       14   \n",
       "\n",
       "                    away_effective_field_goal_percentage  \\\n",
       "2017-12-02-15-duke                                 0.515   \n",
       "\n",
       "                    away_field_goal_attempts  away_field_goal_percentage  ...  \\\n",
       "2017-12-02-15-duke                        68                       0.441  ...   \n",
       "\n",
       "                    home_two_point_field_goals  home_win_percentage  \\\n",
       "2017-12-02-15-duke                          28                  1.0   \n",
       "\n",
       "                    home_wins                                        location  \\\n",
       "2017-12-02-15-duke         10  Cameron Indoor Stadium, Durham, North Carolina   \n",
       "\n",
       "                     losing_abbr   losing_name  pace  winner  winning_abbr  \\\n",
       "2017-12-02-15-duke  SOUTH-DAKOTA  South Dakota  78.5    Home          DUKE   \n",
       "\n",
       "                    winning_name  \n",
       "2017-12-02-15-duke          Duke  \n",
       "\n",
       "[1 rows x 86 columns]"
      ]
     },
     "execution_count": 24,
     "metadata": {},
     "output_type": "execute_result"
    }
   ],
   "source": [
    "final = Boxscore('2017-12-02-15-duke').dataframe\n",
    "final"
   ]
  },
  {
   "cell_type": "code",
   "execution_count": 34,
   "metadata": {},
   "outputs": [],
   "source": [
    "for date in games.games.values():\n",
    "    for game in date:\n",
    "        final.append(Boxscore(game['boxscore']).dataframe,ignore_index = True)"
   ]
  },
  {
   "cell_type": "code",
   "execution_count": null,
   "metadata": {},
   "outputs": [],
   "source": []
  },
  {
   "cell_type": "code",
   "execution_count": null,
   "metadata": {},
   "outputs": [],
   "source": []
  },
  {
   "cell_type": "code",
   "execution_count": null,
   "metadata": {},
   "outputs": [],
   "source": []
  }
 ],
 "metadata": {
  "kernelspec": {
   "display_name": "Python (learn-env)",
   "language": "python",
   "name": "learn-env"
  },
  "language_info": {
   "codemirror_mode": {
    "name": "ipython",
    "version": 3
   },
   "file_extension": ".py",
   "mimetype": "text/x-python",
   "name": "python",
   "nbconvert_exporter": "python",
   "pygments_lexer": "ipython3",
   "version": "3.8.5"
  }
 },
 "nbformat": 4,
 "nbformat_minor": 4
}
