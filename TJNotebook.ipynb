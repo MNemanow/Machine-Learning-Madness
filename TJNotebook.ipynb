{
 "cells": [
  {
   "cell_type": "code",
   "execution_count": 65,
   "metadata": {},
   "outputs": [],
   "source": [
    "import pandas as pd\n",
    "import numpy as np\n",
    "from datetime import datetime"
   ]
  },
  {
   "cell_type": "code",
   "execution_count": 66,
   "metadata": {},
   "outputs": [],
   "source": [
    "regularseason = pd.read_csv('MDataFiles_Stage1/MRegularSeasonDetailedResults.csv')\n",
    "postseason = pd.read_csv('MDataFiles_Stage1/MNCAATourneyDetailedResults.csv')"
   ]
  },
  {
   "cell_type": "code",
   "execution_count": 67,
   "metadata": {},
   "outputs": [],
   "source": [
    "def add_new_cols(df):\n",
    "    df['W_possessions'] = .5 * (df['WFGA'] + (.475 * df['WFTA']) - df['WOR'] + df['WTO'])\n",
    "    df['WeFG'] = (df['WFGM'] + (.5 * df['WFGM3'])) / df['WFGA']\n",
    "    df['WTSpct'] = df['WScore'] / (2 * (df['WFGA'] + .475 * df['WFTA']))\n",
    "    df['WFTR'] = df['WFTA'] / df['WFGA']\n",
    "    df['W3PR'] = df['WFGA3'] / (df['WFGA'] + (.475*df['WFTA']))\n",
    "    df['WORpct'] = df['WOR'] / (df['WOR'] + df['LDR'])\n",
    "    df['WDRpct'] = df['WDR'] / (df['WDR'] + df['LOR'])\n",
    "    df['WREBpct'] = (df['WOR'] + df['WDR']) / (df['WOR'] + df['LDR'] + df['LOR'] + df['WDR'])\n",
    "    df['WTR'] = (df['WOR'] + df['WDR'])\n",
    "    df['WATOr'] = df['WAst'] / df['WTO']\n",
    "    df['WASTpct'] = df['WAst'] / df['WFGM']\n",
    "    df['WSTLpct'] = df['WStl'] / (df['LFGA'] + .475*df['LFTA'] + df['LTO'])\n",
    "    df['WBLK_pct'] = df['WBlk'] / (df['LFGA'])\n",
    "    df['WTO_ratio'] = df['WTO'] / (df['WFGA'] + .475*df['WFTA'] + df['WTO'])\n",
    "    df['L_possessions'] = .5 * (df['LFGA'] + (.475 * df['LFTA']) - df['LOR'] + df['LTO'])\n",
    "    df['LeFG'] = (df['LFGM'] + (.5 * df['LFGM3'])) / df['LFGA']\n",
    "    df['LTSpct'] = df['LScore'] / (2 * (df['LFGA'] + .475 * df['LFTA']))\n",
    "    df['LFTR'] = df['LFTA'] / df['LFGA']\n",
    "    df['L3PR'] = df['LFGA3'] / (df['LFGA'] + (.475*df['LFTA']))\n",
    "    df['LORpct'] = df['LOR'] / (df['LOR'] + df['WDR'])\n",
    "    df['LDRpct'] = df['LDR'] / (df['LDR'] + df['WOR'])\n",
    "    df['LREBpct'] = (df['LOR'] + df['LDR']) / (df['WOR'] + df['LDR'] + df['LOR'] + df['WDR'])\n",
    "    df['LTR'] = (df['LOR'] + df['LDR'])\n",
    "    df['LATOr'] = df['LAst'] / df['LTO']\n",
    "    df['LAST_pct'] = df['LAst'] / df['LFGM']\n",
    "    df['LSTL_pct'] = df['LStl'] / (df['WFGA'] + .475*df['WFTA'] + df['WTO'])\n",
    "    df['LBLK_pct'] = df['LBlk'] / (df['WFGA'])\n",
    "    df['LTO_ratio'] = df['LTO'] / (df['LFGA'] + .475*df['LFTA'] + df['LTO'])\n",
    "    \n",
    "    df = df[['Season', 'DayNum', 'WTeamID', 'WScore', 'LTeamID', 'LScore', 'WLoc',\n",
    "             'NumOT', 'WFGM', 'WFGA', 'WFGM3', 'WFGA3', 'WFTM', 'WFTA', 'WOR', \n",
    "             'WDR','WAst', 'WTO', 'WStl', 'WBlk', 'WPF', 'W_possessions', 'WeFG', \n",
    "             'WTSpct', 'WFTR', 'W3PR', 'WORpct', 'WDRpct','WREBpct', 'WTR', 'WATOr', \n",
    "             'WASTpct', 'WSTLpct', 'WBLK_pct','WTO_ratio', 'LFGM', 'LFGA', 'LFGM3', \n",
    "             'LFGA3','LFTM', 'LFTA', 'LOR', 'LDR', 'LAst', 'LTO', 'LStl', 'LBlk', \n",
    "             'LPF','L_possessions', 'LeFG', 'LTSpct', 'LFTR', 'L3PR','LORpct', \n",
    "             'LDRpct', 'LREBpct', 'LTR', 'LATOr', 'LAST_pct', 'LSTL_pct','LBLK_pct', \n",
    "             'LTO_ratio']]\n",
    "    \n",
    "    return df"
   ]
  },
  {
   "cell_type": "code",
   "execution_count": 68,
   "metadata": {},
   "outputs": [
    {
     "name": "stdout",
     "output_type": "stream",
     "text": [
      "<class 'pandas.core.frame.DataFrame'>\n",
      "RangeIndex: 92832 entries, 0 to 92831\n",
      "Data columns (total 62 columns):\n",
      " #   Column         Non-Null Count  Dtype  \n",
      "---  ------         --------------  -----  \n",
      " 0   Season         92832 non-null  int64  \n",
      " 1   DayNum         92832 non-null  int64  \n",
      " 2   WTeamID        92832 non-null  int64  \n",
      " 3   WScore         92832 non-null  int64  \n",
      " 4   LTeamID        92832 non-null  int64  \n",
      " 5   LScore         92832 non-null  int64  \n",
      " 6   WLoc           92832 non-null  object \n",
      " 7   NumOT          92832 non-null  int64  \n",
      " 8   WFGM           92832 non-null  int64  \n",
      " 9   WFGA           92832 non-null  int64  \n",
      " 10  WFGM3          92832 non-null  int64  \n",
      " 11  WFGA3          92832 non-null  int64  \n",
      " 12  WFTM           92832 non-null  int64  \n",
      " 13  WFTA           92832 non-null  int64  \n",
      " 14  WOR            92832 non-null  int64  \n",
      " 15  WDR            92832 non-null  int64  \n",
      " 16  WAst           92832 non-null  int64  \n",
      " 17  WTO            92832 non-null  int64  \n",
      " 18  WStl           92832 non-null  int64  \n",
      " 19  WBlk           92832 non-null  int64  \n",
      " 20  WPF            92832 non-null  int64  \n",
      " 21  W_possessions  92832 non-null  float64\n",
      " 22  WeFG           92832 non-null  float64\n",
      " 23  WTSpct         92832 non-null  float64\n",
      " 24  WFTR           92832 non-null  float64\n",
      " 25  W3PR           92832 non-null  float64\n",
      " 26  WORpct         92832 non-null  float64\n",
      " 27  WDRpct         92832 non-null  float64\n",
      " 28  WREBpct        92832 non-null  float64\n",
      " 29  WTR            92832 non-null  int64  \n",
      " 30  WATOr          92832 non-null  float64\n",
      " 31  WASTpct        92832 non-null  float64\n",
      " 32  WSTLpct        92832 non-null  float64\n",
      " 33  WBLK_pct       92832 non-null  float64\n",
      " 34  WTO_ratio      92832 non-null  float64\n",
      " 35  LFGM           92832 non-null  int64  \n",
      " 36  LFGA           92832 non-null  int64  \n",
      " 37  LFGM3          92832 non-null  int64  \n",
      " 38  LFGA3          92832 non-null  int64  \n",
      " 39  LFTM           92832 non-null  int64  \n",
      " 40  LFTA           92832 non-null  int64  \n",
      " 41  LOR            92832 non-null  int64  \n",
      " 42  LDR            92832 non-null  int64  \n",
      " 43  LAst           92832 non-null  int64  \n",
      " 44  LTO            92832 non-null  int64  \n",
      " 45  LStl           92832 non-null  int64  \n",
      " 46  LBlk           92832 non-null  int64  \n",
      " 47  LPF            92832 non-null  int64  \n",
      " 48  L_possessions  92832 non-null  float64\n",
      " 49  LeFG           92832 non-null  float64\n",
      " 50  LTSpct         92832 non-null  float64\n",
      " 51  LFTR           92832 non-null  float64\n",
      " 52  L3PR           92832 non-null  float64\n",
      " 53  LORpct         92832 non-null  float64\n",
      " 54  LDRpct         92832 non-null  float64\n",
      " 55  LREBpct        92832 non-null  float64\n",
      " 56  LTR            92832 non-null  int64  \n",
      " 57  LATOr          92832 non-null  float64\n",
      " 58  LAST_pct       92832 non-null  float64\n",
      " 59  LSTL_pct       92832 non-null  float64\n",
      " 60  LBLK_pct       92832 non-null  float64\n",
      " 61  LTO_ratio      92832 non-null  float64\n",
      "dtypes: float64(26), int64(35), object(1)\n",
      "memory usage: 43.9+ MB\n"
     ]
    }
   ],
   "source": [
    "regular_season = add_new_cols(regularseason)\n",
    "regular_season.info()"
   ]
  },
  {
   "cell_type": "code",
   "execution_count": null,
   "metadata": {},
   "outputs": [],
   "source": []
  },
  {
   "cell_type": "code",
   "execution_count": null,
   "metadata": {},
   "outputs": [],
   "source": []
  },
  {
   "cell_type": "code",
   "execution_count": null,
   "metadata": {},
   "outputs": [],
   "source": []
  },
  {
   "cell_type": "code",
   "execution_count": null,
   "metadata": {},
   "outputs": [],
   "source": []
  },
  {
   "cell_type": "code",
   "execution_count": null,
   "metadata": {},
   "outputs": [],
   "source": []
  }
 ],
 "metadata": {
  "kernelspec": {
   "display_name": "Python (learn-env)",
   "language": "python",
   "name": "learn-env"
  },
  "language_info": {
   "codemirror_mode": {
    "name": "ipython",
    "version": 3
   },
   "file_extension": ".py",
   "mimetype": "text/x-python",
   "name": "python",
   "nbconvert_exporter": "python",
   "pygments_lexer": "ipython3",
   "version": "3.8.5"
  }
 },
 "nbformat": 4,
 "nbformat_minor": 4
}
