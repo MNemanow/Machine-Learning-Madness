{
 "cells": [
  {
   "cell_type": "code",
   "execution_count": 1,
   "metadata": {},
   "outputs": [],
   "source": [
    "import pandas as pd\n",
    "import numpy as np\n",
    "from datetime import datetime\n",
    "from sportsipy.ncaab.boxscore import Boxscore\n",
    "from sportsipy.ncaab.boxscore import Boxscores\n",
    "from sportsipy.ncaab.schedule import Schedule"
   ]
  },
  {
   "cell_type": "code",
   "execution_count": 2,
   "metadata": {},
   "outputs": [],
   "source": [
    "df = pd.read_csv('NCAABasketballData.csv', low_memory = False)"
   ]
  },
  {
   "cell_type": "code",
   "execution_count": 3,
   "metadata": {},
   "outputs": [
    {
     "name": "stdout",
     "output_type": "stream",
     "text": [
      "game_id\n",
      "season\n",
      "status\n",
      "coverage\n",
      "neutral_site\n",
      "scheduled_date\n",
      "gametime\n",
      "conference_game\n",
      "tournament\n",
      "tournament_type\n",
      "tournament_round\n",
      "tournament_game_no\n",
      "attendance\n",
      "lead_changes\n",
      "times_tied\n",
      "periods\n",
      "possession_arrow\n",
      "venue_id\n",
      "venue_city\n",
      "venue_state\n",
      "venue_address\n",
      "venue_zip\n",
      "venue_country\n",
      "venue_name\n",
      "venue_capacity\n",
      "h_name\n",
      "h_market\n",
      "h_id\n",
      "h_alias\n",
      "h_league_id\n",
      "h_league_name\n",
      "h_league_alias\n",
      "h_conf_id\n",
      "h_conf_name\n",
      "h_conf_alias\n",
      "h_division_id\n",
      "h_division_name\n",
      "h_division_alias\n",
      "h_logo_large\n",
      "h_logo_medium\n",
      "h_logo_small\n",
      "h_points_game\n",
      "h_rank\n",
      "h_minutes\n",
      "h_field_goals_made\n",
      "h_field_goals_att\n",
      "h_field_goals_pct\n",
      "h_three_points_made\n",
      "h_three_points_att\n",
      "h_three_points_pct\n",
      "h_two_points_made\n",
      "h_two_points_att\n",
      "h_two_points_pct\n",
      "h_blocked_att\n",
      "h_free_throws_made\n",
      "h_free_throws_att\n",
      "h_free_throws_pct\n",
      "h_offensive_rebounds\n",
      "h_defensive_rebounds\n",
      "h_rebounds\n",
      "h_assists\n",
      "h_turnovers\n",
      "h_steals\n",
      "h_blocks\n",
      "h_assists_turnover_ratio\n",
      "h_personal_fouls\n",
      "h_ejections\n",
      "h_foulouts\n",
      "h_points\n",
      "h_fast_break_pts\n",
      "h_second_chance_pts\n",
      "h_team_turnovers\n",
      "h_points_off_turnovers\n",
      "h_team_rebounds\n",
      "h_flagrant_fouls\n",
      "h_player_tech_fouls\n",
      "h_team_tech_fouls\n",
      "h_coach_tech_fouls\n",
      "a_name\n",
      "a_market\n",
      "a_id\n",
      "a_alias\n",
      "a_league_id\n",
      "a_league_name\n",
      "a_league_alias\n",
      "a_conf_id\n",
      "a_conf_name\n",
      "a_conf_alias\n",
      "a_division_id\n",
      "a_division_name\n",
      "a_division_alias\n",
      "a_logo_large\n",
      "a_logo_medium\n",
      "a_logo_small\n",
      "a_points_game\n",
      "a_rank\n",
      "a_minutes\n",
      "a_field_goals_made\n",
      "a_field_goals_att\n",
      "a_field_goals_pct\n",
      "a_three_points_made\n",
      "a_three_points_att\n",
      "a_three_points_pct\n",
      "a_two_points_made\n",
      "a_two_points_att\n",
      "a_two_points_pct\n",
      "a_blocked_att\n",
      "a_free_throws_made\n",
      "a_free_throws_att\n",
      "a_free_throws_pct\n",
      "a_offensive_rebounds\n",
      "a_defensive_rebounds\n",
      "a_rebounds\n",
      "a_assists\n",
      "a_turnovers\n",
      "a_steals\n",
      "a_blocks\n",
      "a_assists_turnover_ratio\n",
      "a_personal_fouls\n",
      "a_ejections\n",
      "a_foulouts\n",
      "a_points\n",
      "a_fast_break_pts\n",
      "a_second_chance_pts\n",
      "a_team_turnovers\n",
      "a_points_off_turnovers\n",
      "a_team_rebounds\n",
      "a_flagrant_fouls\n",
      "a_player_tech_fouls\n",
      "a_team_tech_fouls\n",
      "a_coach_tech_fouls\n",
      "created\n"
     ]
    }
   ],
   "source": [
    "for i in df.columns:\n",
    "    print(i)"
   ]
  },
  {
   "cell_type": "code",
   "execution_count": 4,
   "metadata": {},
   "outputs": [],
   "source": [
    "cols_to_drop = ['game_id', 'status','coverage','possession_arrow', 'venue_id',\n",
    "                'venue_city','venue_state','venue_address','venue_zip','venue_country',\n",
    "                'venue_name', 'created', 'h_league_id','h_league_name','h_league_alias',\n",
    "                'h_conf_id','h_conf_name','h_conf_alias','h_division_id',\n",
    "                'h_division_name','h_division_alias','h_logo_large','h_logo_medium',\n",
    "                'h_logo_small','a_league_name','a_league_alias','a_conf_id',\n",
    "                'a_conf_name','a_conf_alias','a_division_id','a_division_name',\n",
    "                'a_division_alias','a_logo_large','a_logo_medium','a_logo_small','created']"
   ]
  },
  {
   "cell_type": "code",
   "execution_count": 3,
   "metadata": {},
   "outputs": [
    {
     "data": {
      "text/plain": [
       "Conference    1448\n",
       "NCAA           712\n",
       "Name: tournament, dtype: int64"
      ]
     },
     "execution_count": 3,
     "metadata": {},
     "output_type": "execute_result"
    }
   ],
   "source": [
    "df.tournament.value_counts()"
   ]
  },
  {
   "cell_type": "code",
   "execution_count": 6,
   "metadata": {},
   "outputs": [
    {
     "data": {
      "text/plain": [
       "Index(['season', 'neutral_site', 'scheduled_date', 'gametime',\n",
       "       'conference_game', 'tournament', 'tournament_type', 'tournament_round',\n",
       "       'tournament_game_no', 'attendance', 'lead_changes', 'times_tied',\n",
       "       'periods', 'venue_capacity', 'h_name', 'h_market', 'h_id', 'h_alias',\n",
       "       'h_points_game', 'h_rank', 'h_minutes', 'h_field_goals_made',\n",
       "       'h_field_goals_att', 'h_field_goals_pct', 'h_three_points_made',\n",
       "       'h_three_points_att', 'h_three_points_pct', 'h_two_points_made',\n",
       "       'h_two_points_att', 'h_two_points_pct', 'h_blocked_att',\n",
       "       'h_free_throws_made', 'h_free_throws_att', 'h_free_throws_pct',\n",
       "       'h_offensive_rebounds', 'h_defensive_rebounds', 'h_rebounds',\n",
       "       'h_assists', 'h_turnovers', 'h_steals', 'h_blocks',\n",
       "       'h_assists_turnover_ratio', 'h_personal_fouls', 'h_ejections',\n",
       "       'h_foulouts', 'h_points', 'h_fast_break_pts', 'h_second_chance_pts',\n",
       "       'h_team_turnovers', 'h_points_off_turnovers', 'h_team_rebounds',\n",
       "       'h_flagrant_fouls', 'h_player_tech_fouls', 'h_team_tech_fouls',\n",
       "       'h_coach_tech_fouls', 'a_name', 'a_market', 'a_id', 'a_alias',\n",
       "       'a_league_id', 'a_points_game', 'a_rank', 'a_minutes',\n",
       "       'a_field_goals_made', 'a_field_goals_att', 'a_field_goals_pct',\n",
       "       'a_three_points_made', 'a_three_points_att', 'a_three_points_pct',\n",
       "       'a_two_points_made', 'a_two_points_att', 'a_two_points_pct',\n",
       "       'a_blocked_att', 'a_free_throws_made', 'a_free_throws_att',\n",
       "       'a_free_throws_pct', 'a_offensive_rebounds', 'a_defensive_rebounds',\n",
       "       'a_rebounds', 'a_assists', 'a_turnovers', 'a_steals', 'a_blocks',\n",
       "       'a_assists_turnover_ratio', 'a_personal_fouls', 'a_ejections',\n",
       "       'a_foulouts', 'a_points', 'a_fast_break_pts', 'a_second_chance_pts',\n",
       "       'a_team_turnovers', 'a_points_off_turnovers', 'a_team_rebounds',\n",
       "       'a_flagrant_fouls', 'a_player_tech_fouls', 'a_team_tech_fouls',\n",
       "       'a_coach_tech_fouls'],\n",
       "      dtype='object')"
      ]
     },
     "execution_count": 6,
     "metadata": {},
     "output_type": "execute_result"
    }
   ],
   "source": [
    "df.columns"
   ]
  },
  {
   "cell_type": "code",
   "execution_count": 7,
   "metadata": {},
   "outputs": [],
   "source": [
    "df['home_win'] = df.h_points_game.ge(df.a_points_game)"
   ]
  },
  {
   "cell_type": "code",
   "execution_count": null,
   "metadata": {},
   "outputs": [],
   "source": []
  },
  {
   "cell_type": "code",
   "execution_count": null,
   "metadata": {},
   "outputs": [],
   "source": []
  },
  {
   "cell_type": "code",
   "execution_count": 8,
   "metadata": {},
   "outputs": [
    {
     "data": {
      "text/plain": [
       "True     0.647822\n",
       "False    0.352178\n",
       "Name: home_win, dtype: float64"
      ]
     },
     "execution_count": 8,
     "metadata": {},
     "output_type": "execute_result"
    }
   ],
   "source": [
    "df.home_win.value_counts(normalize = True)"
   ]
  },
  {
   "cell_type": "code",
   "execution_count": 9,
   "metadata": {},
   "outputs": [
    {
     "data": {
      "text/html": [
       "<div>\n",
       "<style scoped>\n",
       "    .dataframe tbody tr th:only-of-type {\n",
       "        vertical-align: middle;\n",
       "    }\n",
       "\n",
       "    .dataframe tbody tr th {\n",
       "        vertical-align: top;\n",
       "    }\n",
       "\n",
       "    .dataframe thead th {\n",
       "        text-align: right;\n",
       "    }\n",
       "</style>\n",
       "<table border=\"1\" class=\"dataframe\">\n",
       "  <thead>\n",
       "    <tr style=\"text-align: right;\">\n",
       "      <th></th>\n",
       "      <th>season</th>\n",
       "      <th>attendance</th>\n",
       "      <th>lead_changes</th>\n",
       "      <th>times_tied</th>\n",
       "      <th>periods</th>\n",
       "      <th>venue_capacity</th>\n",
       "      <th>h_points_game</th>\n",
       "      <th>h_rank</th>\n",
       "      <th>h_field_goals_made</th>\n",
       "      <th>h_field_goals_att</th>\n",
       "      <th>...</th>\n",
       "      <th>a_fast_break_pts</th>\n",
       "      <th>a_second_chance_pts</th>\n",
       "      <th>a_team_turnovers</th>\n",
       "      <th>a_points_off_turnovers</th>\n",
       "      <th>a_team_rebounds</th>\n",
       "      <th>a_flagrant_fouls</th>\n",
       "      <th>a_player_tech_fouls</th>\n",
       "      <th>a_team_tech_fouls</th>\n",
       "      <th>a_coach_tech_fouls</th>\n",
       "      <th>home_win</th>\n",
       "    </tr>\n",
       "    <tr>\n",
       "      <th>conference_game</th>\n",
       "      <th></th>\n",
       "      <th></th>\n",
       "      <th></th>\n",
       "      <th></th>\n",
       "      <th></th>\n",
       "      <th></th>\n",
       "      <th></th>\n",
       "      <th></th>\n",
       "      <th></th>\n",
       "      <th></th>\n",
       "      <th></th>\n",
       "      <th></th>\n",
       "      <th></th>\n",
       "      <th></th>\n",
       "      <th></th>\n",
       "      <th></th>\n",
       "      <th></th>\n",
       "      <th></th>\n",
       "      <th></th>\n",
       "      <th></th>\n",
       "      <th></th>\n",
       "    </tr>\n",
       "  </thead>\n",
       "  <tbody>\n",
       "    <tr>\n",
       "      <th>False</th>\n",
       "      <td>2015.324397</td>\n",
       "      <td>6414.726427</td>\n",
       "      <td>3.650558</td>\n",
       "      <td>2.815741</td>\n",
       "      <td>2.063804</td>\n",
       "      <td>10320.100190</td>\n",
       "      <td>76.102547</td>\n",
       "      <td>1.480429</td>\n",
       "      <td>26.684662</td>\n",
       "      <td>57.834076</td>\n",
       "      <td>...</td>\n",
       "      <td>5.441703</td>\n",
       "      <td>9.561206</td>\n",
       "      <td>0.392489</td>\n",
       "      <td>12.683844</td>\n",
       "      <td>3.321043</td>\n",
       "      <td>0.030383</td>\n",
       "      <td>0.097919</td>\n",
       "      <td>0.034337</td>\n",
       "      <td>0.035093</td>\n",
       "      <td>0.704692</td>\n",
       "    </tr>\n",
       "    <tr>\n",
       "      <th>True</th>\n",
       "      <td>2015.348477</td>\n",
       "      <td>5479.099369</td>\n",
       "      <td>4.363689</td>\n",
       "      <td>3.330643</td>\n",
       "      <td>2.089003</td>\n",
       "      <td>8170.156981</td>\n",
       "      <td>73.320411</td>\n",
       "      <td>0.944633</td>\n",
       "      <td>25.701276</td>\n",
       "      <td>56.992686</td>\n",
       "      <td>...</td>\n",
       "      <td>5.339686</td>\n",
       "      <td>10.071336</td>\n",
       "      <td>0.376939</td>\n",
       "      <td>13.116928</td>\n",
       "      <td>3.100373</td>\n",
       "      <td>0.020077</td>\n",
       "      <td>0.124480</td>\n",
       "      <td>0.053624</td>\n",
       "      <td>0.032854</td>\n",
       "      <td>0.601835</td>\n",
       "    </tr>\n",
       "  </tbody>\n",
       "</table>\n",
       "<p>2 rows × 79 columns</p>\n",
       "</div>"
      ],
      "text/plain": [
       "                      season   attendance  lead_changes  times_tied   periods  \\\n",
       "conference_game                                                                 \n",
       "False            2015.324397  6414.726427      3.650558    2.815741  2.063804   \n",
       "True             2015.348477  5479.099369      4.363689    3.330643  2.089003   \n",
       "\n",
       "                 venue_capacity  h_points_game    h_rank  h_field_goals_made  \\\n",
       "conference_game                                                                \n",
       "False              10320.100190      76.102547  1.480429           26.684662   \n",
       "True                8170.156981      73.320411  0.944633           25.701276   \n",
       "\n",
       "                 h_field_goals_att  ...  a_fast_break_pts  \\\n",
       "conference_game                     ...                     \n",
       "False                    57.834076  ...          5.441703   \n",
       "True                     56.992686  ...          5.339686   \n",
       "\n",
       "                 a_second_chance_pts  a_team_turnovers  \\\n",
       "conference_game                                          \n",
       "False                       9.561206          0.392489   \n",
       "True                       10.071336          0.376939   \n",
       "\n",
       "                 a_points_off_turnovers  a_team_rebounds  a_flagrant_fouls  \\\n",
       "conference_game                                                              \n",
       "False                         12.683844         3.321043          0.030383   \n",
       "True                          13.116928         3.100373          0.020077   \n",
       "\n",
       "                 a_player_tech_fouls  a_team_tech_fouls  a_coach_tech_fouls  \\\n",
       "conference_game                                                               \n",
       "False                       0.097919           0.034337            0.035093   \n",
       "True                        0.124480           0.053624            0.032854   \n",
       "\n",
       "                 home_win  \n",
       "conference_game            \n",
       "False            0.704692  \n",
       "True             0.601835  \n",
       "\n",
       "[2 rows x 79 columns]"
      ]
     },
     "execution_count": 9,
     "metadata": {},
     "output_type": "execute_result"
    }
   ],
   "source": [
    "df.groupby('conference_game').mean()"
   ]
  },
  {
   "cell_type": "code",
   "execution_count": 10,
   "metadata": {},
   "outputs": [
    {
     "data": {
      "text/plain": [
       "0.28734198430175684"
      ]
     },
     "execution_count": 10,
     "metadata": {},
     "output_type": "execute_result"
    }
   ],
   "source": [
    "df.a_personal_fouls.corr(df['a_foulouts'])"
   ]
  },
  {
   "cell_type": "code",
   "execution_count": 11,
   "metadata": {},
   "outputs": [],
   "source": [
    "stats = ['h_field_goals_made',\n",
    "       'h_field_goals_att', 'h_field_goals_pct', 'h_three_points_made',\n",
    "       'h_three_points_att', 'h_three_points_pct', 'h_two_points_made',\n",
    "       'h_two_points_att', 'h_two_points_pct', 'h_blocked_att',\n",
    "       'h_free_throws_made', 'h_free_throws_att', 'h_free_throws_pct',\n",
    "       'h_offensive_rebounds', 'h_defensive_rebounds', 'h_rebounds',\n",
    "       'h_assists', 'h_turnovers', 'h_steals', 'h_blocks',\n",
    "       'h_assists_turnover_ratio', 'h_personal_fouls', 'h_ejections',\n",
    "       'h_foulouts', 'h_points', 'h_fast_break_pts', 'h_second_chance_pts',\n",
    "       'h_team_turnovers', 'h_points_off_turnovers', 'h_team_rebounds',\n",
    "       'h_flagrant_fouls', 'h_player_tech_fouls', 'h_team_tech_fouls',\n",
    "       'h_coach_tech_fouls', 'a_field_goals_made', 'a_field_goals_att', 'a_field_goals_pct',\n",
    "       'a_three_points_made', 'a_three_points_att', 'a_three_points_pct',\n",
    "       'a_two_points_made', 'a_two_points_att', 'a_two_points_pct',\n",
    "       'a_blocked_att', 'a_free_throws_made', 'a_free_throws_att',\n",
    "       'a_free_throws_pct', 'a_offensive_rebounds', 'a_defensive_rebounds',\n",
    "       'a_rebounds', 'a_assists', 'a_turnovers', 'a_steals', 'a_blocks',\n",
    "       'a_assists_turnover_ratio', 'a_personal_fouls', 'a_ejections',\n",
    "       'a_foulouts', 'a_points', 'a_fast_break_pts', 'a_second_chance_pts',\n",
    "       'a_team_turnovers', 'a_points_off_turnovers', 'a_team_rebounds',\n",
    "       'a_flagrant_fouls', 'a_player_tech_fouls', 'a_team_tech_fouls',\n",
    "       'a_coach_tech_fouls']"
   ]
  },
  {
   "cell_type": "code",
   "execution_count": 12,
   "metadata": {},
   "outputs": [],
   "source": [
    "stats = df[stats]"
   ]
  },
  {
   "cell_type": "code",
   "execution_count": 13,
   "metadata": {},
   "outputs": [],
   "source": [
    "stats = stats.fillna(0)"
   ]
  },
  {
   "cell_type": "code",
   "execution_count": 14,
   "metadata": {},
   "outputs": [
    {
     "name": "stdout",
     "output_type": "stream",
     "text": [
      "<class 'pandas.core.frame.DataFrame'>\n",
      "RangeIndex: 27594 entries, 0 to 27593\n",
      "Data columns (total 68 columns):\n",
      " #   Column                    Non-Null Count  Dtype  \n",
      "---  ------                    --------------  -----  \n",
      " 0   h_field_goals_made        27594 non-null  float64\n",
      " 1   h_field_goals_att         27594 non-null  float64\n",
      " 2   h_field_goals_pct         27594 non-null  float64\n",
      " 3   h_three_points_made       27594 non-null  float64\n",
      " 4   h_three_points_att        27594 non-null  float64\n",
      " 5   h_three_points_pct        27594 non-null  float64\n",
      " 6   h_two_points_made         27594 non-null  float64\n",
      " 7   h_two_points_att          27594 non-null  float64\n",
      " 8   h_two_points_pct          27594 non-null  float64\n",
      " 9   h_blocked_att             27594 non-null  float64\n",
      " 10  h_free_throws_made        27594 non-null  float64\n",
      " 11  h_free_throws_att         27594 non-null  float64\n",
      " 12  h_free_throws_pct         27594 non-null  float64\n",
      " 13  h_offensive_rebounds      27594 non-null  float64\n",
      " 14  h_defensive_rebounds      27594 non-null  float64\n",
      " 15  h_rebounds                27594 non-null  float64\n",
      " 16  h_assists                 27594 non-null  float64\n",
      " 17  h_turnovers               27594 non-null  float64\n",
      " 18  h_steals                  27594 non-null  float64\n",
      " 19  h_blocks                  27594 non-null  float64\n",
      " 20  h_assists_turnover_ratio  27594 non-null  float64\n",
      " 21  h_personal_fouls          27594 non-null  float64\n",
      " 22  h_ejections               27594 non-null  float64\n",
      " 23  h_foulouts                27594 non-null  float64\n",
      " 24  h_points                  27594 non-null  float64\n",
      " 25  h_fast_break_pts          27594 non-null  float64\n",
      " 26  h_second_chance_pts       27594 non-null  float64\n",
      " 27  h_team_turnovers          27594 non-null  float64\n",
      " 28  h_points_off_turnovers    27594 non-null  float64\n",
      " 29  h_team_rebounds           27594 non-null  float64\n",
      " 30  h_flagrant_fouls          27594 non-null  float64\n",
      " 31  h_player_tech_fouls       27594 non-null  float64\n",
      " 32  h_team_tech_fouls         27594 non-null  float64\n",
      " 33  h_coach_tech_fouls        27594 non-null  float64\n",
      " 34  a_field_goals_made        27594 non-null  float64\n",
      " 35  a_field_goals_att         27594 non-null  float64\n",
      " 36  a_field_goals_pct         27594 non-null  float64\n",
      " 37  a_three_points_made       27594 non-null  float64\n",
      " 38  a_three_points_att        27594 non-null  float64\n",
      " 39  a_three_points_pct        27594 non-null  float64\n",
      " 40  a_two_points_made         27594 non-null  float64\n",
      " 41  a_two_points_att          27594 non-null  float64\n",
      " 42  a_two_points_pct          27594 non-null  float64\n",
      " 43  a_blocked_att             27594 non-null  float64\n",
      " 44  a_free_throws_made        27594 non-null  float64\n",
      " 45  a_free_throws_att         27594 non-null  float64\n",
      " 46  a_free_throws_pct         27594 non-null  float64\n",
      " 47  a_offensive_rebounds      27594 non-null  float64\n",
      " 48  a_defensive_rebounds      27594 non-null  float64\n",
      " 49  a_rebounds                27594 non-null  float64\n",
      " 50  a_assists                 27594 non-null  float64\n",
      " 51  a_turnovers               27594 non-null  float64\n",
      " 52  a_steals                  27594 non-null  float64\n",
      " 53  a_blocks                  27594 non-null  float64\n",
      " 54  a_assists_turnover_ratio  27594 non-null  float64\n",
      " 55  a_personal_fouls          27594 non-null  float64\n",
      " 56  a_ejections               27594 non-null  float64\n",
      " 57  a_foulouts                27594 non-null  float64\n",
      " 58  a_points                  27594 non-null  float64\n",
      " 59  a_fast_break_pts          27594 non-null  float64\n",
      " 60  a_second_chance_pts       27594 non-null  float64\n",
      " 61  a_team_turnovers          27594 non-null  float64\n",
      " 62  a_points_off_turnovers    27594 non-null  float64\n",
      " 63  a_team_rebounds           27594 non-null  float64\n",
      " 64  a_flagrant_fouls          27594 non-null  float64\n",
      " 65  a_player_tech_fouls       27594 non-null  float64\n",
      " 66  a_team_tech_fouls         27594 non-null  float64\n",
      " 67  a_coach_tech_fouls        27594 non-null  float64\n",
      "dtypes: float64(68)\n",
      "memory usage: 14.3 MB\n"
     ]
    }
   ],
   "source": [
    "stats.info()"
   ]
  },
  {
   "cell_type": "code",
   "execution_count": 15,
   "metadata": {},
   "outputs": [],
   "source": [
    "from sklearn.model_selection import train_test_split\n",
    "X = stats\n",
    "y = df.home_win\n",
    "X_train, X_test, y_train, y_test = train_test_split(X,y, random_state = 42, test_size = .25)"
   ]
  },
  {
   "cell_type": "code",
   "execution_count": 16,
   "metadata": {},
   "outputs": [],
   "source": [
    "from sklearn.linear_model import LogisticRegression\n",
    "\n",
    "logreg = LogisticRegression(random_state = 42, max_iter = 10000)\n",
    "model = logreg.fit(X_train, y_train)"
   ]
  },
  {
   "cell_type": "code",
   "execution_count": 17,
   "metadata": {},
   "outputs": [
    {
     "data": {
      "text/plain": [
       "array([[2040,  352],\n",
       "       [   3, 4504]], dtype=int64)"
      ]
     },
     "execution_count": 17,
     "metadata": {},
     "output_type": "execute_result"
    }
   ],
   "source": [
    "from sklearn.metrics import accuracy_score, confusion_matrix\n",
    "y_pred = logreg.predict(X_test)\n",
    "y_prob = logreg.predict_proba(X_test)\n",
    "accuracy_score(y_test, y_pred)\n",
    "confusion_matrix(y_test, y_pred)"
   ]
  },
  {
   "cell_type": "code",
   "execution_count": 21,
   "metadata": {},
   "outputs": [
    {
     "data": {
      "text/plain": [
       "array([[1766,  626],\n",
       "       [ 147, 4360]], dtype=int64)"
      ]
     },
     "execution_count": 21,
     "metadata": {},
     "output_type": "execute_result"
    }
   ],
   "source": [
    "from sklearn.neighbors import KNeighborsClassifier\n",
    "\n",
    "knnmodel = KNeighborsClassifier()\n",
    "knnmodel.fit(X_train, y_train)\n",
    "kn_y_pred = knnmodel.predict(X_test)\n",
    "\n",
    "accuracy_score(y_test, kn_y_pred)\n",
    "confusion_matrix(y_test, kn_y_pred)"
   ]
  },
  {
   "cell_type": "code",
   "execution_count": null,
   "metadata": {},
   "outputs": [],
   "source": [
    "from sklearn.tree import DecisionTreeClassifier\n",
    "\n",
    "dt_model = DecisionTreeClassifier()\n",
    "dt_model.fit(X_train, y_train)\n",
    "dt_y_pred = knn.predict(X_test)"
   ]
  }
 ],
 "metadata": {
  "kernelspec": {
   "display_name": "Python (learn-env)",
   "language": "python",
   "name": "learn-env"
  },
  "language_info": {
   "codemirror_mode": {
    "name": "ipython",
    "version": 3
   },
   "file_extension": ".py",
   "mimetype": "text/x-python",
   "name": "python",
   "nbconvert_exporter": "python",
   "pygments_lexer": "ipython3",
   "version": "3.8.5"
  }
 },
 "nbformat": 4,
 "nbformat_minor": 4
}
