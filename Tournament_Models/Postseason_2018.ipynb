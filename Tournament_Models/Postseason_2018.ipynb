{
 "cells": [
  {
   "cell_type": "code",
   "execution_count": 2,
   "metadata": {
    "ExecuteTime": {
     "end_time": "2021-12-09T02:25:48.898941Z",
     "start_time": "2021-12-09T02:25:47.085995Z"
    }
   },
   "outputs": [],
   "source": [
    "# Import the relevant packages\n",
    "import pandas as pd\n",
    "import numpy as np\n",
    "import matplotlib.pyplot as plt\n",
    "from sklearn.linear_model import LogisticRegression\n",
    "from sklearn.model_selection import cross_val_score, train_test_split,GridSearchCV\n",
    "from sklearn.metrics import plot_confusion_matrix, plot_roc_curve, accuracy_score, \\\n",
    "recall_score, precision_score, f1_score\n",
    "from sklearn.neighbors import KNeighborsClassifier\n",
    "from sklearn.preprocessing import StandardScaler\n",
    "from sklearn.tree import DecisionTreeClassifier, plot_tree\n",
    "from sklearn.ensemble import BaggingClassifier, RandomForestClassifier\n",
    "from sklearn.datasets import load_iris\n",
    "from sklearn.ensemble import AdaBoostClassifier, GradientBoostingClassifier\n",
    "from xgboost import XGBClassifier\n",
    "import statsmodels.api as sm\n",
    "from sklearn.feature_selection import RFECV\n",
    "\n",
    "import warnings\n",
    "warnings.filterwarnings(\"ignore\")"
   ]
  },
  {
   "cell_type": "code",
   "execution_count": 3,
   "metadata": {
    "ExecuteTime": {
     "end_time": "2021-12-09T02:25:50.527300Z",
     "start_time": "2021-12-09T02:25:50.523898Z"
    }
   },
   "outputs": [],
   "source": [
    "#Import functions notebook and load data set here\n",
    "from function_notebook_1 import *"
   ]
  },
  {
   "cell_type": "code",
   "execution_count": 4,
   "metadata": {
    "ExecuteTime": {
     "end_time": "2021-12-09T02:25:52.012901Z",
     "start_time": "2021-12-09T02:25:51.874345Z"
    }
   },
   "outputs": [],
   "source": [
    "df = pd.read_csv('data/regularseason18.csv').drop('Unnamed: 0', axis = 1)\n",
    "df2 = pd.read_csv('data/postseason18.csv').drop(['Unnamed: 0','w_loc'], axis = 1)\n",
    "\n",
    "df2['w_loc_H'] = 0\n",
    "df2['w_loc_N'] = 1"
   ]
  },
  {
   "cell_type": "code",
   "execution_count": 5,
   "metadata": {
    "ExecuteTime": {
     "end_time": "2021-12-09T02:25:55.300729Z",
     "start_time": "2021-12-09T02:25:55.258420Z"
    },
    "scrolled": false
   },
   "outputs": [
    {
     "data": {
      "text/html": [
       "<div>\n",
       "<style scoped>\n",
       "    .dataframe tbody tr th:only-of-type {\n",
       "        vertical-align: middle;\n",
       "    }\n",
       "\n",
       "    .dataframe tbody tr th {\n",
       "        vertical-align: top;\n",
       "    }\n",
       "\n",
       "    .dataframe thead th {\n",
       "        text-align: right;\n",
       "    }\n",
       "</style>\n",
       "<table border=\"1\" class=\"dataframe\">\n",
       "  <thead>\n",
       "    <tr style=\"text-align: right;\">\n",
       "      <th></th>\n",
       "      <th>W_TeamID</th>\n",
       "      <th>W_Score</th>\n",
       "      <th>W_FGM</th>\n",
       "      <th>W_FGA</th>\n",
       "      <th>W_FGM3</th>\n",
       "      <th>W_FGA3</th>\n",
       "      <th>W_FTM</th>\n",
       "      <th>W_FTA</th>\n",
       "      <th>W_OR</th>\n",
       "      <th>W_DR</th>\n",
       "      <th>...</th>\n",
       "      <th>L_Opp_3Pr</th>\n",
       "      <th>L_Opp_TR</th>\n",
       "      <th>L_Opp_ATOr</th>\n",
       "      <th>L_Opp_Ast_%</th>\n",
       "      <th>L_Opp_Stl_%</th>\n",
       "      <th>L_Opp_Blk_%</th>\n",
       "      <th>L_Opp_TO_r</th>\n",
       "      <th>fav_win</th>\n",
       "      <th>w_loc_H</th>\n",
       "      <th>w_loc_N</th>\n",
       "    </tr>\n",
       "  </thead>\n",
       "  <tbody>\n",
       "    <tr>\n",
       "      <th>0</th>\n",
       "      <td>1181.0</td>\n",
       "      <td>97.000000</td>\n",
       "      <td>41.000000</td>\n",
       "      <td>74.000000</td>\n",
       "      <td>12.000000</td>\n",
       "      <td>25.000000</td>\n",
       "      <td>3.000000</td>\n",
       "      <td>11.000000</td>\n",
       "      <td>15.000000</td>\n",
       "      <td>33.000000</td>\n",
       "      <td>...</td>\n",
       "      <td>0.194995</td>\n",
       "      <td>38.000000</td>\n",
       "      <td>1.214286</td>\n",
       "      <td>0.653846</td>\n",
       "      <td>0.130101</td>\n",
       "      <td>0.142857</td>\n",
       "      <td>0.153973</td>\n",
       "      <td>True</td>\n",
       "      <td>1</td>\n",
       "      <td>0</td>\n",
       "    </tr>\n",
       "    <tr>\n",
       "      <th>1</th>\n",
       "      <td>1112.0</td>\n",
       "      <td>101.000000</td>\n",
       "      <td>34.000000</td>\n",
       "      <td>57.000000</td>\n",
       "      <td>5.000000</td>\n",
       "      <td>13.000000</td>\n",
       "      <td>28.000000</td>\n",
       "      <td>32.000000</td>\n",
       "      <td>12.000000</td>\n",
       "      <td>31.000000</td>\n",
       "      <td>...</td>\n",
       "      <td>0.361493</td>\n",
       "      <td>34.000000</td>\n",
       "      <td>1.272727</td>\n",
       "      <td>0.636364</td>\n",
       "      <td>0.053050</td>\n",
       "      <td>0.120000</td>\n",
       "      <td>0.147404</td>\n",
       "      <td>True</td>\n",
       "      <td>1</td>\n",
       "      <td>0</td>\n",
       "    </tr>\n",
       "    <tr>\n",
       "      <th>2</th>\n",
       "      <td>1116.0</td>\n",
       "      <td>95.000000</td>\n",
       "      <td>36.000000</td>\n",
       "      <td>63.000000</td>\n",
       "      <td>9.000000</td>\n",
       "      <td>22.000000</td>\n",
       "      <td>14.000000</td>\n",
       "      <td>22.000000</td>\n",
       "      <td>7.000000</td>\n",
       "      <td>28.000000</td>\n",
       "      <td>...</td>\n",
       "      <td>0.183908</td>\n",
       "      <td>38.000000</td>\n",
       "      <td>0.384615</td>\n",
       "      <td>0.200000</td>\n",
       "      <td>0.048736</td>\n",
       "      <td>0.060606</td>\n",
       "      <td>0.166134</td>\n",
       "      <td>True</td>\n",
       "      <td>1</td>\n",
       "      <td>0</td>\n",
       "    </tr>\n",
       "    <tr>\n",
       "      <th>3</th>\n",
       "      <td>1130.0</td>\n",
       "      <td>85.000000</td>\n",
       "      <td>33.000000</td>\n",
       "      <td>68.000000</td>\n",
       "      <td>4.000000</td>\n",
       "      <td>18.000000</td>\n",
       "      <td>15.000000</td>\n",
       "      <td>19.000000</td>\n",
       "      <td>14.000000</td>\n",
       "      <td>37.000000</td>\n",
       "      <td>...</td>\n",
       "      <td>0.356313</td>\n",
       "      <td>41.000000</td>\n",
       "      <td>1.384615</td>\n",
       "      <td>0.562500</td>\n",
       "      <td>0.094244</td>\n",
       "      <td>0.053571</td>\n",
       "      <td>0.167634</td>\n",
       "      <td>True</td>\n",
       "      <td>1</td>\n",
       "      <td>0</td>\n",
       "    </tr>\n",
       "    <tr>\n",
       "      <th>4</th>\n",
       "      <td>1143.0</td>\n",
       "      <td>66.000000</td>\n",
       "      <td>19.000000</td>\n",
       "      <td>62.000000</td>\n",
       "      <td>4.000000</td>\n",
       "      <td>16.000000</td>\n",
       "      <td>24.000000</td>\n",
       "      <td>39.000000</td>\n",
       "      <td>14.000000</td>\n",
       "      <td>32.000000</td>\n",
       "      <td>...</td>\n",
       "      <td>0.297223</td>\n",
       "      <td>41.000000</td>\n",
       "      <td>0.812500</td>\n",
       "      <td>0.500000</td>\n",
       "      <td>0.079708</td>\n",
       "      <td>0.066667</td>\n",
       "      <td>0.200188</td>\n",
       "      <td>True</td>\n",
       "      <td>1</td>\n",
       "      <td>0</td>\n",
       "    </tr>\n",
       "    <tr>\n",
       "      <th>...</th>\n",
       "      <td>...</td>\n",
       "      <td>...</td>\n",
       "      <td>...</td>\n",
       "      <td>...</td>\n",
       "      <td>...</td>\n",
       "      <td>...</td>\n",
       "      <td>...</td>\n",
       "      <td>...</td>\n",
       "      <td>...</td>\n",
       "      <td>...</td>\n",
       "      <td>...</td>\n",
       "      <td>...</td>\n",
       "      <td>...</td>\n",
       "      <td>...</td>\n",
       "      <td>...</td>\n",
       "      <td>...</td>\n",
       "      <td>...</td>\n",
       "      <td>...</td>\n",
       "      <td>...</td>\n",
       "      <td>...</td>\n",
       "      <td>...</td>\n",
       "    </tr>\n",
       "    <tr>\n",
       "      <th>5192</th>\n",
       "      <td>1153.0</td>\n",
       "      <td>75.030303</td>\n",
       "      <td>26.454545</td>\n",
       "      <td>58.363636</td>\n",
       "      <td>7.393939</td>\n",
       "      <td>20.636364</td>\n",
       "      <td>14.727273</td>\n",
       "      <td>21.393939</td>\n",
       "      <td>13.181818</td>\n",
       "      <td>25.909091</td>\n",
       "      <td>...</td>\n",
       "      <td>0.317080</td>\n",
       "      <td>31.593750</td>\n",
       "      <td>0.832941</td>\n",
       "      <td>0.518302</td>\n",
       "      <td>0.063188</td>\n",
       "      <td>0.040569</td>\n",
       "      <td>0.170633</td>\n",
       "      <td>True</td>\n",
       "      <td>0</td>\n",
       "      <td>1</td>\n",
       "    </tr>\n",
       "    <tr>\n",
       "      <th>5193</th>\n",
       "      <td>1172.0</td>\n",
       "      <td>77.032258</td>\n",
       "      <td>27.612903</td>\n",
       "      <td>56.870968</td>\n",
       "      <td>10.838710</td>\n",
       "      <td>27.612903</td>\n",
       "      <td>10.967742</td>\n",
       "      <td>13.806452</td>\n",
       "      <td>6.935484</td>\n",
       "      <td>25.903226</td>\n",
       "      <td>...</td>\n",
       "      <td>0.252916</td>\n",
       "      <td>33.806452</td>\n",
       "      <td>0.717742</td>\n",
       "      <td>0.485014</td>\n",
       "      <td>0.069337</td>\n",
       "      <td>0.049895</td>\n",
       "      <td>0.203830</td>\n",
       "      <td>False</td>\n",
       "      <td>0</td>\n",
       "      <td>1</td>\n",
       "    </tr>\n",
       "    <tr>\n",
       "      <th>5194</th>\n",
       "      <td>1209.0</td>\n",
       "      <td>74.419355</td>\n",
       "      <td>26.451613</td>\n",
       "      <td>57.419355</td>\n",
       "      <td>9.258065</td>\n",
       "      <td>23.806452</td>\n",
       "      <td>12.258065</td>\n",
       "      <td>18.064516</td>\n",
       "      <td>8.677419</td>\n",
       "      <td>24.903226</td>\n",
       "      <td>...</td>\n",
       "      <td>0.386439</td>\n",
       "      <td>35.843750</td>\n",
       "      <td>0.937634</td>\n",
       "      <td>0.540273</td>\n",
       "      <td>0.082115</td>\n",
       "      <td>0.041365</td>\n",
       "      <td>0.170537</td>\n",
       "      <td>True</td>\n",
       "      <td>0</td>\n",
       "      <td>1</td>\n",
       "    </tr>\n",
       "    <tr>\n",
       "      <th>5195</th>\n",
       "      <td>1246.0</td>\n",
       "      <td>76.727273</td>\n",
       "      <td>27.121212</td>\n",
       "      <td>57.818182</td>\n",
       "      <td>5.393939</td>\n",
       "      <td>15.060606</td>\n",
       "      <td>17.090909</td>\n",
       "      <td>24.666667</td>\n",
       "      <td>12.121212</td>\n",
       "      <td>26.666667</td>\n",
       "      <td>...</td>\n",
       "      <td>0.308398</td>\n",
       "      <td>34.406250</td>\n",
       "      <td>0.773333</td>\n",
       "      <td>0.484680</td>\n",
       "      <td>0.070653</td>\n",
       "      <td>0.056131</td>\n",
       "      <td>0.177744</td>\n",
       "      <td>False</td>\n",
       "      <td>0</td>\n",
       "      <td>1</td>\n",
       "    </tr>\n",
       "    <tr>\n",
       "      <th>5196</th>\n",
       "      <td>1335.0</td>\n",
       "      <td>75.966667</td>\n",
       "      <td>27.100000</td>\n",
       "      <td>59.200000</td>\n",
       "      <td>8.566667</td>\n",
       "      <td>24.800000</td>\n",
       "      <td>13.200000</td>\n",
       "      <td>19.966667</td>\n",
       "      <td>8.933333</td>\n",
       "      <td>28.566667</td>\n",
       "      <td>...</td>\n",
       "      <td>0.344610</td>\n",
       "      <td>32.413793</td>\n",
       "      <td>0.994475</td>\n",
       "      <td>0.547112</td>\n",
       "      <td>0.087470</td>\n",
       "      <td>0.044554</td>\n",
       "      <td>0.165505</td>\n",
       "      <td>True</td>\n",
       "      <td>0</td>\n",
       "      <td>1</td>\n",
       "    </tr>\n",
       "  </tbody>\n",
       "</table>\n",
       "<p>5197 rows × 109 columns</p>\n",
       "</div>"
      ],
      "text/plain": [
       "      W_TeamID     W_Score      W_FGM      W_FGA     W_FGM3     W_FGA3  \\\n",
       "0       1181.0   97.000000  41.000000  74.000000  12.000000  25.000000   \n",
       "1       1112.0  101.000000  34.000000  57.000000   5.000000  13.000000   \n",
       "2       1116.0   95.000000  36.000000  63.000000   9.000000  22.000000   \n",
       "3       1130.0   85.000000  33.000000  68.000000   4.000000  18.000000   \n",
       "4       1143.0   66.000000  19.000000  62.000000   4.000000  16.000000   \n",
       "...        ...         ...        ...        ...        ...        ...   \n",
       "5192    1153.0   75.030303  26.454545  58.363636   7.393939  20.636364   \n",
       "5193    1172.0   77.032258  27.612903  56.870968  10.838710  27.612903   \n",
       "5194    1209.0   74.419355  26.451613  57.419355   9.258065  23.806452   \n",
       "5195    1246.0   76.727273  27.121212  57.818182   5.393939  15.060606   \n",
       "5196    1335.0   75.966667  27.100000  59.200000   8.566667  24.800000   \n",
       "\n",
       "          W_FTM      W_FTA       W_OR       W_DR  ...  L_Opp_3Pr   L_Opp_TR  \\\n",
       "0      3.000000  11.000000  15.000000  33.000000  ...   0.194995  38.000000   \n",
       "1     28.000000  32.000000  12.000000  31.000000  ...   0.361493  34.000000   \n",
       "2     14.000000  22.000000   7.000000  28.000000  ...   0.183908  38.000000   \n",
       "3     15.000000  19.000000  14.000000  37.000000  ...   0.356313  41.000000   \n",
       "4     24.000000  39.000000  14.000000  32.000000  ...   0.297223  41.000000   \n",
       "...         ...        ...        ...        ...  ...        ...        ...   \n",
       "5192  14.727273  21.393939  13.181818  25.909091  ...   0.317080  31.593750   \n",
       "5193  10.967742  13.806452   6.935484  25.903226  ...   0.252916  33.806452   \n",
       "5194  12.258065  18.064516   8.677419  24.903226  ...   0.386439  35.843750   \n",
       "5195  17.090909  24.666667  12.121212  26.666667  ...   0.308398  34.406250   \n",
       "5196  13.200000  19.966667   8.933333  28.566667  ...   0.344610  32.413793   \n",
       "\n",
       "      L_Opp_ATOr  L_Opp_Ast_%  L_Opp_Stl_%  L_Opp_Blk_%  L_Opp_TO_r  fav_win  \\\n",
       "0       1.214286     0.653846     0.130101     0.142857    0.153973     True   \n",
       "1       1.272727     0.636364     0.053050     0.120000    0.147404     True   \n",
       "2       0.384615     0.200000     0.048736     0.060606    0.166134     True   \n",
       "3       1.384615     0.562500     0.094244     0.053571    0.167634     True   \n",
       "4       0.812500     0.500000     0.079708     0.066667    0.200188     True   \n",
       "...          ...          ...          ...          ...         ...      ...   \n",
       "5192    0.832941     0.518302     0.063188     0.040569    0.170633     True   \n",
       "5193    0.717742     0.485014     0.069337     0.049895    0.203830    False   \n",
       "5194    0.937634     0.540273     0.082115     0.041365    0.170537     True   \n",
       "5195    0.773333     0.484680     0.070653     0.056131    0.177744    False   \n",
       "5196    0.994475     0.547112     0.087470     0.044554    0.165505     True   \n",
       "\n",
       "      w_loc_H  w_loc_N  \n",
       "0           1        0  \n",
       "1           1        0  \n",
       "2           1        0  \n",
       "3           1        0  \n",
       "4           1        0  \n",
       "...       ...      ...  \n",
       "5192        0        1  \n",
       "5193        0        1  \n",
       "5194        0        1  \n",
       "5195        0        1  \n",
       "5196        0        1  \n",
       "\n",
       "[5197 rows x 109 columns]"
      ]
     },
     "execution_count": 5,
     "metadata": {},
     "output_type": "execute_result"
    }
   ],
   "source": [
    "df = pd.get_dummies(df, columns=['w_loc'], drop_first=True)\n",
    "df"
   ]
  },
  {
   "cell_type": "code",
   "execution_count": 6,
   "metadata": {
    "ExecuteTime": {
     "end_time": "2021-12-09T02:25:58.594966Z",
     "start_time": "2021-12-09T02:25:58.586471Z"
    }
   },
   "outputs": [
    {
     "data": {
      "text/plain": [
       "((5197, 108), (67, 108))"
      ]
     },
     "execution_count": 6,
     "metadata": {},
     "output_type": "execute_result"
    }
   ],
   "source": [
    "#train_test_split\n",
    "X_train = df.drop('fav_win', axis=1)\n",
    "X_test = df2.drop('fav_win', axis=1)\n",
    "y_train = df['fav_win']\n",
    "y_test = df2['fav_win']\n",
    "\n",
    "X_train.shape, X_test.shape"
   ]
  },
  {
   "cell_type": "code",
   "execution_count": 7,
   "metadata": {
    "ExecuteTime": {
     "end_time": "2021-12-09T02:26:00.690400Z",
     "start_time": "2021-12-09T02:26:00.657390Z"
    }
   },
   "outputs": [],
   "source": [
    "ss = StandardScaler()\n",
    "X_train_scaled = ss.fit_transform(X_train)\n",
    "X_test_scaled = ss.transform(X_test)"
   ]
  },
  {
   "cell_type": "code",
   "execution_count": 8,
   "metadata": {
    "ExecuteTime": {
     "end_time": "2021-12-09T02:26:02.033649Z",
     "start_time": "2021-12-09T02:26:02.027579Z"
    }
   },
   "outputs": [],
   "source": [
    "X_train_scaled = pd.DataFrame(X_train_scaled, columns=X_train.columns)\n",
    "X_test_scaled = pd.DataFrame(X_test_scaled, columns=X_test.columns)"
   ]
  },
  {
   "cell_type": "markdown",
   "metadata": {},
   "source": [
    "### Logistic Regression"
   ]
  },
  {
   "cell_type": "code",
   "execution_count": 8,
   "metadata": {
    "ExecuteTime": {
     "end_time": "2021-12-08T22:47:55.756359Z",
     "start_time": "2021-12-08T22:46:51.420098Z"
    }
   },
   "outputs": [],
   "source": [
    "log_feat=feature_select(X_train_scaled,y_train,LogisticRegression,min_features=10)\n",
    "X_train_best_log = X_train_scaled[log_feat]\n",
    "X_test_best_log = X_test_scaled[log_feat]"
   ]
  },
  {
   "cell_type": "code",
   "execution_count": 9,
   "metadata": {
    "ExecuteTime": {
     "end_time": "2021-12-08T22:48:51.236412Z",
     "start_time": "2021-12-08T22:47:55.760269Z"
    }
   },
   "outputs": [
    {
     "name": "stdout",
     "output_type": "stream",
     "text": [
      "Penalty: l2\n",
      "Solver: lbfgs\n",
      "Mean Cross-Val Score: 0.8485812911823499\n",
      "Train Mean Accuracy: 0.8579949971137194\n",
      "Test Mean Accuracy: 0.8208955223880597\n",
      "Recall Score: 0.9347826086956522\n",
      "Precision Score: 0.8269230769230769\n",
      "F1 Score: 0.8775510204081632\n"
     ]
    },
    {
     "data": {
      "image/png": "[encoded data removed]",
      "text/plain": [
       "<Figure size 432x288 with 1 Axes>"
      ]
     },
     "metadata": {
      "needs_background": "light"
     },
     "output_type": "display_data"
    },
    {
     "data": {
      "image/png": "[encoded data removed]",
      "text/plain": [
       "<Figure size 432x288 with 2 Axes>"
      ]
     },
     "metadata": {
      "needs_background": "light"
     },
     "output_type": "display_data"
    },
    {
     "data": {
      "image/png": "[encoded data removed]",
      "text/plain": [
       "<Figure size 432x288 with 2 Axes>"
      ]
     },
     "metadata": {
      "needs_background": "light"
     },
     "output_type": "display_data"
    }
   ],
   "source": [
    "logreg(X_train_best_log, X_test_best_log, y_train, y_test)"
   ]
  },
  {
   "cell_type": "markdown",
   "metadata": {},
   "source": [
    "### KNN"
   ]
  },
  {
   "cell_type": "code",
   "execution_count": 10,
   "metadata": {
    "ExecuteTime": {
     "end_time": "2021-12-08T22:48:51.242275Z",
     "start_time": "2021-12-08T22:48:51.239613Z"
    },
    "scrolled": false
   },
   "outputs": [],
   "source": [
    "# knn(X_train_scaled, X_test_scaled, y_train, y_test)"
   ]
  },
  {
   "cell_type": "markdown",
   "metadata": {},
   "source": [
    "### Decision Tree"
   ]
  },
  {
   "cell_type": "code",
   "execution_count": 11,
   "metadata": {
    "ExecuteTime": {
     "end_time": "2021-12-08T22:48:51.262759Z",
     "start_time": "2021-12-08T22:48:51.245685Z"
    }
   },
   "outputs": [],
   "source": [
    "# dtree_feats=feature_select(X_train_scaled,y_train,DecisionTreeClassifier,min_features=10)"
   ]
  },
  {
   "cell_type": "code",
   "execution_count": 12,
   "metadata": {
    "ExecuteTime": {
     "end_time": "2021-12-08T22:48:51.276750Z",
     "start_time": "2021-12-08T22:48:51.273005Z"
    }
   },
   "outputs": [],
   "source": [
    "# X_train_best_dtree=X_train[dtree_feats]\n",
    "# X_test_best_dtree=X_test[dtree_feats]"
   ]
  },
  {
   "cell_type": "code",
   "execution_count": 13,
   "metadata": {
    "ExecuteTime": {
     "end_time": "2021-12-08T22:48:51.297766Z",
     "start_time": "2021-12-08T22:48:51.284365Z"
    }
   },
   "outputs": [],
   "source": [
    "# dtree(X_train_best_dtree, X_test_best_dtree, y_train, y_test)"
   ]
  },
  {
   "cell_type": "markdown",
   "metadata": {},
   "source": [
    "### Random Forest"
   ]
  },
  {
   "cell_type": "code",
   "execution_count": 9,
   "metadata": {
    "ExecuteTime": {
     "end_time": "2021-12-09T02:45:13.104607Z",
     "start_time": "2021-12-09T02:26:13.186141Z"
    }
   },
   "outputs": [],
   "source": [
    "random_forest_feat=feature_select(X_train_scaled,y_train,RandomForestClassifier,min_features=10)\n",
    "X_train_best_rforest=X_train_scaled[random_forest_feat]\n",
    "X_test_best_rforest=X_test_scaled[random_forest_feat]"
   ]
  },
  {
   "cell_type": "code",
   "execution_count": 10,
   "metadata": {
    "ExecuteTime": {
     "end_time": "2021-12-09T03:17:43.131514Z",
     "start_time": "2021-12-09T02:45:13.112230Z"
    }
   },
   "outputs": [
    {
     "name": "stdout",
     "output_type": "stream",
     "text": [
      "Number of Trees: 500\n",
      "Criterion: entropy\n",
      "Mean Cross-Val Score: 0.8480038128377878\n",
      "Train Mean Accuracy: 1.0\n",
      "Test Mean Accuracy: 0.835820895522388\n",
      "Recall Score: 0.9347826086956522\n",
      "Precision Score: 0.8431372549019608\n",
      "F1 score: 0.8865979381443299\n"
     ]
    },
    {
     "data": {
      "image/png": "[encoded data removed]",
      "text/plain": [
       "<Figure size 432x288 with 1 Axes>"
      ]
     },
     "metadata": {
      "needs_background": "light"
     },
     "output_type": "display_data"
    },
    {
     "data": {
      "image/png": "[encoded data removed]",
      "text/plain": [
       "<Figure size 432x288 with 2 Axes>"
      ]
     },
     "metadata": {
      "needs_background": "light"
     },
     "output_type": "display_data"
    },
    {
     "data": {
      "image/png": "[encoded data removed]",
      "text/plain": [
       "<Figure size 432x288 with 2 Axes>"
      ]
     },
     "metadata": {
      "needs_background": "light"
     },
     "output_type": "display_data"
    }
   ],
   "source": [
    "random_forest(X_train, X_test, y_train, y_test, cv=5)"
   ]
  },
  {
   "cell_type": "markdown",
   "metadata": {},
   "source": [
    "### Bagging Classifier"
   ]
  },
  {
   "cell_type": "code",
   "execution_count": null,
   "metadata": {
    "ExecuteTime": {
     "start_time": "2021-12-08T22:46:48.805Z"
    }
   },
   "outputs": [],
   "source": [
    "# bagged(X_train, X_test, y_train, y_test, cv=5)"
   ]
  },
  {
   "cell_type": "markdown",
   "metadata": {},
   "source": [
    "### XGboost"
   ]
  },
  {
   "cell_type": "code",
   "execution_count": 11,
   "metadata": {
    "ExecuteTime": {
     "end_time": "2021-12-09T03:37:29.972023Z",
     "start_time": "2021-12-09T03:17:43.138966Z"
    }
   },
   "outputs": [
    {
     "name": "stdout",
     "output_type": "stream",
     "text": [
      "XGBoost Learning Rate: 0.1\n",
      "XGBoost Max Depth: 4\n",
      "XGBoost Min Child Weight: 3\n",
      "XGBoost Subsample: 1\n",
      "XGBoost Estimators: 500\n",
      "Mean Cross-Val Score: 0.8657131487376916\n",
      "Train Mean Accuracy Score: 1.0\n",
      "Test Mean Accuracy Score: 0.8507462686567164\n",
      "Recall Score: 0.8913043478260869\n",
      "Precision Score: 0.8913043478260869\n",
      "F1 score: 0.8913043478260869\n"
     ]
    },
    {
     "data": {
      "image/png": "[encoded data removed]",
      "text/plain": [
       "<Figure size 432x288 with 1 Axes>"
      ]
     },
     "metadata": {
      "needs_background": "light"
     },
     "output_type": "display_data"
    },
    {
     "data": {
      "image/png": "[encoded data removed]",
      "text/plain": [
       "<Figure size 432x288 with 2 Axes>"
      ]
     },
     "metadata": {
      "needs_background": "light"
     },
     "output_type": "display_data"
    },
    {
     "data": {
      "image/png": "[encoded data removed]",
      "text/plain": [
       "<Figure size 432x288 with 2 Axes>"
      ]
     },
     "metadata": {
      "needs_background": "light"
     },
     "output_type": "display_data"
    }
   ],
   "source": [
    "xgboost(X_train, X_test, y_train, y_test, cv=5)"
   ]
  }
 ],
 "metadata": {
  "kernelspec": {
   "display_name": "Python (learn-env)",
   "language": "python",
   "name": "learn-env"
  },
  "language_info": {
   "codemirror_mode": {
    "name": "ipython",
    "version": 3
   },
   "file_extension": ".py",
   "mimetype": "text/x-python",
   "name": "python",
   "nbconvert_exporter": "python",
   "pygments_lexer": "ipython3",
   "version": "3.8.5"
  }
 },
 "nbformat": 4,
 "nbformat_minor": 4
}
