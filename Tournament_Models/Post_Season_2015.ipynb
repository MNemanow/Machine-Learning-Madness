{
 "cells": [
  {
   "cell_type": "code",
   "execution_count": 9,
   "metadata": {
    "ExecuteTime": {
     "end_time": "2021-12-09T03:20:31.168430Z",
     "start_time": "2021-12-09T03:20:31.147627Z"
    }
   },
   "outputs": [],
   "source": [
    "# Import the relevant packages\n",
    "import pandas as pd\n",
    "import numpy as np\n",
    "import matplotlib.pyplot as plt\n",
    "from sklearn.linear_model import LogisticRegression\n",
    "from sklearn.model_selection import cross_val_score, train_test_split,GridSearchCV\n",
    "from sklearn.metrics import plot_confusion_matrix, plot_roc_curve, accuracy_score, \\\n",
    "recall_score, precision_score, f1_score\n",
    "from sklearn.neighbors import KNeighborsClassifier\n",
    "from sklearn.preprocessing import StandardScaler\n",
    "from sklearn.tree import DecisionTreeClassifier, plot_tree\n",
    "from sklearn.ensemble import BaggingClassifier, RandomForestClassifier\n",
    "from sklearn.datasets import load_iris\n",
    "from sklearn.ensemble import AdaBoostClassifier, GradientBoostingClassifier\n",
    "from xgboost import XGBClassifier\n",
    "import statsmodels.api as sm\n",
    "from sklearn.feature_selection import RFECV\n",
    "\n",
    "import warnings\n",
    "warnings.filterwarnings(\"ignore\")"
   ]
  },
  {
   "cell_type": "code",
   "execution_count": 10,
   "metadata": {
    "ExecuteTime": {
     "end_time": "2021-12-09T03:20:31.189570Z",
     "start_time": "2021-12-09T03:20:31.180486Z"
    }
   },
   "outputs": [],
   "source": [
    "#Import functions notebook and load data set here\n",
    "from function_notebook_1 import *"
   ]
  },
  {
   "cell_type": "code",
   "execution_count": 11,
   "metadata": {
    "ExecuteTime": {
     "end_time": "2021-12-09T03:20:31.535612Z",
     "start_time": "2021-12-09T03:20:31.196335Z"
    }
   },
   "outputs": [],
   "source": [
    "df = pd.read_csv('data/regularseason16.csv').drop('Unnamed: 0', axis = 1)\n",
    "df2 = pd.read_csv('data/postseason16.csv').drop(['Unnamed: 0','w_loc'], axis = 1)\n",
    "\n",
    "df2['w_loc_H'] = 0\n",
    "df2['w_loc_N'] = 1\n"
   ]
  },
  {
   "cell_type": "code",
   "execution_count": 12,
   "metadata": {
    "ExecuteTime": {
     "end_time": "2021-12-09T03:20:31.723429Z",
     "start_time": "2021-12-09T03:20:31.538854Z"
    }
   },
   "outputs": [
    {
     "data": {
      "text/html": [
       "<div>\n",
       "<style scoped>\n",
       "    .dataframe tbody tr th:only-of-type {\n",
       "        vertical-align: middle;\n",
       "    }\n",
       "\n",
       "    .dataframe tbody tr th {\n",
       "        vertical-align: top;\n",
       "    }\n",
       "\n",
       "    .dataframe thead th {\n",
       "        text-align: right;\n",
       "    }\n",
       "</style>\n",
       "<table border=\"1\" class=\"dataframe\">\n",
       "  <thead>\n",
       "    <tr style=\"text-align: right;\">\n",
       "      <th></th>\n",
       "      <th>W_TeamID</th>\n",
       "      <th>W_Score</th>\n",
       "      <th>W_FGM</th>\n",
       "      <th>W_FGA</th>\n",
       "      <th>W_FGM3</th>\n",
       "      <th>W_FGA3</th>\n",
       "      <th>W_FTM</th>\n",
       "      <th>W_FTA</th>\n",
       "      <th>W_OR</th>\n",
       "      <th>W_DR</th>\n",
       "      <th>...</th>\n",
       "      <th>L_Opp_3Pr</th>\n",
       "      <th>L_Opp_TR</th>\n",
       "      <th>L_Opp_ATOr</th>\n",
       "      <th>L_Opp_Ast_%</th>\n",
       "      <th>L_Opp_Stl_%</th>\n",
       "      <th>L_Opp_Blk_%</th>\n",
       "      <th>L_Opp_TO_r</th>\n",
       "      <th>fav_win</th>\n",
       "      <th>w_loc_H</th>\n",
       "      <th>w_loc_N</th>\n",
       "    </tr>\n",
       "  </thead>\n",
       "  <tbody>\n",
       "    <tr>\n",
       "      <th>0</th>\n",
       "      <td>1169.0</td>\n",
       "      <td>71.000000</td>\n",
       "      <td>26.000000</td>\n",
       "      <td>55.000000</td>\n",
       "      <td>4.000000</td>\n",
       "      <td>12.000000</td>\n",
       "      <td>15.000000</td>\n",
       "      <td>31.000000</td>\n",
       "      <td>13.000000</td>\n",
       "      <td>23.000000</td>\n",
       "      <td>...</td>\n",
       "      <td>0.358610</td>\n",
       "      <td>40.000000</td>\n",
       "      <td>0.933333</td>\n",
       "      <td>0.608696</td>\n",
       "      <td>0.025357</td>\n",
       "      <td>0.070175</td>\n",
       "      <td>0.183094</td>\n",
       "      <td>False</td>\n",
       "      <td>0</td>\n",
       "      <td>1</td>\n",
       "    </tr>\n",
       "    <tr>\n",
       "      <th>1</th>\n",
       "      <td>1176.0</td>\n",
       "      <td>58.000000</td>\n",
       "      <td>22.000000</td>\n",
       "      <td>42.000000</td>\n",
       "      <td>7.000000</td>\n",
       "      <td>17.000000</td>\n",
       "      <td>7.000000</td>\n",
       "      <td>10.000000</td>\n",
       "      <td>3.000000</td>\n",
       "      <td>16.000000</td>\n",
       "      <td>...</td>\n",
       "      <td>0.422303</td>\n",
       "      <td>44.000000</td>\n",
       "      <td>0.789474</td>\n",
       "      <td>0.789474</td>\n",
       "      <td>0.085084</td>\n",
       "      <td>0.046875</td>\n",
       "      <td>0.200475</td>\n",
       "      <td>True</td>\n",
       "      <td>0</td>\n",
       "      <td>0</td>\n",
       "    </tr>\n",
       "    <tr>\n",
       "      <th>2</th>\n",
       "      <td>1296.0</td>\n",
       "      <td>83.000000</td>\n",
       "      <td>24.000000</td>\n",
       "      <td>54.000000</td>\n",
       "      <td>11.000000</td>\n",
       "      <td>24.000000</td>\n",
       "      <td>24.000000</td>\n",
       "      <td>34.000000</td>\n",
       "      <td>11.000000</td>\n",
       "      <td>28.000000</td>\n",
       "      <td>...</td>\n",
       "      <td>0.348457</td>\n",
       "      <td>34.000000</td>\n",
       "      <td>1.500000</td>\n",
       "      <td>0.625000</td>\n",
       "      <td>0.085444</td>\n",
       "      <td>0.053571</td>\n",
       "      <td>0.126783</td>\n",
       "      <td>True</td>\n",
       "      <td>1</td>\n",
       "      <td>0</td>\n",
       "    </tr>\n",
       "    <tr>\n",
       "      <th>3</th>\n",
       "      <td>1454.0</td>\n",
       "      <td>71.000000</td>\n",
       "      <td>21.000000</td>\n",
       "      <td>49.000000</td>\n",
       "      <td>9.000000</td>\n",
       "      <td>27.000000</td>\n",
       "      <td>20.000000</td>\n",
       "      <td>21.000000</td>\n",
       "      <td>12.000000</td>\n",
       "      <td>19.000000</td>\n",
       "      <td>...</td>\n",
       "      <td>0.438206</td>\n",
       "      <td>51.000000</td>\n",
       "      <td>0.761905</td>\n",
       "      <td>0.800000</td>\n",
       "      <td>0.063308</td>\n",
       "      <td>0.064516</td>\n",
       "      <td>0.223345</td>\n",
       "      <td>True</td>\n",
       "      <td>1</td>\n",
       "      <td>0</td>\n",
       "    </tr>\n",
       "    <tr>\n",
       "      <th>4</th>\n",
       "      <td>1153.0</td>\n",
       "      <td>97.000000</td>\n",
       "      <td>36.000000</td>\n",
       "      <td>59.000000</td>\n",
       "      <td>6.000000</td>\n",
       "      <td>14.000000</td>\n",
       "      <td>19.000000</td>\n",
       "      <td>27.000000</td>\n",
       "      <td>11.000000</td>\n",
       "      <td>32.000000</td>\n",
       "      <td>...</td>\n",
       "      <td>0.417838</td>\n",
       "      <td>29.000000</td>\n",
       "      <td>1.785714</td>\n",
       "      <td>0.862069</td>\n",
       "      <td>0.050283</td>\n",
       "      <td>0.016667</td>\n",
       "      <td>0.183667</td>\n",
       "      <td>True</td>\n",
       "      <td>1</td>\n",
       "      <td>0</td>\n",
       "    </tr>\n",
       "    <tr>\n",
       "      <th>...</th>\n",
       "      <td>...</td>\n",
       "      <td>...</td>\n",
       "      <td>...</td>\n",
       "      <td>...</td>\n",
       "      <td>...</td>\n",
       "      <td>...</td>\n",
       "      <td>...</td>\n",
       "      <td>...</td>\n",
       "      <td>...</td>\n",
       "      <td>...</td>\n",
       "      <td>...</td>\n",
       "      <td>...</td>\n",
       "      <td>...</td>\n",
       "      <td>...</td>\n",
       "      <td>...</td>\n",
       "      <td>...</td>\n",
       "      <td>...</td>\n",
       "      <td>...</td>\n",
       "      <td>...</td>\n",
       "      <td>...</td>\n",
       "      <td>...</td>\n",
       "    </tr>\n",
       "    <tr>\n",
       "      <th>5158</th>\n",
       "      <td>1114.0</td>\n",
       "      <td>70.000000</td>\n",
       "      <td>25.000000</td>\n",
       "      <td>54.866667</td>\n",
       "      <td>7.400000</td>\n",
       "      <td>19.033333</td>\n",
       "      <td>12.600000</td>\n",
       "      <td>17.200000</td>\n",
       "      <td>8.700000</td>\n",
       "      <td>24.100000</td>\n",
       "      <td>...</td>\n",
       "      <td>0.328170</td>\n",
       "      <td>35.366667</td>\n",
       "      <td>1.038348</td>\n",
       "      <td>0.480218</td>\n",
       "      <td>0.066300</td>\n",
       "      <td>0.053899</td>\n",
       "      <td>0.140778</td>\n",
       "      <td>True</td>\n",
       "      <td>0</td>\n",
       "      <td>1</td>\n",
       "    </tr>\n",
       "    <tr>\n",
       "      <th>5159</th>\n",
       "      <td>1163.0</td>\n",
       "      <td>73.454545</td>\n",
       "      <td>26.606061</td>\n",
       "      <td>57.909091</td>\n",
       "      <td>7.000000</td>\n",
       "      <td>19.272727</td>\n",
       "      <td>13.242424</td>\n",
       "      <td>16.878788</td>\n",
       "      <td>9.666667</td>\n",
       "      <td>26.878788</td>\n",
       "      <td>...</td>\n",
       "      <td>0.269938</td>\n",
       "      <td>38.424242</td>\n",
       "      <td>0.886752</td>\n",
       "      <td>0.516812</td>\n",
       "      <td>0.078556</td>\n",
       "      <td>0.076886</td>\n",
       "      <td>0.164423</td>\n",
       "      <td>True</td>\n",
       "      <td>0</td>\n",
       "      <td>1</td>\n",
       "    </tr>\n",
       "    <tr>\n",
       "      <th>5160</th>\n",
       "      <td>1246.0</td>\n",
       "      <td>79.606061</td>\n",
       "      <td>28.575758</td>\n",
       "      <td>59.727273</td>\n",
       "      <td>6.848485</td>\n",
       "      <td>18.575758</td>\n",
       "      <td>15.606061</td>\n",
       "      <td>22.818182</td>\n",
       "      <td>13.060606</td>\n",
       "      <td>25.818182</td>\n",
       "      <td>...</td>\n",
       "      <td>0.342455</td>\n",
       "      <td>35.030303</td>\n",
       "      <td>0.898947</td>\n",
       "      <td>0.565563</td>\n",
       "      <td>0.060681</td>\n",
       "      <td>0.057436</td>\n",
       "      <td>0.180406</td>\n",
       "      <td>True</td>\n",
       "      <td>0</td>\n",
       "      <td>1</td>\n",
       "    </tr>\n",
       "    <tr>\n",
       "      <th>5161</th>\n",
       "      <td>1277.0</td>\n",
       "      <td>80.181818</td>\n",
       "      <td>28.909091</td>\n",
       "      <td>59.515152</td>\n",
       "      <td>9.151515</td>\n",
       "      <td>21.030303</td>\n",
       "      <td>13.212121</td>\n",
       "      <td>18.151515</td>\n",
       "      <td>12.333333</td>\n",
       "      <td>29.575758</td>\n",
       "      <td>...</td>\n",
       "      <td>0.290751</td>\n",
       "      <td>29.969697</td>\n",
       "      <td>1.264516</td>\n",
       "      <td>0.509753</td>\n",
       "      <td>0.076715</td>\n",
       "      <td>0.049870</td>\n",
       "      <td>0.121944</td>\n",
       "      <td>True</td>\n",
       "      <td>0</td>\n",
       "      <td>1</td>\n",
       "    </tr>\n",
       "    <tr>\n",
       "      <th>5162</th>\n",
       "      <td>1386.0</td>\n",
       "      <td>77.303030</td>\n",
       "      <td>27.000000</td>\n",
       "      <td>60.121212</td>\n",
       "      <td>7.151515</td>\n",
       "      <td>21.818182</td>\n",
       "      <td>16.151515</td>\n",
       "      <td>22.454545</td>\n",
       "      <td>10.303030</td>\n",
       "      <td>28.393939</td>\n",
       "      <td>...</td>\n",
       "      <td>0.258674</td>\n",
       "      <td>34.666667</td>\n",
       "      <td>0.803089</td>\n",
       "      <td>0.531290</td>\n",
       "      <td>0.068116</td>\n",
       "      <td>0.066895</td>\n",
       "      <td>0.196473</td>\n",
       "      <td>False</td>\n",
       "      <td>0</td>\n",
       "      <td>1</td>\n",
       "    </tr>\n",
       "  </tbody>\n",
       "</table>\n",
       "<p>5163 rows × 109 columns</p>\n",
       "</div>"
      ],
      "text/plain": [
       "      W_TeamID    W_Score      W_FGM      W_FGA     W_FGM3     W_FGA3  \\\n",
       "0       1169.0  71.000000  26.000000  55.000000   4.000000  12.000000   \n",
       "1       1176.0  58.000000  22.000000  42.000000   7.000000  17.000000   \n",
       "2       1296.0  83.000000  24.000000  54.000000  11.000000  24.000000   \n",
       "3       1454.0  71.000000  21.000000  49.000000   9.000000  27.000000   \n",
       "4       1153.0  97.000000  36.000000  59.000000   6.000000  14.000000   \n",
       "...        ...        ...        ...        ...        ...        ...   \n",
       "5158    1114.0  70.000000  25.000000  54.866667   7.400000  19.033333   \n",
       "5159    1163.0  73.454545  26.606061  57.909091   7.000000  19.272727   \n",
       "5160    1246.0  79.606061  28.575758  59.727273   6.848485  18.575758   \n",
       "5161    1277.0  80.181818  28.909091  59.515152   9.151515  21.030303   \n",
       "5162    1386.0  77.303030  27.000000  60.121212   7.151515  21.818182   \n",
       "\n",
       "          W_FTM      W_FTA       W_OR       W_DR  ...  L_Opp_3Pr   L_Opp_TR  \\\n",
       "0     15.000000  31.000000  13.000000  23.000000  ...   0.358610  40.000000   \n",
       "1      7.000000  10.000000   3.000000  16.000000  ...   0.422303  44.000000   \n",
       "2     24.000000  34.000000  11.000000  28.000000  ...   0.348457  34.000000   \n",
       "3     20.000000  21.000000  12.000000  19.000000  ...   0.438206  51.000000   \n",
       "4     19.000000  27.000000  11.000000  32.000000  ...   0.417838  29.000000   \n",
       "...         ...        ...        ...        ...  ...        ...        ...   \n",
       "5158  12.600000  17.200000   8.700000  24.100000  ...   0.328170  35.366667   \n",
       "5159  13.242424  16.878788   9.666667  26.878788  ...   0.269938  38.424242   \n",
       "5160  15.606061  22.818182  13.060606  25.818182  ...   0.342455  35.030303   \n",
       "5161  13.212121  18.151515  12.333333  29.575758  ...   0.290751  29.969697   \n",
       "5162  16.151515  22.454545  10.303030  28.393939  ...   0.258674  34.666667   \n",
       "\n",
       "      L_Opp_ATOr  L_Opp_Ast_%  L_Opp_Stl_%  L_Opp_Blk_%  L_Opp_TO_r  fav_win  \\\n",
       "0       0.933333     0.608696     0.025357     0.070175    0.183094    False   \n",
       "1       0.789474     0.789474     0.085084     0.046875    0.200475     True   \n",
       "2       1.500000     0.625000     0.085444     0.053571    0.126783     True   \n",
       "3       0.761905     0.800000     0.063308     0.064516    0.223345     True   \n",
       "4       1.785714     0.862069     0.050283     0.016667    0.183667     True   \n",
       "...          ...          ...          ...          ...         ...      ...   \n",
       "5158    1.038348     0.480218     0.066300     0.053899    0.140778     True   \n",
       "5159    0.886752     0.516812     0.078556     0.076886    0.164423     True   \n",
       "5160    0.898947     0.565563     0.060681     0.057436    0.180406     True   \n",
       "5161    1.264516     0.509753     0.076715     0.049870    0.121944     True   \n",
       "5162    0.803089     0.531290     0.068116     0.066895    0.196473    False   \n",
       "\n",
       "      w_loc_H  w_loc_N  \n",
       "0           0        1  \n",
       "1           0        0  \n",
       "2           1        0  \n",
       "3           1        0  \n",
       "4           1        0  \n",
       "...       ...      ...  \n",
       "5158        0        1  \n",
       "5159        0        1  \n",
       "5160        0        1  \n",
       "5161        0        1  \n",
       "5162        0        1  \n",
       "\n",
       "[5163 rows x 109 columns]"
      ]
     },
     "execution_count": 12,
     "metadata": {},
     "output_type": "execute_result"
    }
   ],
   "source": [
    "df = pd.get_dummies(df, columns=['w_loc'], drop_first=True)\n",
    "df"
   ]
  },
  {
   "cell_type": "code",
   "execution_count": 13,
   "metadata": {
    "ExecuteTime": {
     "end_time": "2021-12-09T03:20:31.767150Z",
     "start_time": "2021-12-09T03:20:31.742125Z"
    }
   },
   "outputs": [],
   "source": [
    "X_train=df.drop('fav_win',axis=1)\n",
    "X_test=df2.drop('fav_win',axis=1)\n",
    "y_train=df['fav_win']\n",
    "y_test = df2['fav_win']"
   ]
  },
  {
   "cell_type": "code",
   "execution_count": 14,
   "metadata": {
    "ExecuteTime": {
     "end_time": "2021-12-09T03:20:31.883773Z",
     "start_time": "2021-12-09T03:20:31.800011Z"
    }
   },
   "outputs": [],
   "source": [
    "ss = StandardScaler()\n",
    "X_train_scaled = ss.fit_transform(X_train)\n",
    "X_test_scaled = ss.transform(X_test)"
   ]
  },
  {
   "cell_type": "code",
   "execution_count": 15,
   "metadata": {
    "ExecuteTime": {
     "end_time": "2021-12-09T03:20:31.899528Z",
     "start_time": "2021-12-09T03:20:31.890185Z"
    }
   },
   "outputs": [],
   "source": [
    "X_train_scaled = pd.DataFrame(X_train_scaled, columns=X_train.columns)\n",
    "X_test_scaled = pd.DataFrame(X_test_scaled, columns=X_test.columns)"
   ]
  },
  {
   "cell_type": "markdown",
   "metadata": {},
   "source": [
    "### Logistic Regression"
   ]
  },
  {
   "cell_type": "code",
   "execution_count": 16,
   "metadata": {
    "ExecuteTime": {
     "end_time": "2021-12-09T03:21:48.082833Z",
     "start_time": "2021-12-09T03:20:31.927210Z"
    }
   },
   "outputs": [],
   "source": [
    "log_feat=feature_select(X_train_scaled,y_train,LogisticRegression,min_features=10)\n",
    "X_train_best_log = X_train_scaled[log_feat]\n",
    "X_test_best_log = X_test_scaled[log_feat]"
   ]
  },
  {
   "cell_type": "code",
   "execution_count": 17,
   "metadata": {
    "ExecuteTime": {
     "end_time": "2021-12-09T03:23:52.679165Z",
     "start_time": "2021-12-09T03:21:48.092330Z"
    }
   },
   "outputs": [
    {
     "name": "stdout",
     "output_type": "stream",
     "text": [
      "Penalty: l2\n",
      "Solver: sag\n",
      "Mean Cross-Val Score: 0.8522310272631082\n",
      "Train Mean Accuracy: 0.8638388533798179\n",
      "Test Mean Accuracy: 0.7910447761194029\n",
      "Recall Score: 0.9375\n",
      "Precision Score: 0.8035714285714286\n",
      "F1 Score: 0.8653846153846154\n"
     ]
    },
    {
     "data": {
      "image/png": "[encoded data removed]",
      "text/plain": [
       "<Figure size 432x288 with 1 Axes>"
      ]
     },
     "metadata": {
      "needs_background": "light"
     },
     "output_type": "display_data"
    },
    {
     "data": {
      "image/png": "[encoded data removed]",
      "text/plain": [
       "<Figure size 432x288 with 2 Axes>"
      ]
     },
     "metadata": {
      "needs_background": "light"
     },
     "output_type": "display_data"
    },
    {
     "data": {
      "image/png": "[encoded data removed]",
      "text/plain": [
       "<Figure size 432x288 with 2 Axes>"
      ]
     },
     "metadata": {
      "needs_background": "light"
     },
     "output_type": "display_data"
    }
   ],
   "source": [
    "logreg(X_train_best_log, X_test_best_log, y_train, y_test)"
   ]
  },
  {
   "cell_type": "markdown",
   "metadata": {},
   "source": [
    "### KNN"
   ]
  },
  {
   "cell_type": "code",
   "execution_count": 18,
   "metadata": {
    "ExecuteTime": {
     "end_time": "2021-12-09T03:23:52.719439Z",
     "start_time": "2021-12-09T03:23:52.697801Z"
    }
   },
   "outputs": [],
   "source": [
    "#knn(X_train_scaled, X_test_scaled, y_train, y_test)"
   ]
  },
  {
   "cell_type": "markdown",
   "metadata": {},
   "source": [
    "### Decision Tree"
   ]
  },
  {
   "cell_type": "code",
   "execution_count": 19,
   "metadata": {
    "ExecuteTime": {
     "end_time": "2021-12-09T03:23:52.730963Z",
     "start_time": "2021-12-09T03:23:52.724718Z"
    }
   },
   "outputs": [],
   "source": [
    "#dtree_feats=feature_select(X_train_scaled,y_train,DecisionTreeClassifier,min_features=10)"
   ]
  },
  {
   "cell_type": "code",
   "execution_count": 20,
   "metadata": {
    "ExecuteTime": {
     "end_time": "2021-12-09T03:23:52.741346Z",
     "start_time": "2021-12-09T03:23:52.735063Z"
    }
   },
   "outputs": [],
   "source": [
    "#X_train_best_dtree=X_train[dtree_feats]\n",
    "#X_test_best_dtree=X_test[dtree_feats]"
   ]
  },
  {
   "cell_type": "code",
   "execution_count": 21,
   "metadata": {
    "ExecuteTime": {
     "end_time": "2021-12-09T03:23:52.756462Z",
     "start_time": "2021-12-09T03:23:52.747853Z"
    }
   },
   "outputs": [],
   "source": [
    "#dtree(X_train_best_dtree, X_test_best_dtree, y_train, y_test)"
   ]
  },
  {
   "cell_type": "markdown",
   "metadata": {},
   "source": [
    "### Random Forest"
   ]
  },
  {
   "cell_type": "code",
   "execution_count": 22,
   "metadata": {
    "ExecuteTime": {
     "end_time": "2021-12-09T03:46:55.941405Z",
     "start_time": "2021-12-09T03:23:52.760649Z"
    }
   },
   "outputs": [],
   "source": [
    "random_forest_feat=feature_select(X_train_scaled,y_train,RandomForestClassifier,min_features=10)\n",
    "X_train_best_rforest=X_train_scaled[random_forest_feat]\n",
    "X_test_best_rforest=X_test_scaled[random_forest_feat]"
   ]
  },
  {
   "cell_type": "code",
   "execution_count": 23,
   "metadata": {
    "ExecuteTime": {
     "end_time": "2021-12-09T04:30:19.567565Z",
     "start_time": "2021-12-09T03:46:55.945020Z"
    }
   },
   "outputs": [
    {
     "name": "stdout",
     "output_type": "stream",
     "text": [
      "Number of Trees: 100\n",
      "Criterion: entropy\n",
      "Mean Cross-Val Score: 0.8590092828144114\n",
      "Train Mean Accuracy: 1.0\n",
      "Test Mean Accuracy: 0.8059701492537313\n",
      "Recall Score: 0.9375\n",
      "Precision Score: 0.8181818181818182\n",
      "F1 score: 0.8737864077669902\n"
     ]
    },
    {
     "data": {
      "image/png": "[encoded data removed]",
      "text/plain": [
       "<Figure size 432x288 with 1 Axes>"
      ]
     },
     "metadata": {
      "needs_background": "light"
     },
     "output_type": "display_data"
    },
    {
     "data": {
      "image/png": "[encoded data removed]",
      "text/plain": [
       "<Figure size 432x288 with 2 Axes>"
      ]
     },
     "metadata": {
      "needs_background": "light"
     },
     "output_type": "display_data"
    },
    {
     "data": {
      "image/png": "[encoded data removed]",
      "text/plain": [
       "<Figure size 432x288 with 2 Axes>"
      ]
     },
     "metadata": {
      "needs_background": "light"
     },
     "output_type": "display_data"
    }
   ],
   "source": [
    "random_forest(X_train, X_test, y_train, y_test, cv=5)"
   ]
  },
  {
   "cell_type": "markdown",
   "metadata": {},
   "source": [
    "### Bagging Classifier"
   ]
  },
  {
   "cell_type": "code",
   "execution_count": 24,
   "metadata": {
    "ExecuteTime": {
     "end_time": "2021-12-09T04:30:19.631744Z",
     "start_time": "2021-12-09T04:30:19.619267Z"
    }
   },
   "outputs": [],
   "source": [
    "#bagged(X_train, X_test, y_train, y_test, cv=5)"
   ]
  },
  {
   "cell_type": "markdown",
   "metadata": {},
   "source": [
    "### XGboost"
   ]
  },
  {
   "cell_type": "code",
   "execution_count": 25,
   "metadata": {
    "ExecuteTime": {
     "end_time": "2021-12-09T05:01:19.038466Z",
     "start_time": "2021-12-09T04:30:19.668789Z"
    }
   },
   "outputs": [
    {
     "name": "stdout",
     "output_type": "stream",
     "text": [
      "XGBoost Learning Rate: 0.05\n",
      "XGBoost Max Depth: 4\n",
      "XGBoost Min Child Weight: 3\n",
      "XGBoost Subsample: 1\n",
      "XGBoost Estimators: 500\n",
      "Mean Cross-Val Score: 0.8704366374749544\n",
      "Train Mean Accuracy Score: 0.9918651946542708\n",
      "Test Mean Accuracy Score: 0.7910447761194029\n",
      "Recall Score: 0.9375\n",
      "Precision Score: 0.8035714285714286\n",
      "F1 score: 0.8653846153846154\n"
     ]
    },
    {
     "data": {
      "image/png": "[encoded data removed]",
      "text/plain": [
       "<Figure size 432x288 with 1 Axes>"
      ]
     },
     "metadata": {
      "needs_background": "light"
     },
     "output_type": "display_data"
    },
    {
     "data": {
      "image/png": "[encoded data removed]",
      "text/plain": [
       "<Figure size 432x288 with 2 Axes>"
      ]
     },
     "metadata": {
      "needs_background": "light"
     },
     "output_type": "display_data"
    },
    {
     "data": {
      "image/png": "[encoded data removed]",
      "text/plain": [
       "<Figure size 432x288 with 2 Axes>"
      ]
     },
     "metadata": {
      "needs_background": "light"
     },
     "output_type": "display_data"
    }
   ],
   "source": [
    "xgboost(X_train, X_test, y_train, y_test, cv=5)"
   ]
  }
 ],
 "metadata": {
  "kernelspec": {
   "display_name": "Python (learn-env)",
   "language": "python",
   "name": "learn-env"
  },
  "language_info": {
   "codemirror_mode": {
    "name": "ipython",
    "version": 3
   },
   "file_extension": ".py",
   "mimetype": "text/x-python",
   "name": "python",
   "nbconvert_exporter": "python",
   "pygments_lexer": "ipython3",
   "version": "3.8.5"
  }
 },
 "nbformat": 4,
 "nbformat_minor": 4
}
