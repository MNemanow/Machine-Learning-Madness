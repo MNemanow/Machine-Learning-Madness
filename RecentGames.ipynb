{
 "cells": [
  {
   "cell_type": "code",
   "execution_count": 1,
   "metadata": {},
   "outputs": [],
   "source": [
    "from datetime import datetime\n",
    "import pandas as pd\n",
    "from sportsipy.ncaab.boxscore import Boxscore\n",
    "from sportsipy.ncaab.boxscore import Boxscores "
   ]
  },
  {
   "cell_type": "code",
   "execution_count": 39,
   "metadata": {},
   "outputs": [],
   "source": []
  },
  {
   "cell_type": "code",
   "execution_count": 40,
   "metadata": {},
   "outputs": [],
   "source": [
    "schedule = games.games"
   ]
  },
  {
   "cell_type": "code",
   "execution_count": 44,
   "metadata": {},
   "outputs": [],
   "source": [
    "def get_current_games(start_date, end_date):\n",
    "    \n",
    "    games = Boxscores(start_date, end_date)\n",
    "    schedule = games.games\n",
    "\n",
    "    game_days = []\n",
    "    for day in schedule.values():\n",
    "        for game in day:\n",
    "            game_days.append(game['boxscore'])\n",
    "            \n",
    "    season_games = []\n",
    "\n",
    "    for i in game_days:\n",
    "        temp = Boxscore(i).dataframe\n",
    "        season_games.append(temp)\n",
    "\n",
    "    df = pd.concat(season_games, axis = 0).reset_index()\n",
    "    to_keep = ['index', 'date', 'winning_name', 'losing_name', 'away_points', 'home_points', 'winner','location', 'home_field_goals','home_field_goal_attempts', 'home_three_point_field_goals', 'home_three_point_field_goal_attempts', 'home_free_throws', 'home_free_throw_attempts'\n",
    "           , 'home_offensive_rebounds', 'home_defensive_rebounds', 'home_assists', 'home_turnovers', 'home_steals', 'home_blocks', 'home_personal_fouls',\n",
    "           'away_field_goals','away_field_goal_attempts', 'away_three_point_field_goals', 'away_three_point_field_goal_attempts', 'away_free_throws', 'away_free_throw_attempts'\n",
    "           , 'away_offensive_rebounds', 'away_defensive_rebounds', 'away_assists','away_field_goal_attempts', 'away_turnovers', 'away_steals', 'away_blocks', 'away_personal_fouls']\n",
    "    df = df[to_keep]\n",
    "    \n",
    "    return df"
   ]
  },
  {
   "cell_type": "code",
   "execution_count": 46,
   "metadata": {},
   "outputs": [],
   "source": [
    "df = get_current_games(datetime(2021,11,11),datetime(2021,11,11))"
   ]
  },
  {
   "cell_type": "code",
   "execution_count": null,
   "metadata": {},
   "outputs": [],
   "source": []
  },
  {
   "cell_type": "code",
   "execution_count": 50,
   "metadata": {},
   "outputs": [
    {
     "data": {
      "text/plain": [
       "Index(['index', 'date', 'winning_name', 'losing_name', 'away_points',\n",
       "       'home_points', 'winner', 'location', 'away_defensive_rebounds',\n",
       "       'home_field_goals', 'home_field_goal_attempts',\n",
       "       'home_three_point_field_goals', 'home_three_point_field_goal_attempts',\n",
       "       'home_free_throws', 'home_free_throw_attempts',\n",
       "       'home_offensive_rebounds', 'home_defensive_rebounds', 'home_assists',\n",
       "       'away_field_goal_attempts', 'home_turnovers', 'home_steals',\n",
       "       'home_blocks', 'home_personal_fouls', 'away_field_goals',\n",
       "       'away_field_goal_attempts', 'away_three_point_field_goals',\n",
       "       'away_three_point_field_goal_attempts', 'away_free_throws',\n",
       "       'away_free_throw_attempts', 'away_offensive_rebounds',\n",
       "       'away_defensive_rebounds', 'away_assists', 'away_field_goal_attempts',\n",
       "       'away_turnovers', 'away_steals', 'away_blocks', 'away_personal_fouls'],\n",
       "      dtype='object')"
      ]
     },
     "execution_count": 50,
     "metadata": {},
     "output_type": "execute_result"
    }
   ],
   "source": [
    "df.columns"
   ]
  },
  {
   "cell_type": "code",
   "execution_count": 74,
   "metadata": {},
   "outputs": [
    {
     "ename": "TypeError",
     "evalue": "Cannot convert bool to numpy.ndarray",
     "output_type": "error",
     "traceback": [
      "\u001b[1;31m---------------------------------------------------------------------------\u001b[0m",
      "\u001b[1;31mTypeError\u001b[0m                                 Traceback (most recent call last)",
      "\u001b[1;32m<ipython-input-74-690253d31c85>\u001b[0m in \u001b[0;36m<module>\u001b[1;34m\u001b[0m\n\u001b[0;32m      5\u001b[0m         \u001b[0mdf\u001b[0m\u001b[1;33m.\u001b[0m\u001b[0miloc\u001b[0m\u001b[1;33m[\u001b[0m\u001b[0mi\u001b[0m\u001b[1;33m]\u001b[0m\u001b[1;33m\u001b[0m\u001b[1;33m\u001b[0m\u001b[0m\n\u001b[0;32m      6\u001b[0m     \u001b[1;32melif\u001b[0m \u001b[0mdf\u001b[0m\u001b[1;33m[\u001b[0m\u001b[1;34m'winner'\u001b[0m\u001b[1;33m]\u001b[0m\u001b[1;33m[\u001b[0m\u001b[0mi\u001b[0m\u001b[1;33m]\u001b[0m \u001b[1;33m==\u001b[0m \u001b[1;34m'Away'\u001b[0m\u001b[1;33m:\u001b[0m\u001b[1;33m\u001b[0m\u001b[1;33m\u001b[0m\u001b[0m\n\u001b[1;32m----> 7\u001b[1;33m         df.iloc[i] = df.iloc[i]['index', 'date', 'winning_name', 'losing_name', 'away_points', 'home_points', 'winner', \n\u001b[0m\u001b[0;32m      8\u001b[0m     \u001b[1;34m'location'\u001b[0m\u001b[1;33m,\u001b[0m \u001b[1;34m'away_field_goals'\u001b[0m\u001b[1;33m,\u001b[0m\u001b[1;34m'away_field_goal_attempts'\u001b[0m\u001b[1;33m,\u001b[0m \u001b[1;34m'away_three_point_field_goals'\u001b[0m\u001b[1;33m,\u001b[0m\u001b[1;33m\u001b[0m\u001b[1;33m\u001b[0m\u001b[0m\n\u001b[0;32m      9\u001b[0m     \u001b[1;34m'away_three_point_field_goal_attempts'\u001b[0m\u001b[1;33m,\u001b[0m \u001b[1;34m'away_free_throws'\u001b[0m\u001b[1;33m,\u001b[0m \u001b[1;34m'away_free_throw_attempts'\u001b[0m\u001b[1;33m,\u001b[0m\u001b[1;33m\u001b[0m\u001b[1;33m\u001b[0m\u001b[0m\n",
      "\u001b[1;32m~\\.conda\\envs\\learn-env\\lib\\site-packages\\pandas\\core\\series.py\u001b[0m in \u001b[0;36m__getitem__\u001b[1;34m(self, key)\u001b[0m\n\u001b[0;32m    886\u001b[0m             \u001b[1;32mtry\u001b[0m\u001b[1;33m:\u001b[0m\u001b[1;33m\u001b[0m\u001b[1;33m\u001b[0m\u001b[0m\n\u001b[0;32m    887\u001b[0m                 \u001b[1;31m# For labels that don't resolve as scalars like tuples and frozensets\u001b[0m\u001b[1;33m\u001b[0m\u001b[1;33m\u001b[0m\u001b[1;33m\u001b[0m\u001b[0m\n\u001b[1;32m--> 888\u001b[1;33m                 \u001b[0mresult\u001b[0m \u001b[1;33m=\u001b[0m \u001b[0mself\u001b[0m\u001b[1;33m.\u001b[0m\u001b[0m_get_value\u001b[0m\u001b[1;33m(\u001b[0m\u001b[0mkey\u001b[0m\u001b[1;33m)\u001b[0m\u001b[1;33m\u001b[0m\u001b[1;33m\u001b[0m\u001b[0m\n\u001b[0m\u001b[0;32m    889\u001b[0m \u001b[1;33m\u001b[0m\u001b[0m\n\u001b[0;32m    890\u001b[0m                 \u001b[1;32mreturn\u001b[0m \u001b[0mresult\u001b[0m\u001b[1;33m\u001b[0m\u001b[1;33m\u001b[0m\u001b[0m\n",
      "\u001b[1;32m~\\.conda\\envs\\learn-env\\lib\\site-packages\\pandas\\core\\series.py\u001b[0m in \u001b[0;36m_get_value\u001b[1;34m(self, label, takeable)\u001b[0m\n\u001b[0;32m    987\u001b[0m \u001b[1;33m\u001b[0m\u001b[0m\n\u001b[0;32m    988\u001b[0m         \u001b[1;31m# Similar to Index.get_value, but we do not fall back to positional\u001b[0m\u001b[1;33m\u001b[0m\u001b[1;33m\u001b[0m\u001b[1;33m\u001b[0m\u001b[0m\n\u001b[1;32m--> 989\u001b[1;33m         \u001b[0mloc\u001b[0m \u001b[1;33m=\u001b[0m \u001b[0mself\u001b[0m\u001b[1;33m.\u001b[0m\u001b[0mindex\u001b[0m\u001b[1;33m.\u001b[0m\u001b[0mget_loc\u001b[0m\u001b[1;33m(\u001b[0m\u001b[0mlabel\u001b[0m\u001b[1;33m)\u001b[0m\u001b[1;33m\u001b[0m\u001b[1;33m\u001b[0m\u001b[0m\n\u001b[0m\u001b[0;32m    990\u001b[0m         \u001b[1;32mreturn\u001b[0m \u001b[0mself\u001b[0m\u001b[1;33m.\u001b[0m\u001b[0mindex\u001b[0m\u001b[1;33m.\u001b[0m\u001b[0m_get_values_for_loc\u001b[0m\u001b[1;33m(\u001b[0m\u001b[0mself\u001b[0m\u001b[1;33m,\u001b[0m \u001b[0mloc\u001b[0m\u001b[1;33m,\u001b[0m \u001b[0mlabel\u001b[0m\u001b[1;33m)\u001b[0m\u001b[1;33m\u001b[0m\u001b[1;33m\u001b[0m\u001b[0m\n\u001b[0;32m    991\u001b[0m \u001b[1;33m\u001b[0m\u001b[0m\n",
      "\u001b[1;32m~\\.conda\\envs\\learn-env\\lib\\site-packages\\pandas\\core\\indexes\\base.py\u001b[0m in \u001b[0;36mget_loc\u001b[1;34m(self, key, method, tolerance)\u001b[0m\n\u001b[0;32m   2893\u001b[0m             \u001b[0mcasted_key\u001b[0m \u001b[1;33m=\u001b[0m \u001b[0mself\u001b[0m\u001b[1;33m.\u001b[0m\u001b[0m_maybe_cast_indexer\u001b[0m\u001b[1;33m(\u001b[0m\u001b[0mkey\u001b[0m\u001b[1;33m)\u001b[0m\u001b[1;33m\u001b[0m\u001b[1;33m\u001b[0m\u001b[0m\n\u001b[0;32m   2894\u001b[0m             \u001b[1;32mtry\u001b[0m\u001b[1;33m:\u001b[0m\u001b[1;33m\u001b[0m\u001b[1;33m\u001b[0m\u001b[0m\n\u001b[1;32m-> 2895\u001b[1;33m                 \u001b[1;32mreturn\u001b[0m \u001b[0mself\u001b[0m\u001b[1;33m.\u001b[0m\u001b[0m_engine\u001b[0m\u001b[1;33m.\u001b[0m\u001b[0mget_loc\u001b[0m\u001b[1;33m(\u001b[0m\u001b[0mcasted_key\u001b[0m\u001b[1;33m)\u001b[0m\u001b[1;33m\u001b[0m\u001b[1;33m\u001b[0m\u001b[0m\n\u001b[0m\u001b[0;32m   2896\u001b[0m             \u001b[1;32mexcept\u001b[0m \u001b[0mKeyError\u001b[0m \u001b[1;32mas\u001b[0m \u001b[0merr\u001b[0m\u001b[1;33m:\u001b[0m\u001b[1;33m\u001b[0m\u001b[1;33m\u001b[0m\u001b[0m\n\u001b[0;32m   2897\u001b[0m                 \u001b[1;32mraise\u001b[0m \u001b[0mKeyError\u001b[0m\u001b[1;33m(\u001b[0m\u001b[0mkey\u001b[0m\u001b[1;33m)\u001b[0m \u001b[1;32mfrom\u001b[0m \u001b[0merr\u001b[0m\u001b[1;33m\u001b[0m\u001b[1;33m\u001b[0m\u001b[0m\n",
      "\u001b[1;32mpandas\\_libs\\index.pyx\u001b[0m in \u001b[0;36mpandas._libs.index.IndexEngine.get_loc\u001b[1;34m()\u001b[0m\n",
      "\u001b[1;32mpandas\\_libs\\index.pyx\u001b[0m in \u001b[0;36mpandas._libs.index.IndexEngine.get_loc\u001b[1;34m()\u001b[0m\n",
      "\u001b[1;32mpandas\\_libs\\index.pyx\u001b[0m in \u001b[0;36mpandas._libs.index.IndexEngine._get_loc_duplicates\u001b[1;34m()\u001b[0m\n",
      "\u001b[1;32mpandas\\_libs\\index.pyx\u001b[0m in \u001b[0;36mpandas._libs.index.IndexEngine._maybe_get_bool_indexer\u001b[1;34m()\u001b[0m\n",
      "\u001b[1;31mTypeError\u001b[0m: Cannot convert bool to numpy.ndarray"
     ]
    }
   ],
   "source": [
    "update = []\n",
    "\n",
    "for i in range(len(df)):\n",
    "    df['winner'][i] == 'Away':\n",
    "        df.iloc[i] = df.iloc[i]['index', 'date', 'winning_name', 'losing_name', 'away_points', 'home_points', 'winner', \n",
    "    'location', 'away_field_goals','away_field_goal_attempts', 'away_three_point_field_goals', \n",
    "    'away_three_point_field_goal_attempts', 'away_free_throws', 'away_free_throw_attempts',\n",
    "    'away_offensive_rebounds', 'away_defensive_rebounds', 'away_assists','away_field_goal_attempts', \n",
    "    'away_turnovers', 'away_steals', 'away_blocks', 'away_personal_fouls','home_field_goals',\n",
    "    'home_field_goal_attempts', 'home_three_point_field_goals', 'home_three_point_field_goal_attempts', \n",
    "    'home_free_throws', 'home_free_throw_attempts', 'home_offensive_rebounds', 'home_defensive_rebounds', \n",
    "    'home_assists', 'home_turnovers', 'home_steals', 'home_blocks', 'home_personal_fouls']\n",
    "        \n",
    "    update.append(df)\n",
    "\n",
    "test = pd.concat(update, axis = 0)\n",
    "test "
   ]
  },
  {
   "cell_type": "code",
   "execution_count": 7,
   "metadata": {},
   "outputs": [
    {
     "data": {
      "text/plain": [
       "Index(['Season', 'DayNum', 'WTeamID', 'WScore', 'LTeamID', 'LScore', 'WLoc',\n",
       "       'NumOT', 'WFGM', 'WFGA', 'WFGM3', 'WFGA3', 'WFTM', 'WFTA', 'WOR', 'WDR',\n",
       "       'WAst', 'WTO', 'WStl', 'WBlk', 'WPF', 'LFGM', 'LFGA', 'LFGM3', 'LFGA3',\n",
       "       'LFTM', 'LFTA', 'LOR', 'LDR', 'LAst', 'LTO', 'LStl', 'LBlk', 'LPF'],\n",
       "      dtype='object')"
      ]
     },
     "execution_count": 7,
     "metadata": {},
     "output_type": "execute_result"
    }
   ],
   "source": [
    "regularseason = pd.read_csv('MDataFiles_Stage1/MRegularSeasonDetailedResults.csv')\n",
    "regularseason.columns"
   ]
  },
  {
   "cell_type": "code",
   "execution_count": 8,
   "metadata": {},
   "outputs": [],
   "source": [
    "#df.to_csv('./data/regularseason21ROUGH.csv')\n",
    "df = pd.read_csv('data/regularseason21ROUGH.csv')"
   ]
  },
  {
   "cell_type": "code",
   "execution_count": 9,
   "metadata": {},
   "outputs": [
    {
     "data": {
      "text/plain": [
       "['Season',\n",
       " 'DayNum',\n",
       " 'WTeamID',\n",
       " 'WScore',\n",
       " 'LTeamID',\n",
       " 'LScore',\n",
       " 'WLoc',\n",
       " 'NumOT',\n",
       " 'WFGM',\n",
       " 'WFGM3',\n",
       " 'WFGA3',\n",
       " 'WFTM',\n",
       " 'WFTA',\n",
       " 'WOR',\n",
       " 'WDR',\n",
       " 'WAst',\n",
       " 'WTO',\n",
       " 'WStl',\n",
       " 'WBlk',\n",
       " 'WPF',\n",
       " 'LFGM',\n",
       " 'LFGA',\n",
       " 'LFGM3',\n",
       " 'LFGA3',\n",
       " 'LFTM',\n",
       " 'LFTA',\n",
       " 'LOR',\n",
       " 'LDR',\n",
       " 'LAst',\n",
       " 'LTO',\n",
       " 'LStl',\n",
       " 'LBlk',\n",
       " 'LPF']"
      ]
     },
     "execution_count": 9,
     "metadata": {},
     "output_type": "execute_result"
    }
   ],
   "source": [
    "['Season', 'DayNum', 'WTeamID', 'WScore', 'LTeamID', 'LScore', 'WLoc',\n",
    "       'NumOT', 'WFGM', 'WFGM3', 'WFGA3', 'WFTM', 'WFTA', 'WOR', 'WDR',\n",
    "       'WAst', 'WTO', 'WStl', 'WBlk', 'WPF', 'LFGM', 'LFGA', 'LFGM3', 'LFGA3',\n",
    "       'LFTM', 'LFTA', 'LOR', 'LDR', 'LAst', 'LTO', 'LStl', 'LBlk', 'LPF']"
   ]
  },
  {
   "cell_type": "code",
   "execution_count": 37,
   "metadata": {},
   "outputs": [],
   "source": [
    "to_keep = [ 'index', 'date', 'winning_name', 'losing_name', 'away_points', 'home_points', 'winner','location', 'away_defensive_rebounds', \n",
    "           'home_field_goals','home_field_goal_attempts', 'home_three_point_field_goals', 'home_three_point_field_goal_attempts', 'home_free_throws', 'home_free_throw_attempts'\n",
    "           , 'home_offensive_rebounds', 'home_defensive_rebounds', 'home_assists','away_field_goal_attempts', 'home_turnovers', 'home_steals', 'home_blocks', 'home_personal_fouls',\n",
    "           'away_field_goals','away_field_goal_attempts', 'away_three_point_field_goals', 'away_three_point_field_goal_attempts', 'away_free_throws', 'away_free_throw_attempts'\n",
    "           , 'away_offensive_rebounds', 'away_defensive_rebounds', 'away_assists','away_field_goal_attempts', 'away_turnovers', 'away_steals', 'away_blocks', 'away_personal_fouls']"
   ]
  },
  {
   "cell_type": "code",
   "execution_count": null,
   "metadata": {},
   "outputs": [],
   "source": [
    "df['index', 'date', 'winning_name', 'losing_name', 'away_points', 'home_points', 'winner', \n",
    "    'location', 'away_field_goals','away_field_goal_attempts', 'away_three_point_field_goals', \n",
    "    'away_three_point_field_goal_attempts', 'away_free_throws', 'away_free_throw_attempts',\n",
    "    'away_offensive_rebounds', 'away_defensive_rebounds', 'away_assists','away_field_goal_attempts', \n",
    "    'away_turnovers', 'away_steals', 'away_blocks', 'away_personal_fouls','home_field_goals',\n",
    "    'home_field_goal_attempts', 'home_three_point_field_goals', 'home_three_point_field_goal_attempts', \n",
    "    'home_free_throws', 'home_free_throw_attempts', 'home_offensive_rebounds', 'home_defensive_rebounds', \n",
    "    'home_assists', 'home_turnovers', 'home_steals', 'home_blocks', 'home_personal_fouls']"
   ]
  },
  {
   "cell_type": "code",
   "execution_count": 38,
   "metadata": {},
   "outputs": [
    {
     "ename": "KeyError",
     "evalue": "\"['away_points', 'losing_name', 'date', 'home_points', 'winning_name', 'winner', 'location'] not in index\"",
     "output_type": "error",
     "traceback": [
      "\u001b[1;31m---------------------------------------------------------------------------\u001b[0m",
      "\u001b[1;31mKeyError\u001b[0m                                  Traceback (most recent call last)",
      "\u001b[1;32m<ipython-input-38-33da6ecb2984>\u001b[0m in \u001b[0;36m<module>\u001b[1;34m\u001b[0m\n\u001b[1;32m----> 1\u001b[1;33m \u001b[0mdf\u001b[0m \u001b[1;33m=\u001b[0m \u001b[0mdf\u001b[0m\u001b[1;33m[\u001b[0m\u001b[0mto_keep\u001b[0m\u001b[1;33m]\u001b[0m\u001b[1;33m\u001b[0m\u001b[1;33m\u001b[0m\u001b[0m\n\u001b[0m",
      "\u001b[1;32m~\\.conda\\envs\\learn-env\\lib\\site-packages\\pandas\\core\\frame.py\u001b[0m in \u001b[0;36m__getitem__\u001b[1;34m(self, key)\u001b[0m\n\u001b[0;32m   2906\u001b[0m             \u001b[1;32mif\u001b[0m \u001b[0mis_iterator\u001b[0m\u001b[1;33m(\u001b[0m\u001b[0mkey\u001b[0m\u001b[1;33m)\u001b[0m\u001b[1;33m:\u001b[0m\u001b[1;33m\u001b[0m\u001b[1;33m\u001b[0m\u001b[0m\n\u001b[0;32m   2907\u001b[0m                 \u001b[0mkey\u001b[0m \u001b[1;33m=\u001b[0m \u001b[0mlist\u001b[0m\u001b[1;33m(\u001b[0m\u001b[0mkey\u001b[0m\u001b[1;33m)\u001b[0m\u001b[1;33m\u001b[0m\u001b[1;33m\u001b[0m\u001b[0m\n\u001b[1;32m-> 2908\u001b[1;33m             \u001b[0mindexer\u001b[0m \u001b[1;33m=\u001b[0m \u001b[0mself\u001b[0m\u001b[1;33m.\u001b[0m\u001b[0mloc\u001b[0m\u001b[1;33m.\u001b[0m\u001b[0m_get_listlike_indexer\u001b[0m\u001b[1;33m(\u001b[0m\u001b[0mkey\u001b[0m\u001b[1;33m,\u001b[0m \u001b[0maxis\u001b[0m\u001b[1;33m=\u001b[0m\u001b[1;36m1\u001b[0m\u001b[1;33m,\u001b[0m \u001b[0mraise_missing\u001b[0m\u001b[1;33m=\u001b[0m\u001b[1;32mTrue\u001b[0m\u001b[1;33m)\u001b[0m\u001b[1;33m[\u001b[0m\u001b[1;36m1\u001b[0m\u001b[1;33m]\u001b[0m\u001b[1;33m\u001b[0m\u001b[1;33m\u001b[0m\u001b[0m\n\u001b[0m\u001b[0;32m   2909\u001b[0m \u001b[1;33m\u001b[0m\u001b[0m\n\u001b[0;32m   2910\u001b[0m         \u001b[1;31m# take() does not accept boolean indexers\u001b[0m\u001b[1;33m\u001b[0m\u001b[1;33m\u001b[0m\u001b[1;33m\u001b[0m\u001b[0m\n",
      "\u001b[1;32m~\\.conda\\envs\\learn-env\\lib\\site-packages\\pandas\\core\\indexing.py\u001b[0m in \u001b[0;36m_get_listlike_indexer\u001b[1;34m(self, key, axis, raise_missing)\u001b[0m\n\u001b[0;32m   1252\u001b[0m             \u001b[0mkeyarr\u001b[0m\u001b[1;33m,\u001b[0m \u001b[0mindexer\u001b[0m\u001b[1;33m,\u001b[0m \u001b[0mnew_indexer\u001b[0m \u001b[1;33m=\u001b[0m \u001b[0max\u001b[0m\u001b[1;33m.\u001b[0m\u001b[0m_reindex_non_unique\u001b[0m\u001b[1;33m(\u001b[0m\u001b[0mkeyarr\u001b[0m\u001b[1;33m)\u001b[0m\u001b[1;33m\u001b[0m\u001b[1;33m\u001b[0m\u001b[0m\n\u001b[0;32m   1253\u001b[0m \u001b[1;33m\u001b[0m\u001b[0m\n\u001b[1;32m-> 1254\u001b[1;33m         \u001b[0mself\u001b[0m\u001b[1;33m.\u001b[0m\u001b[0m_validate_read_indexer\u001b[0m\u001b[1;33m(\u001b[0m\u001b[0mkeyarr\u001b[0m\u001b[1;33m,\u001b[0m \u001b[0mindexer\u001b[0m\u001b[1;33m,\u001b[0m \u001b[0maxis\u001b[0m\u001b[1;33m,\u001b[0m \u001b[0mraise_missing\u001b[0m\u001b[1;33m=\u001b[0m\u001b[0mraise_missing\u001b[0m\u001b[1;33m)\u001b[0m\u001b[1;33m\u001b[0m\u001b[1;33m\u001b[0m\u001b[0m\n\u001b[0m\u001b[0;32m   1255\u001b[0m         \u001b[1;32mreturn\u001b[0m \u001b[0mkeyarr\u001b[0m\u001b[1;33m,\u001b[0m \u001b[0mindexer\u001b[0m\u001b[1;33m\u001b[0m\u001b[1;33m\u001b[0m\u001b[0m\n\u001b[0;32m   1256\u001b[0m \u001b[1;33m\u001b[0m\u001b[0m\n",
      "\u001b[1;32m~\\.conda\\envs\\learn-env\\lib\\site-packages\\pandas\\core\\indexing.py\u001b[0m in \u001b[0;36m_validate_read_indexer\u001b[1;34m(self, key, indexer, axis, raise_missing)\u001b[0m\n\u001b[0;32m   1302\u001b[0m             \u001b[1;32mif\u001b[0m \u001b[0mraise_missing\u001b[0m\u001b[1;33m:\u001b[0m\u001b[1;33m\u001b[0m\u001b[1;33m\u001b[0m\u001b[0m\n\u001b[0;32m   1303\u001b[0m                 \u001b[0mnot_found\u001b[0m \u001b[1;33m=\u001b[0m \u001b[0mlist\u001b[0m\u001b[1;33m(\u001b[0m\u001b[0mset\u001b[0m\u001b[1;33m(\u001b[0m\u001b[0mkey\u001b[0m\u001b[1;33m)\u001b[0m \u001b[1;33m-\u001b[0m \u001b[0mset\u001b[0m\u001b[1;33m(\u001b[0m\u001b[0max\u001b[0m\u001b[1;33m)\u001b[0m\u001b[1;33m)\u001b[0m\u001b[1;33m\u001b[0m\u001b[1;33m\u001b[0m\u001b[0m\n\u001b[1;32m-> 1304\u001b[1;33m                 \u001b[1;32mraise\u001b[0m \u001b[0mKeyError\u001b[0m\u001b[1;33m(\u001b[0m\u001b[1;34mf\"{not_found} not in index\"\u001b[0m\u001b[1;33m)\u001b[0m\u001b[1;33m\u001b[0m\u001b[1;33m\u001b[0m\u001b[0m\n\u001b[0m\u001b[0;32m   1305\u001b[0m \u001b[1;33m\u001b[0m\u001b[0m\n\u001b[0;32m   1306\u001b[0m             \u001b[1;31m# we skip the warning on Categorical\u001b[0m\u001b[1;33m\u001b[0m\u001b[1;33m\u001b[0m\u001b[1;33m\u001b[0m\u001b[0m\n",
      "\u001b[1;31mKeyError\u001b[0m: \"['away_points', 'losing_name', 'date', 'home_points', 'winning_name', 'winner', 'location'] not in index\""
     ]
    }
   ],
   "source": [
    "df = df[to_keep]"
   ]
  },
  {
   "cell_type": "code",
   "execution_count": 12,
   "metadata": {},
   "outputs": [],
   "source": [
    "column_names = dict(zip(to_keep,regularseason.columns))"
   ]
  },
  {
   "cell_type": "code",
   "execution_count": 13,
   "metadata": {},
   "outputs": [
    {
     "data": {
      "text/html": [
       "<div>\n",
       "<style scoped>\n",
       "    .dataframe tbody tr th:only-of-type {\n",
       "        vertical-align: middle;\n",
       "    }\n",
       "\n",
       "    .dataframe tbody tr th {\n",
       "        vertical-align: top;\n",
       "    }\n",
       "\n",
       "    .dataframe thead th {\n",
       "        text-align: right;\n",
       "    }\n",
       "</style>\n",
       "<table border=\"1\" class=\"dataframe\">\n",
       "  <thead>\n",
       "    <tr style=\"text-align: right;\">\n",
       "      <th></th>\n",
       "      <th>index</th>\n",
       "      <th>away_assist_percentage</th>\n",
       "      <th>away_assists</th>\n",
       "      <th>away_block_percentage</th>\n",
       "      <th>away_blocks</th>\n",
       "      <th>away_defensive_rating</th>\n",
       "      <th>away_defensive_rebound_percentage</th>\n",
       "      <th>away_defensive_rebounds</th>\n",
       "      <th>home_field_goals</th>\n",
       "      <th>home_field_goal_attempts</th>\n",
       "      <th>...</th>\n",
       "      <th>away_free_throws</th>\n",
       "      <th>away_free_throw_attempts</th>\n",
       "      <th>away_offensive_rebounds</th>\n",
       "      <th>away_defensive_rebounds</th>\n",
       "      <th>away_assists</th>\n",
       "      <th>away_field_goal_attempts</th>\n",
       "      <th>away_turnovers</th>\n",
       "      <th>away_steals</th>\n",
       "      <th>away_blocks</th>\n",
       "      <th>away_personal_fouls</th>\n",
       "    </tr>\n",
       "  </thead>\n",
       "  <tbody>\n",
       "    <tr>\n",
       "      <th>0</th>\n",
       "      <td>2021-11-09-21-gonzaga</td>\n",
       "      <td>52.2</td>\n",
       "      <td>12</td>\n",
       "      <td>2.1</td>\n",
       "      <td>1</td>\n",
       "      <td>119.8</td>\n",
       "      <td>57.6</td>\n",
       "      <td>19</td>\n",
       "      <td>37</td>\n",
       "      <td>68</td>\n",
       "      <td>...</td>\n",
       "      <td>9</td>\n",
       "      <td>21</td>\n",
       "      <td>13</td>\n",
       "      <td>19</td>\n",
       "      <td>12</td>\n",
       "      <td>65</td>\n",
       "      <td>20</td>\n",
       "      <td>5</td>\n",
       "      <td>1</td>\n",
       "      <td>22</td>\n",
       "    </tr>\n",
       "    <tr>\n",
       "      <th>1</th>\n",
       "      <td>2021-11-09-23-ucla</td>\n",
       "      <td>45.8</td>\n",
       "      <td>11</td>\n",
       "      <td>5.7</td>\n",
       "      <td>2</td>\n",
       "      <td>121.8</td>\n",
       "      <td>83.9</td>\n",
       "      <td>26</td>\n",
       "      <td>31</td>\n",
       "      <td>62</td>\n",
       "      <td>...</td>\n",
       "      <td>3</td>\n",
       "      <td>8</td>\n",
       "      <td>5</td>\n",
       "      <td>26</td>\n",
       "      <td>11</td>\n",
       "      <td>64</td>\n",
       "      <td>13</td>\n",
       "      <td>8</td>\n",
       "      <td>2</td>\n",
       "      <td>21</td>\n",
       "    </tr>\n",
       "    <tr>\n",
       "      <th>2</th>\n",
       "      <td>2021-11-09-19-michigan-state</td>\n",
       "      <td>41.9</td>\n",
       "      <td>13</td>\n",
       "      <td>9.3</td>\n",
       "      <td>4</td>\n",
       "      <td>94.9</td>\n",
       "      <td>73.3</td>\n",
       "      <td>22</td>\n",
       "      <td>29</td>\n",
       "      <td>63</td>\n",
       "      <td>...</td>\n",
       "      <td>19</td>\n",
       "      <td>24</td>\n",
       "      <td>7</td>\n",
       "      <td>22</td>\n",
       "      <td>13</td>\n",
       "      <td>64</td>\n",
       "      <td>8</td>\n",
       "      <td>8</td>\n",
       "      <td>4</td>\n",
       "      <td>20</td>\n",
       "    </tr>\n",
       "    <tr>\n",
       "      <th>3</th>\n",
       "      <td>2021-11-09-16-villanova</td>\n",
       "      <td>76.2</td>\n",
       "      <td>16</td>\n",
       "      <td>7.7</td>\n",
       "      <td>2</td>\n",
       "      <td>146.8</td>\n",
       "      <td>78.3</td>\n",
       "      <td>18</td>\n",
       "      <td>31</td>\n",
       "      <td>56</td>\n",
       "      <td>...</td>\n",
       "      <td>6</td>\n",
       "      <td>8</td>\n",
       "      <td>7</td>\n",
       "      <td>18</td>\n",
       "      <td>16</td>\n",
       "      <td>47</td>\n",
       "      <td>18</td>\n",
       "      <td>2</td>\n",
       "      <td>2</td>\n",
       "      <td>15</td>\n",
       "    </tr>\n",
       "    <tr>\n",
       "      <th>4</th>\n",
       "      <td>2021-11-09-21-texas</td>\n",
       "      <td>37.5</td>\n",
       "      <td>6</td>\n",
       "      <td>0.0</td>\n",
       "      <td>0</td>\n",
       "      <td>148.4</td>\n",
       "      <td>66.7</td>\n",
       "      <td>14</td>\n",
       "      <td>32</td>\n",
       "      <td>50</td>\n",
       "      <td>...</td>\n",
       "      <td>10</td>\n",
       "      <td>22</td>\n",
       "      <td>13</td>\n",
       "      <td>14</td>\n",
       "      <td>6</td>\n",
       "      <td>49</td>\n",
       "      <td>14</td>\n",
       "      <td>8</td>\n",
       "      <td>0</td>\n",
       "      <td>21</td>\n",
       "    </tr>\n",
       "    <tr>\n",
       "      <th>...</th>\n",
       "      <td>...</td>\n",
       "      <td>...</td>\n",
       "      <td>...</td>\n",
       "      <td>...</td>\n",
       "      <td>...</td>\n",
       "      <td>...</td>\n",
       "      <td>...</td>\n",
       "      <td>...</td>\n",
       "      <td>...</td>\n",
       "      <td>...</td>\n",
       "      <td>...</td>\n",
       "      <td>...</td>\n",
       "      <td>...</td>\n",
       "      <td>...</td>\n",
       "      <td>...</td>\n",
       "      <td>...</td>\n",
       "      <td>...</td>\n",
       "      <td>...</td>\n",
       "      <td>...</td>\n",
       "      <td>...</td>\n",
       "      <td>...</td>\n",
       "    </tr>\n",
       "    <tr>\n",
       "      <th>1352</th>\n",
       "      <td>2021-12-01-20-auburn</td>\n",
       "      <td>42.9</td>\n",
       "      <td>9</td>\n",
       "      <td>9.4</td>\n",
       "      <td>3</td>\n",
       "      <td>104.9</td>\n",
       "      <td>72.7</td>\n",
       "      <td>24</td>\n",
       "      <td>29</td>\n",
       "      <td>64</td>\n",
       "      <td>...</td>\n",
       "      <td>22</td>\n",
       "      <td>29</td>\n",
       "      <td>8</td>\n",
       "      <td>24</td>\n",
       "      <td>9</td>\n",
       "      <td>59</td>\n",
       "      <td>18</td>\n",
       "      <td>11</td>\n",
       "      <td>3</td>\n",
       "      <td>18</td>\n",
       "    </tr>\n",
       "    <tr>\n",
       "      <th>1353</th>\n",
       "      <td>2021-12-01-19-michigan-state</td>\n",
       "      <td>40.0</td>\n",
       "      <td>10</td>\n",
       "      <td>9.7</td>\n",
       "      <td>3</td>\n",
       "      <td>100.0</td>\n",
       "      <td>71.4</td>\n",
       "      <td>20</td>\n",
       "      <td>23</td>\n",
       "      <td>49</td>\n",
       "      <td>...</td>\n",
       "      <td>7</td>\n",
       "      <td>11</td>\n",
       "      <td>7</td>\n",
       "      <td>20</td>\n",
       "      <td>10</td>\n",
       "      <td>61</td>\n",
       "      <td>16</td>\n",
       "      <td>9</td>\n",
       "      <td>3</td>\n",
       "      <td>21</td>\n",
       "    </tr>\n",
       "    <tr>\n",
       "      <th>1354</th>\n",
       "      <td>2021-12-01-21-georgia-tech</td>\n",
       "      <td>56.5</td>\n",
       "      <td>13</td>\n",
       "      <td>13.5</td>\n",
       "      <td>5</td>\n",
       "      <td>103.1</td>\n",
       "      <td>67.9</td>\n",
       "      <td>19</td>\n",
       "      <td>22</td>\n",
       "      <td>53</td>\n",
       "      <td>...</td>\n",
       "      <td>15</td>\n",
       "      <td>22</td>\n",
       "      <td>6</td>\n",
       "      <td>19</td>\n",
       "      <td>13</td>\n",
       "      <td>54</td>\n",
       "      <td>8</td>\n",
       "      <td>4</td>\n",
       "      <td>5</td>\n",
       "      <td>18</td>\n",
       "    </tr>\n",
       "    <tr>\n",
       "      <th>1355</th>\n",
       "      <td>2021-12-01-21-north-carolina</td>\n",
       "      <td>45.0</td>\n",
       "      <td>9</td>\n",
       "      <td>2.1</td>\n",
       "      <td>1</td>\n",
       "      <td>110.8</td>\n",
       "      <td>73.5</td>\n",
       "      <td>25</td>\n",
       "      <td>31</td>\n",
       "      <td>67</td>\n",
       "      <td>...</td>\n",
       "      <td>6</td>\n",
       "      <td>6</td>\n",
       "      <td>8</td>\n",
       "      <td>25</td>\n",
       "      <td>9</td>\n",
       "      <td>57</td>\n",
       "      <td>13</td>\n",
       "      <td>3</td>\n",
       "      <td>1</td>\n",
       "      <td>10</td>\n",
       "    </tr>\n",
       "    <tr>\n",
       "      <th>1356</th>\n",
       "      <td>2021-12-01-19-seton-hall</td>\n",
       "      <td>46.2</td>\n",
       "      <td>12</td>\n",
       "      <td>2.4</td>\n",
       "      <td>1</td>\n",
       "      <td>111.8</td>\n",
       "      <td>61.8</td>\n",
       "      <td>21</td>\n",
       "      <td>34</td>\n",
       "      <td>65</td>\n",
       "      <td>...</td>\n",
       "      <td>6</td>\n",
       "      <td>7</td>\n",
       "      <td>8</td>\n",
       "      <td>21</td>\n",
       "      <td>12</td>\n",
       "      <td>63</td>\n",
       "      <td>17</td>\n",
       "      <td>7</td>\n",
       "      <td>1</td>\n",
       "      <td>15</td>\n",
       "    </tr>\n",
       "  </tbody>\n",
       "</table>\n",
       "<p>1357 rows × 36 columns</p>\n",
       "</div>"
      ],
      "text/plain": [
       "                             index  away_assist_percentage  away_assists  \\\n",
       "0            2021-11-09-21-gonzaga                    52.2            12   \n",
       "1               2021-11-09-23-ucla                    45.8            11   \n",
       "2     2021-11-09-19-michigan-state                    41.9            13   \n",
       "3          2021-11-09-16-villanova                    76.2            16   \n",
       "4              2021-11-09-21-texas                    37.5             6   \n",
       "...                            ...                     ...           ...   \n",
       "1352          2021-12-01-20-auburn                    42.9             9   \n",
       "1353  2021-12-01-19-michigan-state                    40.0            10   \n",
       "1354    2021-12-01-21-georgia-tech                    56.5            13   \n",
       "1355  2021-12-01-21-north-carolina                    45.0             9   \n",
       "1356      2021-12-01-19-seton-hall                    46.2            12   \n",
       "\n",
       "      away_block_percentage  away_blocks  away_defensive_rating  \\\n",
       "0                       2.1            1                  119.8   \n",
       "1                       5.7            2                  121.8   \n",
       "2                       9.3            4                   94.9   \n",
       "3                       7.7            2                  146.8   \n",
       "4                       0.0            0                  148.4   \n",
       "...                     ...          ...                    ...   \n",
       "1352                    9.4            3                  104.9   \n",
       "1353                    9.7            3                  100.0   \n",
       "1354                   13.5            5                  103.1   \n",
       "1355                    2.1            1                  110.8   \n",
       "1356                    2.4            1                  111.8   \n",
       "\n",
       "      away_defensive_rebound_percentage  away_defensive_rebounds  \\\n",
       "0                                  57.6                       19   \n",
       "1                                  83.9                       26   \n",
       "2                                  73.3                       22   \n",
       "3                                  78.3                       18   \n",
       "4                                  66.7                       14   \n",
       "...                                 ...                      ...   \n",
       "1352                               72.7                       24   \n",
       "1353                               71.4                       20   \n",
       "1354                               67.9                       19   \n",
       "1355                               73.5                       25   \n",
       "1356                               61.8                       21   \n",
       "\n",
       "      home_field_goals  home_field_goal_attempts  ...  away_free_throws  \\\n",
       "0                   37                        68  ...                 9   \n",
       "1                   31                        62  ...                 3   \n",
       "2                   29                        63  ...                19   \n",
       "3                   31                        56  ...                 6   \n",
       "4                   32                        50  ...                10   \n",
       "...                ...                       ...  ...               ...   \n",
       "1352                29                        64  ...                22   \n",
       "1353                23                        49  ...                 7   \n",
       "1354                22                        53  ...                15   \n",
       "1355                31                        67  ...                 6   \n",
       "1356                34                        65  ...                 6   \n",
       "\n",
       "      away_free_throw_attempts  away_offensive_rebounds  \\\n",
       "0                           21                       13   \n",
       "1                            8                        5   \n",
       "2                           24                        7   \n",
       "3                            8                        7   \n",
       "4                           22                       13   \n",
       "...                        ...                      ...   \n",
       "1352                        29                        8   \n",
       "1353                        11                        7   \n",
       "1354                        22                        6   \n",
       "1355                         6                        8   \n",
       "1356                         7                        8   \n",
       "\n",
       "      away_defensive_rebounds  away_assists  away_field_goal_attempts  \\\n",
       "0                          19            12                        65   \n",
       "1                          26            11                        64   \n",
       "2                          22            13                        64   \n",
       "3                          18            16                        47   \n",
       "4                          14             6                        49   \n",
       "...                       ...           ...                       ...   \n",
       "1352                       24             9                        59   \n",
       "1353                       20            10                        61   \n",
       "1354                       19            13                        54   \n",
       "1355                       25             9                        57   \n",
       "1356                       21            12                        63   \n",
       "\n",
       "      away_turnovers  away_steals  away_blocks  away_personal_fouls  \n",
       "0                 20            5            1                   22  \n",
       "1                 13            8            2                   21  \n",
       "2                  8            8            4                   20  \n",
       "3                 18            2            2                   15  \n",
       "4                 14            8            0                   21  \n",
       "...              ...          ...          ...                  ...  \n",
       "1352              18           11            3                   18  \n",
       "1353              16            9            3                   21  \n",
       "1354               8            4            5                   18  \n",
       "1355              13            3            1                   10  \n",
       "1356              17            7            1                   15  \n",
       "\n",
       "[1357 rows x 36 columns]"
      ]
     },
     "execution_count": 13,
     "metadata": {},
     "output_type": "execute_result"
    }
   ],
   "source": [
    "df.rename(column_names)"
   ]
  },
  {
   "cell_type": "code",
   "execution_count": 28,
   "metadata": {},
   "outputs": [],
   "source": [
    "games2 = Boxscores(datetime(2021,12,2), datetime(2021,12,8))\n",
    "schedule2 = games2.games"
   ]
  },
  {
   "cell_type": "code",
   "execution_count": 29,
   "metadata": {},
   "outputs": [
    {
     "data": {
      "text/plain": [
       "326"
      ]
     },
     "execution_count": 29,
     "metadata": {},
     "output_type": "execute_result"
    }
   ],
   "source": [
    "game_days2 = []\n",
    "for day in schedule2.values():\n",
    "    for game in day:\n",
    "        game_days2.append(game['boxscore'])\n",
    "len(game_days2)"
   ]
  },
  {
   "cell_type": "code",
   "execution_count": 30,
   "metadata": {},
   "outputs": [],
   "source": [
    "season_games2 = []\n",
    "\n",
    "for i in game_days2:\n",
    "    temp = Boxscore(i).dataframe\n",
    "    season_games2.append(temp)\n",
    "\n",
    "df2 = pd.concat(season_games2, axis = 0).reset_index()"
   ]
  },
  {
   "cell_type": "code",
   "execution_count": 31,
   "metadata": {},
   "outputs": [
    {
     "data": {
      "text/plain": [
       "(325, 87)"
      ]
     },
     "execution_count": 31,
     "metadata": {},
     "output_type": "execute_result"
    }
   ],
   "source": [
    "df2.shape"
   ]
  },
  {
   "cell_type": "code",
   "execution_count": null,
   "metadata": {},
   "outputs": [],
   "source": []
  },
  {
   "cell_type": "code",
   "execution_count": 32,
   "metadata": {},
   "outputs": [
    {
     "data": {
      "text/plain": [
       "(325, 36)"
      ]
     },
     "execution_count": 32,
     "metadata": {},
     "output_type": "execute_result"
    }
   ],
   "source": [
    "df2 = df2[to_keep]\n",
    "df2.shape"
   ]
  },
  {
   "cell_type": "code",
   "execution_count": null,
   "metadata": {},
   "outputs": [],
   "source": []
  },
  {
   "cell_type": "code",
   "execution_count": 33,
   "metadata": {},
   "outputs": [
    {
     "data": {
      "text/plain": [
       "(1357, 36)"
      ]
     },
     "execution_count": 33,
     "metadata": {},
     "output_type": "execute_result"
    }
   ],
   "source": [
    "df.shape"
   ]
  },
  {
   "cell_type": "code",
   "execution_count": 34,
   "metadata": {},
   "outputs": [],
   "source": [
    "names_ids = pd.read_csv('MDataFiles_Stage1/MTeams.csv')\n",
    "ids = list(names_ids.TeamID)\n",
    "names = list(names_ids.TeamName)\n",
    "ids_dict = dict(zip(ids, names))"
   ]
  },
  {
   "cell_type": "code",
   "execution_count": 35,
   "metadata": {},
   "outputs": [],
   "source": [
    "regseason21 = pd.concat([df, df2], axis = 0)"
   ]
  },
  {
   "cell_type": "code",
   "execution_count": 36,
   "metadata": {},
   "outputs": [
    {
     "data": {
      "text/plain": [
       "(1682, 36)"
      ]
     },
     "execution_count": 36,
     "metadata": {},
     "output_type": "execute_result"
    }
   ],
   "source": [
    "regseason21.shape"
   ]
  },
  {
   "cell_type": "code",
   "execution_count": null,
   "metadata": {},
   "outputs": [],
   "source": []
  }
 ],
 "metadata": {
  "kernelspec": {
   "display_name": "Python (learn-env)",
   "language": "python",
   "name": "learn-env"
  },
  "language_info": {
   "codemirror_mode": {
    "name": "ipython",
    "version": 3
   },
   "file_extension": ".py",
   "mimetype": "text/x-python",
   "name": "python",
   "nbconvert_exporter": "python",
   "pygments_lexer": "ipython3",
   "version": "3.8.5"
  }
 },
 "nbformat": 4,
 "nbformat_minor": 4
}
