{
 "cells": [
  {
   "cell_type": "code",
   "execution_count": 1,
   "metadata": {},
   "outputs": [],
   "source": [
    "from datetime import datetime\n",
    "import pandas as pd\n",
    "from sportsipy.ncaab.boxscore import Boxscore\n",
    "from sportsipy.ncaab.boxscore import Boxscores "
   ]
  },
  {
   "cell_type": "code",
   "execution_count": 260,
   "metadata": {},
   "outputs": [],
   "source": [
    "winner_cols = ['index', 'date', 'winning_name', 'losing_name', 'winner',\n",
    "    'location', 'home_field_goals','home_field_goal_attempts','home_three_point_field_goals', \n",
    "    'home_three_point_field_goal_attempts', 'home_free_throws', 'home_free_throw_attempts', \n",
    "    'home_offensive_rebounds', 'home_defensive_rebounds', 'home_assists', \n",
    "    'home_turnovers', 'home_steals', 'home_blocks', 'home_personal_fouls','away_field_goals',\n",
    "    'away_field_goal_attempts', 'away_three_point_field_goals', 'away_three_point_field_goal_attempts', \n",
    "    'away_free_throws', 'away_free_throw_attempts', 'away_offensive_rebounds', 'away_defensive_rebounds', \n",
    "    'away_assists', 'away_turnovers', 'away_steals', 'away_blocks', 'away_personal_fouls']\n",
    "\n",
    "away = ['index', 'date', 'winning_name', 'losing_name', 'away_points', 'home_points', 'winner', \n",
    "    'location', 'away_field_goals','away_field_goal_attempts', 'away_three_point_field_goals', \n",
    "    'away_three_point_field_goal_attempts', 'away_free_throws', 'away_free_throw_attempts',\n",
    "    'away_offensive_rebounds', 'away_defensive_rebounds', 'away_assists','away_field_goal_attempts', \n",
    "    'away_turnovers', 'away_steals', 'away_blocks', 'away_personal_fouls','home_field_goals',\n",
    "    'home_field_goal_attempts', 'home_three_point_field_goals', 'home_three_point_field_goal_attempts', \n",
    "    'home_free_throws', 'home_free_throw_attempts', 'home_offensive_rebounds', 'home_defensive_rebounds', \n",
    "    'home_assists', 'home_turnovers', 'home_steals', 'home_blocks', 'home_personal_fouls']"
   ]
  },
  {
   "cell_type": "code",
   "execution_count": 261,
   "metadata": {},
   "outputs": [
    {
     "data": {
      "text/plain": [
       "\"def get_current_games(start_date, end_date):\\n    \\n    games = Boxscores(start_date, end_date)\\n    schedule = games.games\\n\\n    game_days = []\\n    for day in schedule.values():\\n        for game in day:\\n            game_days.append(game['boxscore'])\\n            \\n    season_games = []\\n\\n    for i in game_days:\\n        temp = Boxscore(i).dataframe\\n        season_games.append(temp)\\n\\n    df = pd.concat(season_games, axis = 0).reset_index()\\n    \\n    return df\""
      ]
     },
     "execution_count": 261,
     "metadata": {},
     "output_type": "execute_result"
    }
   ],
   "source": [
    "\"\"\"def get_current_games(start_date, end_date):\n",
    "    \n",
    "    games = Boxscores(start_date, end_date)\n",
    "    schedule = games.games\n",
    "\n",
    "    game_days = []\n",
    "    for day in schedule.values():\n",
    "        for game in day:\n",
    "            game_days.append(game['boxscore'])\n",
    "            \n",
    "    season_games = []\n",
    "\n",
    "    for i in game_days:\n",
    "        temp = Boxscore(i).dataframe\n",
    "        season_games.append(temp)\n",
    "\n",
    "    df = pd.concat(season_games, axis = 0).reset_index()\n",
    "    \n",
    "    return df\"\"\""
   ]
  },
  {
   "cell_type": "code",
   "execution_count": 2,
   "metadata": {},
   "outputs": [],
   "source": [
    "df = pd.read_csv('data/regularseason21ROUGH.csv')"
   ]
  },
  {
   "cell_type": "code",
   "execution_count": 3,
   "metadata": {},
   "outputs": [
    {
     "data": {
      "text/html": [
       "<div>\n",
       "<style scoped>\n",
       "    .dataframe tbody tr th:only-of-type {\n",
       "        vertical-align: middle;\n",
       "    }\n",
       "\n",
       "    .dataframe tbody tr th {\n",
       "        vertical-align: top;\n",
       "    }\n",
       "\n",
       "    .dataframe thead th {\n",
       "        text-align: right;\n",
       "    }\n",
       "</style>\n",
       "<table border=\"1\" class=\"dataframe\">\n",
       "  <thead>\n",
       "    <tr style=\"text-align: right;\">\n",
       "      <th></th>\n",
       "      <th>Unnamed: 0</th>\n",
       "      <th>level_0</th>\n",
       "      <th>index</th>\n",
       "      <th>away_assist_percentage</th>\n",
       "      <th>away_assists</th>\n",
       "      <th>away_block_percentage</th>\n",
       "      <th>away_blocks</th>\n",
       "      <th>away_defensive_rating</th>\n",
       "      <th>away_defensive_rebound_percentage</th>\n",
       "      <th>away_defensive_rebounds</th>\n",
       "      <th>...</th>\n",
       "      <th>home_two_point_field_goals</th>\n",
       "      <th>home_win_percentage</th>\n",
       "      <th>home_wins</th>\n",
       "      <th>location</th>\n",
       "      <th>losing_abbr</th>\n",
       "      <th>losing_name</th>\n",
       "      <th>pace</th>\n",
       "      <th>winner</th>\n",
       "      <th>winning_abbr</th>\n",
       "      <th>winning_name</th>\n",
       "    </tr>\n",
       "  </thead>\n",
       "  <tbody>\n",
       "    <tr>\n",
       "      <th>0</th>\n",
       "      <td>0</td>\n",
       "      <td>0</td>\n",
       "      <td>2021-11-09-21-gonzaga</td>\n",
       "      <td>52.2</td>\n",
       "      <td>12</td>\n",
       "      <td>2.1</td>\n",
       "      <td>1</td>\n",
       "      <td>119.8</td>\n",
       "      <td>57.6</td>\n",
       "      <td>19</td>\n",
       "      <td>...</td>\n",
       "      <td>31</td>\n",
       "      <td>0.0</td>\n",
       "      <td>0</td>\n",
       "      <td>McCarthey Athletic Center, Spokane, Washington</td>\n",
       "      <td>DIXIE-STATE</td>\n",
       "      <td>Dixie State</td>\n",
       "      <td>81.2</td>\n",
       "      <td>Home</td>\n",
       "      <td>GONZAGA</td>\n",
       "      <td>Gonzaga</td>\n",
       "    </tr>\n",
       "    <tr>\n",
       "      <th>1</th>\n",
       "      <td>1</td>\n",
       "      <td>1</td>\n",
       "      <td>2021-11-09-23-ucla</td>\n",
       "      <td>45.8</td>\n",
       "      <td>11</td>\n",
       "      <td>5.7</td>\n",
       "      <td>2</td>\n",
       "      <td>121.8</td>\n",
       "      <td>83.9</td>\n",
       "      <td>26</td>\n",
       "      <td>...</td>\n",
       "      <td>18</td>\n",
       "      <td>0.0</td>\n",
       "      <td>0</td>\n",
       "      <td>Pauley Pavilion, Los Angeles, California</td>\n",
       "      <td>CAL-STATE-BAKERSFIELD</td>\n",
       "      <td>Cal State Bakersfield</td>\n",
       "      <td>78.1</td>\n",
       "      <td>Home</td>\n",
       "      <td>UCLA</td>\n",
       "      <td>UCLA</td>\n",
       "    </tr>\n",
       "    <tr>\n",
       "      <th>2</th>\n",
       "      <td>2</td>\n",
       "      <td>2</td>\n",
       "      <td>2021-11-09-19-michigan-state</td>\n",
       "      <td>41.9</td>\n",
       "      <td>13</td>\n",
       "      <td>9.3</td>\n",
       "      <td>4</td>\n",
       "      <td>94.9</td>\n",
       "      <td>73.3</td>\n",
       "      <td>22</td>\n",
       "      <td>...</td>\n",
       "      <td>22</td>\n",
       "      <td>0.0</td>\n",
       "      <td>0</td>\n",
       "      <td>Madison Square Garden (IV), New York, New York</td>\n",
       "      <td>MICHIGAN-STATE</td>\n",
       "      <td>Michigan State</td>\n",
       "      <td>77.5</td>\n",
       "      <td>Away</td>\n",
       "      <td>KANSAS</td>\n",
       "      <td>Kansas</td>\n",
       "    </tr>\n",
       "    <tr>\n",
       "      <th>3</th>\n",
       "      <td>3</td>\n",
       "      <td>3</td>\n",
       "      <td>2021-11-09-16-villanova</td>\n",
       "      <td>76.2</td>\n",
       "      <td>16</td>\n",
       "      <td>7.7</td>\n",
       "      <td>2</td>\n",
       "      <td>146.8</td>\n",
       "      <td>78.3</td>\n",
       "      <td>18</td>\n",
       "      <td>...</td>\n",
       "      <td>15</td>\n",
       "      <td>0.0</td>\n",
       "      <td>0</td>\n",
       "      <td>Finneran Pavilion, Villanova, Pennsylvania</td>\n",
       "      <td>MOUNT-ST-MARYS</td>\n",
       "      <td>Mount St. Mary's</td>\n",
       "      <td>62.2</td>\n",
       "      <td>Home</td>\n",
       "      <td>VILLANOVA</td>\n",
       "      <td>Villanova</td>\n",
       "    </tr>\n",
       "    <tr>\n",
       "      <th>4</th>\n",
       "      <td>4</td>\n",
       "      <td>4</td>\n",
       "      <td>2021-11-09-21-texas</td>\n",
       "      <td>37.5</td>\n",
       "      <td>6</td>\n",
       "      <td>0.0</td>\n",
       "      <td>0</td>\n",
       "      <td>148.4</td>\n",
       "      <td>66.7</td>\n",
       "      <td>14</td>\n",
       "      <td>...</td>\n",
       "      <td>19</td>\n",
       "      <td>0.0</td>\n",
       "      <td>0</td>\n",
       "      <td>Frank Erwin Center, Austin, Texas</td>\n",
       "      <td>HOUSTON-BAPTIST</td>\n",
       "      <td>Houston Baptist</td>\n",
       "      <td>62.5</td>\n",
       "      <td>Home</td>\n",
       "      <td>TEXAS</td>\n",
       "      <td>Texas</td>\n",
       "    </tr>\n",
       "    <tr>\n",
       "      <th>...</th>\n",
       "      <td>...</td>\n",
       "      <td>...</td>\n",
       "      <td>...</td>\n",
       "      <td>...</td>\n",
       "      <td>...</td>\n",
       "      <td>...</td>\n",
       "      <td>...</td>\n",
       "      <td>...</td>\n",
       "      <td>...</td>\n",
       "      <td>...</td>\n",
       "      <td>...</td>\n",
       "      <td>...</td>\n",
       "      <td>...</td>\n",
       "      <td>...</td>\n",
       "      <td>...</td>\n",
       "      <td>...</td>\n",
       "      <td>...</td>\n",
       "      <td>...</td>\n",
       "      <td>...</td>\n",
       "      <td>...</td>\n",
       "      <td>...</td>\n",
       "    </tr>\n",
       "    <tr>\n",
       "      <th>1664</th>\n",
       "      <td>1664</td>\n",
       "      <td>320</td>\n",
       "      <td>2021-12-08-20-texas-christian</td>\n",
       "      <td>73.7</td>\n",
       "      <td>14</td>\n",
       "      <td>14.3</td>\n",
       "      <td>7</td>\n",
       "      <td>108.6</td>\n",
       "      <td>73.0</td>\n",
       "      <td>27</td>\n",
       "      <td>...</td>\n",
       "      <td>25</td>\n",
       "      <td>0.0</td>\n",
       "      <td>0</td>\n",
       "      <td>NaN</td>\n",
       "      <td>UTAH</td>\n",
       "      <td>Utah</td>\n",
       "      <td>69.8</td>\n",
       "      <td>Home</td>\n",
       "      <td>TEXAS-CHRISTIAN</td>\n",
       "      <td>TCU</td>\n",
       "    </tr>\n",
       "    <tr>\n",
       "      <th>1665</th>\n",
       "      <td>1665</td>\n",
       "      <td>321</td>\n",
       "      <td>2021-12-08-21-southern-utah</td>\n",
       "      <td>23.8</td>\n",
       "      <td>5</td>\n",
       "      <td>20.0</td>\n",
       "      <td>7</td>\n",
       "      <td>90.9</td>\n",
       "      <td>90.6</td>\n",
       "      <td>29</td>\n",
       "      <td>...</td>\n",
       "      <td>18</td>\n",
       "      <td>0.0</td>\n",
       "      <td>0</td>\n",
       "      <td>Centrum, Cedar City, Utah</td>\n",
       "      <td>UTAH-VALLEY</td>\n",
       "      <td>Utah Valley</td>\n",
       "      <td>66.5</td>\n",
       "      <td>Home</td>\n",
       "      <td>SOUTHERN-UTAH</td>\n",
       "      <td>Southern Utah</td>\n",
       "    </tr>\n",
       "    <tr>\n",
       "      <th>1666</th>\n",
       "      <td>1666</td>\n",
       "      <td>322</td>\n",
       "      <td>2021-12-08-19-penn-state</td>\n",
       "      <td>58.3</td>\n",
       "      <td>14</td>\n",
       "      <td>4.5</td>\n",
       "      <td>1</td>\n",
       "      <td>110.4</td>\n",
       "      <td>68.0</td>\n",
       "      <td>17</td>\n",
       "      <td>...</td>\n",
       "      <td>14</td>\n",
       "      <td>0.0</td>\n",
       "      <td>0</td>\n",
       "      <td>Bryce Jordan Center, University Park, Pennsylv...</td>\n",
       "      <td>WAGNER</td>\n",
       "      <td>Wagner</td>\n",
       "      <td>66.9</td>\n",
       "      <td>Home</td>\n",
       "      <td>PENN-STATE</td>\n",
       "      <td>Penn State</td>\n",
       "    </tr>\n",
       "    <tr>\n",
       "      <th>1667</th>\n",
       "      <td>1667</td>\n",
       "      <td>323</td>\n",
       "      <td>2021-12-08-22-washington-state</td>\n",
       "      <td>30.0</td>\n",
       "      <td>6</td>\n",
       "      <td>9.1</td>\n",
       "      <td>4</td>\n",
       "      <td>128.8</td>\n",
       "      <td>70.4</td>\n",
       "      <td>19</td>\n",
       "      <td>...</td>\n",
       "      <td>25</td>\n",
       "      <td>0.0</td>\n",
       "      <td>0</td>\n",
       "      <td>Beasley Coliseum, Pullman, Washington</td>\n",
       "      <td>WEBER-STATE</td>\n",
       "      <td>Weber State</td>\n",
       "      <td>73.4</td>\n",
       "      <td>Home</td>\n",
       "      <td>WASHINGTON-STATE</td>\n",
       "      <td>Washington State</td>\n",
       "    </tr>\n",
       "    <tr>\n",
       "      <th>1668</th>\n",
       "      <td>1668</td>\n",
       "      <td>324</td>\n",
       "      <td>2021-12-08-19-gardner-webb</td>\n",
       "      <td>38.5</td>\n",
       "      <td>10</td>\n",
       "      <td>5.1</td>\n",
       "      <td>2</td>\n",
       "      <td>97.2</td>\n",
       "      <td>78.8</td>\n",
       "      <td>26</td>\n",
       "      <td>...</td>\n",
       "      <td>17</td>\n",
       "      <td>0.0</td>\n",
       "      <td>0</td>\n",
       "      <td>Paul Porter Arena, Boiling Springs, North Caro...</td>\n",
       "      <td>GARDNER-WEBB</td>\n",
       "      <td>Gardner-Webb</td>\n",
       "      <td>71.9</td>\n",
       "      <td>Away</td>\n",
       "      <td>WOFFORD</td>\n",
       "      <td>Wofford</td>\n",
       "    </tr>\n",
       "  </tbody>\n",
       "</table>\n",
       "<p>1669 rows × 89 columns</p>\n",
       "</div>"
      ],
      "text/plain": [
       "      Unnamed: 0  level_0                           index  \\\n",
       "0              0        0           2021-11-09-21-gonzaga   \n",
       "1              1        1              2021-11-09-23-ucla   \n",
       "2              2        2    2021-11-09-19-michigan-state   \n",
       "3              3        3         2021-11-09-16-villanova   \n",
       "4              4        4             2021-11-09-21-texas   \n",
       "...          ...      ...                             ...   \n",
       "1664        1664      320   2021-12-08-20-texas-christian   \n",
       "1665        1665      321     2021-12-08-21-southern-utah   \n",
       "1666        1666      322        2021-12-08-19-penn-state   \n",
       "1667        1667      323  2021-12-08-22-washington-state   \n",
       "1668        1668      324      2021-12-08-19-gardner-webb   \n",
       "\n",
       "      away_assist_percentage  away_assists  away_block_percentage  \\\n",
       "0                       52.2            12                    2.1   \n",
       "1                       45.8            11                    5.7   \n",
       "2                       41.9            13                    9.3   \n",
       "3                       76.2            16                    7.7   \n",
       "4                       37.5             6                    0.0   \n",
       "...                      ...           ...                    ...   \n",
       "1664                    73.7            14                   14.3   \n",
       "1665                    23.8             5                   20.0   \n",
       "1666                    58.3            14                    4.5   \n",
       "1667                    30.0             6                    9.1   \n",
       "1668                    38.5            10                    5.1   \n",
       "\n",
       "      away_blocks  away_defensive_rating  away_defensive_rebound_percentage  \\\n",
       "0               1                  119.8                               57.6   \n",
       "1               2                  121.8                               83.9   \n",
       "2               4                   94.9                               73.3   \n",
       "3               2                  146.8                               78.3   \n",
       "4               0                  148.4                               66.7   \n",
       "...           ...                    ...                                ...   \n",
       "1664            7                  108.6                               73.0   \n",
       "1665            7                   90.9                               90.6   \n",
       "1666            1                  110.4                               68.0   \n",
       "1667            4                  128.8                               70.4   \n",
       "1668            2                   97.2                               78.8   \n",
       "\n",
       "      away_defensive_rebounds  ...  home_two_point_field_goals  \\\n",
       "0                          19  ...                          31   \n",
       "1                          26  ...                          18   \n",
       "2                          22  ...                          22   \n",
       "3                          18  ...                          15   \n",
       "4                          14  ...                          19   \n",
       "...                       ...  ...                         ...   \n",
       "1664                       27  ...                          25   \n",
       "1665                       29  ...                          18   \n",
       "1666                       17  ...                          14   \n",
       "1667                       19  ...                          25   \n",
       "1668                       26  ...                          17   \n",
       "\n",
       "      home_win_percentage  home_wins  \\\n",
       "0                     0.0          0   \n",
       "1                     0.0          0   \n",
       "2                     0.0          0   \n",
       "3                     0.0          0   \n",
       "4                     0.0          0   \n",
       "...                   ...        ...   \n",
       "1664                  0.0          0   \n",
       "1665                  0.0          0   \n",
       "1666                  0.0          0   \n",
       "1667                  0.0          0   \n",
       "1668                  0.0          0   \n",
       "\n",
       "                                               location  \\\n",
       "0        McCarthey Athletic Center, Spokane, Washington   \n",
       "1              Pauley Pavilion, Los Angeles, California   \n",
       "2        Madison Square Garden (IV), New York, New York   \n",
       "3            Finneran Pavilion, Villanova, Pennsylvania   \n",
       "4                     Frank Erwin Center, Austin, Texas   \n",
       "...                                                 ...   \n",
       "1664                                                NaN   \n",
       "1665                          Centrum, Cedar City, Utah   \n",
       "1666  Bryce Jordan Center, University Park, Pennsylv...   \n",
       "1667              Beasley Coliseum, Pullman, Washington   \n",
       "1668  Paul Porter Arena, Boiling Springs, North Caro...   \n",
       "\n",
       "                losing_abbr            losing_name  pace  winner  \\\n",
       "0               DIXIE-STATE            Dixie State  81.2    Home   \n",
       "1     CAL-STATE-BAKERSFIELD  Cal State Bakersfield  78.1    Home   \n",
       "2            MICHIGAN-STATE         Michigan State  77.5    Away   \n",
       "3            MOUNT-ST-MARYS       Mount St. Mary's  62.2    Home   \n",
       "4           HOUSTON-BAPTIST        Houston Baptist  62.5    Home   \n",
       "...                     ...                    ...   ...     ...   \n",
       "1664                   UTAH                   Utah  69.8    Home   \n",
       "1665            UTAH-VALLEY            Utah Valley  66.5    Home   \n",
       "1666                 WAGNER                 Wagner  66.9    Home   \n",
       "1667            WEBER-STATE            Weber State  73.4    Home   \n",
       "1668           GARDNER-WEBB           Gardner-Webb  71.9    Away   \n",
       "\n",
       "          winning_abbr      winning_name  \n",
       "0              GONZAGA           Gonzaga  \n",
       "1                 UCLA              UCLA  \n",
       "2               KANSAS            Kansas  \n",
       "3            VILLANOVA         Villanova  \n",
       "4                TEXAS             Texas  \n",
       "...                ...               ...  \n",
       "1664   TEXAS-CHRISTIAN               TCU  \n",
       "1665     SOUTHERN-UTAH     Southern Utah  \n",
       "1666        PENN-STATE        Penn State  \n",
       "1667  WASHINGTON-STATE  Washington State  \n",
       "1668           WOFFORD           Wofford  \n",
       "\n",
       "[1669 rows x 89 columns]"
      ]
     },
     "execution_count": 3,
     "metadata": {},
     "output_type": "execute_result"
    }
   ],
   "source": [
    "df"
   ]
  },
  {
   "cell_type": "markdown",
   "metadata": {},
   "source": []
  },
  {
   "cell_type": "code",
   "execution_count": null,
   "metadata": {},
   "outputs": [],
   "source": [
    "def prepare_for_team_function(df, year=2022):\n",
    "    \n",
    "    df.drop(['Unnamed: 0', 'level_0'], axis = 1, inplace = True)\n",
    "    \n",
    "    work_df = df[['index', 'date', 'winning_name', 'losing_name', 'away_points', 'home_points', 'winner', \n",
    "    'location', 'away_field_goals','away_field_goal_attempts', 'away_three_point_field_goals', \n",
    "    'away_three_point_field_goal_attempts', 'away_free_throws', 'away_free_throw_attempts',\n",
    "    'away_offensive_rebounds', 'away_defensive_rebounds', 'away_assists', \n",
    "    'away_turnovers', 'away_steals', 'away_blocks', 'away_personal_fouls','home_field_goals',\n",
    "    'home_field_goal_attempts', 'home_three_point_field_goals', 'home_three_point_field_goal_attempts', \n",
    "    'home_free_throws', 'home_free_throw_attempts', 'home_offensive_rebounds', 'home_defensive_rebounds', \n",
    "    'home_assists', 'home_turnovers', 'home_steals', 'home_blocks', 'home_personal_fouls']]\n",
    "    \n",
    "    home_df = work_df.filter(like = 'home')\n",
    "    away_df = work_df.filter(like = 'away')\n",
    "    info_df = work_df[['index','date','winning_name', 'losing_name', 'winner', 'location']]\n",
    "    \n",
    "    winner_cols = ['index', 'date', 'winning_name', 'losing_name', 'winner', 'location',\n",
    "       'home_points', 'home_field_goals', 'home_field_goal_attempts',\n",
    "       'home_three_point_field_goals', 'home_three_point_field_goal_attempts',\n",
    "       'home_free_throws', 'home_free_throw_attempts',\n",
    "       'home_offensive_rebounds', 'home_defensive_rebounds', 'home_assists',\n",
    "       'home_turnovers', 'home_steals', 'home_blocks', 'home_personal_fouls',\n",
    "       'away_points', 'away_field_goals', 'away_field_goal_attempts',\n",
    "       'away_three_point_field_goals', 'away_three_point_field_goal_attempts',\n",
    "       'away_free_throws', 'away_free_throw_attempts',\n",
    "       'away_offensive_rebounds', 'away_defensive_rebounds', 'away_assists',\n",
    "       'away_turnovers', 'away_steals', 'away_blocks', 'away_personal_fouls']\n",
    "\n",
    "    away = ['index', 'date', 'winning_name', 'losing_name', 'winner', 'location',\n",
    "       'away_points', 'away_field_goals', 'away_field_goal_attempts',\n",
    "       'away_three_point_field_goals', 'away_three_point_field_goal_attempts',\n",
    "       'away_free_throws', 'away_free_throw_attempts',\n",
    "       'away_offensive_rebounds', 'away_defensive_rebounds', 'away_assists',\n",
    "       'away_turnovers', 'away_steals', 'away_blocks', 'away_personal_fouls',\n",
    "       'home_points', 'home_field_goals', 'home_field_goal_attempts',\n",
    "       'home_three_point_field_goals', 'home_three_point_field_goal_attempts',\n",
    "       'home_free_throws', 'home_free_throw_attempts',\n",
    "       'home_offensive_rebounds', 'home_defensive_rebounds', 'home_assists',\n",
    "       'home_turnovers', 'home_steals', 'home_blocks', 'home_personal_fouls']\n",
    "\n",
    "    new_cols = dict(zip(winner_cols, away))\n",
    "    \n",
    "    games = []\n",
    "\n",
    "    for i in range(len(work_df)):\n",
    "        if work_df.winner[i] == 'Home':\n",
    "            y = pd.concat([info_df.loc[[i]], home_df.loc[[i]], away_df.loc[[i]]], axis = 1)\n",
    "            games.append(y)\n",
    "        if work_df.winner[i] == 'Away':\n",
    "            x = pd.concat([info_df.loc[[i]], away_df.loc[[i]], home_df.loc[[i]]], axis = 1)\n",
    "            temp2 = x.rename(columns = new_cols)\n",
    "            games.append(temp2)\n",
    "    regularseason = pd.concat(games, axis = 0, ignore_index = True)\n",
    "    \n",
    "    regularseason['Season'] = year\n",
    "    \n",
    "    daynum = []\n",
    "\n",
    "    for i in range(len(df)):\n",
    "        daynum.append((datetime.strptime(df['date'][i], '%B %d, %Y') - datetime(2021,11,1)).days)\n",
    "    \n",
    "    regularseason['DayNum'] = pd.Series(daynum)\n",
    "    regularseason['NumOT'] = 0\n",
    "    \n",
    "    values = ['WTeamID', 'LTeamID', 'WLoc', 'WScore', 'WFGM', 'WFGA', 'WFGM3',\n",
    "       'WFGA3', 'WFTM', 'WFTA', 'WOR', 'WDR', 'WAst', 'WTO', 'WStl', 'WBlk',\n",
    "       'WPF', 'LScore', 'LFGM', 'LFGA', 'LFGM3', 'LFGA3', 'LFTM', 'LFTA',\n",
    "       'LOR', 'LDR', 'LAst', 'LTO', 'LStl', 'LBlk', 'LPF']\n",
    "    keys = ['winning_name', 'losing_name', 'winner', 'home_points', 'home_field_goals', 'home_field_goal_attempts', 'home_three_point_field_goals', \n",
    "         'home_three_point_field_goal_attempts', 'home_free_throws', 'home_free_throw_attempts', 'home_offensive_rebounds', 'home_defensive_rebounds', \n",
    "         'home_assists', 'home_turnovers', 'home_steals', 'home_blocks', 'home_personal_fouls', 'away_points', 'away_field_goals', 'away_field_goal_attempts', \n",
    "          'away_three_point_field_goals', 'away_three_point_field_goal_attempts', 'away_free_throws', 'away_free_throw_attempts', 'away_offensive_rebounds',\n",
    "          'away_defensive_rebounds', 'away_assists','away_turnovers', 'away_steals', 'away_blocks', 'away_personal_fouls']\n",
    "    \n",
    "    bbref_change = dict(zip(keys, values))\n",
    "    regularseason_ready = regularseason.rename(columns = bbref_change)\n",
    "    regularseason_ready = regularseason.drop(['Unnamed: 0', 'index', 'location', 'date'], axis = 1)\n",
    "    \n",
    "    regularseason_ready = regularseason_ready[['Season', 'DayNum', 'WTeamID', 'WScore', 'LTeamID', 'LScore',  'WLoc', 'NumOT',\n",
    "    'WFGM', 'WFGA', 'WFGM3', 'WFGA3', 'WFTM', 'WFTA', 'WOR', 'WDR', 'WAst', 'WTO', 'WStl', \n",
    "    'WBlk', 'WPF', 'LFGM', 'LFGA', 'LFGM3', 'LFGA3', 'LFTM', 'LFTA','LOR', 'LDR', 'LAst', \n",
    "    'LTO', 'LStl', 'LBlk', 'LPF']]"
   ]
  },
  {
   "cell_type": "code",
   "execution_count": 7,
   "metadata": {},
   "outputs": [],
   "source": [
    "df.drop(['Unnamed: 0', 'level_0'], axis = 1, inplace = True)\n",
    "\n",
    "work_df = df[['index', 'date', 'winning_name', 'losing_name', 'away_points', 'home_points', 'winner', \n",
    "    'location', 'away_field_goals','away_field_goal_attempts', 'away_three_point_field_goals', \n",
    "    'away_three_point_field_goal_attempts', 'away_free_throws', 'away_free_throw_attempts',\n",
    "    'away_offensive_rebounds', 'away_defensive_rebounds', 'away_assists', \n",
    "    'away_turnovers', 'away_steals', 'away_blocks', 'away_personal_fouls','home_field_goals',\n",
    "    'home_field_goal_attempts', 'home_three_point_field_goals', 'home_three_point_field_goal_attempts', \n",
    "    'home_free_throws', 'home_free_throw_attempts', 'home_offensive_rebounds', 'home_defensive_rebounds', \n",
    "    'home_assists', 'home_turnovers', 'home_steals', 'home_blocks', 'home_personal_fouls']]"
   ]
  },
  {
   "cell_type": "code",
   "execution_count": 8,
   "metadata": {},
   "outputs": [],
   "source": [
    "home_df = work_df.filter(like = 'home')\n",
    "away_df = work_df.filter(like = 'away')\n",
    "info_df = work_df[['index','date','winning_name', 'losing_name', 'winner', 'location']]"
   ]
  },
  {
   "cell_type": "code",
   "execution_count": 9,
   "metadata": {},
   "outputs": [],
   "source": [
    "winner_cols = ['index', 'date', 'winning_name', 'losing_name', 'winner', 'location',\n",
    "       'home_points', 'home_field_goals', 'home_field_goal_attempts',\n",
    "       'home_three_point_field_goals', 'home_three_point_field_goal_attempts',\n",
    "       'home_free_throws', 'home_free_throw_attempts',\n",
    "       'home_offensive_rebounds', 'home_defensive_rebounds', 'home_assists',\n",
    "       'home_turnovers', 'home_steals', 'home_blocks', 'home_personal_fouls',\n",
    "       'away_points', 'away_field_goals', 'away_field_goal_attempts',\n",
    "       'away_three_point_field_goals', 'away_three_point_field_goal_attempts',\n",
    "       'away_free_throws', 'away_free_throw_attempts',\n",
    "       'away_offensive_rebounds', 'away_defensive_rebounds', 'away_assists',\n",
    "       'away_turnovers', 'away_steals', 'away_blocks', 'away_personal_fouls']\n",
    "\n",
    "away = ['index', 'date', 'winning_name', 'losing_name', 'winner', 'location',\n",
    "       'away_points', 'away_field_goals', 'away_field_goal_attempts',\n",
    "       'away_three_point_field_goals', 'away_three_point_field_goal_attempts',\n",
    "       'away_free_throws', 'away_free_throw_attempts',\n",
    "       'away_offensive_rebounds', 'away_defensive_rebounds', 'away_assists',\n",
    "       'away_turnovers', 'away_steals', 'away_blocks', 'away_personal_fouls',\n",
    "       'home_points', 'home_field_goals', 'home_field_goal_attempts',\n",
    "       'home_three_point_field_goals', 'home_three_point_field_goal_attempts',\n",
    "       'home_free_throws', 'home_free_throw_attempts',\n",
    "       'home_offensive_rebounds', 'home_defensive_rebounds', 'home_assists',\n",
    "       'home_turnovers', 'home_steals', 'home_blocks', 'home_personal_fouls']\n",
    "\n",
    "new_cols = dict(zip(winner_cols, away))"
   ]
  },
  {
   "cell_type": "code",
   "execution_count": 10,
   "metadata": {},
   "outputs": [],
   "source": [
    "games = []\n",
    "\n",
    "for i in range(len(work_df)):\n",
    "    if work_df.winner[i] == 'Home':\n",
    "        y = pd.concat([info_df.loc[[i]], home_df.loc[[i]], away_df.loc[[i]]], axis = 1)\n",
    "        games.append(y)\n",
    "    if work_df.winner[i] == 'Away':\n",
    "        x = pd.concat([info_df.loc[[i]], away_df.loc[[i]], home_df.loc[[i]]], axis = 1)\n",
    "        temp2 = x.rename(columns = new_cols)\n",
    "        games.append(temp2)"
   ]
  },
  {
   "cell_type": "code",
   "execution_count": 267,
   "metadata": {},
   "outputs": [],
   "source": [
    "#regularseason21 = pd.concat(games, axis = 0, ignore_index = True)\n",
    "#regularseason21.to_csv('data/regularseason21.csv')"
   ]
  },
  {
   "cell_type": "code",
   "execution_count": 11,
   "metadata": {},
   "outputs": [],
   "source": [
    "regularseason21 = pd.read_csv('data/regularseason21.csv')"
   ]
  },
  {
   "cell_type": "code",
   "execution_count": 12,
   "metadata": {},
   "outputs": [
    {
     "data": {
      "text/plain": [
       "Index(['Season', 'DayNum', 'WTeamID', 'WScore', 'LTeamID', 'LScore', 'WLoc',\n",
       "       'NumOT', 'WFGM', 'WFGA', 'WFGM3', 'WFGA3', 'WFTM', 'WFTA', 'WOR', 'WDR',\n",
       "       'WAst', 'WTO', 'WStl', 'WBlk', 'WPF', 'LFGM', 'LFGA', 'LFGM3', 'LFGA3',\n",
       "       'LFTM', 'LFTA', 'LOR', 'LDR', 'LAst', 'LTO', 'LStl', 'LBlk', 'LPF'],\n",
       "      dtype='object')"
      ]
     },
     "execution_count": 12,
     "metadata": {},
     "output_type": "execute_result"
    }
   ],
   "source": [
    "regularseason = pd.read_csv('MDataFiles_Stage1/MRegularSeasonDetailedResults.csv')\n",
    "regularseason.columns"
   ]
  },
  {
   "cell_type": "code",
   "execution_count": 13,
   "metadata": {},
   "outputs": [
    {
     "data": {
      "text/plain": [
       "Index(['Unnamed: 0', 'index', 'date', 'winning_name', 'losing_name', 'winner',\n",
       "       'location', 'home_points', 'home_field_goals',\n",
       "       'home_field_goal_attempts', 'home_three_point_field_goals',\n",
       "       'home_three_point_field_goal_attempts', 'home_free_throws',\n",
       "       'home_free_throw_attempts', 'home_offensive_rebounds',\n",
       "       'home_defensive_rebounds', 'home_assists', 'home_turnovers',\n",
       "       'home_steals', 'home_blocks', 'home_personal_fouls', 'away_points',\n",
       "       'away_field_goals', 'away_field_goal_attempts',\n",
       "       'away_three_point_field_goals', 'away_three_point_field_goal_attempts',\n",
       "       'away_free_throws', 'away_free_throw_attempts',\n",
       "       'away_offensive_rebounds', 'away_defensive_rebounds', 'away_assists',\n",
       "       'away_turnovers', 'away_steals', 'away_blocks', 'away_personal_fouls'],\n",
       "      dtype='object')"
      ]
     },
     "execution_count": 13,
     "metadata": {},
     "output_type": "execute_result"
    }
   ],
   "source": [
    "regularseason21.columns"
   ]
  },
  {
   "cell_type": "code",
   "execution_count": 60,
   "metadata": {},
   "outputs": [],
   "source": [
    "df = regularseason21"
   ]
  },
  {
   "cell_type": "code",
   "execution_count": 61,
   "metadata": {},
   "outputs": [],
   "source": [
    "df['Season'] = 2022"
   ]
  },
  {
   "cell_type": "code",
   "execution_count": 62,
   "metadata": {},
   "outputs": [
    {
     "data": {
      "text/plain": [
       "'November 9, 2021'"
      ]
     },
     "execution_count": 62,
     "metadata": {},
     "output_type": "execute_result"
    }
   ],
   "source": [
    "df['date'][1]"
   ]
  },
  {
   "cell_type": "code",
   "execution_count": 63,
   "metadata": {},
   "outputs": [],
   "source": [
    "DayNum = []\n",
    "\n",
    "for i in range(len(df)):\n",
    "    DayNum.append((datetime.strptime(df['date'][i], '%B %d, %Y') - datetime(2021,11,1)).days)\n",
    "    \n",
    "df['DayNum'] = pd.Series(DayNum)"
   ]
  },
  {
   "cell_type": "code",
   "execution_count": 64,
   "metadata": {},
   "outputs": [],
   "source": [
    "df['NumOT'] = 0"
   ]
  },
  {
   "cell_type": "code",
   "execution_count": 65,
   "metadata": {},
   "outputs": [
    {
     "data": {
      "text/plain": [
       "31"
      ]
     },
     "execution_count": 65,
     "metadata": {},
     "output_type": "execute_result"
    }
   ],
   "source": [
    "values = ['WTeamID', 'LTeamID', 'WLoc', 'WScore', 'WFGM', 'WFGA', 'WFGM3',\n",
    "       'WFGA3', 'WFTM', 'WFTA', 'WOR', 'WDR', 'WAst', 'WTO', 'WStl', 'WBlk',\n",
    "       'WPF', 'LScore', 'LFGM', 'LFGA', 'LFGM3', 'LFGA3', 'LFTM', 'LFTA',\n",
    "       'LOR', 'LDR', 'LAst', 'LTO', 'LStl', 'LBlk', 'LPF']\n",
    "len(new_keys)"
   ]
  },
  {
   "cell_type": "code",
   "execution_count": 66,
   "metadata": {},
   "outputs": [],
   "source": [
    "keys = ['winning_name', 'losing_name', 'winner', 'home_points', 'home_field_goals', 'home_field_goal_attempts', 'home_three_point_field_goals', \n",
    "         'home_three_point_field_goal_attempts', 'home_free_throws', 'home_free_throw_attempts', 'home_offensive_rebounds', 'home_defensive_rebounds', \n",
    "         'home_assists', 'home_turnovers', 'home_steals', 'home_blocks', 'home_personal_fouls', 'away_points', 'away_field_goals', 'away_field_goal_attempts', \n",
    "          'away_three_point_field_goals', 'away_three_point_field_goal_attempts', 'away_free_throws', 'away_free_throw_attempts', 'away_offensive_rebounds',\n",
    "          'away_defensive_rebounds', 'away_assists','away_turnovers', 'away_steals', 'away_blocks', 'away_personal_fouls']"
   ]
  },
  {
   "cell_type": "code",
   "execution_count": 67,
   "metadata": {},
   "outputs": [
    {
     "data": {
      "text/plain": [
       "31"
      ]
     },
     "execution_count": 67,
     "metadata": {},
     "output_type": "execute_result"
    }
   ],
   "source": [
    "len(values)"
   ]
  },
  {
   "cell_type": "code",
   "execution_count": 68,
   "metadata": {},
   "outputs": [
    {
     "data": {
      "text/plain": [
       "{'winning_name': 'WTeamID',\n",
       " 'losing_name': 'LTeamID',\n",
       " 'winner': 'WLoc',\n",
       " 'home_points': 'WScore',\n",
       " 'home_field_goals': 'WFGM',\n",
       " 'home_field_goal_attempts': 'WFGA',\n",
       " 'home_three_point_field_goals': 'WFGM3',\n",
       " 'home_three_point_field_goal_attempts': 'WFGA3',\n",
       " 'home_free_throws': 'WFTM',\n",
       " 'home_free_throw_attempts': 'WFTA',\n",
       " 'home_offensive_rebounds': 'WOR',\n",
       " 'home_defensive_rebounds': 'WDR',\n",
       " 'home_assists': 'WAst',\n",
       " 'home_turnovers': 'WTO',\n",
       " 'home_steals': 'WStl',\n",
       " 'home_blocks': 'WBlk',\n",
       " 'home_personal_fouls': 'WPF',\n",
       " 'away_points': 'LScore',\n",
       " 'away_field_goals': 'LFGM',\n",
       " 'away_field_goal_attempts': 'LFGA',\n",
       " 'away_three_point_field_goals': 'LFGM3',\n",
       " 'away_three_point_field_goal_attempts': 'LFGA3',\n",
       " 'away_free_throws': 'LFTM',\n",
       " 'away_free_throw_attempts': 'LFTA',\n",
       " 'away_offensive_rebounds': 'LOR',\n",
       " 'away_defensive_rebounds': 'LDR',\n",
       " 'away_assists': 'LAst',\n",
       " 'away_turnovers': 'LTO',\n",
       " 'away_steals': 'LStl',\n",
       " 'away_blocks': 'LBlk',\n",
       " 'away_personal_fouls': 'LPF'}"
      ]
     },
     "execution_count": 68,
     "metadata": {},
     "output_type": "execute_result"
    }
   ],
   "source": [
    "bbref_change = dict(zip(values,new_keys))\n",
    "bbref_change"
   ]
  },
  {
   "cell_type": "code",
   "execution_count": 69,
   "metadata": {},
   "outputs": [
    {
     "data": {
      "text/plain": [
       "Index(['WTeamID', 'LTeamID', 'WLoc', 'WScore', 'WFGM', 'WFGA', 'WFGM3',\n",
       "       'WFGA3', 'WFTM', 'WFTA', 'WOR', 'WDR', 'WAst', 'WTO', 'WStl', 'WBlk',\n",
       "       'WPF', 'LScore', 'LFGM', 'LFGA', 'LFGM3', 'LFGA3', 'LFTM', 'LFTA',\n",
       "       'LOR', 'LDR', 'LAst', 'LTO', 'LStl', 'LBlk', 'LPF', 'Season', 'DayNum',\n",
       "       'NumOT'],\n",
       "      dtype='object')"
      ]
     },
     "execution_count": 69,
     "metadata": {},
     "output_type": "execute_result"
    }
   ],
   "source": [
    "df = df.rename(columns = bbref_change)\n",
    "df = df.drop(['Unnamed: 0', 'index', 'location', 'date'], axis = 1)\n",
    "df.columns"
   ]
  },
  {
   "cell_type": "code",
   "execution_count": 70,
   "metadata": {},
   "outputs": [],
   "source": [
    "df = df[['Season', 'DayNum', 'WTeamID', 'WScore', 'LTeamID', 'LScore',  'WLoc', 'NumOT',\n",
    "    'WFGM', 'WFGA', 'WFGM3', 'WFGA3', 'WFTM', 'WFTA', 'WOR', 'WDR', 'WAst', 'WTO', 'WStl', \n",
    "    'WBlk', 'WPF', 'LFGM', 'LFGA', 'LFGM3', 'LFGA3', 'LFTM', 'LFTA','LOR', 'LDR', 'LAst', \n",
    "    'LTO', 'LStl', 'LBlk', 'LPF']]\n",
    "       "
   ]
  },
  {
   "cell_type": "code",
   "execution_count": 90,
   "metadata": {},
   "outputs": [],
   "source": [
    "df.to_csv('data/regularseason21.csv')"
   ]
  },
  {
   "cell_type": "code",
   "execution_count": 91,
   "metadata": {},
   "outputs": [
    {
     "ename": "FileNotFoundError",
     "evalue": "[Errno 2] No such file or directory: 'data/TeamNames.csv'",
     "output_type": "error",
     "traceback": [
      "\u001b[1;31m---------------------------------------------------------------------------\u001b[0m",
      "\u001b[1;31mFileNotFoundError\u001b[0m                         Traceback (most recent call last)",
      "\u001b[1;32m<ipython-input-91-02cdddd82739>\u001b[0m in \u001b[0;36m<module>\u001b[1;34m\u001b[0m\n\u001b[1;32m----> 1\u001b[1;33m \u001b[0mTeamNames\u001b[0m \u001b[1;33m=\u001b[0m \u001b[0mpd\u001b[0m\u001b[1;33m.\u001b[0m\u001b[0mread_csv\u001b[0m\u001b[1;33m(\u001b[0m\u001b[1;34m'data/TeamNames.csv'\u001b[0m\u001b[1;33m,\u001b[0m \u001b[0mheader\u001b[0m \u001b[1;33m=\u001b[0m \u001b[1;32mNone\u001b[0m\u001b[1;33m)\u001b[0m\u001b[1;33m\u001b[0m\u001b[1;33m\u001b[0m\u001b[0m\n\u001b[0m\u001b[0;32m      2\u001b[0m \u001b[0mTeamNames\u001b[0m\u001b[1;33m.\u001b[0m\u001b[0mdrop\u001b[0m\u001b[1;33m(\u001b[0m\u001b[1;33m[\u001b[0m\u001b[1;36m0\u001b[0m\u001b[1;33m,\u001b[0m \u001b[1;36m3\u001b[0m\u001b[1;33m,\u001b[0m \u001b[1;36m4\u001b[0m\u001b[1;33m,\u001b[0m \u001b[1;36m5\u001b[0m\u001b[1;33m,\u001b[0m \u001b[1;36m6\u001b[0m\u001b[1;33m]\u001b[0m\u001b[1;33m,\u001b[0m \u001b[0maxis\u001b[0m \u001b[1;33m=\u001b[0m \u001b[1;36m1\u001b[0m\u001b[1;33m,\u001b[0m \u001b[0minplace\u001b[0m \u001b[1;33m=\u001b[0m \u001b[1;32mTrue\u001b[0m\u001b[1;33m)\u001b[0m\u001b[1;33m\u001b[0m\u001b[1;33m\u001b[0m\u001b[0m\n\u001b[0;32m      3\u001b[0m \u001b[0mTeamNames\u001b[0m\u001b[1;33m.\u001b[0m\u001b[0mdropna\u001b[0m\u001b[1;33m(\u001b[0m\u001b[0minplace\u001b[0m\u001b[1;33m=\u001b[0m \u001b[1;32mTrue\u001b[0m\u001b[1;33m)\u001b[0m\u001b[1;33m\u001b[0m\u001b[1;33m\u001b[0m\u001b[0m\n\u001b[0;32m      4\u001b[0m \u001b[0mTeamNames\u001b[0m\u001b[1;33m.\u001b[0m\u001b[0mrename\u001b[0m\u001b[1;33m(\u001b[0m\u001b[0mcolumns\u001b[0m \u001b[1;33m=\u001b[0m \u001b[1;33m{\u001b[0m\u001b[1;36m1\u001b[0m\u001b[1;33m:\u001b[0m \u001b[1;34m'TeamID'\u001b[0m\u001b[1;33m,\u001b[0m \u001b[1;36m2\u001b[0m\u001b[1;33m:\u001b[0m \u001b[1;34m'TeamName'\u001b[0m\u001b[1;33m}\u001b[0m\u001b[1;33m,\u001b[0m \u001b[0minplace\u001b[0m \u001b[1;33m=\u001b[0m \u001b[1;32mTrue\u001b[0m\u001b[1;33m)\u001b[0m\u001b[1;33m\u001b[0m\u001b[1;33m\u001b[0m\u001b[0m\n",
      "\u001b[1;32m~\\anaconda3\\envs\\learn-env\\lib\\site-packages\\pandas\\io\\parsers.py\u001b[0m in \u001b[0;36mread_csv\u001b[1;34m(filepath_or_buffer, sep, delimiter, header, names, index_col, usecols, squeeze, prefix, mangle_dupe_cols, dtype, engine, converters, true_values, false_values, skipinitialspace, skiprows, skipfooter, nrows, na_values, keep_default_na, na_filter, verbose, skip_blank_lines, parse_dates, infer_datetime_format, keep_date_col, date_parser, dayfirst, cache_dates, iterator, chunksize, compression, thousands, decimal, lineterminator, quotechar, quoting, doublequote, escapechar, comment, encoding, dialect, error_bad_lines, warn_bad_lines, delim_whitespace, low_memory, memory_map, float_precision)\u001b[0m\n\u001b[0;32m    684\u001b[0m     )\n\u001b[0;32m    685\u001b[0m \u001b[1;33m\u001b[0m\u001b[0m\n\u001b[1;32m--> 686\u001b[1;33m     \u001b[1;32mreturn\u001b[0m \u001b[0m_read\u001b[0m\u001b[1;33m(\u001b[0m\u001b[0mfilepath_or_buffer\u001b[0m\u001b[1;33m,\u001b[0m \u001b[0mkwds\u001b[0m\u001b[1;33m)\u001b[0m\u001b[1;33m\u001b[0m\u001b[1;33m\u001b[0m\u001b[0m\n\u001b[0m\u001b[0;32m    687\u001b[0m \u001b[1;33m\u001b[0m\u001b[0m\n\u001b[0;32m    688\u001b[0m \u001b[1;33m\u001b[0m\u001b[0m\n",
      "\u001b[1;32m~\\anaconda3\\envs\\learn-env\\lib\\site-packages\\pandas\\io\\parsers.py\u001b[0m in \u001b[0;36m_read\u001b[1;34m(filepath_or_buffer, kwds)\u001b[0m\n\u001b[0;32m    450\u001b[0m \u001b[1;33m\u001b[0m\u001b[0m\n\u001b[0;32m    451\u001b[0m     \u001b[1;31m# Create the parser.\u001b[0m\u001b[1;33m\u001b[0m\u001b[1;33m\u001b[0m\u001b[1;33m\u001b[0m\u001b[0m\n\u001b[1;32m--> 452\u001b[1;33m     \u001b[0mparser\u001b[0m \u001b[1;33m=\u001b[0m \u001b[0mTextFileReader\u001b[0m\u001b[1;33m(\u001b[0m\u001b[0mfp_or_buf\u001b[0m\u001b[1;33m,\u001b[0m \u001b[1;33m**\u001b[0m\u001b[0mkwds\u001b[0m\u001b[1;33m)\u001b[0m\u001b[1;33m\u001b[0m\u001b[1;33m\u001b[0m\u001b[0m\n\u001b[0m\u001b[0;32m    453\u001b[0m \u001b[1;33m\u001b[0m\u001b[0m\n\u001b[0;32m    454\u001b[0m     \u001b[1;32mif\u001b[0m \u001b[0mchunksize\u001b[0m \u001b[1;32mor\u001b[0m \u001b[0miterator\u001b[0m\u001b[1;33m:\u001b[0m\u001b[1;33m\u001b[0m\u001b[1;33m\u001b[0m\u001b[0m\n",
      "\u001b[1;32m~\\anaconda3\\envs\\learn-env\\lib\\site-packages\\pandas\\io\\parsers.py\u001b[0m in \u001b[0;36m__init__\u001b[1;34m(self, f, engine, **kwds)\u001b[0m\n\u001b[0;32m    944\u001b[0m             \u001b[0mself\u001b[0m\u001b[1;33m.\u001b[0m\u001b[0moptions\u001b[0m\u001b[1;33m[\u001b[0m\u001b[1;34m\"has_index_names\"\u001b[0m\u001b[1;33m]\u001b[0m \u001b[1;33m=\u001b[0m \u001b[0mkwds\u001b[0m\u001b[1;33m[\u001b[0m\u001b[1;34m\"has_index_names\"\u001b[0m\u001b[1;33m]\u001b[0m\u001b[1;33m\u001b[0m\u001b[1;33m\u001b[0m\u001b[0m\n\u001b[0;32m    945\u001b[0m \u001b[1;33m\u001b[0m\u001b[0m\n\u001b[1;32m--> 946\u001b[1;33m         \u001b[0mself\u001b[0m\u001b[1;33m.\u001b[0m\u001b[0m_make_engine\u001b[0m\u001b[1;33m(\u001b[0m\u001b[0mself\u001b[0m\u001b[1;33m.\u001b[0m\u001b[0mengine\u001b[0m\u001b[1;33m)\u001b[0m\u001b[1;33m\u001b[0m\u001b[1;33m\u001b[0m\u001b[0m\n\u001b[0m\u001b[0;32m    947\u001b[0m \u001b[1;33m\u001b[0m\u001b[0m\n\u001b[0;32m    948\u001b[0m     \u001b[1;32mdef\u001b[0m \u001b[0mclose\u001b[0m\u001b[1;33m(\u001b[0m\u001b[0mself\u001b[0m\u001b[1;33m)\u001b[0m\u001b[1;33m:\u001b[0m\u001b[1;33m\u001b[0m\u001b[1;33m\u001b[0m\u001b[0m\n",
      "\u001b[1;32m~\\anaconda3\\envs\\learn-env\\lib\\site-packages\\pandas\\io\\parsers.py\u001b[0m in \u001b[0;36m_make_engine\u001b[1;34m(self, engine)\u001b[0m\n\u001b[0;32m   1176\u001b[0m     \u001b[1;32mdef\u001b[0m \u001b[0m_make_engine\u001b[0m\u001b[1;33m(\u001b[0m\u001b[0mself\u001b[0m\u001b[1;33m,\u001b[0m \u001b[0mengine\u001b[0m\u001b[1;33m=\u001b[0m\u001b[1;34m\"c\"\u001b[0m\u001b[1;33m)\u001b[0m\u001b[1;33m:\u001b[0m\u001b[1;33m\u001b[0m\u001b[1;33m\u001b[0m\u001b[0m\n\u001b[0;32m   1177\u001b[0m         \u001b[1;32mif\u001b[0m \u001b[0mengine\u001b[0m \u001b[1;33m==\u001b[0m \u001b[1;34m\"c\"\u001b[0m\u001b[1;33m:\u001b[0m\u001b[1;33m\u001b[0m\u001b[1;33m\u001b[0m\u001b[0m\n\u001b[1;32m-> 1178\u001b[1;33m             \u001b[0mself\u001b[0m\u001b[1;33m.\u001b[0m\u001b[0m_engine\u001b[0m \u001b[1;33m=\u001b[0m \u001b[0mCParserWrapper\u001b[0m\u001b[1;33m(\u001b[0m\u001b[0mself\u001b[0m\u001b[1;33m.\u001b[0m\u001b[0mf\u001b[0m\u001b[1;33m,\u001b[0m \u001b[1;33m**\u001b[0m\u001b[0mself\u001b[0m\u001b[1;33m.\u001b[0m\u001b[0moptions\u001b[0m\u001b[1;33m)\u001b[0m\u001b[1;33m\u001b[0m\u001b[1;33m\u001b[0m\u001b[0m\n\u001b[0m\u001b[0;32m   1179\u001b[0m         \u001b[1;32melse\u001b[0m\u001b[1;33m:\u001b[0m\u001b[1;33m\u001b[0m\u001b[1;33m\u001b[0m\u001b[0m\n\u001b[0;32m   1180\u001b[0m             \u001b[1;32mif\u001b[0m \u001b[0mengine\u001b[0m \u001b[1;33m==\u001b[0m \u001b[1;34m\"python\"\u001b[0m\u001b[1;33m:\u001b[0m\u001b[1;33m\u001b[0m\u001b[1;33m\u001b[0m\u001b[0m\n",
      "\u001b[1;32m~\\anaconda3\\envs\\learn-env\\lib\\site-packages\\pandas\\io\\parsers.py\u001b[0m in \u001b[0;36m__init__\u001b[1;34m(self, src, **kwds)\u001b[0m\n\u001b[0;32m   2006\u001b[0m         \u001b[0mkwds\u001b[0m\u001b[1;33m[\u001b[0m\u001b[1;34m\"usecols\"\u001b[0m\u001b[1;33m]\u001b[0m \u001b[1;33m=\u001b[0m \u001b[0mself\u001b[0m\u001b[1;33m.\u001b[0m\u001b[0musecols\u001b[0m\u001b[1;33m\u001b[0m\u001b[1;33m\u001b[0m\u001b[0m\n\u001b[0;32m   2007\u001b[0m \u001b[1;33m\u001b[0m\u001b[0m\n\u001b[1;32m-> 2008\u001b[1;33m         \u001b[0mself\u001b[0m\u001b[1;33m.\u001b[0m\u001b[0m_reader\u001b[0m \u001b[1;33m=\u001b[0m \u001b[0mparsers\u001b[0m\u001b[1;33m.\u001b[0m\u001b[0mTextReader\u001b[0m\u001b[1;33m(\u001b[0m\u001b[0msrc\u001b[0m\u001b[1;33m,\u001b[0m \u001b[1;33m**\u001b[0m\u001b[0mkwds\u001b[0m\u001b[1;33m)\u001b[0m\u001b[1;33m\u001b[0m\u001b[1;33m\u001b[0m\u001b[0m\n\u001b[0m\u001b[0;32m   2009\u001b[0m         \u001b[0mself\u001b[0m\u001b[1;33m.\u001b[0m\u001b[0munnamed_cols\u001b[0m \u001b[1;33m=\u001b[0m \u001b[0mself\u001b[0m\u001b[1;33m.\u001b[0m\u001b[0m_reader\u001b[0m\u001b[1;33m.\u001b[0m\u001b[0munnamed_cols\u001b[0m\u001b[1;33m\u001b[0m\u001b[1;33m\u001b[0m\u001b[0m\n\u001b[0;32m   2010\u001b[0m \u001b[1;33m\u001b[0m\u001b[0m\n",
      "\u001b[1;32mpandas\\_libs\\parsers.pyx\u001b[0m in \u001b[0;36mpandas._libs.parsers.TextReader.__cinit__\u001b[1;34m()\u001b[0m\n",
      "\u001b[1;32mpandas\\_libs\\parsers.pyx\u001b[0m in \u001b[0;36mpandas._libs.parsers.TextReader._setup_parser_source\u001b[1;34m()\u001b[0m\n",
      "\u001b[1;31mFileNotFoundError\u001b[0m: [Errno 2] No such file or directory: 'data/TeamNames.csv'"
     ]
    }
   ],
   "source": [
    "TeamNames = pd.read_csv('data/TeamNames.csv', header = None)\n",
    "TeamNames.drop([0, 3, 4, 5, 6], axis = 1, inplace = True)\n",
    "TeamNames.dropna(inplace= True)\n",
    "TeamNames.rename(columns = {1: 'TeamID', 2: 'TeamName'}, inplace = True)"
   ]
  },
  {
   "cell_type": "code",
   "execution_count": 75,
   "metadata": {},
   "outputs": [
    {
     "name": "stdout",
     "output_type": "stream",
     "text": [
      "<class 'pandas.core.frame.DataFrame'>\n",
      "RangeIndex: 1669 entries, 0 to 1668\n",
      "Data columns (total 34 columns):\n",
      " #   Column   Non-Null Count  Dtype \n",
      "---  ------   --------------  ----- \n",
      " 0   Season   1669 non-null   int64 \n",
      " 1   DayNum   1669 non-null   int64 \n",
      " 2   WTeamID  1669 non-null   object\n",
      " 3   WScore   1669 non-null   int64 \n",
      " 4   LTeamID  1669 non-null   object\n",
      " 5   LScore   1669 non-null   int64 \n",
      " 6   WLoc     1669 non-null   object\n",
      " 7   NumOT    1669 non-null   int64 \n",
      " 8   WFGM     1669 non-null   int64 \n",
      " 9   WFGA     1669 non-null   int64 \n",
      " 10  WFGM3    1669 non-null   int64 \n",
      " 11  WFGA3    1669 non-null   int64 \n",
      " 12  WFTM     1669 non-null   int64 \n",
      " 13  WFTA     1669 non-null   int64 \n",
      " 14  WOR      1669 non-null   int64 \n",
      " 15  WDR      1669 non-null   int64 \n",
      " 16  WAst     1669 non-null   int64 \n",
      " 17  WTO      1669 non-null   int64 \n",
      " 18  WStl     1669 non-null   int64 \n",
      " 19  WBlk     1669 non-null   int64 \n",
      " 20  WPF      1669 non-null   int64 \n",
      " 21  LFGM     1669 non-null   int64 \n",
      " 22  LFGA     1669 non-null   int64 \n",
      " 23  LFGM3    1669 non-null   int64 \n",
      " 24  LFGA3    1669 non-null   int64 \n",
      " 25  LFTM     1669 non-null   int64 \n",
      " 26  LFTA     1669 non-null   int64 \n",
      " 27  LOR      1669 non-null   int64 \n",
      " 28  LDR      1669 non-null   int64 \n",
      " 29  LAst     1669 non-null   int64 \n",
      " 30  LTO      1669 non-null   int64 \n",
      " 31  LStl     1669 non-null   int64 \n",
      " 32  LBlk     1669 non-null   int64 \n",
      " 33  LPF      1669 non-null   int64 \n",
      "dtypes: int64(31), object(3)\n",
      "memory usage: 443.5+ KB\n"
     ]
    }
   ],
   "source": [
    "df.info()"
   ]
  },
  {
   "cell_type": "code",
   "execution_count": 87,
   "metadata": {},
   "outputs": [
    {
     "data": {
      "text/plain": [
       "1669"
      ]
     },
     "execution_count": 87,
     "metadata": {},
     "output_type": "execute_result"
    }
   ],
   "source": [
    "len(df.LTeamID)"
   ]
  },
  {
   "cell_type": "code",
   "execution_count": 88,
   "metadata": {},
   "outputs": [
    {
     "data": {
      "text/plain": [
       "Coppin State                11\n",
       "Carver College\\r\\n\\t\\t\\t    11\n",
       "North Florida                9\n",
       "Arkansas-Pine Bluff          9\n",
       "Oregon State                 8\n",
       "                            ..\n",
       "Spalding\\r\\n\\t\\t\\t           1\n",
       "Campbellsville\\r\\n\\t\\t\\t     1\n",
       "Webster\\r\\n\\t\\t\\t            1\n",
       "Chattanooga                  1\n",
       "Rocky Mountain\\r\\n\\t\\t\\t     1\n",
       "Name: LTeamID, Length: 575, dtype: int64"
      ]
     },
     "execution_count": 88,
     "metadata": {},
     "output_type": "execute_result"
    }
   ],
   "source": [
    "df.LTeamID.value_counts()"
   ]
  },
  {
   "cell_type": "code",
   "execution_count": null,
   "metadata": {},
   "outputs": [],
   "source": []
  }
 ],
 "metadata": {
  "kernelspec": {
   "display_name": "Python (learn-env)",
   "language": "python",
   "name": "learn-env"
  },
  "language_info": {
   "codemirror_mode": {
    "name": "ipython",
    "version": 3
   },
   "file_extension": ".py",
   "mimetype": "text/x-python",
   "name": "python",
   "nbconvert_exporter": "python",
   "pygments_lexer": "ipython3",
   "version": "3.8.5"
  }
 },
 "nbformat": 4,
 "nbformat_minor": 4
}
