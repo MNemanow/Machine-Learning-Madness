{
 "cells": [
  {
   "cell_type": "markdown",
   "metadata": {},
   "source": [
    "# Matts Notebook"
   ]
  },
  {
   "cell_type": "code",
   "execution_count": 167,
   "metadata": {},
   "outputs": [],
   "source": [
    "#Import the relevant packages\n",
    "import pandas as pd\n",
    "import numpy as np\n",
    "from sklearn.linear_model import LogisticRegression\n",
    "from sklearn.model_selection import cross_val_score, train_test_split,GridSearchCV\n",
    "from sklearn.metrics import plot_confusion_matrix, plot_roc_curve, accuracy_score,recall_score,precision_score,\\\n",
    "                            f1_score\n",
    "from sklearn.neighbors import KNeighborsClassifier\n",
    "from sklearn.preprocessing import StandardScaler\n",
    "from sklearn.tree import DecisionTreeClassifier, plot_tree\n",
    "from sklearn.ensemble import BaggingClassifier, RandomForestClassifier\n",
    "from sklearn.datasets import load_iris"
   ]
  },
  {
   "cell_type": "code",
   "execution_count": 130,
   "metadata": {},
   "outputs": [
    {
     "name": "stdout",
     "output_type": "stream",
     "text": [
      "['setosa' 'versicolor' 'virginica']\n",
      "['sepal length (cm)', 'sepal width (cm)', 'petal length (cm)', 'petal width (cm)']\n"
     ]
    }
   ],
   "source": [
    "iris = load_iris() \n",
    "print(iris.target_names)\n",
    "print(iris.feature_names)"
   ]
  },
  {
   "cell_type": "code",
   "execution_count": 131,
   "metadata": {},
   "outputs": [
    {
     "data": {
      "text/plain": [
       "((120, 2), (30, 2))"
      ]
     },
     "execution_count": 131,
     "metadata": {},
     "output_type": "execute_result"
    }
   ],
   "source": [
    "# petal length and width features\n",
    "feature_used = iris.feature_names[2:]\n",
    "X = iris.data[:, 2:] \n",
    "y = iris.target \n",
    "\n",
    "X_train, X_test, y_train, y_test = train_test_split(X, y, test_size=0.2, random_state=2)\n",
    "\n",
    "X_train.shape, X_test.shape"
   ]
  },
  {
   "cell_type": "markdown",
   "metadata": {},
   "source": [
    "## Building functions for project"
   ]
  },
  {
   "cell_type": "code",
   "execution_count": null,
   "metadata": {},
   "outputs": [],
   "source": [
    "#Standard Scaler\n",
    "def SS(X_train,X_test):\n",
    "    ss=StandardScaler()\n",
    "    ss.fit_transform(X_train)\n",
    "    ss.fit(X_test)"
   ]
  },
  {
   "cell_type": "code",
   "execution_count": 132,
   "metadata": {},
   "outputs": [],
   "source": [
    "#Logistic Regression\n",
    "def logreg(X_train,X_test,y_train,y_test,cv=5):\n",
    "    #Instantiate logistic regression\n",
    "    log=LogisticRegression(random_state=42)\n",
    "    #Fit it on train data\n",
    "    log.fit(X_train,y_train)\n",
    "    #Create y_pred using test data\n",
    "    y_pred=log.predict(X_test)\n",
    "    \n",
    "    #Use cross_val_score with cv folds\n",
    "    cv_results = cross_val_score(log, X_train, y_train, cv=cv)\n",
    "    print(f'Cross val mean score: {cv_results.mean()}')\n",
    "    \n",
    "    #Examine accuracy,recall,precision and f1 scores\n",
    "    acc_score=accuracy_score(y_test,y_pred)\n",
    "    print(f'accuracy score: {acc_score}')\n",
    "    #rec_score=recall_score(y_test,y_pred)\n",
    "    #print(f'recall score: {rec_score}')\n",
    "    #prec_score=precision_score(y_test,y_pred)\n",
    "   # print(f'precision score: {prec_score}')\n",
    "   # f1_score=f1_score(y_test,y_pred)\n",
    "   # print(f'f1 score: {f1_score}')\n",
    "    \n",
    "    #Plot an roc curve, only works with binary data\n",
    "    #plot_roc_curve(log, X_train, y_train);\n",
    "    \n",
    "    #Plot and examine confusion matrix\n",
    "    plot_confusion_matrix(log, X_train, y_train);\n",
    "    "
   ]
  },
  {
   "cell_type": "code",
   "execution_count": 133,
   "metadata": {
    "scrolled": true
   },
   "outputs": [
    {
     "name": "stdout",
     "output_type": "stream",
     "text": [
      "Cross val mean score: 0.9666666666666668\n",
      "accuracy score: 0.9666666666666667\n"
     ]
    },
    {
     "data": {
      "image/png": "[encoded data removed]",
      "text/plain": [
       "<Figure size 432x288 with 2 Axes>"
      ]
     },
     "metadata": {
      "needs_background": "light"
     },
     "output_type": "display_data"
    }
   ],
   "source": [
    "logreg(X_train,X_test,y_train,y_test)"
   ]
  },
  {
   "cell_type": "code",
   "execution_count": 134,
   "metadata": {},
   "outputs": [],
   "source": [
    "#for index in range(1,33,2):\n",
    "    #knn_model = KNeighborsClassifier(n_neighbors=index)\n",
    "    #knn_log_loss = -1 * cross_val_score(knn_model, X_train,\n",
    "                                       # y_train, scoring=\"neg_log_loss\").mean()\n",
    "    #print(f\"# of Neighbors: {index}, Log Loss Score: {knn_log_loss}\")"
   ]
  },
  {
   "cell_type": "code",
   "execution_count": 135,
   "metadata": {},
   "outputs": [
    {
     "name": "stdout",
     "output_type": "stream",
     "text": [
      "7\n",
      "0.0845337148363298\n"
     ]
    }
   ],
   "source": [
    "#def low_log_loss():\n",
    "knn_dict={}\n",
    "for index in range(1,33,2):\n",
    "        knn_model = KNeighborsClassifier(n_neighbors=index)\n",
    "        knn_log_loss = -1 * cross_val_score(knn_model, X_train,\n",
    "                                        y_train, scoring=\"neg_log_loss\").mean()\n",
    "        knn_dict[index]=(knn_log_loss)\n",
    "min_knn= min(knn_dict.values())\n",
    "low_key = list(knn_dict.keys())[list(knn_dict.values()).index(min_knn)]\n",
    "print(low_key)\n",
    "print(min_knn)"
   ]
  },
  {
   "cell_type": "code",
   "execution_count": 162,
   "metadata": {},
   "outputs": [],
   "source": [
    "grid = {\n",
    "    'n_neighbors': [1,3,5,7,9,11,13,15,17],\n",
    "    'metric': ['minkowski', 'manhattan'],\n",
    "    'weights': ['uniform', 'distance']\n",
    "}"
   ]
  },
  {
   "cell_type": "code",
   "execution_count": 163,
   "metadata": {},
   "outputs": [
    {
     "data": {
      "text/plain": [
       "KNeighborsClassifier()"
      ]
     },
     "execution_count": 163,
     "metadata": {},
     "output_type": "execute_result"
    }
   ],
   "source": [
    "grid_knn=KNeighborsClassifier()\n",
    "grid_knn.fit(X_train,y_train)"
   ]
  },
  {
   "cell_type": "code",
   "execution_count": 164,
   "metadata": {},
   "outputs": [],
   "source": [
    "gs = GridSearchCV(estimator=grid_knn, param_grid=grid, cv=5)"
   ]
  },
  {
   "cell_type": "code",
   "execution_count": 165,
   "metadata": {},
   "outputs": [
    {
     "data": {
      "text/plain": [
       "GridSearchCV(cv=5, estimator=KNeighborsClassifier(),\n",
       "             param_grid={'metric': ['minkowski', 'manhattan'],\n",
       "                         'n_neighbors': [1, 3, 5, 7, 9, 11, 13, 15, 17],\n",
       "                         'weights': ['uniform', 'distance']})"
      ]
     },
     "execution_count": 165,
     "metadata": {},
     "output_type": "execute_result"
    }
   ],
   "source": [
    "gs.fit(X_train, y_train)"
   ]
  },
  {
   "cell_type": "code",
   "execution_count": 166,
   "metadata": {},
   "outputs": [
    {
     "data": {
      "text/plain": [
       "{'metric': 'minkowski', 'n_neighbors': 1, 'weights': 'uniform'}"
      ]
     },
     "execution_count": 166,
     "metadata": {},
     "output_type": "execute_result"
    }
   ],
   "source": [
    "gs.best_params_"
   ]
  },
  {
   "cell_type": "code",
   "execution_count": 119,
   "metadata": {},
   "outputs": [],
   "source": [
    "#gs.cv_results_"
   ]
  },
  {
   "cell_type": "code",
   "execution_count": 120,
   "metadata": {},
   "outputs": [],
   "source": [
    "#K nearest neighbors\n",
    "def KNN(X_train,X_test,y_train,y_test,metric='minkowski',cv=5):\n",
    "    #Instantiate K nearest neighbors\n",
    "    #def low_log_loss():\n",
    "    knn_dict={}\n",
    "    for index in range(1,33,2):\n",
    "        knn_model = KNeighborsClassifier(n_neighbors=index)\n",
    "        knn_log_loss = -1 * cross_val_score(knn_model, X_train,\n",
    "                                        y_train, scoring=\"neg_log_loss\").mean()\n",
    "        knn_dict[index]=(knn_log_loss)\n",
    "    min_knn= min(knn_dict.values())\n",
    "    low_key = list(knn_dict.keys())[list(knn_dict.values()).index(min_knn)]\n",
    "    knn=KNeighborsClassifier(n_neighbors=low_key,metric=metric)\n",
    "    #Fit it on train data\n",
    "    knn.fit(X_train,y_train)\n",
    "    #Create y_pred using test data\n",
    "    y_pred=knn.predict(X_test)\n",
    "    #Use cross_val_score with cv folds\n",
    "    cv_results = cross_val_score(knn, X_train, y_train, cv=cv)\n",
    "    print(f'Cross val mean score: {cv_results.mean()}')\n",
    "    \n",
    "    #Examine accuracy,recall,precision and f1 scores\n",
    "    acc_score=accuracy_score(y_test,y_pred)\n",
    "    print(f'accuracy score: {acc_score}')\n",
    "    #rec_score=recall_score(y_test,y_pred)\n",
    "    #print(f'recall score: {rec_score}')\n",
    "    #prec_score=precison_score(y_test,y_pred)\n",
    "    #print(f'precision score: {prec_score}')\n",
    "    #f1_score=f1_score(y_test,y_pred)\n",
    "   # print(f'f1 score: {f1_score}')\n",
    "    \n",
    "    #Plot an roc curve\n",
    "    #plot_roc_curve(knn, X_train, y_train);\n",
    "    \n",
    "    \n",
    "    #Plot and examine confusion matrix\n",
    "    plot_confusion_matrix(knn, X_train, y_train);\n",
    "    "
   ]
  },
  {
   "cell_type": "code",
   "execution_count": 121,
   "metadata": {},
   "outputs": [
    {
     "name": "stdout",
     "output_type": "stream",
     "text": [
      "Cross val mean score: 0.9583333333333334\n",
      "accuracy score: 0.9666666666666667\n"
     ]
    },
    {
     "data": {
      "image/png": "[encoded data removed]",
      "text/plain": [
       "<Figure size 432x288 with 2 Axes>"
      ]
     },
     "metadata": {
      "needs_background": "light"
     },
     "output_type": "display_data"
    }
   ],
   "source": [
    "KNN(X_train,X_test,y_train,y_test)"
   ]
  },
  {
   "cell_type": "code",
   "execution_count": 122,
   "metadata": {},
   "outputs": [],
   "source": [
    "#Decision Trees\n",
    "def dtree(X_train,X_test,y_train,y_test,max_depth=3,criterion='gini',cv=5):\n",
    "    #Instantiate decision tree\n",
    "    Dtree=DecisionTreeClassifier(max_depth=max_depth,criterion=criterion,random_state=42)\n",
    "    #Fit it on train data\n",
    "    Dtree.fit(X_train,y_train)\n",
    "    #Create y_pred using test data\n",
    "    y_pred=Dtree.predict(X_test)\n",
    "    \n",
    "    #Use cross_val_score with cv folds\n",
    "    cv_results = cross_val_score(Dtree, X_train, y_train, cv=cv)\n",
    "    print(f'Cross val mean score: {cv_results.mean()}')\n",
    "    \n",
    "    #Examine accuracy,recall,precision and f1 scores\n",
    "    acc_score=accuracy_score(y_test,y_pred)\n",
    "    print(f'accuracy score: {acc_score}')\n",
    "    #rec_score=recall_score(y_test,y_pred)\n",
    "    #print(f'recall score: {rec_score}')\n",
    "    #prec_score=precison_score(y_test,y_pred)\n",
    "    #print(f'precision score: {prec_score}')\n",
    "    #f1_score=f1_score(y_test,y_pred)\n",
    "    #print(f'f1 score: {f1_score}')\n",
    "    \n",
    "    #Plot an roc curve\n",
    "    #plot_roc_curve(Dtree, X_train, y_train);\n",
    "    \n",
    "    #Plot and examine confusion matrix\n",
    "    plot_confusion_matrix(Dtree, X_train, y_train);"
   ]
  },
  {
   "cell_type": "code",
   "execution_count": 157,
   "metadata": {},
   "outputs": [],
   "source": [
    "grid_dtree = {\n",
    "    'max_depth': [2,3,4,5,6,7,8,9,10,11,12,13,14,15],\n",
    "    'min_samples_split': [2,3,4,5,6,7,8,9,10,11,12,13,14,15],\n",
    "    'criterion': ['gini', 'entropy']\n",
    "}"
   ]
  },
  {
   "cell_type": "code",
   "execution_count": 158,
   "metadata": {},
   "outputs": [
    {
     "data": {
      "text/plain": [
       "DecisionTreeClassifier()"
      ]
     },
     "execution_count": 158,
     "metadata": {},
     "output_type": "execute_result"
    }
   ],
   "source": [
    "grid_dtree2=DecisionTreeClassifier()\n",
    "grid_dtree2.fit(X_train,y_train)"
   ]
  },
  {
   "cell_type": "code",
   "execution_count": 159,
   "metadata": {},
   "outputs": [],
   "source": [
    "gs2 = GridSearchCV(estimator=grid_dtree2, param_grid=grid_dtree, cv=5)"
   ]
  },
  {
   "cell_type": "code",
   "execution_count": 160,
   "metadata": {},
   "outputs": [
    {
     "data": {
      "text/plain": [
       "GridSearchCV(cv=5, estimator=DecisionTreeClassifier(),\n",
       "             param_grid={'criterion': ['gini', 'entropy'],\n",
       "                         'max_depth': [2, 3, 4, 5, 6, 7, 8, 9, 10, 11, 12, 13,\n",
       "                                       14, 15],\n",
       "                         'min_samples_split': [2, 3, 4, 5, 6, 7, 8, 9, 10, 11,\n",
       "                                               12, 13, 14, 15]})"
      ]
     },
     "execution_count": 160,
     "metadata": {},
     "output_type": "execute_result"
    }
   ],
   "source": [
    "gs2.fit(X_train,y_train)"
   ]
  },
  {
   "cell_type": "code",
   "execution_count": 161,
   "metadata": {},
   "outputs": [
    {
     "data": {
      "text/plain": [
       "{'criterion': 'gini', 'max_depth': 2, 'min_samples_split': 2}"
      ]
     },
     "execution_count": 161,
     "metadata": {},
     "output_type": "execute_result"
    }
   ],
   "source": [
    "gs2.best_params_"
   ]
  },
  {
   "cell_type": "code",
   "execution_count": 123,
   "metadata": {},
   "outputs": [
    {
     "name": "stdout",
     "output_type": "stream",
     "text": [
      "Cross val mean score: 0.9583333333333333\n",
      "accuracy score: 0.9666666666666667\n"
     ]
    },
    {
     "data": {
      "image/png": "[encoded data removed]",
      "text/plain": [
       "<Figure size 432x288 with 2 Axes>"
      ]
     },
     "metadata": {
      "needs_background": "light"
     },
     "output_type": "display_data"
    }
   ],
   "source": [
    "dtree(X_train,X_test,y_train,y_test)"
   ]
  },
  {
   "cell_type": "code",
   "execution_count": 170,
   "metadata": {},
   "outputs": [],
   "source": [
    "def random_forest(X_train,X_test,y_train,y_test,n_estimators=100,criterion='gini',cv=5):\n",
    "    #Instantiate decision tree\n",
    "    rforest=RandomForestClassifier(n_estimators=n_estimators,criterion=criterion)\n",
    "    #Fit it on train data\n",
    "    rforest.fit(X_train,y_train)\n",
    "    #Create y_pred using test data\n",
    "    y_pred=rforest.predict(X_test)\n",
    "    \n",
    "    #Use cross_val_score with cv folds\n",
    "    cv_results = cross_val_score(rforest, X_train, y_train, cv=cv)\n",
    "    print(f'Cross val mean score: {cv_results.mean()}')\n",
    "    #print forest score\n",
    "    score=rforest.score(X_test,y_test)\n",
    "    print(f'Random Forest Score: {score}')\n",
    "    \n",
    "    #Examine accuracy,recall,precision and f1 scores\n",
    "    #acc_score=accuracy_score(y_test,y_pred)\n",
    "    #print(f'accuracy score: {acc_score}')\n",
    "    #rec_score=recall_score(y_test,y_pred)\n",
    "    #print(f'recall score: {rec_score}')\n",
    "    #prec_score=precison_score(y_test,y_pred)\n",
    "    #print(f'precision score: {prec_score}')\n",
    "    #f1_score=f1_score(y_test,y_pred)\n",
    "    #print(f'f1 score: {f1_score}')\n",
    "    \n",
    "    #Plot an roc curve\n",
    "    #plot_roc_curve(Dtree, X_train, y_train);\n",
    "    \n",
    "    #Plot and examine confusion matrix\n",
    "    plot_confusion_matrix(rforest, X_train, y_train);"
   ]
  },
  {
   "cell_type": "code",
   "execution_count": 171,
   "metadata": {},
   "outputs": [
    {
     "name": "stdout",
     "output_type": "stream",
     "text": [
      "Cross val mean score: 0.9666666666666668\n",
      "Random Forest Score: 0.9666666666666667\n"
     ]
    },
    {
     "data": {
      "image/png": "[encoded data removed]",
      "text/plain": [
       "<Figure size 432x288 with 2 Axes>"
      ]
     },
     "metadata": {
      "needs_background": "light"
     },
     "output_type": "display_data"
    }
   ],
   "source": [
    "random_forest(X_train,X_test,y_train,y_test,n_estimators=100,criterion='gini',cv=5)"
   ]
  },
  {
   "cell_type": "code",
   "execution_count": 172,
   "metadata": {},
   "outputs": [],
   "source": [
    "def bagged(X_train,X_test,y_train,y_test,n_estimators=100,criterion='gini',cv=5,max_depth=3):\n",
    "    #Instantiate decision tree\n",
    "    bagging=BaggingClassifier(DecisionTreeClassifier(max_depth=max_depth,criterion=criterion),\n",
    "                              n_estimators=n_estimators)\n",
    "    #Fit it on train data\n",
    "    bagging.fit(X_train,y_train)\n",
    "    #Create y_pred using test data\n",
    "    y_pred=bagging.predict(X_test)\n",
    "    \n",
    "    #Use cross_val_score with cv folds\n",
    "    cv_results = cross_val_score(bagging, X_train, y_train, cv=cv)\n",
    "    print(f'Cross val mean score: {cv_results.mean()}')\n",
    "    #print forest score\n",
    "    score=bagging.score(X_test,y_test)\n",
    "    print(f'Random Forest Score: {score}')\n",
    "    \n",
    "    #Examine accuracy,recall,precision and f1 scores\n",
    "    #acc_score=accuracy_score(y_test,y_pred)\n",
    "    #print(f'accuracy score: {acc_score}')\n",
    "    #rec_score=recall_score(y_test,y_pred)\n",
    "    #print(f'recall score: {rec_score}')\n",
    "    #prec_score=precison_score(y_test,y_pred)\n",
    "    #print(f'precision score: {prec_score}')\n",
    "    #f1_score=f1_score(y_test,y_pred)\n",
    "    #print(f'f1 score: {f1_score}')\n",
    "    \n",
    "    #Plot an roc curve\n",
    "    #plot_roc_curve(Dtree, X_train, y_train);\n",
    "    \n",
    "    #Plot and examine confusion matrix\n",
    "    plot_confusion_matrix(bagging, X_train, y_train);"
   ]
  },
  {
   "cell_type": "code",
   "execution_count": 173,
   "metadata": {},
   "outputs": [
    {
     "name": "stdout",
     "output_type": "stream",
     "text": [
      "Cross val mean score: 0.975\n",
      "Random Forest Score: 0.9666666666666667\n"
     ]
    },
    {
     "data": {
      "image/png": "[encoded data removed]",
      "text/plain": [
       "<Figure size 432x288 with 2 Axes>"
      ]
     },
     "metadata": {
      "needs_background": "light"
     },
     "output_type": "display_data"
    }
   ],
   "source": [
    "bagged(X_train,X_test,y_train,y_test,n_estimators=100,criterion='gini',cv=5,max_depth=3)"
   ]
  }
 ],
 "metadata": {
  "kernelspec": {
   "display_name": "Python 3",
   "language": "python",
   "name": "python3"
  },
  "language_info": {
   "codemirror_mode": {
    "name": "ipython",
    "version": 3
   },
   "file_extension": ".py",
   "mimetype": "text/x-python",
   "name": "python",
   "nbconvert_exporter": "python",
   "pygments_lexer": "ipython3",
   "version": "3.8.5"
  }
 },
 "nbformat": 4,
 "nbformat_minor": 4
}
