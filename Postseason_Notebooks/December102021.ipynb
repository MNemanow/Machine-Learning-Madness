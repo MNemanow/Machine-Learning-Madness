{
 "cells": [
  {
   "cell_type": "code",
   "execution_count": 21,
   "metadata": {
    "ExecuteTime": {
     "end_time": "2021-12-09T02:25:48.898941Z",
     "start_time": "2021-12-09T02:25:47.085995Z"
    }
   },
   "outputs": [],
   "source": [
    "# Import the relevant packages\n",
    "import pandas as pd\n",
    "import numpy as np\n",
    "import matplotlib.pyplot as plt\n",
    "from sklearn.linear_model import LogisticRegression\n",
    "from sklearn.model_selection import cross_val_score, train_test_split,GridSearchCV\n",
    "from sklearn.metrics import plot_confusion_matrix, plot_roc_curve, accuracy_score, \\\n",
    "recall_score, precision_score, f1_score\n",
    "from sklearn.neighbors import KNeighborsClassifier\n",
    "from sklearn.preprocessing import StandardScaler\n",
    "from sklearn.tree import DecisionTreeClassifier, plot_tree\n",
    "from sklearn.ensemble import BaggingClassifier, RandomForestClassifier\n",
    "from sklearn.datasets import load_iris\n",
    "from sklearn.ensemble import AdaBoostClassifier, GradientBoostingClassifier\n",
    "from xgboost import XGBClassifier\n",
    "import statsmodels.api as sm\n",
    "from sklearn.feature_selection import RFECV\n",
    "\n",
    "import warnings\n",
    "warnings.filterwarnings(\"ignore\")"
   ]
  },
  {
   "cell_type": "code",
   "execution_count": 22,
   "metadata": {
    "ExecuteTime": {
     "end_time": "2021-12-09T02:25:50.527300Z",
     "start_time": "2021-12-09T02:25:50.523898Z"
    }
   },
   "outputs": [],
   "source": [
    "#Import functions notebook and load data set here\n",
    "import sys\n",
    "sys.path.append(\"../\")\n",
    "from function_notebook_1 import *"
   ]
  },
  {
   "cell_type": "code",
   "execution_count": 23,
   "metadata": {
    "ExecuteTime": {
     "end_time": "2021-12-09T02:25:52.012901Z",
     "start_time": "2021-12-09T02:25:51.874345Z"
    }
   },
   "outputs": [],
   "source": [
    "df = pd.read_csv('../data/regularseason22.csv').drop(['Unnamed: 0', 'w_loc'], axis = 1)\n",
    "df2 = pd.read_csv('../data/2022_12_10_games.csv').drop(['Unnamed: 0', 'w_loc'], axis = 1)"
   ]
  },
  {
   "cell_type": "code",
   "execution_count": 24,
   "metadata": {
    "ExecuteTime": {
     "end_time": "2021-12-09T02:25:55.300729Z",
     "start_time": "2021-12-09T02:25:55.258420Z"
    }
   },
   "outputs": [
    {
     "data": {
      "text/html": [
       "<div>\n",
       "<style scoped>\n",
       "    .dataframe tbody tr th:only-of-type {\n",
       "        vertical-align: middle;\n",
       "    }\n",
       "\n",
       "    .dataframe tbody tr th {\n",
       "        vertical-align: top;\n",
       "    }\n",
       "\n",
       "    .dataframe thead th {\n",
       "        text-align: right;\n",
       "    }\n",
       "</style>\n",
       "<table border=\"1\" class=\"dataframe\">\n",
       "  <thead>\n",
       "    <tr style=\"text-align: right;\">\n",
       "      <th></th>\n",
       "      <th>W_TeamID</th>\n",
       "      <th>W_Score</th>\n",
       "      <th>W_FGM</th>\n",
       "      <th>W_FGA</th>\n",
       "      <th>W_FGM3</th>\n",
       "      <th>W_FGA3</th>\n",
       "      <th>W_FTM</th>\n",
       "      <th>W_FTA</th>\n",
       "      <th>W_OR</th>\n",
       "      <th>W_DR</th>\n",
       "      <th>...</th>\n",
       "      <th>L_Opp_TSpct</th>\n",
       "      <th>L_Opp_FTr</th>\n",
       "      <th>L_Opp_3Pr</th>\n",
       "      <th>L_Opp_TR</th>\n",
       "      <th>L_Opp_ATOr</th>\n",
       "      <th>L_Opp_Ast_%</th>\n",
       "      <th>L_Opp_Stl_%</th>\n",
       "      <th>L_Opp_Blk_%</th>\n",
       "      <th>L_Opp_TO_r</th>\n",
       "      <th>fav_win</th>\n",
       "    </tr>\n",
       "  </thead>\n",
       "  <tbody>\n",
       "    <tr>\n",
       "      <th>0</th>\n",
       "      <td>1202.0</td>\n",
       "      <td>81.000000</td>\n",
       "      <td>28.375000</td>\n",
       "      <td>62.500000</td>\n",
       "      <td>10.875000</td>\n",
       "      <td>28.500000</td>\n",
       "      <td>13.375000</td>\n",
       "      <td>18.750000</td>\n",
       "      <td>8.750000</td>\n",
       "      <td>24.125000</td>\n",
       "      <td>...</td>\n",
       "      <td>0.543292</td>\n",
       "      <td>0.252747</td>\n",
       "      <td>0.409615</td>\n",
       "      <td>29.857143</td>\n",
       "      <td>1.126582</td>\n",
       "      <td>0.542683</td>\n",
       "      <td>0.071935</td>\n",
       "      <td>0.054404</td>\n",
       "      <td>0.162318</td>\n",
       "      <td>True</td>\n",
       "    </tr>\n",
       "    <tr>\n",
       "      <th>1</th>\n",
       "      <td>1312.0</td>\n",
       "      <td>70.166667</td>\n",
       "      <td>24.000000</td>\n",
       "      <td>59.166667</td>\n",
       "      <td>8.000000</td>\n",
       "      <td>23.166667</td>\n",
       "      <td>14.166667</td>\n",
       "      <td>19.166667</td>\n",
       "      <td>7.333333</td>\n",
       "      <td>26.166667</td>\n",
       "      <td>...</td>\n",
       "      <td>0.523438</td>\n",
       "      <td>0.244076</td>\n",
       "      <td>0.365239</td>\n",
       "      <td>34.142857</td>\n",
       "      <td>1.089888</td>\n",
       "      <td>0.535912</td>\n",
       "      <td>0.102513</td>\n",
       "      <td>0.070529</td>\n",
       "      <td>0.158950</td>\n",
       "      <td>False</td>\n",
       "    </tr>\n",
       "    <tr>\n",
       "      <th>2</th>\n",
       "      <td>1295.0</td>\n",
       "      <td>59.285714</td>\n",
       "      <td>20.142857</td>\n",
       "      <td>54.571429</td>\n",
       "      <td>7.142857</td>\n",
       "      <td>24.142857</td>\n",
       "      <td>11.857143</td>\n",
       "      <td>16.571429</td>\n",
       "      <td>9.000000</td>\n",
       "      <td>24.285714</td>\n",
       "      <td>...</td>\n",
       "      <td>0.547202</td>\n",
       "      <td>0.282051</td>\n",
       "      <td>0.357264</td>\n",
       "      <td>33.428571</td>\n",
       "      <td>1.234568</td>\n",
       "      <td>0.571429</td>\n",
       "      <td>0.065082</td>\n",
       "      <td>0.068702</td>\n",
       "      <td>0.154802</td>\n",
       "      <td>True</td>\n",
       "    </tr>\n",
       "    <tr>\n",
       "      <th>3</th>\n",
       "      <td>1257.0</td>\n",
       "      <td>71.714286</td>\n",
       "      <td>25.571429</td>\n",
       "      <td>60.285714</td>\n",
       "      <td>8.000000</td>\n",
       "      <td>25.571429</td>\n",
       "      <td>12.571429</td>\n",
       "      <td>18.142857</td>\n",
       "      <td>10.428571</td>\n",
       "      <td>29.285714</td>\n",
       "      <td>...</td>\n",
       "      <td>0.494842</td>\n",
       "      <td>0.214567</td>\n",
       "      <td>0.341209</td>\n",
       "      <td>31.000000</td>\n",
       "      <td>0.884615</td>\n",
       "      <td>0.450980</td>\n",
       "      <td>0.069889</td>\n",
       "      <td>0.033074</td>\n",
       "      <td>0.156680</td>\n",
       "      <td>True</td>\n",
       "    </tr>\n",
       "    <tr>\n",
       "      <th>4</th>\n",
       "      <td>1282.0</td>\n",
       "      <td>64.000000</td>\n",
       "      <td>24.666667</td>\n",
       "      <td>53.666667</td>\n",
       "      <td>6.833333</td>\n",
       "      <td>19.166667</td>\n",
       "      <td>7.833333</td>\n",
       "      <td>11.666667</td>\n",
       "      <td>6.000000</td>\n",
       "      <td>21.666667</td>\n",
       "      <td>...</td>\n",
       "      <td>0.549126</td>\n",
       "      <td>0.349206</td>\n",
       "      <td>0.306331</td>\n",
       "      <td>32.428571</td>\n",
       "      <td>0.905405</td>\n",
       "      <td>0.403614</td>\n",
       "      <td>0.094405</td>\n",
       "      <td>0.046997</td>\n",
       "      <td>0.143773</td>\n",
       "      <td>True</td>\n",
       "    </tr>\n",
       "    <tr>\n",
       "      <th>5</th>\n",
       "      <td>1398.0</td>\n",
       "      <td>66.666667</td>\n",
       "      <td>23.833333</td>\n",
       "      <td>56.666667</td>\n",
       "      <td>7.333333</td>\n",
       "      <td>20.166667</td>\n",
       "      <td>11.666667</td>\n",
       "      <td>19.000000</td>\n",
       "      <td>9.000000</td>\n",
       "      <td>22.833333</td>\n",
       "      <td>...</td>\n",
       "      <td>0.521026</td>\n",
       "      <td>0.475921</td>\n",
       "      <td>0.337338</td>\n",
       "      <td>29.857143</td>\n",
       "      <td>0.962500</td>\n",
       "      <td>0.546099</td>\n",
       "      <td>0.120828</td>\n",
       "      <td>0.038012</td>\n",
       "      <td>0.156006</td>\n",
       "      <td>True</td>\n",
       "    </tr>\n",
       "    <tr>\n",
       "      <th>6</th>\n",
       "      <td>1435.0</td>\n",
       "      <td>70.285714</td>\n",
       "      <td>23.714286</td>\n",
       "      <td>59.285714</td>\n",
       "      <td>7.857143</td>\n",
       "      <td>27.000000</td>\n",
       "      <td>15.000000</td>\n",
       "      <td>21.285714</td>\n",
       "      <td>11.285714</td>\n",
       "      <td>23.142857</td>\n",
       "      <td>...</td>\n",
       "      <td>0.490398</td>\n",
       "      <td>0.264108</td>\n",
       "      <td>0.348995</td>\n",
       "      <td>28.875000</td>\n",
       "      <td>0.689655</td>\n",
       "      <td>0.454545</td>\n",
       "      <td>0.078524</td>\n",
       "      <td>0.087336</td>\n",
       "      <td>0.188748</td>\n",
       "      <td>False</td>\n",
       "    </tr>\n",
       "    <tr>\n",
       "      <th>7</th>\n",
       "      <td>1160.0</td>\n",
       "      <td>74.000000</td>\n",
       "      <td>25.777778</td>\n",
       "      <td>56.444444</td>\n",
       "      <td>5.222222</td>\n",
       "      <td>16.444444</td>\n",
       "      <td>17.222222</td>\n",
       "      <td>24.000000</td>\n",
       "      <td>9.777778</td>\n",
       "      <td>25.000000</td>\n",
       "      <td>...</td>\n",
       "      <td>0.491322</td>\n",
       "      <td>0.225621</td>\n",
       "      <td>0.366117</td>\n",
       "      <td>36.625000</td>\n",
       "      <td>1.485714</td>\n",
       "      <td>0.512315</td>\n",
       "      <td>0.089653</td>\n",
       "      <td>0.048458</td>\n",
       "      <td>0.107850</td>\n",
       "      <td>True</td>\n",
       "    </tr>\n",
       "    <tr>\n",
       "      <th>8</th>\n",
       "      <td>1272.0</td>\n",
       "      <td>76.285714</td>\n",
       "      <td>26.000000</td>\n",
       "      <td>55.857143</td>\n",
       "      <td>6.142857</td>\n",
       "      <td>17.857143</td>\n",
       "      <td>18.142857</td>\n",
       "      <td>27.571429</td>\n",
       "      <td>11.142857</td>\n",
       "      <td>26.714286</td>\n",
       "      <td>...</td>\n",
       "      <td>0.514825</td>\n",
       "      <td>0.240240</td>\n",
       "      <td>0.361186</td>\n",
       "      <td>28.166667</td>\n",
       "      <td>0.608247</td>\n",
       "      <td>0.409722</td>\n",
       "      <td>0.071026</td>\n",
       "      <td>0.062842</td>\n",
       "      <td>0.207265</td>\n",
       "      <td>True</td>\n",
       "    </tr>\n",
       "    <tr>\n",
       "      <th>9</th>\n",
       "      <td>1219.0</td>\n",
       "      <td>68.833333</td>\n",
       "      <td>23.833333</td>\n",
       "      <td>59.500000</td>\n",
       "      <td>6.666667</td>\n",
       "      <td>20.500000</td>\n",
       "      <td>14.500000</td>\n",
       "      <td>22.666667</td>\n",
       "      <td>9.333333</td>\n",
       "      <td>24.166667</td>\n",
       "      <td>...</td>\n",
       "      <td>0.553636</td>\n",
       "      <td>0.368317</td>\n",
       "      <td>0.316845</td>\n",
       "      <td>40.000000</td>\n",
       "      <td>1.112245</td>\n",
       "      <td>0.478070</td>\n",
       "      <td>0.091550</td>\n",
       "      <td>0.076923</td>\n",
       "      <td>0.141752</td>\n",
       "      <td>True</td>\n",
       "    </tr>\n",
       "    <tr>\n",
       "      <th>10</th>\n",
       "      <td>1135.0</td>\n",
       "      <td>69.111111</td>\n",
       "      <td>25.333333</td>\n",
       "      <td>58.888889</td>\n",
       "      <td>7.444444</td>\n",
       "      <td>22.000000</td>\n",
       "      <td>11.000000</td>\n",
       "      <td>16.000000</td>\n",
       "      <td>9.555556</td>\n",
       "      <td>21.777778</td>\n",
       "      <td>...</td>\n",
       "      <td>0.493609</td>\n",
       "      <td>0.266979</td>\n",
       "      <td>0.388652</td>\n",
       "      <td>33.000000</td>\n",
       "      <td>0.908046</td>\n",
       "      <td>0.461988</td>\n",
       "      <td>0.058842</td>\n",
       "      <td>0.031891</td>\n",
       "      <td>0.153129</td>\n",
       "      <td>False</td>\n",
       "    </tr>\n",
       "  </tbody>\n",
       "</table>\n",
       "<p>11 rows × 107 columns</p>\n",
       "</div>"
      ],
      "text/plain": [
       "    W_TeamID    W_Score      W_FGM      W_FGA     W_FGM3     W_FGA3  \\\n",
       "0     1202.0  81.000000  28.375000  62.500000  10.875000  28.500000   \n",
       "1     1312.0  70.166667  24.000000  59.166667   8.000000  23.166667   \n",
       "2     1295.0  59.285714  20.142857  54.571429   7.142857  24.142857   \n",
       "3     1257.0  71.714286  25.571429  60.285714   8.000000  25.571429   \n",
       "4     1282.0  64.000000  24.666667  53.666667   6.833333  19.166667   \n",
       "5     1398.0  66.666667  23.833333  56.666667   7.333333  20.166667   \n",
       "6     1435.0  70.285714  23.714286  59.285714   7.857143  27.000000   \n",
       "7     1160.0  74.000000  25.777778  56.444444   5.222222  16.444444   \n",
       "8     1272.0  76.285714  26.000000  55.857143   6.142857  17.857143   \n",
       "9     1219.0  68.833333  23.833333  59.500000   6.666667  20.500000   \n",
       "10    1135.0  69.111111  25.333333  58.888889   7.444444  22.000000   \n",
       "\n",
       "        W_FTM      W_FTA       W_OR       W_DR  ...  L_Opp_TSpct  L_Opp_FTr  \\\n",
       "0   13.375000  18.750000   8.750000  24.125000  ...     0.543292   0.252747   \n",
       "1   14.166667  19.166667   7.333333  26.166667  ...     0.523438   0.244076   \n",
       "2   11.857143  16.571429   9.000000  24.285714  ...     0.547202   0.282051   \n",
       "3   12.571429  18.142857  10.428571  29.285714  ...     0.494842   0.214567   \n",
       "4    7.833333  11.666667   6.000000  21.666667  ...     0.549126   0.349206   \n",
       "5   11.666667  19.000000   9.000000  22.833333  ...     0.521026   0.475921   \n",
       "6   15.000000  21.285714  11.285714  23.142857  ...     0.490398   0.264108   \n",
       "7   17.222222  24.000000   9.777778  25.000000  ...     0.491322   0.225621   \n",
       "8   18.142857  27.571429  11.142857  26.714286  ...     0.514825   0.240240   \n",
       "9   14.500000  22.666667   9.333333  24.166667  ...     0.553636   0.368317   \n",
       "10  11.000000  16.000000   9.555556  21.777778  ...     0.493609   0.266979   \n",
       "\n",
       "    L_Opp_3Pr   L_Opp_TR  L_Opp_ATOr  L_Opp_Ast_%  L_Opp_Stl_%  L_Opp_Blk_%  \\\n",
       "0    0.409615  29.857143    1.126582     0.542683     0.071935     0.054404   \n",
       "1    0.365239  34.142857    1.089888     0.535912     0.102513     0.070529   \n",
       "2    0.357264  33.428571    1.234568     0.571429     0.065082     0.068702   \n",
       "3    0.341209  31.000000    0.884615     0.450980     0.069889     0.033074   \n",
       "4    0.306331  32.428571    0.905405     0.403614     0.094405     0.046997   \n",
       "5    0.337338  29.857143    0.962500     0.546099     0.120828     0.038012   \n",
       "6    0.348995  28.875000    0.689655     0.454545     0.078524     0.087336   \n",
       "7    0.366117  36.625000    1.485714     0.512315     0.089653     0.048458   \n",
       "8    0.361186  28.166667    0.608247     0.409722     0.071026     0.062842   \n",
       "9    0.316845  40.000000    1.112245     0.478070     0.091550     0.076923   \n",
       "10   0.388652  33.000000    0.908046     0.461988     0.058842     0.031891   \n",
       "\n",
       "    L_Opp_TO_r  fav_win  \n",
       "0     0.162318     True  \n",
       "1     0.158950    False  \n",
       "2     0.154802     True  \n",
       "3     0.156680     True  \n",
       "4     0.143773     True  \n",
       "5     0.156006     True  \n",
       "6     0.188748    False  \n",
       "7     0.107850     True  \n",
       "8     0.207265     True  \n",
       "9     0.141752     True  \n",
       "10    0.153129    False  \n",
       "\n",
       "[11 rows x 107 columns]"
      ]
     },
     "execution_count": 24,
     "metadata": {},
     "output_type": "execute_result"
    }
   ],
   "source": [
    "df2"
   ]
  },
  {
   "cell_type": "code",
   "execution_count": 25,
   "metadata": {
    "ExecuteTime": {
     "end_time": "2021-12-09T02:25:58.594966Z",
     "start_time": "2021-12-09T02:25:58.586471Z"
    }
   },
   "outputs": [
    {
     "data": {
      "text/plain": [
       "((1031, 106), (11, 106))"
      ]
     },
     "execution_count": 25,
     "metadata": {},
     "output_type": "execute_result"
    }
   ],
   "source": [
    "#train_test_split\n",
    "X_train = df.drop('fav_win', axis=1)\n",
    "X_test = df2.drop('fav_win', axis=1)\n",
    "y_train = df['fav_win']\n",
    "\n",
    "X_train.shape, X_test.shape"
   ]
  },
  {
   "cell_type": "code",
   "execution_count": 26,
   "metadata": {
    "ExecuteTime": {
     "end_time": "2021-12-09T02:26:00.690400Z",
     "start_time": "2021-12-09T02:26:00.657390Z"
    }
   },
   "outputs": [],
   "source": [
    "ss = StandardScaler()\n",
    "X_train_scaled = ss.fit_transform(X_train)\n",
    "X_test_scaled = ss.transform(X_test)"
   ]
  },
  {
   "cell_type": "code",
   "execution_count": 27,
   "metadata": {
    "ExecuteTime": {
     "end_time": "2021-12-09T02:26:02.033649Z",
     "start_time": "2021-12-09T02:26:02.027579Z"
    }
   },
   "outputs": [],
   "source": [
    "X_train_scaled = pd.DataFrame(X_train_scaled, columns=X_train.columns)\n",
    "X_test_scaled = pd.DataFrame(X_test_scaled, columns=X_test.columns)"
   ]
  },
  {
   "cell_type": "markdown",
   "metadata": {},
   "source": [
    "### Logistic Regression"
   ]
  },
  {
   "cell_type": "code",
   "execution_count": 28,
   "metadata": {
    "ExecuteTime": {
     "end_time": "2021-12-08T22:47:55.756359Z",
     "start_time": "2021-12-08T22:46:51.420098Z"
    }
   },
   "outputs": [],
   "source": [
    "log_feat=feature_select(X_train_scaled,y_train,LogisticRegression,min_features=10)\n",
    "X_train_best_log = X_train_scaled[log_feat]\n",
    "X_test_best_log = X_test_scaled[log_feat]"
   ]
  },
  {
   "cell_type": "code",
   "execution_count": 31,
   "metadata": {
    "ExecuteTime": {
     "end_time": "2021-12-08T22:48:51.236412Z",
     "start_time": "2021-12-08T22:47:55.760269Z"
    }
   },
   "outputs": [],
   "source": [
    "def logreg(X_train, X_test, y_train, cv=5):\n",
    "    \n",
    "    # Set GridSearchCV hyperparameters to compare & select\n",
    "    grid = {\n",
    "    'penalty': ['l1', 'l2' ,'elasticnet'],\n",
    "    'solver': ['newton-cg', 'lbfgs', 'liblinear', 'sag', 'saga']}\n",
    "    \n",
    "    # Instantiate & fit LogReg model for GridSearch\n",
    "    grid_logreg = LogisticRegression(random_state=42)\n",
    "    grid_logreg.fit(X_train, y_train)\n",
    "    \n",
    "    # Instantiate & fit GridSearchCV with accuracy scoring\n",
    "    gs = GridSearchCV(estimator=grid_logreg, param_grid=grid, cv=cv,\n",
    "                      scoring='accuracy')\n",
    "    gs.fit(X_train, y_train)\n",
    "    \n",
    "    # Return best hyperparameters\n",
    "    logreg_params = gs.best_params_\n",
    "    \n",
    "    # Use best penalty from best_params\n",
    "    logreg_penalty = logreg_params['penalty']\n",
    "    print(f'Penalty: {logreg_penalty}')\n",
    "    \n",
    "    # Use best solver from best_params\n",
    "    logreg_solver = logreg_params['solver']\n",
    "    print(f'Solver: {logreg_solver}')\n",
    "    \n",
    "    # Instantiate & fit LogReg model\n",
    "    log = LogisticRegression(random_state=42, penalty=logreg_penalty, solver=logreg_solver)\n",
    "    log.fit(X_train, y_train)\n",
    "    \n",
    "    # Create prediction variable using test data\n",
    "    y_pred = log.predict(X_test)\n",
    "    y_pred_proba = log.predict_proba(X_test)\n",
    "    \n",
    "    # Run cross-validate score with cv folds from function parameter\n",
    "    cv_results = cross_val_score(log, X_train, y_train, cv=cv)\n",
    "    print(f'Mean Cross-Val Score: {cv_results.mean()}')\n",
    "    \n",
    "    # Run and print accuracy, recall, precision and f1 scores\n",
    "    train_score = log.score(X_train, y_train)\n",
    "    print(f'Train Mean Accuracy: {train_score}')\n",
    "  \n",
    "    # Plot an ROC curve (only works with binary data)\n",
    "    fig, ax = plt.subplots()\n",
    "    plot_roc_curve(log, X_train, y_train, name='train', ax=ax)\n",
    "    \n",
    "    # Plot Confusion Matrix\n",
    "    plot_confusion_matrix(log, X_train, y_train)\n",
    "    \n",
    "    return y_pred, y_pred_proba"
   ]
  },
  {
   "cell_type": "code",
   "execution_count": 32,
   "metadata": {},
   "outputs": [
    {
     "name": "stdout",
     "output_type": "stream",
     "text": [
      "Penalty: l2\n",
      "Solver: sag\n",
      "Mean Cross-Val Score: 0.7895408282913559\n",
      "Train Mean Accuracy: 0.7963142580019399\n"
     ]
    },
    {
     "data": {
      "image/png": "[encoded data removed]",
      "text/plain": [
       "<Figure size 432x288 with 1 Axes>"
      ]
     },
     "metadata": {
      "needs_background": "light"
     },
     "output_type": "display_data"
    },
    {
     "data": {
      "image/png": "[encoded data removed]",
      "text/plain": [
       "<Figure size 432x288 with 2 Axes>"
      ]
     },
     "metadata": {
      "needs_background": "light"
     },
     "output_type": "display_data"
    }
   ],
   "source": [
    "predictions, probabilities = logreg(X_train, X_test, y_train)"
   ]
  },
  {
   "cell_type": "code",
   "execution_count": 33,
   "metadata": {},
   "outputs": [
    {
     "data": {
      "text/plain": [
       "array([ True,  True,  True,  True,  True,  True,  True,  True,  True,\n",
       "        True,  True])"
      ]
     },
     "execution_count": 33,
     "metadata": {},
     "output_type": "execute_result"
    }
   ],
   "source": [
    "predictions"
   ]
  },
  {
   "cell_type": "code",
   "execution_count": 40,
   "metadata": {},
   "outputs": [
    {
     "name": "stdout",
     "output_type": "stream",
     "text": [
      "[]\n"
     ]
    }
   ],
   "source": [
    "dog_wins = probabilities[:,0]\n",
    "dog_wins = dog_wins[dog_wins > .5]\n",
    "print(dog_wins)"
   ]
  },
  {
   "cell_type": "code",
   "execution_count": 38,
   "metadata": {},
   "outputs": [
    {
     "data": {
      "text/plain": [
       "array([0.82442303, 0.83246062, 0.81922838, 0.66546611, 0.63756888,\n",
       "       0.83875745, 0.6386446 , 0.78363332, 0.66711396, 0.76976461,\n",
       "       0.61801049])"
      ]
     },
     "execution_count": 38,
     "metadata": {},
     "output_type": "execute_result"
    }
   ],
   "source": [
    "fav_wins = probabilities[:,1]\n",
    "fav_wins"
   ]
  },
  {
   "cell_type": "code",
   "execution_count": null,
   "metadata": {},
   "outputs": [],
   "source": []
  }
 ],
 "metadata": {
  "kernelspec": {
   "display_name": "Python (learn-env)",
   "language": "python",
   "name": "learn-env"
  },
  "language_info": {
   "codemirror_mode": {
    "name": "ipython",
    "version": 3
   },
   "file_extension": ".py",
   "mimetype": "text/x-python",
   "name": "python",
   "nbconvert_exporter": "python",
   "pygments_lexer": "ipython3",
   "version": "3.8.5"
  }
 },
 "nbformat": 4,
 "nbformat_minor": 4
}
