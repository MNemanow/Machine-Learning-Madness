{
 "cells": [
  {
   "cell_type": "code",
   "execution_count": 25,
   "metadata": {
    "ExecuteTime": {
     "end_time": "2021-12-09T02:25:48.898941Z",
     "start_time": "2021-12-09T02:25:47.085995Z"
    }
   },
   "outputs": [],
   "source": [
    "# Import the relevant packages\n",
    "import pandas as pd\n",
    "import numpy as np\n",
    "import matplotlib.pyplot as plt\n",
    "from sklearn.linear_model import LogisticRegression\n",
    "from sklearn.model_selection import cross_val_score, train_test_split,GridSearchCV\n",
    "from sklearn.metrics import plot_confusion_matrix, plot_roc_curve, accuracy_score, \\\n",
    "recall_score, precision_score, f1_score\n",
    "from sklearn.neighbors import KNeighborsClassifier\n",
    "from sklearn.preprocessing import StandardScaler\n",
    "from sklearn.tree import DecisionTreeClassifier, plot_tree\n",
    "from sklearn.ensemble import BaggingClassifier, RandomForestClassifier\n",
    "from sklearn.datasets import load_iris\n",
    "from sklearn.ensemble import AdaBoostClassifier, GradientBoostingClassifier\n",
    "from xgboost import XGBClassifier\n",
    "import statsmodels.api as sm\n",
    "from sklearn.feature_selection import RFECV\n",
    "\n",
    "from sportsipy.ncaab.boxscore import Boxscore\n",
    "from sportsipy.ncaab.boxscore import Boxscores \n",
    "from datetime import datetime as date\n",
    "\n",
    "import warnings\n",
    "warnings.filterwarnings(\"ignore\")"
   ]
  },
  {
   "cell_type": "code",
   "execution_count": 3,
   "metadata": {
    "ExecuteTime": {
     "end_time": "2021-12-09T02:25:50.527300Z",
     "start_time": "2021-12-09T02:25:50.523898Z"
    }
   },
   "outputs": [],
   "source": [
    "#Import functions notebook and load data set here\n",
    "import sys\n",
    "sys.path.append(\"../\")\n",
    "from function_notebook_1 import *"
   ]
  },
  {
   "cell_type": "code",
   "execution_count": 4,
   "metadata": {
    "ExecuteTime": {
     "end_time": "2021-12-09T02:25:52.012901Z",
     "start_time": "2021-12-09T02:25:51.874345Z"
    }
   },
   "outputs": [],
   "source": [
    "df = pd.read_csv('../data/regularseason22.csv').drop(['Unnamed: 0', 'w_loc'], axis = 1)\n",
    "df2 = pd.read_csv('../data/2022_12_11_games.csv').drop(['Unnamed: 0', 'w_loc'], axis = 1)"
   ]
  },
  {
   "cell_type": "code",
   "execution_count": 6,
   "metadata": {},
   "outputs": [
    {
     "data": {
      "text/plain": [
       "(1031, 107)"
      ]
     },
     "execution_count": 6,
     "metadata": {},
     "output_type": "execute_result"
    }
   ],
   "source": [
    "df.shape"
   ]
  },
  {
   "cell_type": "code",
   "execution_count": 7,
   "metadata": {
    "ExecuteTime": {
     "end_time": "2021-12-09T02:25:55.300729Z",
     "start_time": "2021-12-09T02:25:55.258420Z"
    }
   },
   "outputs": [
    {
     "data": {
      "text/plain": [
       "(88, 107)"
      ]
     },
     "execution_count": 7,
     "metadata": {},
     "output_type": "execute_result"
    }
   ],
   "source": [
    "df2.shape"
   ]
  },
  {
   "cell_type": "code",
   "execution_count": 8,
   "metadata": {
    "ExecuteTime": {
     "end_time": "2021-12-09T02:25:58.594966Z",
     "start_time": "2021-12-09T02:25:58.586471Z"
    }
   },
   "outputs": [
    {
     "data": {
      "text/plain": [
       "((1031, 106), (88, 106))"
      ]
     },
     "execution_count": 8,
     "metadata": {},
     "output_type": "execute_result"
    }
   ],
   "source": [
    "#train_test_split\n",
    "X_train = df.drop('fav_win', axis=1)\n",
    "X_test = df2.drop('fav_win', axis=1)\n",
    "y_train = df['fav_win']\n",
    "\n",
    "X_train.shape, X_test.shape"
   ]
  },
  {
   "cell_type": "code",
   "execution_count": 9,
   "metadata": {
    "ExecuteTime": {
     "end_time": "2021-12-09T02:26:00.690400Z",
     "start_time": "2021-12-09T02:26:00.657390Z"
    }
   },
   "outputs": [],
   "source": [
    "ss = StandardScaler()\n",
    "X_train_scaled = ss.fit_transform(X_train)\n",
    "X_test_scaled = ss.transform(X_test)"
   ]
  },
  {
   "cell_type": "code",
   "execution_count": 10,
   "metadata": {
    "ExecuteTime": {
     "end_time": "2021-12-09T02:26:02.033649Z",
     "start_time": "2021-12-09T02:26:02.027579Z"
    }
   },
   "outputs": [],
   "source": [
    "X_train_scaled = pd.DataFrame(X_train_scaled, columns=X_train.columns)\n",
    "X_test_scaled = pd.DataFrame(X_test_scaled, columns=X_test.columns)"
   ]
  },
  {
   "cell_type": "markdown",
   "metadata": {},
   "source": [
    "### Logistic Regression"
   ]
  },
  {
   "cell_type": "code",
   "execution_count": 11,
   "metadata": {
    "ExecuteTime": {
     "end_time": "2021-12-08T22:47:55.756359Z",
     "start_time": "2021-12-08T22:46:51.420098Z"
    }
   },
   "outputs": [],
   "source": [
    "log_feat=feature_select(X_train_scaled,y_train,LogisticRegression,min_features=10)\n",
    "X_train_best_log = X_train_scaled[log_feat]\n",
    "X_test_best_log = X_test_scaled[log_feat]"
   ]
  },
  {
   "cell_type": "code",
   "execution_count": 12,
   "metadata": {
    "ExecuteTime": {
     "end_time": "2021-12-08T22:48:51.236412Z",
     "start_time": "2021-12-08T22:47:55.760269Z"
    }
   },
   "outputs": [],
   "source": [
    "def logreg(X_train, X_test, y_train, cv=5):\n",
    "    \n",
    "    # Set GridSearchCV hyperparameters to compare & select\n",
    "    grid = {\n",
    "    'penalty': ['l1', 'l2' ,'elasticnet'],\n",
    "    'solver': ['newton-cg', 'lbfgs', 'liblinear', 'sag', 'saga']}\n",
    "    \n",
    "    # Instantiate & fit LogReg model for GridSearch\n",
    "    grid_logreg = LogisticRegression(random_state=42)\n",
    "    grid_logreg.fit(X_train, y_train)\n",
    "    \n",
    "    # Instantiate & fit GridSearchCV with accuracy scoring\n",
    "    gs = GridSearchCV(estimator=grid_logreg, param_grid=grid, cv=cv,\n",
    "                      scoring='accuracy')\n",
    "    gs.fit(X_train, y_train)\n",
    "    \n",
    "    # Return best hyperparameters\n",
    "    logreg_params = gs.best_params_\n",
    "    \n",
    "    # Use best penalty from best_params\n",
    "    logreg_penalty = logreg_params['penalty']\n",
    "    print(f'Penalty: {logreg_penalty}')\n",
    "    \n",
    "    # Use best solver from best_params\n",
    "    logreg_solver = logreg_params['solver']\n",
    "    print(f'Solver: {logreg_solver}')\n",
    "    \n",
    "    # Instantiate & fit LogReg model\n",
    "    log = LogisticRegression(random_state=42, penalty=logreg_penalty, solver=logreg_solver)\n",
    "    log.fit(X_train, y_train)\n",
    "    \n",
    "    # Create prediction variable using test data\n",
    "    y_pred = log.predict(X_test)\n",
    "    y_pred_proba = log.predict_proba(X_test)\n",
    "    \n",
    "    # Run cross-validate score with cv folds from function parameter\n",
    "    cv_results = cross_val_score(log, X_train, y_train, cv=cv)\n",
    "    print(f'Mean Cross-Val Score: {cv_results.mean()}')\n",
    "    \n",
    "    # Run and print accuracy, recall, precision and f1 scores\n",
    "    train_score = log.score(X_train, y_train)\n",
    "    print(f'Train Mean Accuracy: {train_score}')\n",
    "  \n",
    "    # Plot an ROC curve (only works with binary data)\n",
    "    fig, ax = plt.subplots()\n",
    "    plot_roc_curve(log, X_train, y_train, name='train', ax=ax)\n",
    "    \n",
    "    # Plot Confusion Matrix\n",
    "    plot_confusion_matrix(log, X_train, y_train)\n",
    "    \n",
    "    return y_pred, y_pred_proba"
   ]
  },
  {
   "cell_type": "code",
   "execution_count": 13,
   "metadata": {},
   "outputs": [
    {
     "name": "stdout",
     "output_type": "stream",
     "text": [
      "Penalty: l2\n",
      "Solver: sag\n",
      "Mean Cross-Val Score: 0.7895408282913559\n",
      "Train Mean Accuracy: 0.7963142580019399\n"
     ]
    },
    {
     "data": {
      "image/png": "[encoded data removed]",
      "text/plain": [
       "<Figure size 432x288 with 1 Axes>"
      ]
     },
     "metadata": {
      "needs_background": "light"
     },
     "output_type": "display_data"
    },
    {
     "data": {
      "image/png": "[encoded data removed]",
      "text/plain": [
       "<Figure size 432x288 with 2 Axes>"
      ]
     },
     "metadata": {
      "needs_background": "light"
     },
     "output_type": "display_data"
    }
   ],
   "source": [
    "predictions, probabilities = logreg(X_train, X_test, y_train)"
   ]
  },
  {
   "cell_type": "code",
   "execution_count": 14,
   "metadata": {},
   "outputs": [
    {
     "data": {
      "text/plain": [
       "array([False,  True,  True, False,  True,  True,  True,  True,  True,\n",
       "        True,  True,  True, False,  True,  True,  True,  True,  True,\n",
       "        True,  True,  True,  True,  True,  True,  True,  True,  True,\n",
       "        True,  True,  True,  True,  True,  True,  True,  True,  True,\n",
       "        True,  True,  True,  True,  True,  True,  True,  True,  True,\n",
       "        True,  True,  True,  True,  True,  True,  True,  True,  True,\n",
       "        True,  True,  True,  True,  True,  True,  True,  True,  True,\n",
       "        True,  True,  True,  True,  True, False,  True,  True,  True,\n",
       "        True,  True,  True,  True,  True,  True,  True,  True,  True,\n",
       "        True, False,  True,  True,  True,  True,  True])"
      ]
     },
     "execution_count": 14,
     "metadata": {},
     "output_type": "execute_result"
    }
   ],
   "source": [
    "predictions"
   ]
  },
  {
   "cell_type": "code",
   "execution_count": 15,
   "metadata": {},
   "outputs": [
    {
     "name": "stdout",
     "output_type": "stream",
     "text": [
      "[0.52427719 0.61582776 0.53743102 0.64078054 0.62365366]\n"
     ]
    }
   ],
   "source": [
    "dog_wins = probabilities[:,0]\n",
    "dog_wins = dog_wins[dog_wins > .5]\n",
    "print(dog_wins)"
   ]
  },
  {
   "cell_type": "code",
   "execution_count": 26,
   "metadata": {},
   "outputs": [],
   "source": [
    "games = Boxscores(date.today())\n",
    "schedule = games.games"
   ]
  },
  {
   "cell_type": "code",
   "execution_count": 28,
   "metadata": {},
   "outputs": [],
   "source": [
    "game_days = []\n",
    "for day in schedule.values():\n",
    "    for game in day:\n",
    "        game_days.append((game['home_name'], game['away_name']))"
   ]
  },
  {
   "cell_type": "code",
   "execution_count": 34,
   "metadata": {},
   "outputs": [],
   "source": [
    "dog_winners = []\n",
    "for i in range(len(predictions)):\n",
    "    if predictions[i] == False:\n",
    "        dog_winners.append((game_days[i], probabilities[i][0]))\n",
    "    "
   ]
  },
  {
   "cell_type": "code",
   "execution_count": 35,
   "metadata": {},
   "outputs": [
    {
     "data": {
      "text/plain": [
       "[(('Marquette', 'UCLA'), 0.5242771940080997),\n",
       " (('Notre Dame', 'Kentucky'), 0.6158277582895537),\n",
       " (('Georgia Tech', 'LSU'), 0.5374310223230376),\n",
       " (('Western Carolina', 'UNC Asheville'), 0.640780544572207),\n",
       " (('Holy Cross', 'Siena'), 0.623653659021961)]"
      ]
     },
     "execution_count": 35,
     "metadata": {},
     "output_type": "execute_result"
    }
   ],
   "source": [
    "dog_winners"
   ]
  },
  {
   "cell_type": "code",
   "execution_count": null,
   "metadata": {},
   "outputs": [],
   "source": []
  }
 ],
 "metadata": {
  "kernelspec": {
   "display_name": "Python (learn-env)",
   "language": "python",
   "name": "learn-env"
  },
  "language_info": {
   "codemirror_mode": {
    "name": "ipython",
    "version": 3
   },
   "file_extension": ".py",
   "mimetype": "text/x-python",
   "name": "python",
   "nbconvert_exporter": "python",
   "pygments_lexer": "ipython3",
   "version": "3.8.5"
  }
 },
 "nbformat": 4,
 "nbformat_minor": 4
}
