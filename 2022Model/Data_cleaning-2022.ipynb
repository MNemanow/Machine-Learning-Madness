{
 "cells": [
  {
   "cell_type": "markdown",
   "metadata": {},
   "source": [
    "# Data Cleaning"
   ]
  },
  {
   "cell_type": "markdown",
   "metadata": {},
   "source": [
    "The files we downloaded from kaggle include in game stats for all seasons from 2003 up to 2020. Our predcitions are going to be based off the season average stats of the two relevant teams in each game. In order to get this we have to calculate the averages from all the games they played up to that point in the season, and make a new dataframe for the specific game with averages as input."
   ]
  },
  {
   "cell_type": "markdown",
   "metadata": {},
   "source": [
    "We then need to make a target variable. The difficulty with this dataset is, we would like to predict whether the favorite team (based on Ken Pom rankings) won the game for betting purposes, and this dataset does not include a team raking. We had to use another dataset from kaggle which includes the team rankings, check if the winning team in the game was the favorite, and then make a binary column of Favorite Win. \n",
    "\n",
    "Ken Pomeroy, the creator of KenPom, uses analytical measures to rank each team in college basketball. He is one of the most popular and well-known names in basketball analytics and has been at the forefront of the progression mainstream acceptance of advanced stats.\n",
    "\n",
    "Once we have a target column, we can create a dataframe with full seasons worth of games with a target column, and train our model on it."
   ]
  },
  {
   "cell_type": "code",
   "execution_count": 1,
   "metadata": {},
   "outputs": [],
   "source": [
    "import pandas as pd\n",
    "import numpy as np\n",
    "import time"
   ]
  },
  {
   "cell_type": "code",
   "execution_count": 2,
   "metadata": {},
   "outputs": [],
   "source": [
    "# Importing a regular season dataframe, a postseason dataframe, a rankings dataframe, \n",
    "# and a dataframe with Ken Pom ranking from the rankings dataframe. \n",
    "\n",
    "regularseason = pd.read_csv('../Data/regularseason22.csv')\n",
    "postseason = pd.read_csv('../Kaggle_Datasets/MNCAATourneyDetailedResults.csv')\n",
    "rankings = pd.read_csv('../Kaggle_Datasets/MMasseyOrdinals.csv')\n",
    "kenpom = pd.read_csv('../Data/KenPom20212109.csv')\n",
    "team_ids = pd.read_csv('../Data/TeamNames.csv')"
   ]
  },
  {
   "cell_type": "code",
   "execution_count": 3,
   "metadata": {},
   "outputs": [],
   "source": [
    "team_ids_dict = dict(zip(team_ids.KenPom,team_ids.TeamID))\n",
    "kenpom = kenpom.rename(columns = {'RankAdjEM' : 'OrdinalRank', 'TeamName': 'TeamID'})\n",
    "kenpom.TeamID = kenpom['TeamID'].replace(team_ids_dict)"
   ]
  },
  {
   "cell_type": "code",
   "execution_count": 4,
   "metadata": {},
   "outputs": [],
   "source": [
    "regularseason.drop('Unnamed: 0', axis = 1, inplace = True)"
   ]
  },
  {
   "cell_type": "code",
   "execution_count": 5,
   "metadata": {},
   "outputs": [],
   "source": [
    "regularseason.WTeamID = regularseason.WTeamID.astype(str).str.extract('(\\d+)').astype(float, errors = 'ignore')\n",
    "regularseason.LTeamID = regularseason.LTeamID.astype(str).str.extract('(\\d+)').astype(float, errors = 'ignore')\n",
    "regularseason.dropna(inplace = True)"
   ]
  },
  {
   "cell_type": "code",
   "execution_count": 6,
   "metadata": {},
   "outputs": [
    {
     "name": "stdout",
     "output_type": "stream",
     "text": [
      "<class 'pandas.core.frame.DataFrame'>\n",
      "Int64Index: 1292 entries, 0 to 1668\n",
      "Data columns (total 34 columns):\n",
      " #   Column   Non-Null Count  Dtype  \n",
      "---  ------   --------------  -----  \n",
      " 0   Season   1292 non-null   int64  \n",
      " 1   DayNum   1292 non-null   int64  \n",
      " 2   WTeamID  1292 non-null   float64\n",
      " 3   WScore   1292 non-null   int64  \n",
      " 4   LTeamID  1292 non-null   float64\n",
      " 5   LScore   1292 non-null   int64  \n",
      " 6   WLoc     1292 non-null   object \n",
      " 7   NumOT    1292 non-null   int64  \n",
      " 8   WFGM     1292 non-null   int64  \n",
      " 9   WFGA     1292 non-null   int64  \n",
      " 10  WFGM3    1292 non-null   int64  \n",
      " 11  WFGA3    1292 non-null   int64  \n",
      " 12  WFTM     1292 non-null   int64  \n",
      " 13  WFTA     1292 non-null   int64  \n",
      " 14  WOR      1292 non-null   int64  \n",
      " 15  WDR      1292 non-null   int64  \n",
      " 16  WAst     1292 non-null   int64  \n",
      " 17  WTO      1292 non-null   int64  \n",
      " 18  WStl     1292 non-null   int64  \n",
      " 19  WBlk     1292 non-null   int64  \n",
      " 20  WPF      1292 non-null   int64  \n",
      " 21  LFGM     1292 non-null   int64  \n",
      " 22  LFGA     1292 non-null   int64  \n",
      " 23  LFGM3    1292 non-null   int64  \n",
      " 24  LFGA3    1292 non-null   int64  \n",
      " 25  LFTM     1292 non-null   int64  \n",
      " 26  LFTA     1292 non-null   int64  \n",
      " 27  LOR      1292 non-null   int64  \n",
      " 28  LDR      1292 non-null   int64  \n",
      " 29  LAst     1292 non-null   int64  \n",
      " 30  LTO      1292 non-null   int64  \n",
      " 31  LStl     1292 non-null   int64  \n",
      " 32  LBlk     1292 non-null   int64  \n",
      " 33  LPF      1292 non-null   int64  \n",
      "dtypes: float64(2), int64(31), object(1)\n",
      "memory usage: 353.3+ KB\n"
     ]
    }
   ],
   "source": [
    "regularseason.info()"
   ]
  },
  {
   "cell_type": "markdown",
   "metadata": {},
   "source": [
    "We want to have some more advanced stats to use for prediction. We create them here with a few calculations from the regular stats."
   ]
  },
  {
   "cell_type": "code",
   "execution_count": 7,
   "metadata": {},
   "outputs": [],
   "source": [
    "def add_rate_cols(df):\n",
    "    # Calculates the number of possesions for each team in each game. The number of possessions\n",
    "    # has a large effect on teams averages and counting stats. Knowing this tells us how\n",
    "    # efficient a team is different factors of a game.\n",
    "    df['possessions'] = .5 * (df['FGA'] + (.475 * df['FTA']) - df['OR'] + df['TO'])\n",
    "    \n",
    "    # Effective Field Goal Percentage (eFG) gives extra value to 3-point shots. Each 3-pointer made\n",
    "    # is given the weight of 1.5 2-pointers made.\n",
    "    df['eFG'] = (df['FGM'] + (.5 * df['FGM3'])) / df['FGA']\n",
    "    \n",
    "    # True Shooting Percentage (TS%) gives weight to the 3-point shot as well as free throws made.\n",
    "    # This stat takes in account all types of scoring to determine a players shooting percentage.\n",
    "    df['TS%'] = df['Score'] / (2 * (df['FGA'] + .475 * df['FTA']))\n",
    "    \n",
    "    # Free Throw Rate (FTr) is a simple ratio of Free Throws to Field Goals Attempted. It identifies\n",
    "    # a team's abiilty to draw fouls and get to the free throw line where expected value is high.\n",
    "    df['FTr'] = df['FTA'] / df['FGA']\n",
    "    \n",
    "    # Three Point Attempt Rate (3PAr) shows how often a player shoots 3-pointers compared to other\n",
    "    # types of shots. It identifies players who attack the basket and draw fouls and players who are\n",
    "    # likely to stand outside and shoot.\n",
    "    df['3PAr'] = df['FGA3'] / (df['FGA'] + (.475*df['FTA']))\n",
    "    \n",
    "    # Offensive Rebound Percentage (OR%) is the number of offensive rebounds a team gets compared\n",
    "    # to the total number of rebounds available while they were on offense.\n",
    "    df['OR%'] = df['OR'] / (df['OR'] + df['Opp_DR'])\n",
    "    \n",
    "    # Defensive Rebound Percentage (DR%) is the number of defensive rebounds a team gets compared\n",
    "    # to the total number of rebounds available while they were on defense.\n",
    "    df['DR%'] = df['DR'] / (df['DR'] + df['Opp_OR'])\n",
    "    \n",
    "    # Rebound Percentage (REB%) is the percentage of rebounds from all available rebounds a team\n",
    "    # gets in a game.\n",
    "    df['REB%'] = (df['OR'] + df['DR']) / (df['OR'] + df['Opp_DR'] + df['Opp_OR'] + df['DR'])\n",
    "    \n",
    "    # Total Rebounds (TR) the number of rebounds a team gets in a game.\n",
    "    df['TR'] = (df['OR'] + df['DR'])\n",
    "    \n",
    "    # Assist to Turnover Ratio (ATOr) shows how well a team takes care of the ball. The higher the\n",
    "    # the number the better a team is at passing the ball and playing together.\n",
    "    df['ATOr'] = df['Ast'] / df['TO']\n",
    "    \n",
    "    # Assist Percentage (Ast%) is the number of assists a team has compared to baskets scored. The\n",
    "    # higher this percentage the better the team is at playing together and creating baskets for\n",
    "    # one another.\n",
    "    df['Ast%'] = df['Ast'] / df['FGM']\n",
    "    \n",
    "    # Steal Percentage (Stl%) is the rate at which a team gets steals during other teams possessions.\n",
    "    df['Stl%'] = df['Stl'] / (df['Opp_FGA'] + .475*df['Opp_FTA'] + df['Opp_TO'])\n",
    "    \n",
    "    # Block Percentage (Blk%) is the rate at which a team blocks shots during other teams possessions.\n",
    "    df['Blk%'] = df['Blk'] / (df['Opp_FGA'])\n",
    "    \n",
    "    # Turnover Percentage (TO_r) is the rate at which a team turnovers the ball over during their own\n",
    "    # possessions.\n",
    "    df['TO_r'] = df['TO'] / (df['FGA'] + .475*df['FTA'] + df['TO'])\n",
    "    \n",
    "    # Opponent Effective Field Goal Percentage (Opp_eFG) is a defensive measure that shows the Effective\n",
    "    # Field Goal Percentage of a team's opponents.\n",
    "    df['Opp_eFG'] = (df['Opp_FGM'] + (.5 * df['Opp_FGM3'])) / df['Opp_FGA']\n",
    "    \n",
    "    # Opponent True Shooting Percentage (Opp_TSpct) is a defensive measure that shows the True Shooting\n",
    "    # Percentage of a team's opponents.\n",
    "    df['Opp_TSpct'] = df['Opp_Score'] / (2 * (df['Opp_FGA'] + .475 * df['Opp_FTA']))\n",
    "    \n",
    "    # Opponent Free Throw Rate (Opp_FTr) is a defensive measure that shows how often a team fouls their\n",
    "    # opponents and allows them to shoot free throws.\n",
    "    df['Opp_FTr'] = df['Opp_FTA'] / df['Opp_FGA']\n",
    "    \n",
    "    # Opponent Three Point Rate (Opp_3Pr) is a defensive rate measure of how many 3-pointers an\n",
    "    # opponent makes per basket scored.\n",
    "    df['Opp_3Pr'] = df['Opp_FGA3'] / (df['Opp_FGA'] + (.475*df['Opp_FTA']))\n",
    "    \n",
    "    # Opponent Total Rebounds (Opp_TR) is the number of rebounds a team's opponent gets in a game.\n",
    "    df['Opp_TR'] = (df['Opp_OR'] + df['Opp_DR'])\n",
    "    \n",
    "    # Opponent Assist to Turnover Ratio (Opp_ATOr) is a defensive rate measure of an opponents\n",
    "    # assists per turnover. This is a good measure of defensive aggressiveness and the ability to make\n",
    "    # opponents work hard for their shots.\n",
    "    df['Opp_ATOr'] = df['Opp_Ast'] / df['Opp_TO']\n",
    "    \n",
    "    # Opponent Assist Percentage (Opp_Ast_%) is the percentage of opponent's baskets that are assisted.\n",
    "    df['Opp_Ast_%'] = df['Opp_Ast'] / df['Opp_FGM']\n",
    "    \n",
    "    # Opponent Steal Percentage (Opp_Stl_%) is the percentage possesions that end with the opponent getting\n",
    "    # a steal.\n",
    "    df['Opp_Stl_%'] = df['Opp_Stl'] / (df['FGA'] + .475*df['FTA'] + df['TO'])\n",
    "    \n",
    "    # Opponent Block Percentage (Opp_Blk_%) is the percentage of opponent's possessions that end in a\n",
    "    # block.\n",
    "    df['Opp_Blk_%'] = df['Opp_Blk'] / (df['FGA'])\n",
    "    \n",
    "    # Opponent Turnover Rate (Opp_TO_r) is the percentage of opponent's possesions that end in a \n",
    "    # turnover.\n",
    "    df['Opp_TO_r'] = df['Opp_TO'] / (df['Opp_FGA'] + .475*df['Opp_FTA'] + df['Opp_TO'])\n",
    "\n",
    "    return df"
   ]
  },
  {
   "cell_type": "markdown",
   "metadata": {},
   "source": [
    "This function will take all the in-game stats of a teams season, and put it into one dataframe. Then (if the paramter average is set to True), put that into a single row with the teams averages."
   ]
  },
  {
   "cell_type": "code",
   "execution_count": 1,
   "metadata": {},
   "outputs": [
    {
     "ename": "SyntaxError",
     "evalue": "invalid syntax (<ipython-input-1-9d09c61c56cc>, line 5)",
     "output_type": "error",
     "traceback": [
      "\u001b[1;36m  File \u001b[1;32m\"<ipython-input-1-9d09c61c56cc>\"\u001b[1;36m, line \u001b[1;32m5\u001b[0m\n\u001b[1;33m    def team_regular_season(team_id,Season = 2022, DayNum < 130, average = True):\u001b[0m\n\u001b[1;37m                                                          ^\u001b[0m\n\u001b[1;31mSyntaxError\u001b[0m\u001b[1;31m:\u001b[0m invalid syntax\n"
     ]
    }
   ],
   "source": [
    "# This function is used to get the stats for a team in the regular season. The parameters are:\n",
    "# the team id number, the season, the day number of the season, and whether you want to see\n",
    "# each individual game or the season averages.\n",
    "\n",
    "def team_regular_season(team_id,Season = 2022, DayNum = 130, average = True):\n",
    "    \n",
    "    # create a dataframe that has all the wins/losses of a team during the season up to the given day number.\n",
    "    teamwins = regularseason[(regularseason['WTeamID'] == team_id) & (regularseason['Season'] == Season) & (regularseason['DayNum'] < DayNum)] \n",
    "    teamlosses = regularseason[(regularseason['LTeamID'] == team_id) & (regularseason['Season'] == Season) & (regularseason['DayNum'] < DayNum)]\n",
    "    \n",
    "    # split the dataframes to only have the offensive statistics of the given team\n",
    "    teamwinsoffense = teamwins.filter(like = 'W')    \n",
    "    teamlossesoffense = teamlosses.filter(like = 'L')\n",
    "\n",
    "    # split the dataframes to only have the defensive statistics of the given team\n",
    "    teamwinsoffense.columns = teamwinsoffense.columns.str.lstrip('W')\n",
    "    teamlossesoffense.columns = teamlossesoffense.columns.str.lstrip('L')\n",
    "\n",
    "    # concat the two offensive dataframes\n",
    "    teamoffense = pd.concat([teamwinsoffense, teamlossesoffense])\n",
    "\n",
    "    # create oppposing team statistics from the given games\n",
    "    teamwinsopponents = teamwins.filter(like = 'L')\n",
    "    teamlossesopponents = teamlosses.filter(like = 'W')\n",
    "\n",
    "    # rename the columns from the opponent statistics dataframes\n",
    "    teamwinsopponents.columns = teamwinsopponents.columns.str.lstrip('L')\n",
    "    teamlossesopponents.columns = teamlossesopponents.columns.str.lstrip('W')\n",
    "\n",
    "    # concat the dataframes from opponent wins and losses\n",
    "    teamopponents = pd.concat([teamwinsopponents, teamlossesopponents])\n",
    "    \n",
    "    # concat the team stats and the opponent stats to create a full picture of the team's season\n",
    "    teamtotal = pd.concat([teamoffense, teamopponents.add_prefix('Opp_')], axis = 1)\n",
    "    \n",
    "    teamtotal.drop('Opp_TeamID', axis = 1, inplace = True)\n",
    "    \n",
    "    # return either the season averages or the game by game statistics\n",
    "    if average == True:\n",
    "        teamtotal = teamtotal.groupby('TeamID').mean().reset_index()\n",
    "        add_rate_cols(teamtotal)\n",
    "    \n",
    "    if average == False:\n",
    "        add_rate_cols(teamtotal)\n",
    "        \n",
    "    return teamtotal"
   ]
  },
  {
   "cell_type": "code",
   "execution_count": 9,
   "metadata": {},
   "outputs": [
    {
     "data": {
      "text/html": [
       "<div>\n",
       "<style scoped>\n",
       "    .dataframe tbody tr th:only-of-type {\n",
       "        vertical-align: middle;\n",
       "    }\n",
       "\n",
       "    .dataframe tbody tr th {\n",
       "        vertical-align: top;\n",
       "    }\n",
       "\n",
       "    .dataframe thead th {\n",
       "        text-align: right;\n",
       "    }\n",
       "</style>\n",
       "<table border=\"1\" class=\"dataframe\">\n",
       "  <thead>\n",
       "    <tr style=\"text-align: right;\">\n",
       "      <th></th>\n",
       "      <th>TeamID</th>\n",
       "      <th>Score</th>\n",
       "      <th>Loc</th>\n",
       "      <th>FGM</th>\n",
       "      <th>FGA</th>\n",
       "      <th>FGM3</th>\n",
       "      <th>FGA3</th>\n",
       "      <th>FTM</th>\n",
       "      <th>FTA</th>\n",
       "      <th>OR</th>\n",
       "      <th>...</th>\n",
       "      <th>Opp_eFG</th>\n",
       "      <th>Opp_TSpct</th>\n",
       "      <th>Opp_FTr</th>\n",
       "      <th>Opp_3Pr</th>\n",
       "      <th>Opp_TR</th>\n",
       "      <th>Opp_ATOr</th>\n",
       "      <th>Opp_Ast_%</th>\n",
       "      <th>Opp_Stl_%</th>\n",
       "      <th>Opp_Blk_%</th>\n",
       "      <th>Opp_TO_r</th>\n",
       "    </tr>\n",
       "  </thead>\n",
       "  <tbody>\n",
       "    <tr>\n",
       "      <th>0</th>\n",
       "      <td>1211.0</td>\n",
       "      <td>97</td>\n",
       "      <td>Home</td>\n",
       "      <td>37</td>\n",
       "      <td>68</td>\n",
       "      <td>6</td>\n",
       "      <td>21</td>\n",
       "      <td>17</td>\n",
       "      <td>24</td>\n",
       "      <td>14</td>\n",
       "      <td>...</td>\n",
       "      <td>0.415385</td>\n",
       "      <td>0.420140</td>\n",
       "      <td>0.323077</td>\n",
       "      <td>0.293431</td>\n",
       "      <td>32</td>\n",
       "      <td>0.600000</td>\n",
       "      <td>0.521739</td>\n",
       "      <td>0.052966</td>\n",
       "      <td>0.014706</td>\n",
       "      <td>0.210582</td>\n",
       "    </tr>\n",
       "    <tr>\n",
       "      <th>334</th>\n",
       "      <td>1211.0</td>\n",
       "      <td>86</td>\n",
       "      <td>Home</td>\n",
       "      <td>32</td>\n",
       "      <td>59</td>\n",
       "      <td>7</td>\n",
       "      <td>19</td>\n",
       "      <td>15</td>\n",
       "      <td>17</td>\n",
       "      <td>7</td>\n",
       "      <td>...</td>\n",
       "      <td>0.516949</td>\n",
       "      <td>0.555556</td>\n",
       "      <td>0.271186</td>\n",
       "      <td>0.360360</td>\n",
       "      <td>31</td>\n",
       "      <td>1.222222</td>\n",
       "      <td>0.423077</td>\n",
       "      <td>0.054738</td>\n",
       "      <td>0.016949</td>\n",
       "      <td>0.119048</td>\n",
       "    </tr>\n",
       "    <tr>\n",
       "      <th>445</th>\n",
       "      <td>1211.0</td>\n",
       "      <td>84</td>\n",
       "      <td>Home</td>\n",
       "      <td>34</td>\n",
       "      <td>58</td>\n",
       "      <td>7</td>\n",
       "      <td>19</td>\n",
       "      <td>9</td>\n",
       "      <td>12</td>\n",
       "      <td>5</td>\n",
       "      <td>...</td>\n",
       "      <td>0.427419</td>\n",
       "      <td>0.436280</td>\n",
       "      <td>0.112903</td>\n",
       "      <td>0.168389</td>\n",
       "      <td>25</td>\n",
       "      <td>0.909091</td>\n",
       "      <td>0.400000</td>\n",
       "      <td>0.117340</td>\n",
       "      <td>0.017241</td>\n",
       "      <td>0.144121</td>\n",
       "    </tr>\n",
       "    <tr>\n",
       "      <th>675</th>\n",
       "      <td>1211.0</td>\n",
       "      <td>92</td>\n",
       "      <td>Home</td>\n",
       "      <td>32</td>\n",
       "      <td>60</td>\n",
       "      <td>11</td>\n",
       "      <td>23</td>\n",
       "      <td>17</td>\n",
       "      <td>21</td>\n",
       "      <td>14</td>\n",
       "      <td>...</td>\n",
       "      <td>0.424528</td>\n",
       "      <td>0.447628</td>\n",
       "      <td>0.113208</td>\n",
       "      <td>0.447628</td>\n",
       "      <td>17</td>\n",
       "      <td>0.533333</td>\n",
       "      <td>0.380952</td>\n",
       "      <td>0.036155</td>\n",
       "      <td>0.033333</td>\n",
       "      <td>0.211715</td>\n",
       "    </tr>\n",
       "  </tbody>\n",
       "</table>\n",
       "<p>4 rows × 57 columns</p>\n",
       "</div>"
      ],
      "text/plain": [
       "     TeamID  Score   Loc  FGM  FGA  FGM3  FGA3  FTM  FTA  OR  ...   Opp_eFG  \\\n",
       "0    1211.0     97  Home   37   68     6    21   17   24  14  ...  0.415385   \n",
       "334  1211.0     86  Home   32   59     7    19   15   17   7  ...  0.516949   \n",
       "445  1211.0     84  Home   34   58     7    19    9   12   5  ...  0.427419   \n",
       "675  1211.0     92  Home   32   60    11    23   17   21  14  ...  0.424528   \n",
       "\n",
       "     Opp_TSpct   Opp_FTr   Opp_3Pr  Opp_TR  Opp_ATOr Opp_Ast_%  Opp_Stl_%  \\\n",
       "0     0.420140  0.323077  0.293431      32  0.600000  0.521739   0.052966   \n",
       "334   0.555556  0.271186  0.360360      31  1.222222  0.423077   0.054738   \n",
       "445   0.436280  0.112903  0.168389      25  0.909091  0.400000   0.117340   \n",
       "675   0.447628  0.113208  0.447628      17  0.533333  0.380952   0.036155   \n",
       "\n",
       "    Opp_Blk_%  Opp_TO_r  \n",
       "0    0.014706  0.210582  \n",
       "334  0.016949  0.119048  \n",
       "445  0.017241  0.144121  \n",
       "675  0.033333  0.211715  \n",
       "\n",
       "[4 rows x 57 columns]"
      ]
     },
     "execution_count": 9,
     "metadata": {},
     "output_type": "execute_result"
    }
   ],
   "source": [
    "# Here's an example of a team_regular_season output.\n",
    "Gonzaga = team_regular_season(1211, 2022, 20, False)\n",
    "Gonzaga"
   ]
  },
  {
   "cell_type": "markdown",
   "metadata": {},
   "source": [
    "Now we get the end of year rankings of a team for a specific year with this function."
   ]
  },
  {
   "cell_type": "code",
   "execution_count": 10,
   "metadata": {},
   "outputs": [
    {
     "data": {
      "text/plain": [
       "0    7\n",
       "Name: OrdinalRank, dtype: int64"
      ]
     },
     "execution_count": 10,
     "metadata": {},
     "output_type": "execute_result"
    }
   ],
   "source": [
    "def get_KenPom(team_id, Year):\n",
    "    rank = kenpom[(kenpom['TeamID'] == team_id) & (kenpom['Season'] == Year)]\n",
    "    rank.reset_index(inplace = True)\n",
    "    return rank.OrdinalRank\n",
    "\n",
    "get_KenPom(1181, 2022)"
   ]
  },
  {
   "cell_type": "markdown",
   "metadata": {},
   "source": [
    "This function will take in a specified matchup and output a game with the two teams season stats and whether the favorite team one."
   ]
  },
  {
   "cell_type": "code",
   "execution_count": 11,
   "metadata": {},
   "outputs": [],
   "source": [
    "def single_game(team1_id, team2_id, Year = 2020, DayNum = 132):\n",
    "    \n",
    "    # from the Team IDs get a dataframe with the average seasonlong team statistics.\n",
    "    team1 = team_regular_season(team1_id,Year,DayNum)\n",
    "    team2 = team_regular_season(team2_id,Year,DayNum)\n",
    "    \n",
    "    # get the Ken Pom ranking for each team\n",
    "    team1Pom = get_KenPom(team1_id, Year)\n",
    "    team2Pom = get_KenPom(team2_id, Year)\n",
    "    \n",
    "    # due to the structure of the original dataframe, the first team listed is always the winner.\n",
    "    # we check if the favorite won by comparing the rankings of the two teams.\n",
    "    fav_win = pd.DataFrame(team1Pom.lt(team2Pom))\n",
    "    \n",
    "    # concatenate the dataframes and return the single game pre-game data.\n",
    "    game = pd.concat([team1.add_prefix('W_'), team2.add_prefix('L_'), fav_win], axis = 1)\n",
    "    game.rename(columns={game.columns[106]: 'fav_win'}, inplace = True)\n",
    "    \n",
    "    return game"
   ]
  },
  {
   "cell_type": "markdown",
   "metadata": {},
   "source": [
    "This code shows how the stats from the function \"single_game\" update throughout the season. In this \n",
    "hypothetical example Duke plays North Carolina during the 2020 season on four separate occasions. On Day 0\n",
    "there are no stats available so all the values are 'Nan'. On Day 2, only Duke has played a game, they have\n",
    "stats available, however, North Carolina has not, so their values are all 'Nan'. On Day 50, both teams have\n",
    "played and have available stats. On Day 100, both teams have continued deep into their seasons and have\n",
    "updated statistics from the first 100 days of the year."
   ]
  },
  {
   "cell_type": "code",
   "execution_count": 12,
   "metadata": {},
   "outputs": [
    {
     "data": {
      "text/html": [
       "<div>\n",
       "<style scoped>\n",
       "    .dataframe tbody tr th:only-of-type {\n",
       "        vertical-align: middle;\n",
       "    }\n",
       "\n",
       "    .dataframe tbody tr th {\n",
       "        vertical-align: top;\n",
       "    }\n",
       "\n",
       "    .dataframe thead th {\n",
       "        text-align: right;\n",
       "    }\n",
       "</style>\n",
       "<table border=\"1\" class=\"dataframe\">\n",
       "  <thead>\n",
       "    <tr style=\"text-align: right;\">\n",
       "      <th></th>\n",
       "      <th>W_TeamID</th>\n",
       "      <th>W_Score</th>\n",
       "      <th>W_FGM</th>\n",
       "      <th>W_FGA</th>\n",
       "      <th>W_FGM3</th>\n",
       "      <th>W_FGA3</th>\n",
       "      <th>W_FTM</th>\n",
       "      <th>W_FTA</th>\n",
       "      <th>W_OR</th>\n",
       "      <th>W_DR</th>\n",
       "      <th>...</th>\n",
       "      <th>L_Opp_TSpct</th>\n",
       "      <th>L_Opp_FTr</th>\n",
       "      <th>L_Opp_3Pr</th>\n",
       "      <th>L_Opp_TR</th>\n",
       "      <th>L_Opp_ATOr</th>\n",
       "      <th>L_Opp_Ast_%</th>\n",
       "      <th>L_Opp_Stl_%</th>\n",
       "      <th>L_Opp_Blk_%</th>\n",
       "      <th>L_Opp_TO_r</th>\n",
       "      <th>fav_win</th>\n",
       "    </tr>\n",
       "  </thead>\n",
       "  <tbody>\n",
       "    <tr>\n",
       "      <th>0</th>\n",
       "      <td>NaN</td>\n",
       "      <td>NaN</td>\n",
       "      <td>NaN</td>\n",
       "      <td>NaN</td>\n",
       "      <td>NaN</td>\n",
       "      <td>NaN</td>\n",
       "      <td>NaN</td>\n",
       "      <td>NaN</td>\n",
       "      <td>NaN</td>\n",
       "      <td>NaN</td>\n",
       "      <td>...</td>\n",
       "      <td>NaN</td>\n",
       "      <td>NaN</td>\n",
       "      <td>NaN</td>\n",
       "      <td>NaN</td>\n",
       "      <td>NaN</td>\n",
       "      <td>NaN</td>\n",
       "      <td>NaN</td>\n",
       "      <td>NaN</td>\n",
       "      <td>NaN</td>\n",
       "      <td>False</td>\n",
       "    </tr>\n",
       "  </tbody>\n",
       "</table>\n",
       "<p>1 rows × 107 columns</p>\n",
       "</div>"
      ],
      "text/plain": [
       "   W_TeamID  W_Score  W_FGM  W_FGA  W_FGM3  W_FGA3  W_FTM  W_FTA  W_OR  W_DR  \\\n",
       "0       NaN      NaN    NaN    NaN     NaN     NaN    NaN    NaN   NaN   NaN   \n",
       "\n",
       "   ...  L_Opp_TSpct  L_Opp_FTr  L_Opp_3Pr  L_Opp_TR  L_Opp_ATOr  L_Opp_Ast_%  \\\n",
       "0  ...          NaN        NaN        NaN       NaN         NaN          NaN   \n",
       "\n",
       "   L_Opp_Stl_%  L_Opp_Blk_%  L_Opp_TO_r  fav_win  \n",
       "0          NaN          NaN         NaN    False  \n",
       "\n",
       "[1 rows x 107 columns]"
      ]
     },
     "execution_count": 12,
     "metadata": {},
     "output_type": "execute_result"
    }
   ],
   "source": [
    "duke_unc = single_game(1314, 1181, 2022, 0)\n",
    "duke_unc"
   ]
  },
  {
   "cell_type": "code",
   "execution_count": 13,
   "metadata": {},
   "outputs": [
    {
     "data": {
      "text/html": [
       "<div>\n",
       "<style scoped>\n",
       "    .dataframe tbody tr th:only-of-type {\n",
       "        vertical-align: middle;\n",
       "    }\n",
       "\n",
       "    .dataframe tbody tr th {\n",
       "        vertical-align: top;\n",
       "    }\n",
       "\n",
       "    .dataframe thead th {\n",
       "        text-align: right;\n",
       "    }\n",
       "</style>\n",
       "<table border=\"1\" class=\"dataframe\">\n",
       "  <thead>\n",
       "    <tr style=\"text-align: right;\">\n",
       "      <th></th>\n",
       "      <th>W_TeamID</th>\n",
       "      <th>W_Score</th>\n",
       "      <th>W_FGM</th>\n",
       "      <th>W_FGA</th>\n",
       "      <th>W_FGM3</th>\n",
       "      <th>W_FGA3</th>\n",
       "      <th>W_FTM</th>\n",
       "      <th>W_FTA</th>\n",
       "      <th>W_OR</th>\n",
       "      <th>W_DR</th>\n",
       "      <th>...</th>\n",
       "      <th>L_Opp_TSpct</th>\n",
       "      <th>L_Opp_FTr</th>\n",
       "      <th>L_Opp_3Pr</th>\n",
       "      <th>L_Opp_TR</th>\n",
       "      <th>L_Opp_ATOr</th>\n",
       "      <th>L_Opp_Ast_%</th>\n",
       "      <th>L_Opp_Stl_%</th>\n",
       "      <th>L_Opp_Blk_%</th>\n",
       "      <th>L_Opp_TO_r</th>\n",
       "      <th>fav_win</th>\n",
       "    </tr>\n",
       "  </thead>\n",
       "  <tbody>\n",
       "    <tr>\n",
       "      <th>0</th>\n",
       "      <td>NaN</td>\n",
       "      <td>NaN</td>\n",
       "      <td>NaN</td>\n",
       "      <td>NaN</td>\n",
       "      <td>NaN</td>\n",
       "      <td>NaN</td>\n",
       "      <td>NaN</td>\n",
       "      <td>NaN</td>\n",
       "      <td>NaN</td>\n",
       "      <td>NaN</td>\n",
       "      <td>...</td>\n",
       "      <td>NaN</td>\n",
       "      <td>NaN</td>\n",
       "      <td>NaN</td>\n",
       "      <td>NaN</td>\n",
       "      <td>NaN</td>\n",
       "      <td>NaN</td>\n",
       "      <td>NaN</td>\n",
       "      <td>NaN</td>\n",
       "      <td>NaN</td>\n",
       "      <td>True</td>\n",
       "    </tr>\n",
       "  </tbody>\n",
       "</table>\n",
       "<p>1 rows × 107 columns</p>\n",
       "</div>"
      ],
      "text/plain": [
       "   W_TeamID  W_Score  W_FGM  W_FGA  W_FGM3  W_FGA3  W_FTM  W_FTA  W_OR  W_DR  \\\n",
       "0       NaN      NaN    NaN    NaN     NaN     NaN    NaN    NaN   NaN   NaN   \n",
       "\n",
       "   ...  L_Opp_TSpct  L_Opp_FTr  L_Opp_3Pr  L_Opp_TR  L_Opp_ATOr  L_Opp_Ast_%  \\\n",
       "0  ...          NaN        NaN        NaN       NaN         NaN          NaN   \n",
       "\n",
       "   L_Opp_Stl_%  L_Opp_Blk_%  L_Opp_TO_r  fav_win  \n",
       "0          NaN          NaN         NaN     True  \n",
       "\n",
       "[1 rows x 107 columns]"
      ]
     },
     "execution_count": 13,
     "metadata": {},
     "output_type": "execute_result"
    }
   ],
   "source": [
    "duke_unc = single_game(1181, 1314, 2022, 2)\n",
    "duke_unc"
   ]
  },
  {
   "cell_type": "code",
   "execution_count": 14,
   "metadata": {},
   "outputs": [
    {
     "data": {
      "text/html": [
       "<div>\n",
       "<style scoped>\n",
       "    .dataframe tbody tr th:only-of-type {\n",
       "        vertical-align: middle;\n",
       "    }\n",
       "\n",
       "    .dataframe tbody tr th {\n",
       "        vertical-align: top;\n",
       "    }\n",
       "\n",
       "    .dataframe thead th {\n",
       "        text-align: right;\n",
       "    }\n",
       "</style>\n",
       "<table border=\"1\" class=\"dataframe\">\n",
       "  <thead>\n",
       "    <tr style=\"text-align: right;\">\n",
       "      <th></th>\n",
       "      <th>W_TeamID</th>\n",
       "      <th>W_Score</th>\n",
       "      <th>W_FGM</th>\n",
       "      <th>W_FGA</th>\n",
       "      <th>W_FGM3</th>\n",
       "      <th>W_FGA3</th>\n",
       "      <th>W_FTM</th>\n",
       "      <th>W_FTA</th>\n",
       "      <th>W_OR</th>\n",
       "      <th>W_DR</th>\n",
       "      <th>...</th>\n",
       "      <th>L_Opp_TSpct</th>\n",
       "      <th>L_Opp_FTr</th>\n",
       "      <th>L_Opp_3Pr</th>\n",
       "      <th>L_Opp_TR</th>\n",
       "      <th>L_Opp_ATOr</th>\n",
       "      <th>L_Opp_Ast_%</th>\n",
       "      <th>L_Opp_Stl_%</th>\n",
       "      <th>L_Opp_Blk_%</th>\n",
       "      <th>L_Opp_TO_r</th>\n",
       "      <th>fav_win</th>\n",
       "    </tr>\n",
       "  </thead>\n",
       "  <tbody>\n",
       "    <tr>\n",
       "      <th>0</th>\n",
       "      <td>1181.0</td>\n",
       "      <td>85.833333</td>\n",
       "      <td>32.5</td>\n",
       "      <td>66.166667</td>\n",
       "      <td>8.166667</td>\n",
       "      <td>24.333333</td>\n",
       "      <td>12.666667</td>\n",
       "      <td>16.166667</td>\n",
       "      <td>11.0</td>\n",
       "      <td>27.833333</td>\n",
       "      <td>...</td>\n",
       "      <td>0.526023</td>\n",
       "      <td>0.232673</td>\n",
       "      <td>0.343252</td>\n",
       "      <td>28.666667</td>\n",
       "      <td>1.865385</td>\n",
       "      <td>0.541899</td>\n",
       "      <td>0.096361</td>\n",
       "      <td>0.064789</td>\n",
       "      <td>0.103865</td>\n",
       "      <td>True</td>\n",
       "    </tr>\n",
       "  </tbody>\n",
       "</table>\n",
       "<p>1 rows × 107 columns</p>\n",
       "</div>"
      ],
      "text/plain": [
       "   W_TeamID    W_Score  W_FGM      W_FGA    W_FGM3     W_FGA3      W_FTM  \\\n",
       "0    1181.0  85.833333   32.5  66.166667  8.166667  24.333333  12.666667   \n",
       "\n",
       "       W_FTA  W_OR       W_DR  ...  L_Opp_TSpct  L_Opp_FTr  L_Opp_3Pr  \\\n",
       "0  16.166667  11.0  27.833333  ...     0.526023   0.232673   0.343252   \n",
       "\n",
       "    L_Opp_TR  L_Opp_ATOr  L_Opp_Ast_%  L_Opp_Stl_%  L_Opp_Blk_%  L_Opp_TO_r  \\\n",
       "0  28.666667    1.865385     0.541899     0.096361     0.064789    0.103865   \n",
       "\n",
       "   fav_win  \n",
       "0     True  \n",
       "\n",
       "[1 rows x 107 columns]"
      ]
     },
     "execution_count": 14,
     "metadata": {},
     "output_type": "execute_result"
    }
   ],
   "source": [
    "duke_unc = single_game(1181, 1314, 2022, 25)\n",
    "duke_unc"
   ]
  },
  {
   "cell_type": "code",
   "execution_count": 15,
   "metadata": {},
   "outputs": [
    {
     "data": {
      "text/html": [
       "<div>\n",
       "<style scoped>\n",
       "    .dataframe tbody tr th:only-of-type {\n",
       "        vertical-align: middle;\n",
       "    }\n",
       "\n",
       "    .dataframe tbody tr th {\n",
       "        vertical-align: top;\n",
       "    }\n",
       "\n",
       "    .dataframe thead th {\n",
       "        text-align: right;\n",
       "    }\n",
       "</style>\n",
       "<table border=\"1\" class=\"dataframe\">\n",
       "  <thead>\n",
       "    <tr style=\"text-align: right;\">\n",
       "      <th></th>\n",
       "      <th>W_TeamID</th>\n",
       "      <th>W_Score</th>\n",
       "      <th>W_FGM</th>\n",
       "      <th>W_FGA</th>\n",
       "      <th>W_FGM3</th>\n",
       "      <th>W_FGA3</th>\n",
       "      <th>W_FTM</th>\n",
       "      <th>W_FTA</th>\n",
       "      <th>W_OR</th>\n",
       "      <th>W_DR</th>\n",
       "      <th>...</th>\n",
       "      <th>L_Opp_TSpct</th>\n",
       "      <th>L_Opp_FTr</th>\n",
       "      <th>L_Opp_3Pr</th>\n",
       "      <th>L_Opp_TR</th>\n",
       "      <th>L_Opp_ATOr</th>\n",
       "      <th>L_Opp_Ast_%</th>\n",
       "      <th>L_Opp_Stl_%</th>\n",
       "      <th>L_Opp_Blk_%</th>\n",
       "      <th>L_Opp_TO_r</th>\n",
       "      <th>fav_win</th>\n",
       "    </tr>\n",
       "  </thead>\n",
       "  <tbody>\n",
       "    <tr>\n",
       "      <th>0</th>\n",
       "      <td>1181.0</td>\n",
       "      <td>83.125</td>\n",
       "      <td>31.375</td>\n",
       "      <td>66.125</td>\n",
       "      <td>7.5</td>\n",
       "      <td>22.875</td>\n",
       "      <td>12.875</td>\n",
       "      <td>17.25</td>\n",
       "      <td>10.0</td>\n",
       "      <td>26.625</td>\n",
       "      <td>...</td>\n",
       "      <td>0.526023</td>\n",
       "      <td>0.232673</td>\n",
       "      <td>0.343252</td>\n",
       "      <td>28.666667</td>\n",
       "      <td>1.865385</td>\n",
       "      <td>0.541899</td>\n",
       "      <td>0.096361</td>\n",
       "      <td>0.064789</td>\n",
       "      <td>0.103865</td>\n",
       "      <td>True</td>\n",
       "    </tr>\n",
       "  </tbody>\n",
       "</table>\n",
       "<p>1 rows × 107 columns</p>\n",
       "</div>"
      ],
      "text/plain": [
       "   W_TeamID  W_Score   W_FGM   W_FGA  W_FGM3  W_FGA3   W_FTM  W_FTA  W_OR  \\\n",
       "0    1181.0   83.125  31.375  66.125     7.5  22.875  12.875  17.25  10.0   \n",
       "\n",
       "     W_DR  ...  L_Opp_TSpct  L_Opp_FTr  L_Opp_3Pr   L_Opp_TR  L_Opp_ATOr  \\\n",
       "0  26.625  ...     0.526023   0.232673   0.343252  28.666667    1.865385   \n",
       "\n",
       "   L_Opp_Ast_%  L_Opp_Stl_%  L_Opp_Blk_%  L_Opp_TO_r  fav_win  \n",
       "0     0.541899     0.096361     0.064789    0.103865     True  \n",
       "\n",
       "[1 rows x 107 columns]"
      ]
     },
     "execution_count": 15,
     "metadata": {},
     "output_type": "execute_result"
    }
   ],
   "source": [
    "duke_unc = single_game(1181, 1314, 2022, 30)\n",
    "duke_unc"
   ]
  },
  {
   "cell_type": "markdown",
   "metadata": {},
   "source": [
    "\n",
    "\n",
    "We can now write a function to create a full seasons worth of games using the single_game function to concatenate all of the single games of a season into one DataFrame. "
   ]
  },
  {
   "cell_type": "code",
   "execution_count": 16,
   "metadata": {
    "scrolled": true
   },
   "outputs": [],
   "source": [
    "def create_season_df(df, season):\n",
    "    \n",
    "    # create a DataFrame for the season we are looking for\n",
    "    season_df = df[(df['Season'] == season) & (df['DayNum'] >= 12)]\n",
    "    season_df.reset_index(inplace = True)\n",
    "    \n",
    "    # create a list with the two teams, winning team always first, the season, and the day number of the game\n",
    "    matchups = list(zip(season_df.WTeamID, season_df.LTeamID, season_df.Season, season_df.DayNum))\n",
    "    \n",
    "    season_games = []\n",
    "    \n",
    "    # iterate through the list we created and create each single game matchup throughout the season\n",
    "    for i in range(len(matchups)):\n",
    "        game = single_game(matchups[i][0], matchups[i][1], Year = matchups[i][2], DayNum = matchups[i][3])\n",
    "        season_games.append(game)\n",
    "    \n",
    "    # from the season games list concatenate all the outputted DataFrames and insert the location\n",
    "    # of the winner (home, away, neutral)\n",
    "    df = pd.concat(season_games, axis = 0).dropna()\n",
    "    df.reset_index(inplace = True, drop = True)\n",
    "    df.insert(0,\"w_loc\", season_df.WLoc)\n",
    "    \n",
    "    return df"
   ]
  },
  {
   "cell_type": "markdown",
   "metadata": {},
   "source": [
    "Now we can simply run this last function on each season and each postseason. With that, our data cleaning is complete."
   ]
  },
  {
   "cell_type": "code",
   "execution_count": 17,
   "metadata": {},
   "outputs": [],
   "source": [
    "# ###7.5 seconds to run\n",
    "# start_time = time.time()\n",
    "\n",
    "regularseason22 = create_season_df(regularseason, 2022)\n",
    "\n",
    "# end_time = time.time()\n",
    "# print('Execution time = %.6f seconds' % (end_time-start_time))"
   ]
  },
  {
   "cell_type": "code",
   "execution_count": 24,
   "metadata": {},
   "outputs": [],
   "source": [
    "regularseason22.to_csv('../data/regularseason22.csv')"
   ]
  },
  {
   "cell_type": "code",
   "execution_count": 19,
   "metadata": {},
   "outputs": [],
   "source": [
    "# postseason13 = create_season_df(postseason, 2013)\n",
    "# postseason14 = create_season_df(postseason, 2014)\n",
    "# postseason15 = create_season_df(postseason, 2015)\n",
    "# postseason16 = create_season_df(postseason, 2016)\n",
    "# postseason17 = create_season_df(postseason, 2017)\n",
    "# postseason18 = create_season_df(postseason, 2018)\n",
    "# postseason19 = create_season_df(postseason, 2019)"
   ]
  },
  {
   "cell_type": "code",
   "execution_count": 20,
   "metadata": {
    "scrolled": true
   },
   "outputs": [
    {
     "ename": "ValueError",
     "evalue": "No objects to concatenate",
     "output_type": "error",
     "traceback": [
      "\u001b[1;31m---------------------------------------------------------------------------\u001b[0m",
      "\u001b[1;31mValueError\u001b[0m                                Traceback (most recent call last)",
      "\u001b[1;32m<ipython-input-20-5118e9671511>\u001b[0m in \u001b[0;36m<module>\u001b[1;34m\u001b[0m\n\u001b[0;32m      1\u001b[0m \u001b[1;31m# start_time = time.time()\u001b[0m\u001b[1;33m\u001b[0m\u001b[1;33m\u001b[0m\u001b[1;33m\u001b[0m\u001b[0m\n\u001b[0;32m      2\u001b[0m \u001b[1;33m\u001b[0m\u001b[0m\n\u001b[1;32m----> 3\u001b[1;33m \u001b[0mregularseason12\u001b[0m \u001b[1;33m=\u001b[0m \u001b[0mcreate_season_df\u001b[0m\u001b[1;33m(\u001b[0m\u001b[0mregularseason\u001b[0m\u001b[1;33m,\u001b[0m \u001b[1;36m12\u001b[0m\u001b[1;33m)\u001b[0m\u001b[1;33m\u001b[0m\u001b[1;33m\u001b[0m\u001b[0m\n\u001b[0m\u001b[0;32m      4\u001b[0m \u001b[1;33m\u001b[0m\u001b[0m\n\u001b[0;32m      5\u001b[0m \u001b[1;31m# end_time = time.time()\u001b[0m\u001b[1;33m\u001b[0m\u001b[1;33m\u001b[0m\u001b[1;33m\u001b[0m\u001b[0m\n",
      "\u001b[1;32m<ipython-input-16-e3bf8ebb3800>\u001b[0m in \u001b[0;36mcreate_season_df\u001b[1;34m(df, season)\u001b[0m\n\u001b[0;32m     17\u001b[0m     \u001b[1;31m# from the season games list concatenate all the outputted DataFrames and insert the location\u001b[0m\u001b[1;33m\u001b[0m\u001b[1;33m\u001b[0m\u001b[1;33m\u001b[0m\u001b[0m\n\u001b[0;32m     18\u001b[0m     \u001b[1;31m# of the winner (home, away, neutral)\u001b[0m\u001b[1;33m\u001b[0m\u001b[1;33m\u001b[0m\u001b[1;33m\u001b[0m\u001b[0m\n\u001b[1;32m---> 19\u001b[1;33m     \u001b[0mdf\u001b[0m \u001b[1;33m=\u001b[0m \u001b[0mpd\u001b[0m\u001b[1;33m.\u001b[0m\u001b[0mconcat\u001b[0m\u001b[1;33m(\u001b[0m\u001b[0mseason_games\u001b[0m\u001b[1;33m,\u001b[0m \u001b[0maxis\u001b[0m \u001b[1;33m=\u001b[0m \u001b[1;36m0\u001b[0m\u001b[1;33m)\u001b[0m\u001b[1;33m.\u001b[0m\u001b[0mdropna\u001b[0m\u001b[1;33m(\u001b[0m\u001b[1;33m)\u001b[0m\u001b[1;33m\u001b[0m\u001b[1;33m\u001b[0m\u001b[0m\n\u001b[0m\u001b[0;32m     20\u001b[0m     \u001b[0mdf\u001b[0m\u001b[1;33m.\u001b[0m\u001b[0mreset_index\u001b[0m\u001b[1;33m(\u001b[0m\u001b[0minplace\u001b[0m \u001b[1;33m=\u001b[0m \u001b[1;32mTrue\u001b[0m\u001b[1;33m,\u001b[0m \u001b[0mdrop\u001b[0m \u001b[1;33m=\u001b[0m \u001b[1;32mTrue\u001b[0m\u001b[1;33m)\u001b[0m\u001b[1;33m\u001b[0m\u001b[1;33m\u001b[0m\u001b[0m\n\u001b[0;32m     21\u001b[0m     \u001b[0mdf\u001b[0m\u001b[1;33m.\u001b[0m\u001b[0minsert\u001b[0m\u001b[1;33m(\u001b[0m\u001b[1;36m0\u001b[0m\u001b[1;33m,\u001b[0m\u001b[1;34m\"w_loc\"\u001b[0m\u001b[1;33m,\u001b[0m \u001b[0mseason_df\u001b[0m\u001b[1;33m.\u001b[0m\u001b[0mWLoc\u001b[0m\u001b[1;33m)\u001b[0m\u001b[1;33m\u001b[0m\u001b[1;33m\u001b[0m\u001b[0m\n",
      "\u001b[1;32m~\\.conda\\envs\\learn-env\\lib\\site-packages\\pandas\\core\\reshape\\concat.py\u001b[0m in \u001b[0;36mconcat\u001b[1;34m(objs, axis, join, ignore_index, keys, levels, names, verify_integrity, sort, copy)\u001b[0m\n\u001b[0;32m    272\u001b[0m     \u001b[0mValueError\u001b[0m\u001b[1;33m:\u001b[0m \u001b[0mIndexes\u001b[0m \u001b[0mhave\u001b[0m \u001b[0moverlapping\u001b[0m \u001b[0mvalues\u001b[0m\u001b[1;33m:\u001b[0m \u001b[1;33m[\u001b[0m\u001b[1;34m'a'\u001b[0m\u001b[1;33m]\u001b[0m\u001b[1;33m\u001b[0m\u001b[1;33m\u001b[0m\u001b[0m\n\u001b[0;32m    273\u001b[0m     \"\"\"\n\u001b[1;32m--> 274\u001b[1;33m     op = _Concatenator(\n\u001b[0m\u001b[0;32m    275\u001b[0m         \u001b[0mobjs\u001b[0m\u001b[1;33m,\u001b[0m\u001b[1;33m\u001b[0m\u001b[1;33m\u001b[0m\u001b[0m\n\u001b[0;32m    276\u001b[0m         \u001b[0maxis\u001b[0m\u001b[1;33m=\u001b[0m\u001b[0maxis\u001b[0m\u001b[1;33m,\u001b[0m\u001b[1;33m\u001b[0m\u001b[1;33m\u001b[0m\u001b[0m\n",
      "\u001b[1;32m~\\.conda\\envs\\learn-env\\lib\\site-packages\\pandas\\core\\reshape\\concat.py\u001b[0m in \u001b[0;36m__init__\u001b[1;34m(self, objs, axis, join, keys, levels, names, ignore_index, verify_integrity, copy, sort)\u001b[0m\n\u001b[0;32m    329\u001b[0m \u001b[1;33m\u001b[0m\u001b[0m\n\u001b[0;32m    330\u001b[0m         \u001b[1;32mif\u001b[0m \u001b[0mlen\u001b[0m\u001b[1;33m(\u001b[0m\u001b[0mobjs\u001b[0m\u001b[1;33m)\u001b[0m \u001b[1;33m==\u001b[0m \u001b[1;36m0\u001b[0m\u001b[1;33m:\u001b[0m\u001b[1;33m\u001b[0m\u001b[1;33m\u001b[0m\u001b[0m\n\u001b[1;32m--> 331\u001b[1;33m             \u001b[1;32mraise\u001b[0m \u001b[0mValueError\u001b[0m\u001b[1;33m(\u001b[0m\u001b[1;34m\"No objects to concatenate\"\u001b[0m\u001b[1;33m)\u001b[0m\u001b[1;33m\u001b[0m\u001b[1;33m\u001b[0m\u001b[0m\n\u001b[0m\u001b[0;32m    332\u001b[0m \u001b[1;33m\u001b[0m\u001b[0m\n\u001b[0;32m    333\u001b[0m         \u001b[1;32mif\u001b[0m \u001b[0mkeys\u001b[0m \u001b[1;32mis\u001b[0m \u001b[1;32mNone\u001b[0m\u001b[1;33m:\u001b[0m\u001b[1;33m\u001b[0m\u001b[1;33m\u001b[0m\u001b[0m\n",
      "\u001b[1;31mValueError\u001b[0m: No objects to concatenate"
     ]
    }
   ],
   "source": [
    "# start_time = time.time()\n",
    "\n",
    "#regularseason12 = create_season_df(regularseason, 12)\n",
    "\n",
    "# end_time = time.time()\n",
    "# print('Execution time = %.6f seconds' % (end_time-start_time))"
   ]
  },
  {
   "cell_type": "code",
   "execution_count": null,
   "metadata": {},
   "outputs": [],
   "source": [
    "# regularseason13 = create_season_df(regularseason, 2013)"
   ]
  },
  {
   "cell_type": "code",
   "execution_count": null,
   "metadata": {},
   "outputs": [],
   "source": [
    "# regularseason14 = create_season_df(regularseason, 2014)"
   ]
  },
  {
   "cell_type": "code",
   "execution_count": null,
   "metadata": {},
   "outputs": [],
   "source": [
    "# regularseason15 = create_season_df(regularseason, 2015)"
   ]
  },
  {
   "cell_type": "code",
   "execution_count": null,
   "metadata": {},
   "outputs": [],
   "source": [
    "# regularseason16 = create_season_df(regularseason, 2016)"
   ]
  },
  {
   "cell_type": "code",
   "execution_count": null,
   "metadata": {},
   "outputs": [],
   "source": [
    "# regularseason17 = create_season_df(regularseason, 2017)"
   ]
  },
  {
   "cell_type": "code",
   "execution_count": null,
   "metadata": {},
   "outputs": [],
   "source": [
    "# regularseason18 = create_season_df(regularseason, 2018)"
   ]
  },
  {
   "cell_type": "code",
   "execution_count": null,
   "metadata": {},
   "outputs": [],
   "source": [
    "# regularseason19 = create_season_df(regularseason, 2019)"
   ]
  },
  {
   "cell_type": "code",
   "execution_count": null,
   "metadata": {},
   "outputs": [],
   "source": [
    "# regularseason20 = create_season_df(regularseason, 2020)"
   ]
  },
  {
   "cell_type": "markdown",
   "metadata": {},
   "source": [
    "Because this is so computationally expensive we can save these data frames as csv files so we never need to create these dataframes again. So We'll comment out those lines of code."
   ]
  },
  {
   "cell_type": "code",
   "execution_count": null,
   "metadata": {},
   "outputs": [],
   "source": [
    "# postseason12.to_csv('./data/postseason12.csv')\n",
    "# postseason13.to_csv('./data/postseason13.csv')\n",
    "# postseason14.to_csv('./data/postseason14.csv')\n",
    "# postseason15.to_csv('./data/postseason15.csv')\n",
    "# postseason16.to_csv('./data/postseason16.csv')\n",
    "# postseason17.to_csv('./data/postseason17.csv')\n",
    "# postseason18.to_csv('./data/postseason18.csv')\n",
    "# postseason19.to_csv('./data/postseason19.csv')"
   ]
  },
  {
   "cell_type": "code",
   "execution_count": null,
   "metadata": {},
   "outputs": [],
   "source": [
    "# regularseason12.to_csv('./data/regularseason12.csv')\n",
    "# regularseason13.to_csv('./data/regularseason13.csv')\n",
    "# regularseason14.to_csv('./data/regularseason14.csv')\n",
    "# regularseason15.to_csv('./data/regularseason15.csv')"
   ]
  }
 ],
 "metadata": {
  "kernelspec": {
   "display_name": "Python (learn-env)",
   "language": "python",
   "name": "learn-env"
  },
  "language_info": {
   "codemirror_mode": {
    "name": "ipython",
    "version": 3
   },
   "file_extension": ".py",
   "mimetype": "text/x-python",
   "name": "python",
   "nbconvert_exporter": "python",
   "pygments_lexer": "ipython3",
   "version": "3.8.5"
  }
 },
 "nbformat": 4,
 "nbformat_minor": 4
}
