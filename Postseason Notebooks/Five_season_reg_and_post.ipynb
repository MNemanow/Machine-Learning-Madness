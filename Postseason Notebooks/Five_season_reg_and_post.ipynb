{
 "cells": [
  {
   "cell_type": "code",
   "execution_count": 46,
   "metadata": {
    "ExecuteTime": {
     "end_time": "2021-12-09T05:12:31.779641Z",
     "start_time": "2021-12-09T05:12:31.719505Z"
    }
   },
   "outputs": [],
   "source": [
    "# Import the relevant packages\n",
    "import pandas as pd\n",
    "import numpy as np\n",
    "import matplotlib.pyplot as plt\n",
    "from sklearn.linear_model import LogisticRegression\n",
    "from sklearn.model_selection import cross_val_score, train_test_split,GridSearchCV\n",
    "from sklearn.metrics import plot_confusion_matrix, plot_roc_curve, accuracy_score, \\\n",
    "recall_score, precision_score, f1_score\n",
    "from sklearn.neighbors import KNeighborsClassifier\n",
    "from sklearn.preprocessing import StandardScaler\n",
    "from sklearn.tree import DecisionTreeClassifier, plot_tree\n",
    "from sklearn.ensemble import BaggingClassifier, RandomForestClassifier\n",
    "from sklearn.datasets import load_iris\n",
    "from sklearn.ensemble import AdaBoostClassifier, GradientBoostingClassifier\n",
    "from xgboost import XGBClassifier\n",
    "import statsmodels.api as sm\n",
    "from sklearn.feature_selection import RFECV\n",
    "\n",
    "import warnings\n",
    "warnings.filterwarnings(\"ignore\")"
   ]
  },
  {
   "cell_type": "code",
   "execution_count": 47,
   "metadata": {
    "ExecuteTime": {
     "end_time": "2021-12-09T05:12:31.795201Z",
     "start_time": "2021-12-09T05:12:31.786676Z"
    }
   },
   "outputs": [],
   "source": [
    "#Import functions notebook and load data set here\n",
    "from function_notebook_1 import *"
   ]
  },
  {
   "cell_type": "code",
   "execution_count": 48,
   "metadata": {
    "ExecuteTime": {
     "end_time": "2021-12-09T05:12:33.519662Z",
     "start_time": "2021-12-09T05:12:31.811494Z"
    }
   },
   "outputs": [],
   "source": [
    "df1 = pd.read_csv('data/regularseason15.csv').drop('Unnamed: 0', axis = 1)\n",
    "df2 = pd.read_csv('data/regularseason16.csv').drop('Unnamed: 0', axis = 1)\n",
    "df3 = pd.read_csv('data/regularseason17.csv').drop('Unnamed: 0', axis = 1)\n",
    "df4 = pd.read_csv('data/regularseason18.csv').drop('Unnamed: 0', axis = 1)\n",
    "df5 = pd.read_csv('data/regularseason19.csv').drop('Unnamed: 0', axis = 1)\n",
    "df6 = pd.read_csv('data/postseason15.csv').drop('Unnamed: 0', axis = 1)\n",
    "df7 = pd.read_csv('data/postseason16.csv').drop('Unnamed: 0', axis = 1)\n",
    "df8 = pd.read_csv('data/postseason17.csv').drop('Unnamed: 0', axis = 1)\n",
    "df9 = pd.read_csv('data/postseason18.csv').drop('Unnamed: 0', axis = 1)\n",
    "post_df = pd.read_csv('data/postseason19.csv').drop(['Unnamed: 0','w_loc'], axis = 1)\n",
    "\n"
   ]
  },
  {
   "cell_type": "code",
   "execution_count": 49,
   "metadata": {
    "ExecuteTime": {
     "end_time": "2021-12-09T05:12:33.843002Z",
     "start_time": "2021-12-09T05:12:33.523852Z"
    }
   },
   "outputs": [
    {
     "data": {
      "text/html": [
       "<div>\n",
       "<style scoped>\n",
       "    .dataframe tbody tr th:only-of-type {\n",
       "        vertical-align: middle;\n",
       "    }\n",
       "\n",
       "    .dataframe tbody tr th {\n",
       "        vertical-align: top;\n",
       "    }\n",
       "\n",
       "    .dataframe thead th {\n",
       "        text-align: right;\n",
       "    }\n",
       "</style>\n",
       "<table border=\"1\" class=\"dataframe\">\n",
       "  <thead>\n",
       "    <tr style=\"text-align: right;\">\n",
       "      <th></th>\n",
       "      <th>W_TeamID</th>\n",
       "      <th>W_Score</th>\n",
       "      <th>W_FGM</th>\n",
       "      <th>W_FGA</th>\n",
       "      <th>W_FGM3</th>\n",
       "      <th>W_FGA3</th>\n",
       "      <th>W_FTM</th>\n",
       "      <th>W_FTA</th>\n",
       "      <th>W_OR</th>\n",
       "      <th>W_DR</th>\n",
       "      <th>...</th>\n",
       "      <th>L_Opp_TR</th>\n",
       "      <th>L_Opp_ATOr</th>\n",
       "      <th>L_Opp_Ast_%</th>\n",
       "      <th>L_Opp_Stl_%</th>\n",
       "      <th>L_Opp_Blk_%</th>\n",
       "      <th>L_Opp_TO_r</th>\n",
       "      <th>fav_win</th>\n",
       "      <th>tournament</th>\n",
       "      <th>w_loc_H</th>\n",
       "      <th>w_loc_N</th>\n",
       "    </tr>\n",
       "  </thead>\n",
       "  <tbody>\n",
       "    <tr>\n",
       "      <th>0</th>\n",
       "      <td>1102.0</td>\n",
       "      <td>78.000000</td>\n",
       "      <td>31.000000</td>\n",
       "      <td>62.000000</td>\n",
       "      <td>6.000000</td>\n",
       "      <td>19.000000</td>\n",
       "      <td>10.000000</td>\n",
       "      <td>15.000000</td>\n",
       "      <td>15.000000</td>\n",
       "      <td>17.000000</td>\n",
       "      <td>...</td>\n",
       "      <td>31.000000</td>\n",
       "      <td>0.923077</td>\n",
       "      <td>0.461538</td>\n",
       "      <td>0.047281</td>\n",
       "      <td>0.095238</td>\n",
       "      <td>0.178326</td>\n",
       "      <td>True</td>\n",
       "      <td>0</td>\n",
       "      <td>0</td>\n",
       "      <td>1</td>\n",
       "    </tr>\n",
       "    <tr>\n",
       "      <th>1</th>\n",
       "      <td>1119.0</td>\n",
       "      <td>84.000000</td>\n",
       "      <td>30.000000</td>\n",
       "      <td>61.000000</td>\n",
       "      <td>13.000000</td>\n",
       "      <td>25.000000</td>\n",
       "      <td>11.000000</td>\n",
       "      <td>17.000000</td>\n",
       "      <td>17.000000</td>\n",
       "      <td>20.000000</td>\n",
       "      <td>...</td>\n",
       "      <td>22.000000</td>\n",
       "      <td>0.909091</td>\n",
       "      <td>0.434783</td>\n",
       "      <td>0.082305</td>\n",
       "      <td>0.017241</td>\n",
       "      <td>0.173365</td>\n",
       "      <td>True</td>\n",
       "      <td>0</td>\n",
       "      <td>0</td>\n",
       "      <td>1</td>\n",
       "    </tr>\n",
       "    <tr>\n",
       "      <th>2</th>\n",
       "      <td>1129.0</td>\n",
       "      <td>81.000000</td>\n",
       "      <td>23.000000</td>\n",
       "      <td>49.000000</td>\n",
       "      <td>6.000000</td>\n",
       "      <td>17.000000</td>\n",
       "      <td>29.000000</td>\n",
       "      <td>44.000000</td>\n",
       "      <td>10.000000</td>\n",
       "      <td>26.000000</td>\n",
       "      <td>...</td>\n",
       "      <td>28.000000</td>\n",
       "      <td>5.333333</td>\n",
       "      <td>0.571429</td>\n",
       "      <td>0.092654</td>\n",
       "      <td>0.056604</td>\n",
       "      <td>0.040161</td>\n",
       "      <td>True</td>\n",
       "      <td>0</td>\n",
       "      <td>0</td>\n",
       "      <td>0</td>\n",
       "    </tr>\n",
       "    <tr>\n",
       "      <th>3</th>\n",
       "      <td>1181.0</td>\n",
       "      <td>113.000000</td>\n",
       "      <td>42.000000</td>\n",
       "      <td>69.000000</td>\n",
       "      <td>16.000000</td>\n",
       "      <td>31.000000</td>\n",
       "      <td>13.000000</td>\n",
       "      <td>16.000000</td>\n",
       "      <td>17.000000</td>\n",
       "      <td>29.000000</td>\n",
       "      <td>...</td>\n",
       "      <td>35.000000</td>\n",
       "      <td>1.500000</td>\n",
       "      <td>0.631579</td>\n",
       "      <td>0.039591</td>\n",
       "      <td>0.036364</td>\n",
       "      <td>0.107527</td>\n",
       "      <td>True</td>\n",
       "      <td>0</td>\n",
       "      <td>0</td>\n",
       "      <td>0</td>\n",
       "    </tr>\n",
       "    <tr>\n",
       "      <th>4</th>\n",
       "      <td>1218.0</td>\n",
       "      <td>85.000000</td>\n",
       "      <td>31.000000</td>\n",
       "      <td>67.000000</td>\n",
       "      <td>8.000000</td>\n",
       "      <td>24.000000</td>\n",
       "      <td>15.000000</td>\n",
       "      <td>20.000000</td>\n",
       "      <td>18.000000</td>\n",
       "      <td>28.000000</td>\n",
       "      <td>...</td>\n",
       "      <td>31.000000</td>\n",
       "      <td>1.272727</td>\n",
       "      <td>0.388889</td>\n",
       "      <td>0.055646</td>\n",
       "      <td>0.053333</td>\n",
       "      <td>0.110887</td>\n",
       "      <td>True</td>\n",
       "      <td>0</td>\n",
       "      <td>1</td>\n",
       "      <td>0</td>\n",
       "    </tr>\n",
       "    <tr>\n",
       "      <th>...</th>\n",
       "      <td>...</td>\n",
       "      <td>...</td>\n",
       "      <td>...</td>\n",
       "      <td>...</td>\n",
       "      <td>...</td>\n",
       "      <td>...</td>\n",
       "      <td>...</td>\n",
       "      <td>...</td>\n",
       "      <td>...</td>\n",
       "      <td>...</td>\n",
       "      <td>...</td>\n",
       "      <td>...</td>\n",
       "      <td>...</td>\n",
       "      <td>...</td>\n",
       "      <td>...</td>\n",
       "      <td>...</td>\n",
       "      <td>...</td>\n",
       "      <td>...</td>\n",
       "      <td>...</td>\n",
       "      <td>...</td>\n",
       "      <td>...</td>\n",
       "    </tr>\n",
       "    <tr>\n",
       "      <th>62</th>\n",
       "      <td>1242.0</td>\n",
       "      <td>81.500000</td>\n",
       "      <td>30.117647</td>\n",
       "      <td>60.529412</td>\n",
       "      <td>10.147059</td>\n",
       "      <td>25.205882</td>\n",
       "      <td>11.117647</td>\n",
       "      <td>15.882353</td>\n",
       "      <td>9.558824</td>\n",
       "      <td>25.647059</td>\n",
       "      <td>...</td>\n",
       "      <td>32.727273</td>\n",
       "      <td>1.193955</td>\n",
       "      <td>0.556992</td>\n",
       "      <td>0.068604</td>\n",
       "      <td>0.043542</td>\n",
       "      <td>0.144900</td>\n",
       "      <td>False</td>\n",
       "      <td>1</td>\n",
       "      <td>0</td>\n",
       "      <td>1</td>\n",
       "    </tr>\n",
       "    <tr>\n",
       "      <th>63</th>\n",
       "      <td>1437.0</td>\n",
       "      <td>87.058824</td>\n",
       "      <td>31.029412</td>\n",
       "      <td>61.529412</td>\n",
       "      <td>11.411765</td>\n",
       "      <td>28.676471</td>\n",
       "      <td>13.588235</td>\n",
       "      <td>17.617647</td>\n",
       "      <td>9.382353</td>\n",
       "      <td>26.205882</td>\n",
       "      <td>...</td>\n",
       "      <td>31.757576</td>\n",
       "      <td>0.682635</td>\n",
       "      <td>0.476323</td>\n",
       "      <td>0.074531</td>\n",
       "      <td>0.064516</td>\n",
       "      <td>0.192245</td>\n",
       "      <td>True</td>\n",
       "      <td>1</td>\n",
       "      <td>0</td>\n",
       "      <td>1</td>\n",
       "    </tr>\n",
       "    <tr>\n",
       "      <th>64</th>\n",
       "      <td>1276.0</td>\n",
       "      <td>73.647059</td>\n",
       "      <td>26.647059</td>\n",
       "      <td>57.235294</td>\n",
       "      <td>8.970588</td>\n",
       "      <td>24.705882</td>\n",
       "      <td>11.382353</td>\n",
       "      <td>17.323529</td>\n",
       "      <td>8.647059</td>\n",
       "      <td>24.676471</td>\n",
       "      <td>...</td>\n",
       "      <td>30.687500</td>\n",
       "      <td>0.881517</td>\n",
       "      <td>0.510288</td>\n",
       "      <td>0.089648</td>\n",
       "      <td>0.059038</td>\n",
       "      <td>0.175713</td>\n",
       "      <td>True</td>\n",
       "      <td>1</td>\n",
       "      <td>0</td>\n",
       "      <td>1</td>\n",
       "    </tr>\n",
       "    <tr>\n",
       "      <th>65</th>\n",
       "      <td>1437.0</td>\n",
       "      <td>87.058824</td>\n",
       "      <td>31.029412</td>\n",
       "      <td>61.529412</td>\n",
       "      <td>11.411765</td>\n",
       "      <td>28.676471</td>\n",
       "      <td>13.588235</td>\n",
       "      <td>17.617647</td>\n",
       "      <td>9.382353</td>\n",
       "      <td>26.205882</td>\n",
       "      <td>...</td>\n",
       "      <td>35.147059</td>\n",
       "      <td>0.975113</td>\n",
       "      <td>0.485908</td>\n",
       "      <td>0.070441</td>\n",
       "      <td>0.058795</td>\n",
       "      <td>0.158453</td>\n",
       "      <td>True</td>\n",
       "      <td>1</td>\n",
       "      <td>0</td>\n",
       "      <td>1</td>\n",
       "    </tr>\n",
       "    <tr>\n",
       "      <th>66</th>\n",
       "      <td>1437.0</td>\n",
       "      <td>87.058824</td>\n",
       "      <td>31.029412</td>\n",
       "      <td>61.529412</td>\n",
       "      <td>11.411765</td>\n",
       "      <td>28.676471</td>\n",
       "      <td>13.588235</td>\n",
       "      <td>17.617647</td>\n",
       "      <td>9.382353</td>\n",
       "      <td>26.205882</td>\n",
       "      <td>...</td>\n",
       "      <td>32.617647</td>\n",
       "      <td>0.814645</td>\n",
       "      <td>0.451204</td>\n",
       "      <td>0.054772</td>\n",
       "      <td>0.056526</td>\n",
       "      <td>0.172984</td>\n",
       "      <td>True</td>\n",
       "      <td>1</td>\n",
       "      <td>0</td>\n",
       "      <td>1</td>\n",
       "    </tr>\n",
       "  </tbody>\n",
       "</table>\n",
       "<p>25942 rows × 110 columns</p>\n",
       "</div>"
      ],
      "text/plain": [
       "    W_TeamID     W_Score      W_FGM      W_FGA     W_FGM3     W_FGA3  \\\n",
       "0     1102.0   78.000000  31.000000  62.000000   6.000000  19.000000   \n",
       "1     1119.0   84.000000  30.000000  61.000000  13.000000  25.000000   \n",
       "2     1129.0   81.000000  23.000000  49.000000   6.000000  17.000000   \n",
       "3     1181.0  113.000000  42.000000  69.000000  16.000000  31.000000   \n",
       "4     1218.0   85.000000  31.000000  67.000000   8.000000  24.000000   \n",
       "..       ...         ...        ...        ...        ...        ...   \n",
       "62    1242.0   81.500000  30.117647  60.529412  10.147059  25.205882   \n",
       "63    1437.0   87.058824  31.029412  61.529412  11.411765  28.676471   \n",
       "64    1276.0   73.647059  26.647059  57.235294   8.970588  24.705882   \n",
       "65    1437.0   87.058824  31.029412  61.529412  11.411765  28.676471   \n",
       "66    1437.0   87.058824  31.029412  61.529412  11.411765  28.676471   \n",
       "\n",
       "        W_FTM      W_FTA       W_OR       W_DR  ...   L_Opp_TR  L_Opp_ATOr  \\\n",
       "0   10.000000  15.000000  15.000000  17.000000  ...  31.000000    0.923077   \n",
       "1   11.000000  17.000000  17.000000  20.000000  ...  22.000000    0.909091   \n",
       "2   29.000000  44.000000  10.000000  26.000000  ...  28.000000    5.333333   \n",
       "3   13.000000  16.000000  17.000000  29.000000  ...  35.000000    1.500000   \n",
       "4   15.000000  20.000000  18.000000  28.000000  ...  31.000000    1.272727   \n",
       "..        ...        ...        ...        ...  ...        ...         ...   \n",
       "62  11.117647  15.882353   9.558824  25.647059  ...  32.727273    1.193955   \n",
       "63  13.588235  17.617647   9.382353  26.205882  ...  31.757576    0.682635   \n",
       "64  11.382353  17.323529   8.647059  24.676471  ...  30.687500    0.881517   \n",
       "65  13.588235  17.617647   9.382353  26.205882  ...  35.147059    0.975113   \n",
       "66  13.588235  17.617647   9.382353  26.205882  ...  32.617647    0.814645   \n",
       "\n",
       "    L_Opp_Ast_%  L_Opp_Stl_%  L_Opp_Blk_%  L_Opp_TO_r  fav_win  tournament  \\\n",
       "0      0.461538     0.047281     0.095238    0.178326     True           0   \n",
       "1      0.434783     0.082305     0.017241    0.173365     True           0   \n",
       "2      0.571429     0.092654     0.056604    0.040161     True           0   \n",
       "3      0.631579     0.039591     0.036364    0.107527     True           0   \n",
       "4      0.388889     0.055646     0.053333    0.110887     True           0   \n",
       "..          ...          ...          ...         ...      ...         ...   \n",
       "62     0.556992     0.068604     0.043542    0.144900    False           1   \n",
       "63     0.476323     0.074531     0.064516    0.192245     True           1   \n",
       "64     0.510288     0.089648     0.059038    0.175713     True           1   \n",
       "65     0.485908     0.070441     0.058795    0.158453     True           1   \n",
       "66     0.451204     0.054772     0.056526    0.172984     True           1   \n",
       "\n",
       "    w_loc_H  w_loc_N  \n",
       "0         0        1  \n",
       "1         0        1  \n",
       "2         0        0  \n",
       "3         0        0  \n",
       "4         1        0  \n",
       "..      ...      ...  \n",
       "62        0        1  \n",
       "63        0        1  \n",
       "64        0        1  \n",
       "65        0        1  \n",
       "66        0        1  \n",
       "\n",
       "[25942 rows x 110 columns]"
      ]
     },
     "execution_count": 49,
     "metadata": {},
     "output_type": "execute_result"
    }
   ],
   "source": [
    "df=pd.concat([df1,df2,df3,df4,df5],axis=0)\n",
    "df['tournament']= 0\n",
    "df = pd.get_dummies(df, columns=['w_loc'], drop_first=True)\n",
    "df_11=pd.concat([df6,df7,df8,df9],axis=0)\n",
    "df_11.drop(['w_loc'],axis=1,inplace=True)\n",
    "df_11['tournament']=1\n",
    "df_11['w_loc_H'] = 0\n",
    "df_11['w_loc_N'] = 1\n",
    "df_train=pd.concat([df,df_11],axis=0)\n",
    "df_train"
   ]
  },
  {
   "cell_type": "code",
   "execution_count": 50,
   "metadata": {
    "ExecuteTime": {
     "end_time": "2021-12-09T05:12:33.886659Z",
     "start_time": "2021-12-09T05:12:33.858580Z"
    }
   },
   "outputs": [],
   "source": [
    "post_df['tournament']=1\n",
    "post_df['w_loc_H'] = 0\n",
    "post_df['w_loc_N'] = 1"
   ]
  },
  {
   "cell_type": "code",
   "execution_count": 51,
   "metadata": {
    "ExecuteTime": {
     "end_time": "2021-12-09T05:12:33.995752Z",
     "start_time": "2021-12-09T05:12:33.916963Z"
    }
   },
   "outputs": [
    {
     "data": {
      "text/html": [
       "<div>\n",
       "<style scoped>\n",
       "    .dataframe tbody tr th:only-of-type {\n",
       "        vertical-align: middle;\n",
       "    }\n",
       "\n",
       "    .dataframe tbody tr th {\n",
       "        vertical-align: top;\n",
       "    }\n",
       "\n",
       "    .dataframe thead th {\n",
       "        text-align: right;\n",
       "    }\n",
       "</style>\n",
       "<table border=\"1\" class=\"dataframe\">\n",
       "  <thead>\n",
       "    <tr style=\"text-align: right;\">\n",
       "      <th></th>\n",
       "      <th>W_TeamID</th>\n",
       "      <th>W_Score</th>\n",
       "      <th>W_FGM</th>\n",
       "      <th>W_FGA</th>\n",
       "      <th>W_FGM3</th>\n",
       "      <th>W_FGA3</th>\n",
       "      <th>W_FTM</th>\n",
       "      <th>W_FTA</th>\n",
       "      <th>W_OR</th>\n",
       "      <th>W_DR</th>\n",
       "      <th>...</th>\n",
       "      <th>L_Opp_3Pr</th>\n",
       "      <th>L_Opp_TR</th>\n",
       "      <th>L_Opp_ATOr</th>\n",
       "      <th>L_Opp_Ast_%</th>\n",
       "      <th>L_Opp_Stl_%</th>\n",
       "      <th>L_Opp_Blk_%</th>\n",
       "      <th>L_Opp_TO_r</th>\n",
       "      <th>tournament</th>\n",
       "      <th>w_loc_H</th>\n",
       "      <th>w_loc_N</th>\n",
       "    </tr>\n",
       "  </thead>\n",
       "  <tbody>\n",
       "    <tr>\n",
       "      <th>0</th>\n",
       "      <td>1102.0</td>\n",
       "      <td>78.0</td>\n",
       "      <td>31.0</td>\n",
       "      <td>62.0</td>\n",
       "      <td>6.0</td>\n",
       "      <td>19.0</td>\n",
       "      <td>10.0</td>\n",
       "      <td>15.0</td>\n",
       "      <td>15.0</td>\n",
       "      <td>17.0</td>\n",
       "      <td>...</td>\n",
       "      <td>0.484140</td>\n",
       "      <td>31.0</td>\n",
       "      <td>0.923077</td>\n",
       "      <td>0.461538</td>\n",
       "      <td>0.047281</td>\n",
       "      <td>0.095238</td>\n",
       "      <td>0.178326</td>\n",
       "      <td>0</td>\n",
       "      <td>0</td>\n",
       "      <td>1</td>\n",
       "    </tr>\n",
       "    <tr>\n",
       "      <th>1</th>\n",
       "      <td>1119.0</td>\n",
       "      <td>84.0</td>\n",
       "      <td>30.0</td>\n",
       "      <td>61.0</td>\n",
       "      <td>13.0</td>\n",
       "      <td>25.0</td>\n",
       "      <td>11.0</td>\n",
       "      <td>17.0</td>\n",
       "      <td>17.0</td>\n",
       "      <td>20.0</td>\n",
       "      <td>...</td>\n",
       "      <td>0.076263</td>\n",
       "      <td>22.0</td>\n",
       "      <td>0.909091</td>\n",
       "      <td>0.434783</td>\n",
       "      <td>0.082305</td>\n",
       "      <td>0.017241</td>\n",
       "      <td>0.173365</td>\n",
       "      <td>0</td>\n",
       "      <td>0</td>\n",
       "      <td>1</td>\n",
       "    </tr>\n",
       "    <tr>\n",
       "      <th>2</th>\n",
       "      <td>1129.0</td>\n",
       "      <td>81.0</td>\n",
       "      <td>23.0</td>\n",
       "      <td>49.0</td>\n",
       "      <td>6.0</td>\n",
       "      <td>17.0</td>\n",
       "      <td>29.0</td>\n",
       "      <td>44.0</td>\n",
       "      <td>10.0</td>\n",
       "      <td>26.0</td>\n",
       "      <td>...</td>\n",
       "      <td>0.278940</td>\n",
       "      <td>28.0</td>\n",
       "      <td>5.333333</td>\n",
       "      <td>0.571429</td>\n",
       "      <td>0.092654</td>\n",
       "      <td>0.056604</td>\n",
       "      <td>0.040161</td>\n",
       "      <td>0</td>\n",
       "      <td>0</td>\n",
       "      <td>0</td>\n",
       "    </tr>\n",
       "    <tr>\n",
       "      <th>3</th>\n",
       "      <td>1181.0</td>\n",
       "      <td>113.0</td>\n",
       "      <td>42.0</td>\n",
       "      <td>69.0</td>\n",
       "      <td>16.0</td>\n",
       "      <td>31.0</td>\n",
       "      <td>13.0</td>\n",
       "      <td>16.0</td>\n",
       "      <td>17.0</td>\n",
       "      <td>29.0</td>\n",
       "      <td>...</td>\n",
       "      <td>0.225904</td>\n",
       "      <td>35.0</td>\n",
       "      <td>1.500000</td>\n",
       "      <td>0.631579</td>\n",
       "      <td>0.039591</td>\n",
       "      <td>0.036364</td>\n",
       "      <td>0.107527</td>\n",
       "      <td>0</td>\n",
       "      <td>0</td>\n",
       "      <td>0</td>\n",
       "    </tr>\n",
       "    <tr>\n",
       "      <th>4</th>\n",
       "      <td>1218.0</td>\n",
       "      <td>85.0</td>\n",
       "      <td>31.0</td>\n",
       "      <td>67.0</td>\n",
       "      <td>8.0</td>\n",
       "      <td>24.0</td>\n",
       "      <td>15.0</td>\n",
       "      <td>20.0</td>\n",
       "      <td>18.0</td>\n",
       "      <td>28.0</td>\n",
       "      <td>...</td>\n",
       "      <td>0.272109</td>\n",
       "      <td>31.0</td>\n",
       "      <td>1.272727</td>\n",
       "      <td>0.388889</td>\n",
       "      <td>0.055646</td>\n",
       "      <td>0.053333</td>\n",
       "      <td>0.110887</td>\n",
       "      <td>0</td>\n",
       "      <td>1</td>\n",
       "      <td>0</td>\n",
       "    </tr>\n",
       "  </tbody>\n",
       "</table>\n",
       "<p>5 rows × 109 columns</p>\n",
       "</div>"
      ],
      "text/plain": [
       "   W_TeamID  W_Score  W_FGM  W_FGA  W_FGM3  W_FGA3  W_FTM  W_FTA  W_OR  W_DR  \\\n",
       "0    1102.0     78.0   31.0   62.0     6.0    19.0   10.0   15.0  15.0  17.0   \n",
       "1    1119.0     84.0   30.0   61.0    13.0    25.0   11.0   17.0  17.0  20.0   \n",
       "2    1129.0     81.0   23.0   49.0     6.0    17.0   29.0   44.0  10.0  26.0   \n",
       "3    1181.0    113.0   42.0   69.0    16.0    31.0   13.0   16.0  17.0  29.0   \n",
       "4    1218.0     85.0   31.0   67.0     8.0    24.0   15.0   20.0  18.0  28.0   \n",
       "\n",
       "   ...  L_Opp_3Pr  L_Opp_TR  L_Opp_ATOr  L_Opp_Ast_%  L_Opp_Stl_%  \\\n",
       "0  ...   0.484140      31.0    0.923077     0.461538     0.047281   \n",
       "1  ...   0.076263      22.0    0.909091     0.434783     0.082305   \n",
       "2  ...   0.278940      28.0    5.333333     0.571429     0.092654   \n",
       "3  ...   0.225904      35.0    1.500000     0.631579     0.039591   \n",
       "4  ...   0.272109      31.0    1.272727     0.388889     0.055646   \n",
       "\n",
       "   L_Opp_Blk_%  L_Opp_TO_r  tournament  w_loc_H  w_loc_N  \n",
       "0     0.095238    0.178326           0        0        1  \n",
       "1     0.017241    0.173365           0        0        1  \n",
       "2     0.056604    0.040161           0        0        0  \n",
       "3     0.036364    0.107527           0        0        0  \n",
       "4     0.053333    0.110887           0        1        0  \n",
       "\n",
       "[5 rows x 109 columns]"
      ]
     },
     "execution_count": 51,
     "metadata": {},
     "output_type": "execute_result"
    }
   ],
   "source": [
    "X_train= df_train.drop('fav_win',axis=1)\n",
    "X_test= post_df.drop('fav_win',axis=1)\n",
    "y_train= df_train['fav_win']\n",
    "y_test = post_df['fav_win']\n",
    "X_train.head()"
   ]
  },
  {
   "cell_type": "code",
   "execution_count": 52,
   "metadata": {
    "ExecuteTime": {
     "end_time": "2021-12-09T05:12:34.112455Z",
     "start_time": "2021-12-09T05:12:34.025261Z"
    }
   },
   "outputs": [
    {
     "data": {
      "text/html": [
       "<div>\n",
       "<style scoped>\n",
       "    .dataframe tbody tr th:only-of-type {\n",
       "        vertical-align: middle;\n",
       "    }\n",
       "\n",
       "    .dataframe tbody tr th {\n",
       "        vertical-align: top;\n",
       "    }\n",
       "\n",
       "    .dataframe thead th {\n",
       "        text-align: right;\n",
       "    }\n",
       "</style>\n",
       "<table border=\"1\" class=\"dataframe\">\n",
       "  <thead>\n",
       "    <tr style=\"text-align: right;\">\n",
       "      <th></th>\n",
       "      <th>W_TeamID</th>\n",
       "      <th>W_Score</th>\n",
       "      <th>W_FGM</th>\n",
       "      <th>W_FGA</th>\n",
       "      <th>W_FGM3</th>\n",
       "      <th>W_FGA3</th>\n",
       "      <th>W_FTM</th>\n",
       "      <th>W_FTA</th>\n",
       "      <th>W_OR</th>\n",
       "      <th>W_DR</th>\n",
       "      <th>...</th>\n",
       "      <th>L_Opp_3Pr</th>\n",
       "      <th>L_Opp_TR</th>\n",
       "      <th>L_Opp_ATOr</th>\n",
       "      <th>L_Opp_Ast_%</th>\n",
       "      <th>L_Opp_Stl_%</th>\n",
       "      <th>L_Opp_Blk_%</th>\n",
       "      <th>L_Opp_TO_r</th>\n",
       "      <th>tournament</th>\n",
       "      <th>w_loc_H</th>\n",
       "      <th>w_loc_N</th>\n",
       "    </tr>\n",
       "  </thead>\n",
       "  <tbody>\n",
       "    <tr>\n",
       "      <th>0</th>\n",
       "      <td>1125.0</td>\n",
       "      <td>86.866667</td>\n",
       "      <td>31.666667</td>\n",
       "      <td>63.733333</td>\n",
       "      <td>10.366667</td>\n",
       "      <td>27.966667</td>\n",
       "      <td>13.166667</td>\n",
       "      <td>17.900000</td>\n",
       "      <td>8.900000</td>\n",
       "      <td>29.666667</td>\n",
       "      <td>...</td>\n",
       "      <td>0.329057</td>\n",
       "      <td>37.156250</td>\n",
       "      <td>0.852941</td>\n",
       "      <td>0.499385</td>\n",
       "      <td>0.068056</td>\n",
       "      <td>0.042034</td>\n",
       "      <td>0.181995</td>\n",
       "      <td>1</td>\n",
       "      <td>0</td>\n",
       "      <td>1</td>\n",
       "    </tr>\n",
       "    <tr>\n",
       "      <th>1</th>\n",
       "      <td>1192.0</td>\n",
       "      <td>74.741935</td>\n",
       "      <td>26.193548</td>\n",
       "      <td>55.225806</td>\n",
       "      <td>7.806452</td>\n",
       "      <td>19.322581</td>\n",
       "      <td>14.548387</td>\n",
       "      <td>19.548387</td>\n",
       "      <td>9.225806</td>\n",
       "      <td>23.096774</td>\n",
       "      <td>...</td>\n",
       "      <td>0.293533</td>\n",
       "      <td>37.878788</td>\n",
       "      <td>0.714527</td>\n",
       "      <td>0.520936</td>\n",
       "      <td>0.061329</td>\n",
       "      <td>0.073423</td>\n",
       "      <td>0.213015</td>\n",
       "      <td>1</td>\n",
       "      <td>0</td>\n",
       "      <td>1</td>\n",
       "    </tr>\n",
       "    <tr>\n",
       "      <th>2</th>\n",
       "      <td>1113.0</td>\n",
       "      <td>77.812500</td>\n",
       "      <td>26.593750</td>\n",
       "      <td>59.468750</td>\n",
       "      <td>7.250000</td>\n",
       "      <td>21.250000</td>\n",
       "      <td>17.375000</td>\n",
       "      <td>25.906250</td>\n",
       "      <td>12.156250</td>\n",
       "      <td>27.812500</td>\n",
       "      <td>...</td>\n",
       "      <td>0.360050</td>\n",
       "      <td>38.666667</td>\n",
       "      <td>0.882353</td>\n",
       "      <td>0.541516</td>\n",
       "      <td>0.064369</td>\n",
       "      <td>0.039389</td>\n",
       "      <td>0.183694</td>\n",
       "      <td>1</td>\n",
       "      <td>0</td>\n",
       "      <td>1</td>\n",
       "    </tr>\n",
       "    <tr>\n",
       "      <th>3</th>\n",
       "      <td>1295.0</td>\n",
       "      <td>72.290323</td>\n",
       "      <td>24.580645</td>\n",
       "      <td>54.709677</td>\n",
       "      <td>9.709677</td>\n",
       "      <td>26.354839</td>\n",
       "      <td>13.419355</td>\n",
       "      <td>17.548387</td>\n",
       "      <td>6.580645</td>\n",
       "      <td>24.193548</td>\n",
       "      <td>...</td>\n",
       "      <td>0.296495</td>\n",
       "      <td>31.033333</td>\n",
       "      <td>1.094708</td>\n",
       "      <td>0.525401</td>\n",
       "      <td>0.077498</td>\n",
       "      <td>0.069175</td>\n",
       "      <td>0.156430</td>\n",
       "      <td>1</td>\n",
       "      <td>0</td>\n",
       "      <td>1</td>\n",
       "    </tr>\n",
       "    <tr>\n",
       "      <th>4</th>\n",
       "      <td>1120.0</td>\n",
       "      <td>78.882353</td>\n",
       "      <td>27.029412</td>\n",
       "      <td>60.441176</td>\n",
       "      <td>11.411765</td>\n",
       "      <td>29.970588</td>\n",
       "      <td>13.411765</td>\n",
       "      <td>18.735294</td>\n",
       "      <td>11.735294</td>\n",
       "      <td>21.941176</td>\n",
       "      <td>...</td>\n",
       "      <td>0.338442</td>\n",
       "      <td>28.781250</td>\n",
       "      <td>0.659524</td>\n",
       "      <td>0.381018</td>\n",
       "      <td>0.059872</td>\n",
       "      <td>0.031629</td>\n",
       "      <td>0.174381</td>\n",
       "      <td>1</td>\n",
       "      <td>0</td>\n",
       "      <td>1</td>\n",
       "    </tr>\n",
       "  </tbody>\n",
       "</table>\n",
       "<p>5 rows × 109 columns</p>\n",
       "</div>"
      ],
      "text/plain": [
       "   W_TeamID    W_Score      W_FGM      W_FGA     W_FGM3     W_FGA3      W_FTM  \\\n",
       "0    1125.0  86.866667  31.666667  63.733333  10.366667  27.966667  13.166667   \n",
       "1    1192.0  74.741935  26.193548  55.225806   7.806452  19.322581  14.548387   \n",
       "2    1113.0  77.812500  26.593750  59.468750   7.250000  21.250000  17.375000   \n",
       "3    1295.0  72.290323  24.580645  54.709677   9.709677  26.354839  13.419355   \n",
       "4    1120.0  78.882353  27.029412  60.441176  11.411765  29.970588  13.411765   \n",
       "\n",
       "       W_FTA       W_OR       W_DR  ...  L_Opp_3Pr   L_Opp_TR  L_Opp_ATOr  \\\n",
       "0  17.900000   8.900000  29.666667  ...   0.329057  37.156250    0.852941   \n",
       "1  19.548387   9.225806  23.096774  ...   0.293533  37.878788    0.714527   \n",
       "2  25.906250  12.156250  27.812500  ...   0.360050  38.666667    0.882353   \n",
       "3  17.548387   6.580645  24.193548  ...   0.296495  31.033333    1.094708   \n",
       "4  18.735294  11.735294  21.941176  ...   0.338442  28.781250    0.659524   \n",
       "\n",
       "   L_Opp_Ast_%  L_Opp_Stl_%  L_Opp_Blk_%  L_Opp_TO_r  tournament  w_loc_H  \\\n",
       "0     0.499385     0.068056     0.042034    0.181995           1        0   \n",
       "1     0.520936     0.061329     0.073423    0.213015           1        0   \n",
       "2     0.541516     0.064369     0.039389    0.183694           1        0   \n",
       "3     0.525401     0.077498     0.069175    0.156430           1        0   \n",
       "4     0.381018     0.059872     0.031629    0.174381           1        0   \n",
       "\n",
       "   w_loc_N  \n",
       "0        1  \n",
       "1        1  \n",
       "2        1  \n",
       "3        1  \n",
       "4        1  \n",
       "\n",
       "[5 rows x 109 columns]"
      ]
     },
     "execution_count": 52,
     "metadata": {},
     "output_type": "execute_result"
    }
   ],
   "source": [
    "X_test.head()"
   ]
  },
  {
   "cell_type": "code",
   "execution_count": 53,
   "metadata": {
    "ExecuteTime": {
     "end_time": "2021-12-09T05:12:34.360405Z",
     "start_time": "2021-12-09T05:12:34.123913Z"
    }
   },
   "outputs": [],
   "source": [
    "ss = StandardScaler()\n",
    "X_train_scaled = ss.fit_transform(X_train)\n",
    "X_test_scaled = ss.transform(X_test)"
   ]
  },
  {
   "cell_type": "code",
   "execution_count": 54,
   "metadata": {
    "ExecuteTime": {
     "end_time": "2021-12-09T05:12:34.381938Z",
     "start_time": "2021-12-09T05:12:34.371553Z"
    }
   },
   "outputs": [],
   "source": [
    "X_train_scaled = pd.DataFrame(X_train_scaled, columns=X_train.columns)\n",
    "X_test_scaled = pd.DataFrame(X_test_scaled, columns=X_test.columns)"
   ]
  },
  {
   "cell_type": "markdown",
   "metadata": {},
   "source": [
    "### Logistic Regression"
   ]
  },
  {
   "cell_type": "code",
   "execution_count": 55,
   "metadata": {
    "ExecuteTime": {
     "end_time": "2021-12-09T05:17:29.801287Z",
     "start_time": "2021-12-09T05:12:34.387114Z"
    }
   },
   "outputs": [],
   "source": [
    "log_feat=feature_select(X_train_scaled,y_train,LogisticRegression,min_features=10)\n",
    "X_train_best_log = X_train_scaled[log_feat]\n",
    "X_test_best_log = X_test_scaled[log_feat]"
   ]
  },
  {
   "cell_type": "code",
   "execution_count": 56,
   "metadata": {
    "ExecuteTime": {
     "end_time": "2021-12-09T05:29:03.997741Z",
     "start_time": "2021-12-09T05:17:29.808409Z"
    }
   },
   "outputs": [
    {
     "name": "stdout",
     "output_type": "stream",
     "text": [
      "Penalty: l2\n",
      "Solver: sag\n",
      "Mean Cross-Val Score: 0.8504357046138612\n",
      "Train Mean Accuracy: 0.8539048646981728\n",
      "Test Mean Accuracy: 0.746268656716418\n",
      "Recall Score: 0.88\n",
      "Precision Score: 0.8\n",
      "F1 Score: 0.8380952380952381\n"
     ]
    },
    {
     "data": {
      "image/png": "[encoded data removed]",
      "text/plain": [
       "<Figure size 432x288 with 1 Axes>"
      ]
     },
     "metadata": {
      "needs_background": "light"
     },
     "output_type": "display_data"
    },
    {
     "data": {
      "image/png": "[encoded data removed]",
      "text/plain": [
       "<Figure size 432x288 with 2 Axes>"
      ]
     },
     "metadata": {
      "needs_background": "light"
     },
     "output_type": "display_data"
    },
    {
     "data": {
      "image/png": "[encoded data removed]",
      "text/plain": [
       "<Figure size 432x288 with 2 Axes>"
      ]
     },
     "metadata": {
      "needs_background": "light"
     },
     "output_type": "display_data"
    }
   ],
   "source": [
    "logreg(X_train_best_log, X_test_best_log, y_train, y_test)"
   ]
  },
  {
   "cell_type": "markdown",
   "metadata": {},
   "source": [
    "### KNN"
   ]
  },
  {
   "cell_type": "code",
   "execution_count": 57,
   "metadata": {
    "ExecuteTime": {
     "end_time": "2021-12-09T05:29:04.024680Z",
     "start_time": "2021-12-09T05:29:04.004237Z"
    }
   },
   "outputs": [],
   "source": [
    "#knn(X_train_scaled, X_test_scaled, y_train, y_test)"
   ]
  },
  {
   "cell_type": "markdown",
   "metadata": {},
   "source": [
    "### Decision Tree"
   ]
  },
  {
   "cell_type": "code",
   "execution_count": 58,
   "metadata": {
    "ExecuteTime": {
     "end_time": "2021-12-09T05:29:04.057757Z",
     "start_time": "2021-12-09T05:29:04.046435Z"
    }
   },
   "outputs": [],
   "source": [
    "#dtree_feats=feature_select(X_train_scaled,y_train,DecisionTreeClassifier,min_features=10)"
   ]
  },
  {
   "cell_type": "code",
   "execution_count": 59,
   "metadata": {
    "ExecuteTime": {
     "end_time": "2021-12-09T05:29:04.076781Z",
     "start_time": "2021-12-09T05:29:04.063134Z"
    }
   },
   "outputs": [],
   "source": [
    "#X_train_best_dtree=X_train[dtree_feats]\n",
    "#X_test_best_dtree=X_test[dtree_feats]"
   ]
  },
  {
   "cell_type": "code",
   "execution_count": 60,
   "metadata": {
    "ExecuteTime": {
     "end_time": "2021-12-09T05:29:04.087625Z",
     "start_time": "2021-12-09T05:29:04.081656Z"
    }
   },
   "outputs": [],
   "source": [
    "#dtree(X_train_best_dtree, X_test_best_dtree, y_train, y_test)"
   ]
  },
  {
   "cell_type": "markdown",
   "metadata": {},
   "source": [
    "### Random Forest"
   ]
  },
  {
   "cell_type": "code",
   "execution_count": 61,
   "metadata": {
    "ExecuteTime": {
     "end_time": "2021-12-09T07:31:38.409804Z",
     "start_time": "2021-12-09T05:29:04.091329Z"
    }
   },
   "outputs": [],
   "source": [
    "random_forest_feat=feature_select(X_train_scaled,y_train,RandomForestClassifier,min_features=10)\n",
    "X_train_best_rforest=X_train_scaled[random_forest_feat]\n",
    "X_test_best_rforest=X_test_scaled[random_forest_feat]"
   ]
  },
  {
   "cell_type": "code",
   "execution_count": 62,
   "metadata": {
    "ExecuteTime": {
     "end_time": "2021-12-09T10:30:25.482402Z",
     "start_time": "2021-12-09T07:31:38.415150Z"
    }
   },
   "outputs": [
    {
     "name": "stdout",
     "output_type": "stream",
     "text": [
      "Number of Trees: 150\n",
      "Criterion: entropy\n",
      "Mean Cross-Val Score: 0.8366744981117016\n",
      "Train Mean Accuracy: 1.0\n",
      "Test Mean Accuracy: 0.8208955223880597\n",
      "Recall Score: 0.94\n",
      "Precision Score: 0.8392857142857143\n",
      "F1 score: 0.8867924528301886\n"
     ]
    },
    {
     "data": {
      "image/png": "[encoded data removed]",
      "text/plain": [
       "<Figure size 432x288 with 1 Axes>"
      ]
     },
     "metadata": {
      "needs_background": "light"
     },
     "output_type": "display_data"
    },
    {
     "data": {
      "image/png": "[encoded data removed]",
      "text/plain": [
       "<Figure size 432x288 with 2 Axes>"
      ]
     },
     "metadata": {
      "needs_background": "light"
     },
     "output_type": "display_data"
    },
    {
     "data": {
      "image/png": "[encoded data removed]",
      "text/plain": [
       "<Figure size 432x288 with 2 Axes>"
      ]
     },
     "metadata": {
      "needs_background": "light"
     },
     "output_type": "display_data"
    }
   ],
   "source": [
    "random_forest(X_train, X_test, y_train, y_test, cv=5)"
   ]
  },
  {
   "cell_type": "markdown",
   "metadata": {},
   "source": [
    "### Bagging Classifier"
   ]
  },
  {
   "cell_type": "code",
   "execution_count": 63,
   "metadata": {
    "ExecuteTime": {
     "end_time": "2021-12-09T10:30:25.491293Z",
     "start_time": "2021-12-09T10:30:25.486790Z"
    }
   },
   "outputs": [],
   "source": [
    "#bagged(X_train, X_test, y_train, y_test, cv=5)"
   ]
  },
  {
   "cell_type": "markdown",
   "metadata": {},
   "source": [
    "### XGboost"
   ]
  },
  {
   "cell_type": "code",
   "execution_count": 64,
   "metadata": {
    "ExecuteTime": {
     "end_time": "2021-12-09T12:18:49.671374Z",
     "start_time": "2021-12-09T10:30:25.504008Z"
    }
   },
   "outputs": [
    {
     "name": "stdout",
     "output_type": "stream",
     "text": [
      "XGBoost Learning Rate: 0.05\n",
      "XGBoost Max Depth: 4\n",
      "XGBoost Min Child Weight: 3\n",
      "XGBoost Subsample: 1\n",
      "XGBoost Estimators: 500\n",
      "Mean Cross-Val Score: 0.8471980865757036\n",
      "Train Mean Accuracy Score: 0.9192043789993062\n",
      "Test Mean Accuracy Score: 0.7611940298507462\n",
      "Recall Score: 0.86\n",
      "Precision Score: 0.8269230769230769\n",
      "F1 score: 0.8431372549019608\n"
     ]
    },
    {
     "data": {
      "image/png": "[encoded data removed]",
      "text/plain": [
       "<Figure size 432x288 with 1 Axes>"
      ]
     },
     "metadata": {
      "needs_background": "light"
     },
     "output_type": "display_data"
    },
    {
     "data": {
      "image/png": "[encoded data removed]",
      "text/plain": [
       "<Figure size 432x288 with 2 Axes>"
      ]
     },
     "metadata": {
      "needs_background": "light"
     },
     "output_type": "display_data"
    },
    {
     "data": {
      "image/png": "[encoded data removed]",
      "text/plain": [
       "<Figure size 432x288 with 2 Axes>"
      ]
     },
     "metadata": {
      "needs_background": "light"
     },
     "output_type": "display_data"
    }
   ],
   "source": [
    "xgboost(X_train, X_test, y_train, y_test, cv=5)"
   ]
  }
 ],
 "metadata": {
  "kernelspec": {
   "display_name": "Python (learn-env)",
   "language": "python",
   "name": "learn-env"
  },
  "language_info": {
   "codemirror_mode": {
    "name": "ipython",
    "version": 3
   },
   "file_extension": ".py",
   "mimetype": "text/x-python",
   "name": "python",
   "nbconvert_exporter": "python",
   "pygments_lexer": "ipython3",
   "version": "3.8.5"
  }
 },
 "nbformat": 4,
 "nbformat_minor": 4
}
